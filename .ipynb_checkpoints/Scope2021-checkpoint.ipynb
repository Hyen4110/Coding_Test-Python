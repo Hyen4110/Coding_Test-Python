{
 "cells": [
  {
   "cell_type": "markdown",
   "metadata": {},
   "source": [
    "### 문제 1번"
   ]
  },
  {
   "cell_type": "code",
   "execution_count": 25,
   "metadata": {},
   "outputs": [
    {
     "name": "stdout",
     "output_type": "stream",
     "text": [
      "8 3\n",
      "4\n"
     ]
    }
   ],
   "source": [
    "n, k= tuple(map(int, input().split()))\n",
    "a, b = divmod(n-1,k-1)\n",
    "if b==0:\n",
    "    answer = a\n",
    "else:\n",
    "    answer = a+1\n",
    "print(answer)\n",
    "# print(\"n\",n)\n",
    "# print(\"k\",k)\n",
    "# print(\"n_list\", n_list)"
   ]
  },
  {
   "cell_type": "markdown",
   "metadata": {},
   "source": [
    "### 문제 2번"
   ]
  },
  {
   "cell_type": "code",
   "execution_count": null,
   "metadata": {},
   "outputs": [
    {
     "name": "stdout",
     "output_type": "stream",
     "text": [
      "4\n",
      "12 0\n",
      "1\n",
      "10 14\n",
      "2\n",
      "4 20\n",
      "0\n",
      "5 2147483648\n",
      "1\n"
     ]
    }
   ],
   "source": [
    "trials = int(input())\n",
    "\n",
    "while trials!=0:\n",
    "    season, normal = tuple(map(int, input().split()))\n",
    "    a = (season+normal)//12\n",
    "    b = season//5\n",
    "    print(min(a,b))    "
   ]
  },
  {
   "cell_type": "code",
   "execution_count": null,
   "metadata": {},
   "outputs": [],
   "source": []
  }
 ],
 "metadata": {
  "kernelspec": {
   "display_name": "Python 3",
   "language": "python",
   "name": "python3"
  },
  "language_info": {
   "codemirror_mode": {
    "name": "ipython",
    "version": 3
   },
   "file_extension": ".py",
   "mimetype": "text/x-python",
   "name": "python",
   "nbconvert_exporter": "python",
   "pygments_lexer": "ipython3",
   "version": "3.7.4"
  }
 },
 "nbformat": 4,
 "nbformat_minor": 2
}
