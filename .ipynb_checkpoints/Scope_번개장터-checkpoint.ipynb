{
 "cells": [
  {
   "cell_type": "code",
   "execution_count": 3,
   "metadata": {},
   "outputs": [
    {
     "name": "stdout",
     "output_type": "stream",
     "text": [
      "4 5\n",
      "c.xc\n",
      "....\n",
      "xx..\n",
      "...x\n",
      "x..x\n",
      "1 4\n",
      "[['c', '.', 'x', 'c'], ['.', '.', '.', '.'], ['x', 'x', '.', '.'], ['.', '.', '.', 'x'], ['x', '.', '.', 'x']]\n"
     ]
    }
   ],
   "source": [
    "width, height = list(map(int, input().split()))\n",
    "\n",
    "trials = height\n",
    "screen_location =[]\n",
    "while trials>0:\n",
    "    screen_location.append(list(input()))\n",
    "    trials-=1\n",
    "    \n",
    "#시작점의 위치 찾기\n",
    "start_idx =[(0,idx) for idx, val in enumerate(screen_location[0]) if val=='c']\n",
    "print(start_idx)"
   ]
  },
  {
   "cell_type": "code",
   "execution_count": 12,
   "metadata": {},
   "outputs": [
    {
     "name": "stdout",
     "output_type": "stream",
     "text": [
      "[0, 3]\n"
     ]
    }
   ],
   "source": [
    "start_idxs =[idx for idx, val in enumerate(screen_location[0]) if val=='c']\n",
    "print(start_idxs)\n",
    "\n",
    "for start_idx in start_idxs:\n",
    "    "
   ]
  },
  {
   "cell_type": "code",
   "execution_count": 9,
   "metadata": {},
   "outputs": [
    {
     "data": {
      "text/plain": [
       "[(0, 'c'), (1, '.'), (2, 'x'), (3, 'c')]"
      ]
     },
     "execution_count": 9,
     "metadata": {},
     "output_type": "execute_result"
    }
   ],
   "source": [
    "def dfs_findway(start_idx, screen_location, count)\n",
    "    count = 0\n",
    "\n",
    "    return "
   ]
  }
 ],
 "metadata": {
  "kernelspec": {
   "display_name": "Python 3",
   "language": "python",
   "name": "python3"
  },
  "language_info": {
   "codemirror_mode": {
    "name": "ipython",
    "version": 3
   },
   "file_extension": ".py",
   "mimetype": "text/x-python",
   "name": "python",
   "nbconvert_exporter": "python",
   "pygments_lexer": "ipython3",
   "version": "3.7.4"
  }
 },
 "nbformat": 4,
 "nbformat_minor": 2
}
