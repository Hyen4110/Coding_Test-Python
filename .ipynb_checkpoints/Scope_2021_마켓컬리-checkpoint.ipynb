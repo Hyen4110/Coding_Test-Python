{
 "cells": [
  {
   "cell_type": "markdown",
   "metadata": {},
   "source": [
    "### 규칙\n",
    "\n",
    "1) 0을 만나면 건널 수 있는 방법은 2칸 점프\n",
    "2) 0을 만나지 않는다면:\n",
    "    - 짝수라면 \n",
    "    - "
   ]
  },
  {
   "cell_type": "code",
   "execution_count": 27,
   "metadata": {},
   "outputs": [
    {
     "data": {
      "text/plain": [
       "1.0"
      ]
     },
     "execution_count": 27,
     "metadata": {},
     "output_type": "execute_result"
    }
   ],
   "source": [
    "import operator as op\n",
    "from functools import reduce\n",
    "\n",
    "def ncr(n, r):\n",
    "    r = min(r, n-r)\n",
    "    numer = reduce(op.mul, range(n, n-r, -1), 1)\n",
    "    denom = reduce(op.mul, range(1, r+1), 1)\n",
    "    return numer / denom\n",
    "\n",
    "ncr(4,)"
   ]
  },
  {
   "cell_type": "code",
   "execution_count": 34,
   "metadata": {},
   "outputs": [
    {
     "name": "stdout",
     "output_type": "stream",
     "text": [
      "5\n",
      "11111\n",
      "5.0\n"
     ]
    }
   ],
   "source": [
    "import operator as op\n",
    "from functools import reduce\n",
    "\n",
    "#nCr 함수 생성\n",
    "def ncr(n, r):\n",
    "    r = min(r, n-r)\n",
    "    numer = reduce(op.mul, range(n, n-r, -1), 1)\n",
    "    denom = reduce(op.mul, range(1, r+1), 1)\n",
    "    return numer / denom\n",
    "\n",
    "load_length = int(input())\n",
    "load_list = [x for x in (input()).split(\"0\") if len(x)!=0]\n",
    "count_list=[]\n",
    "\n",
    "#0을 기준으로 나뉜 로드의 경우의 수를 곱한다.\n",
    "for loads in load_list:\n",
    "    count=0\n",
    "    if len(loads)==2:\n",
    "        count+=2\n",
    "    elif len(loads)==1:\n",
    "        count+=1\n",
    "    else:\n",
    "        ones_cnt = len(loads)-1\n",
    "        a, b = divmod(ones_cnt,2)\n",
    "        while a>=0:\n",
    "            n= a+b\n",
    "            count+= ncr(n, b)        \n",
    "\n",
    "            a-=1\n",
    "            b+=2\n",
    "        count_list.append(count)\n",
    "\n",
    "answer =1\n",
    "for i in count_list:\n",
    "    answer*=i\n",
    "    \n",
    "print(int(answer))"
   ]
  },
  {
   "cell_type": "code",
   "execution_count": 33,
   "metadata": {},
   "outputs": [
    {
     "name": "stdout",
     "output_type": "stream",
     "text": [
      "5\n",
      "11111\n",
      "['11111']\n",
      "a 2 b 0\n",
      "n: 2 r: 0\n",
      "n: 3 r: 2\n",
      "n: 4 r: 4\n",
      "5.0\n"
     ]
    }
   ],
   "source": [
    "import operator as op\n",
    "from functools import reduce\n",
    "\n",
    "#nCr 함수 생성\n",
    "def ncr(n, r):\n",
    "    r = min(r, n-r)\n",
    "    numer = reduce(op.mul, range(n, n-r, -1), 1)\n",
    "    denom = reduce(op.mul, range(1, r+1), 1)\n",
    "    return numer / denom\n",
    "\n",
    "load_length = int(input())\n",
    "load_list = [x for x in (input()).split(\"0\") if len(x)!=0]\n",
    "count_list=[]\n",
    "\n",
    "print(load_list)\n",
    "#0을 기준으로 나뉜 로드의 경우의 수를 곱한다.\n",
    "for loads in load_list:\n",
    "    count=0\n",
    "    if len(loads)==2:\n",
    "        count+=2\n",
    "    elif len(loads)==1:\n",
    "        count+=1\n",
    "    else:\n",
    "        ones_cnt = len(loads)-1\n",
    "        a, b = divmod(ones_cnt,2)\n",
    "        print(\"a\",a, \"b\",b)\n",
    "        while a>=0:\n",
    "            n= a+b\n",
    "            print(\"n:\",n, \"r:\",b)\n",
    "            count+= ncr(n, b)        \n",
    "\n",
    "            a-=1\n",
    "            b+=2\n",
    "        count_list.append(count)\n",
    "\n",
    "answer =1\n",
    "for i in count_list:\n",
    "    answer*=i\n",
    "    \n",
    "print(answer)"
   ]
  },
  {
   "cell_type": "code",
   "execution_count": 6,
   "metadata": {},
   "outputs": [
    {
     "name": "stdout",
     "output_type": "stream",
     "text": [
      "(1, 1)\n"
     ]
    }
   ],
   "source": [
    "print(divmod(3,2))"
   ]
  },
  {
   "cell_type": "code",
   "execution_count": 4,
   "metadata": {},
   "outputs": [
    {
     "name": "stdout",
     "output_type": "stream",
     "text": [
      "111\n",
      "[1, 1, 1]\n"
     ]
    }
   ],
   "source": [
    "load_list = int((input())\n",
    "print(load_list)"
   ]
  },
  {
   "cell_type": "code",
   "execution_count": null,
   "metadata": {},
   "outputs": [],
   "source": []
  }
 ],
 "metadata": {
  "kernelspec": {
   "display_name": "Python 3",
   "language": "python",
   "name": "python3"
  }
 },
 "nbformat": 4,
 "nbformat_minor": 2
}
