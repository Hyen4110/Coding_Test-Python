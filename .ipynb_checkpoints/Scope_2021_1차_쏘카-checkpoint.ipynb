{
 "cells": [
  {
   "cell_type": "code",
   "execution_count": 2,
   "metadata": {},
   "outputs": [
    {
     "name": "stdout",
     "output_type": "stream",
     "text": [
      "12:00 ~ 23:59\n"
     ]
    }
   ],
   "source": [
    "start_time = []\n",
    "end_time = []\n",
    "\n",
    "start, end = input().split(\" ~ \") #HH:MM ~ HH:MM\n",
    "\n",
    "start_time.append(start.split(\":\"))\n",
    "end_time.append(end.split(\":\"))"
   ]
  },
  {
   "cell_type": "code",
   "execution_count": 3,
   "metadata": {},
   "outputs": [
    {
     "name": "stdout",
     "output_type": "stream",
     "text": [
      "[['12', '00']]\n",
      "[['23', '59']]\n"
     ]
    }
   ],
   "source": [
    "print(start_time)\n",
    "print(end_time)"
   ]
  },
  {
   "cell_type": "code",
   "execution_count": 7,
   "metadata": {},
   "outputs": [
    {
     "ename": "SyntaxError",
     "evalue": "positional argument follows keyword argument (<ipython-input-7-bb93ea7138da>, line 12)",
     "output_type": "error",
     "traceback": [
      "\u001b[1;36m  File \u001b[1;32m\"<ipython-input-7-bb93ea7138da>\"\u001b[1;36m, line \u001b[1;32m12\u001b[0m\n\u001b[1;33m    start_fix = start_time.max(key = lambda x: x[0], x[1])\u001b[0m\n\u001b[1;37m                                                    ^\u001b[0m\n\u001b[1;31mSyntaxError\u001b[0m\u001b[1;31m:\u001b[0m positional argument follows keyword argument\n"
     ]
    }
   ],
   "source": [
    "member_cnt = int(input())\n",
    "start_time = []\n",
    "end_time = []\n",
    "\n",
    "while member_cnt>0:\n",
    "    start, end = input().split(\" ~ \") #HH:MM ~ HH:MM\n",
    "    \n",
    "    start_time.append(start.split(\":\")) #출발 시간\n",
    "    end_time.append(end.split(\":\")) # 도착시간\n",
    "    member_cnt-=1\n",
    "\n",
    "start_fix = start_time.max(key = lambda x: (x[0], x[1]))\n",
    "end_fix = end_time.min(key = lambda x: (x[0], x[1]))\n",
    "\n",
    "print(start_fix[0],\":\",start_fix[1], \" ~ \",end_fix[0],\":\",end_fix[1])"
   ]
  },
  {
   "cell_type": "code",
   "execution_count": null,
   "metadata": {},
   "outputs": [],
   "source": [
    "\":\""
   ]
  }
 ],
 "metadata": {
  "kernelspec": {
   "display_name": "Python 3",
   "language": "python",
   "name": "python3"
  }
 },
 "nbformat": 4,
 "nbformat_minor": 2
}
