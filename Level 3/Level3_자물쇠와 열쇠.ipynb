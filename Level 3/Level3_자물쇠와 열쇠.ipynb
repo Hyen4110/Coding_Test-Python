{
 "cells": [
  {
   "cell_type": "markdown",
   "metadata": {},
   "source": [
    "#### 문제 설명\n",
    "- 고고학자인 튜브는 고대 유적지에서 보물과 유적이 가득할 것으로 추정되는 비밀의 문을 발견하였습니다. 그런데 문을 열려고 살펴보니 특이한 형태의 자물쇠로 잠겨 있었고 문 앞에는 특이한 형태의 열쇠와 함께 자물쇠를 푸는 방법에 대해 다음과 같이 설명해 주는 종이가 발견되었습니다.\n",
    "\n",
    "- 잠겨있는 자물쇠는 격자 한 칸의 크기가 1 x 1인 N x N 크기의 정사각 격자 형태이고 특이한 모양의 열쇠는 M x M 크기인 정사각 격자 형태로 되어 있습니다.\n",
    "\n",
    "- 자물쇠에는 홈이 파여 있고 열쇠 또한 홈과 돌기 부분이 있습니다. 열쇠는 회전과 이동이 가능하며 열쇠의 돌기 부분을 자물쇠의 홈 부분에 딱 맞게 채우면 자물쇠가 열리게 되는 구조입니다. 자물쇠 영역을 벗어난 부분에 있는 열쇠의 홈과 돌기는 자물쇠를 여는 데 영향을 주지 않지만, 자물쇠 영역 내에서는 열쇠의 돌기 부분과 자물쇠의 홈 부분이 정확히 일치해야 하며 열쇠의 돌기와 자물쇠의 돌기가 만나서는 안됩니다. 또한 자물쇠의 모든 홈을 채워 비어있는 곳이 없어야 자물쇠를 열 수 있습니다.\n",
    "\n",
    "- 열쇠를 나타내는 2차원 배열 key와 자물쇠를 나타내는 2차원 배열 lock이 매개변수로 주어질 때, 열쇠로 자물쇠를 열수 있으면 true를, 열 수 없으면 false를 return 하도록 solution 함수를 완성해주세요.\n",
    "\n",
    "#### 제한사항\n",
    "- key는 M x M(3 ≤ M ≤ 20, M은 자연수)크기 2차원 배열입니다.\n",
    "- lock은 N x N(3 ≤ N ≤ 20, N은 자연수)크기 2차원 배열입니다.\n",
    "- M은 항상 N 이하입니다.\n",
    "- key와 lock의 원소는 0 또는 1로 이루어져 있습니다.\n",
    "- 0은 홈 부분, 1은 돌기 부분을 나타냅니다.\n"
   ]
  },
  {
   "cell_type": "code",
   "execution_count": 258,
   "metadata": {},
   "outputs": [],
   "source": [
    "key = np.array([[0, 0, 0], [1, 0, 0], [0, 1, 1]])\n",
    "lock = np.array([[1, 1, 1], [1, 1, 0], [1, 0, 1]])\n",
    "\n",
    "import  numpy as np\n",
    "\n",
    "def rotate_90(input_array):\n",
    "    n = len(input_array)\n",
    "    output_array = np.zeros_like(input_array)\n",
    "    for i in range(n):\n",
    "        for k in range(n):\n",
    "            output_array[k][n-1-i] = input_array[i][k]\n",
    "    return output_array\n",
    "\n",
    "\n",
    "def get_pure_out(input_array):\n",
    "    n = len(input_array)\n",
    "    \n",
    "    col_start = np.where(input_array.sum(0)!=0)[0]\n",
    "    if col_start.size>0:\n",
    "        col_start = col_start[0]\n",
    "    else: col_start = 0\n",
    "    row_start = np.where(input_array.sum(1)!=0)[0]\n",
    "    if row_start.size>0:\n",
    "        row_start = row_start[0]\n",
    "    else: row_start = 0\n",
    "\n",
    "    col_end = np.where(input_array.sum(0)!=0)[0]\n",
    "    if col_end.size>0:\n",
    "        col_end = col_end[-1]\n",
    "    else: col_end = n-1 \n",
    "    row_end = np.where(input_array.sum(1)!=0)[0]\n",
    "    if row_end.size>0:\n",
    "        row_end = row_end[-1]\n",
    "    else: row_end = n-1\n",
    "    return input_array[row_start:row_end+1, col_start:col_end+1]\n",
    "\n",
    "\n",
    "def get_pure_in(input_array):\n",
    "    n = len(input_array)\n",
    "    \n",
    "    col_start = np.where(input_array.sum(0)==0)[0]\n",
    "    if col_start.size>0:\n",
    "        col_start = col_start[0]\n",
    "    else: col_start = 0\n",
    "    row_start = np.where(input_array.sum(1)==0)[0]\n",
    "    if row_start.size>0:\n",
    "        row_start = row_start[0]\n",
    "    else: row_start = 0\n",
    "\n",
    "    col_end = np.where(input_array.sum(0)==0)[0]\n",
    "    if col_end.size>0:\n",
    "        col_end = col_end[-1]\n",
    "    else: col_end = n-1 \n",
    "    row_end = np.where(input_array.sum(1)==0)[0]\n",
    "    if row_end.size>0:\n",
    "        row_end = row_end[-1]\n",
    "    else: row_end = n-1\n",
    "        \n",
    "    return input_array[row_start:row_end+1, col_start:col_end+1]\n",
    "\n",
    "pure_key = get_pure_out(key)\n",
    "pure_hom = get_pure_in(key)\n",
    "\n",
    "# if pure_key"
   ]
  },
  {
   "cell_type": "code",
   "execution_count": 260,
   "metadata": {},
   "outputs": [
    {
     "data": {
      "text/plain": [
       "array([[0, 0, 0]])"
      ]
     },
     "execution_count": 260,
     "metadata": {},
     "output_type": "execute_result"
    }
   ],
   "source": [
    "pure_hom"
   ]
  },
  {
   "cell_type": "code",
   "execution_count": 261,
   "metadata": {},
   "outputs": [
    {
     "data": {
      "text/plain": [
       "array([[1, 0, 0],\n",
       "       [0, 1, 1]])"
      ]
     },
     "execution_count": 261,
     "metadata": {},
     "output_type": "execute_result"
    }
   ],
   "source": [
    "pure_key"
   ]
  },
  {
   "cell_type": "code",
   "execution_count": 136,
   "metadata": {},
   "outputs": [
    {
     "data": {
      "text/plain": [
       "array([[0, 1, 0],\n",
       "       [1, 0, 0]])"
      ]
     },
     "execution_count": 136,
     "metadata": {},
     "output_type": "execute_result"
    }
   ],
   "source": [
    "key_list[1]"
   ]
  },
  {
   "cell_type": "code",
   "execution_count": 253,
   "metadata": {
    "scrolled": true
   },
   "outputs": [
    {
     "data": {
      "text/plain": [
       "array([[0, 1, 0],\n",
       "       [1, 1, 0],\n",
       "       [0, 0, 0]])"
      ]
     },
     "execution_count": 253,
     "metadata": {},
     "output_type": "execute_result"
    }
   ],
   "source": [
    "key = [[0, 1,0 ], [1, 1, 0], [0, 0, 0]]\n",
    "key = np.array(key)\n",
    "key"
   ]
  },
  {
   "cell_type": "code",
   "execution_count": 262,
   "metadata": {},
   "outputs": [
    {
     "data": {
      "text/plain": [
       "array([[0, 0, 0]])"
      ]
     },
     "execution_count": 262,
     "metadata": {},
     "output_type": "execute_result"
    }
   ],
   "source": [
    "get_pure_in(key)"
   ]
  },
  {
   "cell_type": "code",
   "execution_count": 240,
   "metadata": {},
   "outputs": [
    {
     "data": {
      "text/plain": [
       "array([], dtype=int64)"
      ]
     },
     "execution_count": 240,
     "metadata": {},
     "output_type": "execute_result"
    }
   ],
   "source": [
    "np.where(key.sum(1)==0)[0]"
   ]
  },
  {
   "cell_type": "code",
   "execution_count": 230,
   "metadata": {},
   "outputs": [
    {
     "ename": "IndexError",
     "evalue": "index 0 is out of bounds for axis 0 with size 0",
     "output_type": "error",
     "traceback": [
      "\u001b[1;31m---------------------------------------------------------------------------\u001b[0m",
      "\u001b[1;31mIndexError\u001b[0m                                Traceback (most recent call last)",
      "\u001b[1;32m<ipython-input-230-e144efc44bd0>\u001b[0m in \u001b[0;36m<module>\u001b[1;34m\u001b[0m\n\u001b[1;32m----> 1\u001b[1;33m \u001b[0mget_pure_in\u001b[0m\u001b[1;33m(\u001b[0m\u001b[0mkey\u001b[0m\u001b[1;33m)\u001b[0m\u001b[1;33m\u001b[0m\u001b[1;33m\u001b[0m\u001b[0m\n\u001b[0m",
      "\u001b[1;32m<ipython-input-229-2a53ed9deb10>\u001b[0m in \u001b[0;36mget_pure_in\u001b[1;34m(input_array)\u001b[0m\n\u001b[0;32m     27\u001b[0m     \u001b[0mn\u001b[0m \u001b[1;33m=\u001b[0m \u001b[0mlen\u001b[0m\u001b[1;33m(\u001b[0m\u001b[0minput_array\u001b[0m\u001b[1;33m)\u001b[0m\u001b[1;33m\u001b[0m\u001b[1;33m\u001b[0m\u001b[0m\n\u001b[0;32m     28\u001b[0m     \u001b[0mcol_start\u001b[0m \u001b[1;33m=\u001b[0m \u001b[0mnp\u001b[0m\u001b[1;33m.\u001b[0m\u001b[0mwhere\u001b[0m\u001b[1;33m(\u001b[0m\u001b[0minput_array\u001b[0m\u001b[1;33m.\u001b[0m\u001b[0msum\u001b[0m\u001b[1;33m(\u001b[0m\u001b[1;36m0\u001b[0m\u001b[1;33m)\u001b[0m\u001b[1;33m==\u001b[0m\u001b[1;36m0\u001b[0m\u001b[1;33m)\u001b[0m\u001b[1;33m[\u001b[0m\u001b[1;36m0\u001b[0m\u001b[1;33m]\u001b[0m\u001b[1;33m[\u001b[0m\u001b[1;36m0\u001b[0m\u001b[1;33m]\u001b[0m\u001b[1;33m\u001b[0m\u001b[1;33m\u001b[0m\u001b[0m\n\u001b[1;32m---> 29\u001b[1;33m     \u001b[0mrow_start\u001b[0m \u001b[1;33m=\u001b[0m \u001b[0mnp\u001b[0m\u001b[1;33m.\u001b[0m\u001b[0mwhere\u001b[0m\u001b[1;33m(\u001b[0m\u001b[0minput_array\u001b[0m\u001b[1;33m.\u001b[0m\u001b[0msum\u001b[0m\u001b[1;33m(\u001b[0m\u001b[1;36m1\u001b[0m\u001b[1;33m)\u001b[0m\u001b[1;33m==\u001b[0m\u001b[1;36m0\u001b[0m\u001b[1;33m)\u001b[0m\u001b[1;33m[\u001b[0m\u001b[1;36m0\u001b[0m\u001b[1;33m]\u001b[0m\u001b[1;33m[\u001b[0m\u001b[1;36m0\u001b[0m\u001b[1;33m]\u001b[0m\u001b[1;33m\u001b[0m\u001b[1;33m\u001b[0m\u001b[0m\n\u001b[0m\u001b[0;32m     30\u001b[0m \u001b[1;33m\u001b[0m\u001b[0m\n\u001b[0;32m     31\u001b[0m     \u001b[0mcol_end\u001b[0m \u001b[1;33m=\u001b[0m \u001b[0mnp\u001b[0m\u001b[1;33m.\u001b[0m\u001b[0mwhere\u001b[0m\u001b[1;33m(\u001b[0m\u001b[0minput_array\u001b[0m\u001b[1;33m.\u001b[0m\u001b[0msum\u001b[0m\u001b[1;33m(\u001b[0m\u001b[1;36m0\u001b[0m\u001b[1;33m)\u001b[0m\u001b[1;33m==\u001b[0m\u001b[1;36m0\u001b[0m\u001b[1;33m)\u001b[0m\u001b[1;33m[\u001b[0m\u001b[1;36m0\u001b[0m\u001b[1;33m]\u001b[0m\u001b[1;33m[\u001b[0m\u001b[1;33m-\u001b[0m\u001b[1;36m1\u001b[0m\u001b[1;33m]\u001b[0m\u001b[1;33m\u001b[0m\u001b[1;33m\u001b[0m\u001b[0m\n",
      "\u001b[1;31mIndexError\u001b[0m: index 0 is out of bounds for axis 0 with size 0"
     ]
    }
   ],
   "source": [
    "get_pure_in(key)"
   ]
  },
  {
   "cell_type": "code",
   "execution_count": 220,
   "metadata": {},
   "outputs": [
    {
     "data": {
      "text/plain": [
       "array([[1, 0],\n",
       "       [0, 0]])"
      ]
     },
     "execution_count": 220,
     "metadata": {},
     "output_type": "execute_result"
    }
   ],
   "source": [
    "get_pure_match(key,1)"
   ]
  },
  {
   "cell_type": "code",
   "execution_count": 223,
   "metadata": {},
   "outputs": [],
   "source": [
    "num=1\n",
    "col_start = np.where(key.sum(0)!=num)[0][0]\n",
    "# row_start = np.where(input_array.sum(1)!=num)[0][0]\n",
    "\n",
    "# col_end = np.where(input_array.sum(0)!=num)[0][-1]\n",
    "# row_end = np.where(input_array.sum(1)!=num)[0][-1]"
   ]
  },
  {
   "cell_type": "code",
   "execution_count": 193,
   "metadata": {},
   "outputs": [
    {
     "data": {
      "text/plain": [
       "array([0, 1, 2], dtype=int64)"
      ]
     },
     "execution_count": 193,
     "metadata": {},
     "output_type": "execute_result"
    }
   ],
   "source": [
    "#col_start\n",
    "np.where(key.sum(0)!=0)[0]\n"
   ]
  },
  {
   "cell_type": "code",
   "execution_count": 172,
   "metadata": {},
   "outputs": [
    {
     "data": {
      "text/plain": [
       "0"
      ]
     },
     "execution_count": 172,
     "metadata": {},
     "output_type": "execute_result"
    }
   ],
   "source": [
    "#row_start \n",
    "np.where(key.sum(1)!=0)[0][0]"
   ]
  },
  {
   "cell_type": "code",
   "execution_count": 13,
   "metadata": {
    "scrolled": false
   },
   "outputs": [
    {
     "data": {
      "text/plain": [
       "array([[1, 1, 1],\n",
       "       [1, 1, 0],\n",
       "       [1, 0, 1]])"
      ]
     },
     "execution_count": 13,
     "metadata": {},
     "output_type": "execute_result"
    }
   ],
   "source": [
    "lock"
   ]
  },
  {
   "cell_type": "code",
   "execution_count": 129,
   "metadata": {},
   "outputs": [
    {
     "data": {
      "text/plain": [
       "2"
      ]
     },
     "execution_count": 129,
     "metadata": {},
     "output_type": "execute_result"
    }
   ],
   "source": [
    "len(lock)*len(lock)-lock.sum()"
   ]
  },
  {
   "cell_type": "code",
   "execution_count": 4,
   "metadata": {
    "scrolled": true
   },
   "outputs": [
    {
     "data": {
      "text/plain": [
       "array([3, 2, 2])"
      ]
     },
     "execution_count": 4,
     "metadata": {},
     "output_type": "execute_result"
    }
   ],
   "source": [
    "lock.sum(axis=0)"
   ]
  },
  {
   "cell_type": "code",
   "execution_count": 9,
   "metadata": {
    "scrolled": true
   },
   "outputs": [
    {
     "data": {
      "text/plain": [
       "array([3, 2, 2])"
      ]
     },
     "execution_count": 9,
     "metadata": {},
     "output_type": "execute_result"
    }
   ],
   "source": [
    "lock.sum(axis=1)"
   ]
  },
  {
   "cell_type": "code",
   "execution_count": 5,
   "metadata": {},
   "outputs": [],
   "source": [
    "### -> TRUE = 통과/FALSE= 실패\n",
    "# 정확성  테스트\n",
    "# 테스트 1 〉\t실패 (0.00ms, 10.2MB)\n",
    "# 테스트 2 〉\t통과 (0.00ms, 10MB)\n",
    "# 테스트 3 〉\t통과 (0.00ms, 10.2MB)\n",
    "# 테스트 4 〉\t통과 (0.00ms, 10.2MB)\n",
    "# 테스트 5 〉\t통과 (0.00ms, 10.2MB)\n",
    "# 테스트 6 〉\t통과 (0.00ms, 10.2MB)\n",
    "# 테스트 7 〉\t통과 (0.00ms, 10.2MB)\n",
    "# 테스트 8 〉\t통과 (0.00ms, 10.2MB)\n",
    "# 테스트 9 〉\t통과 (0.00ms, 10.1MB)\n",
    "# 테스트 10 〉\t통과 (0.00ms, 10.2MB)\n",
    "# 테스트 11 〉\t통과 (0.00ms, 10.1MB)\n",
    "# 테스트 12 〉\t통과 (0.00ms, 10.1MB)\n",
    "# 테스트 13 〉\t통과 (0.00ms, 10.2MB)\n",
    "# 테스트 14 〉\t통과 (0.00ms, 10.2MB)\n",
    "# 테스트 15 〉\t통과 (0.00ms, 10.1MB)\n",
    "# 테스트 16 〉\t통과 (0.00ms, 10.1MB)\n",
    "# 테스트 17 〉\t통과 (0.00ms, 10.2MB)\n",
    "# 테스트 18 〉\t통과 (0.00ms, 10MB)\n",
    "# 테스트 19 〉\t통과 (0.00ms, 10.2MB)\n",
    "# 테스트 20 〉\t통과 (0.00ms, 10MB)\n",
    "# 테스트 21 〉\t통과 (0.00ms, 10.2MB)\n",
    "# 테스트 22 〉\t통과 (0.00ms, 10.2MB)\n",
    "# 테스트 23 〉\t실패 (0.00ms, 10.2MB)\n",
    "# 테스트 24 〉\t실패 (0.00ms, 10.2MB)\n",
    "# 테스트 25 〉\t실패 (0.00ms, 10.1MB)\n",
    "# 테스트 26 〉\t실패 (0.00ms, 10.3MB)\n",
    "# 테스트 27 〉\t실패 (0.00ms, 10.1MB)\n",
    "# 테스트 28 〉\t실패 (0.00ms, 10.1MB)\n",
    "# 테스트 29 〉\t실패 (0.00ms, 10.2MB)\n",
    "# 테스트 30 〉\t실패 (0.00ms, 10.2MB)\n",
    "# 테스트 31 〉\t실패 (0.00ms, 10.2MB)\n",
    "# 테스트 32 〉\t실패 (0.00ms, 10.1MB)\n",
    "# 테스트 33 〉\t실패 (0.00ms, 10.1MB)\n",
    "# 테스트 34 〉\t통과 (0.00ms, 10.2MB)\n",
    "# 테스트 35 〉\t통과 (0.00ms, 10.2MB)\n",
    "# 테스트 36 〉\t통과 (0.00ms, 10.2MB)\n",
    "# 테스트 37 〉\t통과 (0.00ms, 10.2MB)\n",
    "# 테스트 38 〉\t통과 (0.00ms, 10.2MB)"
   ]
  }
 ],
 "metadata": {
  "kernelspec": {
   "display_name": "Python 3",
   "language": "python",
   "name": "python3"
  },
  "language_info": {
   "codemirror_mode": {
    "name": "ipython",
    "version": 3
   },
   "file_extension": ".py",
   "mimetype": "text/x-python",
   "name": "python",
   "nbconvert_exporter": "python",
   "pygments_lexer": "ipython3",
   "version": "3.7.4"
  }
 },
 "nbformat": 4,
 "nbformat_minor": 2
}
