{
 "cells": [
  {
   "cell_type": "markdown",
   "metadata": {},
   "source": [
    "#### 문제 설명\n",
    "- 일렬로 나열된 n개의 풍선이 있습니다. 모든 풍선에는 서로 다른 숫자가 써져 있습니다. 당신은 다음 과정을 반복하면서 풍선들을 단 1개만 남을 때까지 계속 터트리려고 합니다.\n",
    "\n",
    "    1. 임의의 인접한 두 풍선을 고른 뒤, 두 풍선 중 하나를 터트립니다.\n",
    "    2. 터진 풍선으로 인해 풍선들 사이에 빈 공간이 생겼다면, 빈 공간이 없도록 풍선들을 중앙으로 밀착시킵니다.\n",
    "    \n",
    "    \n",
    "- 여기서 조건이 있습니다. 인접한 두 풍선 중에서 번호가 더 작은 풍선을 터트리는 행위는 최대 1번만 할 수 있습니다. 즉, 어떤 시점에서 인접한 두 풍선 중 번호가 더 작은 풍선을 터트렸다면, 그 이후에는 인접한 두 풍선을 고른 뒤 번호가 더 큰 풍선만을 터트릴 수 있습니다.\n",
    "\n",
    "- 당신은 어떤 풍선이 최후까지 남을 수 있는지 알아보고 싶습니다. 위에 서술된 조건대로 풍선을 터트리다 보면, 어떤 풍선은 최후까지 남을 수도 있지만, 어떤 풍선은 무슨 수를 쓰더라도 마지막까지 남기는 것이 불가능할 수도 있습니다.\n",
    "\n",
    "- 일렬로 나열된 풍선들의 번호가 담긴 배열 a가 주어집니다. 위에 서술된 규칙대로 풍선들을 1개만 남을 때까지 터트렸을 때 최후까지 남기는 것이 가능한 풍선들의 개수를 return 하도록 solution 함수를 완성해주세요.\n",
    "\n",
    "#### 제한 사항\n",
    "- a의 길이는 1 이상 1,000,000 이하입니다.\n",
    "- a[i]는 i+1 번째 풍선에 써진 숫자를 의미합니다.\n",
    "- a의 모든 수는 -1,000,000,000 이상 1,000,000,000 이하인 정수입니다.\n",
    "- a의 모든 수는 서로 다릅니다."
   ]
  },
  {
   "cell_type": "code",
   "execution_count": null,
   "metadata": {},
   "outputs": [],
   "source": [
    "# 정확성  테스트\n",
    "# 테스트 1 〉\t통과 (0.04ms, 27.5MB)\n",
    "# 테스트 2 〉\t통과 (0.03ms, 27.8MB)\n",
    "# 테스트 3 〉\t통과 (0.26ms, 27.7MB)\n",
    "# 테스트 4 〉\t통과 (26.84ms, 32.6MB)\n",
    "# 테스트 5 〉\t통과 (149.79ms, 54.3MB)\n",
    "# 테스트 6 〉\t통과 (219.14ms, 67.8MB)\n",
    "# 테스트 7 〉\t통과 (314.62ms, 81.4MB)\n",
    "# 테스트 8 〉\t통과 (304.26ms, 81.4MB)\n",
    "# 테스트 9 〉\t통과 (307.87ms, 81.3MB)\n",
    "# 테스트 10 〉\t통과 (311.00ms, 81.4MB)\n",
    "# 테스트 11 〉\t통과 (567.69ms, 81.2MB)\n",
    "# 테스트 12 〉\t통과 (487.11ms, 81.1MB)\n",
    "# 테스트 13 〉\t통과 (432.26ms, 81.5MB)\n",
    "# 테스트 14 〉\t통과 (530.08ms, 81.4MB)\n",
    "# 테스트 15 〉\t통과 (569.84ms, 81.3MB)"
   ]
  },
  {
   "cell_type": "code",
   "execution_count": 11,
   "metadata": {},
   "outputs": [
    {
     "data": {
      "text/plain": [
       "3"
      ]
     },
     "execution_count": 11,
     "metadata": {},
     "output_type": "execute_result"
    }
   ],
   "source": [
    "import numpy as np\n",
    "\n",
    "def solution(a):\n",
    "    a = np.array(a)\n",
    "    argsort_a = np.argsort(a)\n",
    "    answer = 2\n",
    "    \n",
    "    left_min_idx = min(argsort_a[0],argsort_a[1])\n",
    "    right_min_idx = max(argsort_a[0],argsort_a[1])\n",
    "    \n",
    "    for i in argsort_a[2:]:\n",
    "        if left_min_idx< i <right_min_idx:\n",
    "            pass\n",
    "        else:\n",
    "            answer+=1\n",
    "            left_min_idx = min(left_min_idx, i)\n",
    "            right_min_idx = max(right_min_idx, i)\n",
    "            \n",
    "    return answer\n",
    "\n",
    "# solution([-16,27,65,-2,58,-92,-71,-68,-61,-33])\n",
    "solution([9,-1,-5])\n"
   ]
  },
  {
   "cell_type": "markdown",
   "metadata": {},
   "source": [
    "값이 작은 순서대로 뽑아서 그 사이에 있는 값을 0으로 만드는 방법을 썼는데, \n",
    "\n",
    "1번문제는 틀릴뿐만 아니라, 시간초과도 났다"
   ]
  },
  {
   "cell_type": "code",
   "execution_count": 6,
   "metadata": {},
   "outputs": [
    {
     "name": "stdout",
     "output_type": "stream",
     "text": [
      "[       -16         27         65         -2         58        -92\n",
      " 1000000001        -68        -61        -33]\n",
      "answer추가:  2\n",
      "[       -16         27         65         -2         58        -92\n",
      " 1000000001        -68        -61        -33]\n",
      "[       -16         27         65         -2         58        -92\n",
      " 1000000001 1000000001        -61        -33]\n",
      "answer추가:  3\n",
      "[       -16         27         65         -2         58        -92\n",
      " 1000000001 1000000001        -61        -33]\n",
      "[       -16         27         65         -2         58        -92\n",
      " 1000000001 1000000001 1000000001        -33]\n",
      "answer추가:  4\n",
      "[       -16         27         65         -2         58        -92\n",
      " 1000000001 1000000001 1000000001        -33]\n",
      "[       -16         27         65         -2         58        -92\n",
      " 1000000001 1000000001 1000000001 1000000001]\n",
      "answer추가:  5\n",
      "[       -16         27         65         -2         58        -92\n",
      " 1000000001 1000000001 1000000001 1000000001]\n",
      "[1000000001 1000000001 1000000001 1000000001 1000000001        -92\n",
      " 1000000001 1000000001 1000000001 1000000001]\n",
      "answer추가:  6\n",
      "[1000000001 1000000001 1000000001 1000000001 1000000001        -92\n",
      " 1000000001 1000000001 1000000001 1000000001]\n",
      "이제 끝난다 \n"
     ]
    },
    {
     "data": {
      "text/plain": [
       "6"
      ]
     },
     "execution_count": 6,
     "metadata": {},
     "output_type": "execute_result"
    }
   ],
   "source": [
    "import numpy as np\n",
    "\n",
    "def solution(a):\n",
    "    a = np.array(a)\n",
    "    argsort_a = np.argsort(a)\n",
    "    answer = 1\n",
    "    \n",
    "    for i in range(1,len(argsort_a)):\n",
    "        if argsort_a[0]<argsort_a[i]:\n",
    "            a[argsort_a[0]+1:argsort_a[i]+1]=1000000001\n",
    "            print(a)\n",
    "        else: \n",
    "            a[argsort_a[i]:argsort_a[0]]=1000000001\n",
    "            print(a)\n",
    "        answer+=1\n",
    "        print(\"answer추가: \",answer)\n",
    "        print(a)\n",
    "        if len(a[np.where(a!=1000000001)])==1:\n",
    "            print(\"이제 끝난다 \")\n",
    "            break\n",
    "    \n",
    "    return answer\n",
    "\n",
    "solution([-16,27,65,-2,58,-92,-71,-68,-61,-33])\n",
    "# solution([9,-1,-5])\n"
   ]
  },
  {
   "cell_type": "code",
   "execution_count": 1,
   "metadata": {},
   "outputs": [
    {
     "name": "stdout",
     "output_type": "stream",
     "text": [
      "[-16  27  65  -2  58 -92   0 -68 -61 -33]\n",
      "answer추가:  2\n",
      "[-16  27  65  -2  58 -92   0 -68 -61 -33]\n",
      "[-16  27  65  -2  58 -92   0   0 -61 -33]\n",
      "answer추가:  3\n",
      "[-16  27  65  -2  58 -92   0   0 -61 -33]\n",
      "[-16  27  65  -2  58 -92   0   0   0 -33]\n",
      "answer추가:  4\n",
      "[-16  27  65  -2  58 -92   0   0   0 -33]\n",
      "[-16  27  65  -2  58 -92   0   0   0   0]\n",
      "answer추가:  5\n",
      "[-16  27  65  -2  58 -92   0   0   0   0]\n",
      "[  0   0   0   0   0 -92   0   0   0   0]\n",
      "answer추가:  6\n",
      "[  0   0   0   0   0 -92   0   0   0   0]\n",
      "이제 끝난다 \n"
     ]
    },
    {
     "data": {
      "text/plain": [
       "6"
      ]
     },
     "execution_count": 1,
     "metadata": {},
     "output_type": "execute_result"
    }
   ],
   "source": [
    "import numpy as np\n",
    "\n",
    "def solution(a):\n",
    "    a = np.array(a)\n",
    "    argsort_a = np.argsort(a)\n",
    "    answer = 1\n",
    "    \n",
    "    for i in range(1,len(argsort_a)):\n",
    "        if argsort_a[0]<argsort_a[i]:\n",
    "            a[argsort_a[0]+1:argsort_a[i]+1]=0\n",
    "            print(a)\n",
    "        else: \n",
    "            a[argsort_a[i]:argsort_a[0]]=0\n",
    "            print(a)\n",
    "        answer+=1\n",
    "        print(\"answer추가: \",answer)\n",
    "        print(a)\n",
    "        if len(a[np.where(a!=0)])==1:\n",
    "            print(\"이제 끝난다 \")\n",
    "            break\n",
    "    \n",
    "    return answer\n",
    "\n",
    "solution([-16,27,65,-2,58,-92,-71,-68,-61,-33])\n",
    "# solution([9,-1,-5])\n"
   ]
  },
  {
   "cell_type": "code",
   "execution_count": 19,
   "metadata": {},
   "outputs": [
    {
     "data": {
      "text/plain": [
       "array([-16,  27,  65,  -2,  58, -92, -71, -68, -61, -33])"
      ]
     },
     "execution_count": 19,
     "metadata": {},
     "output_type": "execute_result"
    }
   ],
   "source": [
    "a = [9,-1,-5] #3\n",
    "a = [-16,27,65,-2,58,-92,-71,-68,-61,-33] #6 - 16, -92, -71, -68, -61, -33\n",
    "a = np.array(a)\n",
    "a[5:2]=0\n",
    "a"
   ]
  },
  {
   "cell_type": "markdown",
   "metadata": {},
   "source": [
    "min_a 비교 예외처리 안했을때"
   ]
  },
  {
   "cell_type": "code",
   "execution_count": 11,
   "metadata": {},
   "outputs": [
    {
     "name": "stdout",
     "output_type": "stream",
     "text": [
      "left_min: [-16, -16, 27, -2, -2, -92, -92, -71, -68]\n",
      "right_min: [-33, -61, -68, -71, -92, -92, -2, -2, 27]\n"
     ]
    },
    {
     "data": {
      "text/plain": [
       "4"
      ]
     },
     "execution_count": 11,
     "metadata": {},
     "output_type": "execute_result"
    }
   ],
   "source": [
    "def solution(a):\n",
    "    answer =2\n",
    "    last_idx = len(a)-1\n",
    "    \n",
    "    left_min = [a[0]]\n",
    "    right_min =[a[last_idx]]\n",
    "\n",
    "    for i in range(1,last_idx):\n",
    "        left_min.append(min(a[i],a[i-1]))\n",
    "        right_min.append(min(a[last_idx-i+1],a[last_idx-i]))\n",
    "        \n",
    "    for k in range(1,last_idx-1):\n",
    "        if max([a[k], left_min[k-1], right_min[last_idx-k]])!=a[k]:\n",
    "            answer+=1\n",
    "    print(\"left_min:\",left_min)\n",
    "    print(\"right_min:\",right_min)\n",
    "    return answer\n",
    "                         \n",
    "solution([-16,27,65,-2,58,-92,-71,-68,-61,-33])\n",
    "# solution([9,-1,-5])                        "
   ]
  },
  {
   "cell_type": "code",
   "execution_count": 83,
   "metadata": {},
   "outputs": [
    {
     "data": {
      "text/plain": [
       "array([1, 3])"
      ]
     },
     "execution_count": 83,
     "metadata": {},
     "output_type": "execute_result"
    }
   ],
   "source": []
  },
  {
   "cell_type": "code",
   "execution_count": 85,
   "metadata": {},
   "outputs": [
    {
     "data": {
      "text/plain": [
       "3"
      ]
     },
     "execution_count": 85,
     "metadata": {},
     "output_type": "execute_result"
    }
   ],
   "source": [
    "def solution(a):\n",
    "    answer = 2\n",
    "    for i in d\n",
    "    \n",
    "    return answer\n",
    "\n",
    "# solution([-16,27,65,-2,58,-92,-71,-68,-61,-33])\n",
    "solution([9,-1,-5])"
   ]
  },
  {
   "cell_type": "markdown",
   "metadata": {},
   "source": [
    "### a[index_i]를 매번 하지않고, 변수하나에 할당했더니 조금 줄어들었다"
   ]
  },
  {
   "cell_type": "code",
   "execution_count": null,
   "metadata": {},
   "outputs": [],
   "source": [
    "# 정확성  테스트\n",
    "# 테스트 1 〉\t통과 (0.95ms, 27.6MB)\n",
    "# 테스트 2 〉\t통과 (1.94ms, 27.2MB)\n",
    "# 테스트 3 〉\t통과 (0.41ms, 27.9MB)\n",
    "# 테스트 4 〉\t통과 (34.16ms, 31.5MB)\n",
    "# 테스트 5 〉\t통과 (174.47ms, 50MB)\n",
    "# 테스트 6 〉\t통과 (268.11ms, 62.1MB)\n",
    "# 테스트 7 〉\t통과 (339.13ms, 73.3MB)\n",
    "# 테스트 8 〉\t통과 (369.98ms, 73.7MB)\n",
    "# 테스트 9 〉\t통과 (418.99ms, 73.4MB)\n",
    "# 테스트 10 〉\t통과 (1170.56ms, 73.5MB)\n",
    "# 테스트 11 〉\t실패 (시간 초과)\n",
    "# 테스트 12 〉\t실패 (시간 초과)\n",
    "# 테스트 13 〉\t실패 (시간 초과)\n",
    "# 테스트 14 〉\t실패 (시간 초과)\n",
    "# 테스트 15 〉\t실패 (시간 초과)\n",
    "# 채점 결과"
   ]
  },
  {
   "cell_type": "code",
   "execution_count": 73,
   "metadata": {},
   "outputs": [
    {
     "data": {
      "text/plain": [
       "3"
      ]
     },
     "execution_count": 73,
     "metadata": {},
     "output_type": "execute_result"
    }
   ],
   "source": [
    "import numpy as np\n",
    "\n",
    "def solution(a):\n",
    "    answer = 2\n",
    "    index_i =0\n",
    "    \n",
    "    a = np.array(a)\n",
    "    min_a = np.min(a[1:])\n",
    "    min_idx = a.argmin()\n",
    "    \n",
    "    min_right_a = min_a\n",
    "    min_left_a = a[0]\n",
    "    \n",
    "    while index_i<(len(a)-2):\n",
    "        index_i+=1\n",
    "        num_i = a[index_i]\n",
    "        if (min_right_a<num_i)&(min_left_a<num_i):\n",
    "            continue\n",
    "        else:\n",
    "            answer+=1\n",
    "            if min_idx>index_i:\n",
    "                min_right_a = min_a\n",
    "                if min_left_a>num_i:\n",
    "                    min_left_a = num_i\n",
    "            elif min_idx<=index_i:\n",
    "                min_left_a = min_a\n",
    "                if min_right_a==num_i:\n",
    "                    min_right_a = np.min(a[index_i+1:])\n",
    "\n",
    "    return answer\n",
    "\n",
    "# solution([-16,27,65,-2,58,-92,-71,-68,-61,-33])\n",
    "solution([9,-1,-5])"
   ]
  },
  {
   "cell_type": "markdown",
   "metadata": {},
   "source": [
    "### min을 np.min으로 바꿔서 넣었더니 시간이 엄청 줄어들었다???"
   ]
  },
  {
   "cell_type": "code",
   "execution_count": null,
   "metadata": {},
   "outputs": [],
   "source": [
    "# 정확성  테스트\n",
    "# 테스트 1 〉\t통과 (1.29ms, 27.5MB)\n",
    "# 테스트 2 〉\t통과 (0.36ms, 27.5MB)\n",
    "# 테스트 3 〉\t통과 (2.02ms, 27.9MB)\n",
    "# 테스트 4 〉\t통과 (47.17ms, 32.2MB)\n",
    "# 테스트 5 〉\t통과 (226.85ms, 50.2MB)\n",
    "# 테스트 6 〉\t통과 (346.35ms, 62.1MB)\n",
    "# 테스트 7 〉\t통과 (489.51ms, 73.4MB)\n",
    "# 테스트 8 〉\t통과 (474.93ms, 73.6MB)\n",
    "# 테스트 9 〉\t통과 (571.62ms, 73.3MB)\n",
    "# 테스트 10 〉\t통과 (1316.73ms, 73.6MB)\n",
    "# 테스트 11 〉\t실패 (시간 초과)\n",
    "# 테스트 12 〉\t실패 (시간 초과)\n",
    "# 테스트 13 〉\t실패 (시간 초과)\n",
    "# 테스트 14 〉\t실패 (시간 초과)\n",
    "# 테스트 15 〉\t실패 (시간 초과)"
   ]
  },
  {
   "cell_type": "code",
   "execution_count": 70,
   "metadata": {},
   "outputs": [
    {
     "data": {
      "text/plain": [
       "3"
      ]
     },
     "execution_count": 70,
     "metadata": {},
     "output_type": "execute_result"
    }
   ],
   "source": [
    "def solution(a):\n",
    "    answer = 2\n",
    "    index_i =0\n",
    "    \n",
    "    a = np.array(a)\n",
    "    min_a = np.min(a[1:])\n",
    "    min_idx = a.argmin()\n",
    "    \n",
    "    min_right_a = min_a\n",
    "    min_left_a = a[0]\n",
    "    \n",
    "    while index_i<(len(a)-2):\n",
    "        index_i+=1\n",
    "        if (min_right_a<a[index_i])&(min_left_a<a[index_i]):\n",
    "            continue\n",
    "        else:\n",
    "            answer+=1\n",
    "            if min_idx>index_i:\n",
    "                min_right_a = min_a\n",
    "                if min_left_a>=a[index_i]:\n",
    "                    min_left_a = a[index_i]\n",
    "            elif min_idx<=index_i:\n",
    "                min_left_a = min_a\n",
    "                if min_right_a==a[index_i]:\n",
    "                    min_right_a = np.min(a[index_i+1:])\n",
    "\n",
    "    return answer\n",
    "\n",
    "# solution([-16,27,65,-2,58,-92,-71,-68,-61,-33])\n",
    "solution([9,-1,-5])"
   ]
  },
  {
   "cell_type": "markdown",
   "metadata": {},
   "source": [
    "min 값을 구하는것을 pass처리하고 시간을 구했더니, 300초 대로 모두 떨어졌다. \n",
    "\n",
    "min 값을 구하는게 시간 초과의 원인이다"
   ]
  },
  {
   "cell_type": "code",
   "execution_count": 204,
   "metadata": {},
   "outputs": [
    {
     "name": "stdout",
     "output_type": "stream",
     "text": [
      "[5 6 7 8 9 0 3 4 2 1]\n",
      "True\n"
     ]
    }
   ],
   "source": [
    "# 정확성  테스트\n",
    "# 테스트 1 〉\t통과 (0.01ms, 10.3MB)\n",
    "# 테스트 2 〉\t통과 (0.01ms, 10.3MB)\n",
    "# 테스트 3 〉\t실패 (0.42ms, 10.2MB)\n",
    "# 테스트 4 〉\t실패 (41.91ms, 15.3MB)\n",
    "# 테스트 5 〉\t실패 (212.28ms, 36.9MB)\n",
    "# 테스트 6 〉\t실패 (274.93ms, 50.5MB)\n",
    "# 테스트 7 〉\t실패 (396.11ms, 63.9MB)\n",
    "# 테스트 8 〉\t실패 (339.56ms, 63.8MB)\n",
    "# 테스트 9 〉\t실패 (362.16ms, 63.9MB)\n",
    "# 테스트 10 〉\t실패 (384.12ms, 63.9MB)\n",
    "# 테스트 11 〉\t실패 (366.79ms, 64MB)\n",
    "# 테스트 12 〉\t실패 (350.38ms, 63.9MB)\n",
    "# 테스트 13 〉\t실패 (329.59ms, 63.9MB)\n",
    "# 테스트 14 〉\t실패 (362.90ms, 63.8MB)\n",
    "# 테스트 15 〉\t실패 (367.82ms, 63.9MB)"
   ]
  },
  {
   "cell_type": "code",
   "execution_count": 48,
   "metadata": {},
   "outputs": [
    {
     "data": {
      "text/plain": [
       "3"
      ]
     },
     "execution_count": 48,
     "metadata": {},
     "output_type": "execute_result"
    }
   ],
   "source": [
    "def solution(a):\n",
    "    answer = [a[0], a[-1]]\n",
    "    index_i =0\n",
    "    \n",
    "    min1_a = min(a) # 전역 최소값\n",
    "    min1_a_idx = a.index(min1_a) # 전역최소값 idx\n",
    "    \n",
    "    a2 = a.copy()\n",
    "    a2.remove(min1_a) # 전역 두번째 최소값을 구하기위해 remove\n",
    "    min2_a = min(a2) # 전역 두번째 최소값\n",
    "    min2_a_idx = a.index(min2_a) # 전역 두번째 최소값 idx\n",
    "    \n",
    "    min_right_a = min(a[1:])\n",
    "    min_left_a = a[0]\n",
    "    \n",
    "    while index_i<(len(a)-2):\n",
    "        index_i+=1\n",
    "        if (min_right_a<a[index_i])&(min_left_a<a[index_i]) or (min1_a-a[index_i])*(min2_a-a[index_i])<0:\n",
    "            continue\n",
    "        else:\n",
    "            answer.append(a[index_i])\n",
    "            if min1_a_idx>index_i:\n",
    "                min_right_a = min1_a\n",
    "                if min_left_a>=a[index_i]:\n",
    "                    pass\n",
    "#                     min_left_a = a[index_i]\n",
    "            elif min1_a_idx<=index_i:\n",
    "                min_left_a = min1_a\n",
    "                if min_right_a>=a[index_i]:\n",
    "                    pass\n",
    "#                     min_right_a = min(a[index_i+1:])\n",
    "\n",
    "    return len(answer)\n",
    "\n",
    "solution([-16,27,65,-2,58,-92,-71,-68,-61,-33])\n",
    "# solution([9,-1,-5])"
   ]
  },
  {
   "cell_type": "markdown",
   "metadata": {},
   "source": [
    "최소값을 1,2위까지 만들어서 그 사이에 있는것은 pass하도록 예외처리했는데,\n",
    "\n",
    "시간이 줄지 않고, 오히려 늘어났다"
   ]
  },
  {
   "cell_type": "code",
   "execution_count": null,
   "metadata": {},
   "outputs": [],
   "source": [
    "# 정확성  테스트\n",
    "# 테스트 1 〉\t통과 (0.01ms, 10.3MB)\n",
    "# 테스트 2 〉\t통과 (0.01ms, 10.2MB)\n",
    "# 테스트 3 〉\t통과 (0.50ms, 10.2MB)\n",
    "# 테스트 4 〉\t통과 (28.31ms, 15.3MB)\n",
    "# 테스트 5 〉\t통과 (149.41ms, 36.7MB)\n",
    "# 테스트 6 〉\t통과 (227.07ms, 50.5MB)\n",
    "# 테스트 7 〉\t통과 (306.32ms, 63.9MB)\n",
    "# 테스트 8 〉\t통과 (1047.05ms, 63.9MB)\n",
    "# 테스트 9 〉\t통과 (3318.31ms, 64MB)\n",
    "# 테스트 10 〉\t실패 (시간 초과)\n",
    "# 테스트 11 〉\t실패 (시간 초과)\n",
    "# 테스트 12 〉\t실패 (시간 초과)\n",
    "# 테스트 13 〉\t실패 (시간 초과)\n",
    "# 테스트 14 〉\t실패 (시간 초과)\n",
    "# 테스트 15 〉\t실패 (시간 초과)"
   ]
  },
  {
   "cell_type": "code",
   "execution_count": 46,
   "metadata": {},
   "outputs": [
    {
     "data": {
      "text/plain": [
       "6"
      ]
     },
     "execution_count": 46,
     "metadata": {},
     "output_type": "execute_result"
    }
   ],
   "source": [
    "def solution(a):\n",
    "    answer = [a[0], a[-1]]\n",
    "    index_i =0\n",
    "    \n",
    "    min1_a = min(a) # 전역 최소값\n",
    "    min1_a_idx = a.index(min1_a) # 전역최소값 idx\n",
    "    \n",
    "    a2 = a.copy()\n",
    "    a2.remove(min1_a) # 전역 두번째 최소값을 구하기위해 remove\n",
    "    min2_a = min(a2) # 전역 두번째 최소값\n",
    "    min2_a_idx = a.index(min2_a) # 전역 두번째 최소값 idx\n",
    "    \n",
    "    min_right_a = min(a[1:])\n",
    "    min_left_a = a[0]\n",
    "    \n",
    "    while index_i<(len(a)-2):\n",
    "        index_i+=1\n",
    "        if (min_right_a<a[index_i])&(min_left_a<a[index_i]) or (min1_a-a[index_i])*(min2_a-a[index_i])<0:\n",
    "            continue\n",
    "        else:\n",
    "            answer.append(a[index_i])\n",
    "            if min1_a_idx>index_i:\n",
    "                min_right_a = min1_a\n",
    "                if min_left_a>=a[index_i]:\n",
    "                    min_left_a = a[index_i]\n",
    "            elif min1_a_idx<=index_i:\n",
    "                min_left_a = min1_a\n",
    "                if min_right_a>=a[index_i]:\n",
    "                    min_right_a = min(a[index_i+1:])\n",
    "\n",
    "    return len(answer)\n",
    "\n",
    "solution([-16,27,65,-2,58,-92,-71,-68,-61,-33])\n",
    "# solution([9,-1,-5])"
   ]
  },
  {
   "cell_type": "markdown",
   "metadata": {},
   "source": [
    "최소값의 유무를 분리해서 예외처리하게 해보았다 -> 빨라졌지만, 그래도 여전히 시간초과"
   ]
  },
  {
   "cell_type": "code",
   "execution_count": null,
   "metadata": {},
   "outputs": [],
   "source": [
    "# 정확성  테스트\n",
    "# 테스트 1 〉\t통과 (0.01ms, 10.2MB)\n",
    "# 테스트 2 〉\t통과 (0.01ms, 10.3MB)\n",
    "# 테스트 3 〉\t통과 (0.51ms, 10.3MB)\n",
    "# 테스트 4 〉\t통과 (25.53ms, 14.5MB)\n",
    "# 테스트 5 〉\t통과 (128.66ms, 33MB)\n",
    "# 테스트 6 〉\t통과 (210.03ms, 44.7MB)\n",
    "# 테스트 7 〉\t통과 (260.98ms, 56.1MB)\n",
    "# 테스트 8 〉\t통과 (1016.58ms, 56.2MB)\n",
    "# 테스트 9 〉\t통과 (3147.11ms, 56.2MB)\n",
    "# 테스트 10 〉\t실패 (시간 초과)\n",
    "# 테스트 11 〉\t실패 (시간 초과)\n",
    "# 테스트 12 〉\t실패 (시간 초과)\n",
    "# 테스트 13 〉\t실패 (시간 초과)\n",
    "# 테스트 14 〉\t\n",
    "# 테스트 15 〉\t"
   ]
  },
  {
   "cell_type": "code",
   "execution_count": 38,
   "metadata": {},
   "outputs": [
    {
     "data": {
      "text/plain": [
       "6"
      ]
     },
     "execution_count": 38,
     "metadata": {},
     "output_type": "execute_result"
    }
   ],
   "source": [
    "def solution(a):\n",
    "    answer = [a[0], a[-1]]\n",
    "    index_i =0\n",
    "    min_a = min(a)\n",
    "    min_idx = a.index(min(a))\n",
    "    \n",
    "    min_right_a = min(a[1:])\n",
    "    min_left_a = a[0]\n",
    "    \n",
    "    while index_i<(len(a)-2):\n",
    "        index_i+=1\n",
    "        if (min_right_a<a[index_i])&(min_left_a<a[index_i]):\n",
    "            continue\n",
    "        else:\n",
    "            answer.append(a[index_i])\n",
    "            if min_idx>index_i:\n",
    "                min_right_a = min_a\n",
    "                if min_left_a>=a[index_i]:\n",
    "                    min_left_a = a[index_i]\n",
    "            elif min_idx<=index_i:\n",
    "                min_left_a = min_a\n",
    "                if min_right_a>=a[index_i]:\n",
    "                    min_right_a = min(a[index_i+1:])\n",
    "\n",
    "    return len(answer)\n",
    "\n",
    "solution([-16,27,65,-2,58,-92,-71,-68,-61,-33])\n",
    "# solution([9,-1,-5])"
   ]
  },
  {
   "cell_type": "code",
   "execution_count": null,
   "metadata": {},
   "outputs": [],
   "source": [
    "# 정확성  테스트\n",
    "# 테스트 1 〉\t실패 (0.55ms, 27.9MB)\n",
    "# 테스트 2 〉\t통과 (0.63ms, 28MB)\n",
    "# 테스트 3 〉\t통과 (861.31ms, 28.4MB)\n",
    "# 테스트 4 〉\t실패 (시간 초과)\n",
    "# 테스트 5 〉\t실패 (시간 초과)\n",
    "# 테스트 6 〉\t실패 (시간 초과)\n",
    "# 테스트 7 〉\t실패 (시간 초과)\n",
    "# 테스트 8 〉\t실패 (시간 초과)\n",
    "# 테스트 9 〉\t실패 (시간 초과)\n",
    "# 테스트 10 〉\t실패 (시간 초과)\n",
    "# 테스트 11 〉\t실패 (시간 초과)\n",
    "# 테스트 12 〉\t실패 (시간 초과)\n",
    "# 테스트 13 〉\t실패 (시간 초과)\n",
    "# 테스트 14 〉\t실패 (시간 초과)\n",
    "# 테스트 15 〉\t실패 (시간 초과)"
   ]
  },
  {
   "cell_type": "code",
   "execution_count": 18,
   "metadata": {},
   "outputs": [
    {
     "data": {
      "text/plain": [
       "3"
      ]
     },
     "execution_count": 18,
     "metadata": {},
     "output_type": "execute_result"
    }
   ],
   "source": [
    "import numpy as np\n",
    "\n",
    "def solution(a):\n",
    "    answer = 2 #처음(a[0]), 끝(a[-1])\n",
    "    argsort_a = np.argsort(a)\n",
    "    \n",
    "    for i in range(2,len(argsort_a)):\n",
    "        smaller_than_i = argsort_a[1:i]\n",
    "        if sum(smaller_than_i<argsort_a[i])in [0, len(smaller_than_i)]:\n",
    "            answer+=1\n",
    "    return answer\n",
    "\n",
    "# solution([-16,27,65,-2,58,-92,-71,-68,-61,-33])\n",
    "solution([9,-1,-5])"
   ]
  },
  {
   "cell_type": "code",
   "execution_count": 17,
   "metadata": {},
   "outputs": [
    {
     "name": "stdout",
     "output_type": "stream",
     "text": [
      "[2 1 0]\n",
      "[1]\n",
      "[False]\n",
      "0\n"
     ]
    },
    {
     "data": {
      "text/plain": [
       "3"
      ]
     },
     "execution_count": 17,
     "metadata": {},
     "output_type": "execute_result"
    }
   ],
   "source": [
    "import numpy as np\n",
    "\n",
    "def solution(a):\n",
    "    answer = 2 #처음(a[0]), 끝(a[-1])\n",
    "    argsort_a = np.argsort(a)\n",
    "    print(argsort_a)\n",
    "    \n",
    "    for i in range(2,len(argsort_a)):\n",
    "        smaller_than_i = argsort_a[1:i]\n",
    "        print(smaller_than_i)\n",
    "        if sum(smaller_than_i<argsort_a[i])in [0, len(smaller_than_i)]:\n",
    "            answer+=1\n",
    "        print(smaller_than_i<argsort_a[i])\n",
    "        print(sum(smaller_than_i<argsort_a[i]))\n",
    "    return answer\n",
    "\n",
    "# solution([-16,27,65,-2,58,-92,-71,-68,-61,-33])\n",
    "solution([9,-1,-5])"
   ]
  },
  {
   "cell_type": "markdown",
   "metadata": {},
   "source": [
    "### 도저히 시간을 줄일수가 없음!"
   ]
  },
  {
   "cell_type": "code",
   "execution_count": null,
   "metadata": {},
   "outputs": [],
   "source": [
    "# 정확성  테스트\n",
    "# 테스트 1 〉\t통과 (0.04ms, 27.7MB)\n",
    "# 테스트 2 〉\t통과 (0.05ms, 27.8MB)\n",
    "# 테스트 3 〉\t통과 (1.53ms, 27.8MB)\n",
    "# 테스트 4 〉\t통과 (126.25ms, 32.8MB)\n",
    "# 테스트 5 〉\t통과 (605.52ms, 54.5MB)\n",
    "# 테스트 6 〉\t통과 (947.32ms, 67.8MB)\n",
    "# 테스트 7 〉\t통과 (1223.70ms, 81.3MB)\n",
    "# 테스트 8 〉\t통과 (2061.25ms, 81.5MB)\n",
    "# 테스트 9 〉\t통과 (4132.10ms, 81.1MB)\n",
    "# 테스트 10 〉\t실패 (시간 초과)\n",
    "# 테스트 11 〉\t실패 (시간 초과)\n",
    "# 테스트 12 〉\t실패 (시간 초과)\n",
    "# 테스트 13 〉\t실패 (시간 초과)\n",
    "# 테스트 14 〉\t실패 (시간 초과)\n",
    "# 테스트 15 〉\t실패 (시간 초과)"
   ]
  },
  {
   "cell_type": "code",
   "execution_count": 193,
   "metadata": {},
   "outputs": [
    {
     "data": {
      "text/plain": [
       "6"
      ]
     },
     "execution_count": 193,
     "metadata": {},
     "output_type": "execute_result"
    }
   ],
   "source": [
    "def solution(a):\n",
    "    answer = [a[0], a[-1]]\n",
    "    min_idx_1 = np.argsort(a)[0]\n",
    "    min_idx_2 = np.argsort(a)[1]\n",
    "    \n",
    "    index_i =0\n",
    "    min_right_a = min(a[1:])\n",
    "    min_left_a = a[0]\n",
    "    \n",
    "    while index_i<(len(a)-2):\n",
    "        index_i+=1\n",
    "        if (min_idx_1-index_i)*(min_idx_2-index_i)<0 or (min_right_a<a[index_i])&(min_left_a<a[index_i]):\n",
    "            continue\n",
    "        else:\n",
    "            answer.append(a[index_i])\n",
    "            if min_right_a>=a[index_i]:\n",
    "                min_right_a = min(a[index_i+1:])\n",
    "            if min_left_a>=a[index_i]:\n",
    "                    min_left_a = a[index_i]\n",
    "    return len(answer)\n",
    "\n",
    "solution([-16,27,65,-2,58,-92,-71,-68,-61,-33])\n",
    "# solution([9,-1,-5])"
   ]
  },
  {
   "cell_type": "markdown",
   "metadata": {},
   "source": [
    "### 예외처리\n",
    "- 최소값 1,2등 사이에 있다면 빼주자\n",
    "\n",
    "- -> 시간이 늘어나기만 하고 이점이 없다!\n",
    "- -> 그 말은 pass되는 것을 처리하는 것은 더이상 무의미"
   ]
  },
  {
   "cell_type": "code",
   "execution_count": 150,
   "metadata": {},
   "outputs": [
    {
     "data": {
      "text/plain": [
       "2"
      ]
     },
     "execution_count": 150,
     "metadata": {},
     "output_type": "execute_result"
    }
   ],
   "source": [
    "# 정확성  테스트\n",
    "# 테스트 1 〉\t통과 (0.01ms, 10.2MB)\n",
    "# 테스트 2 〉\t통과 (0.01ms, 10.3MB)\n",
    "# 테스트 3 〉\t통과 (0.52ms, 10.2MB)\n",
    "# 테스트 4 〉\t통과 (30.60ms, 15.2MB)\n",
    "# 테스트 5 〉\t통과 (161.94ms, 36.8MB)\n",
    "# 테스트 6 〉\t통과 (254.77ms, 50.3MB)\n",
    "# 테스트 7 〉\t통과 (325.79ms, 63.9MB)\n",
    "# 테스트 8 〉\t통과 (1138.21ms, 63.9MB)\n",
    "# 테스트 9 〉\t통과 (3297.36ms, 63.9MB)\n",
    "# 테스트 10 〉\t실패 (시간 초과)\n",
    "# 테스트 11 〉\t실패 (시간 초과)\n",
    "# 테스트 12 〉\t실패 (시간 초과)\n",
    "# 테스트 13 〉\t실패 (시간 초과)\n",
    "# 테스트 14 〉\t실패 (시간 초과)\n",
    "# 테스트 15 〉\t실패 (시간 초과)"
   ]
  },
  {
   "cell_type": "code",
   "execution_count": 175,
   "metadata": {},
   "outputs": [
    {
     "data": {
      "text/plain": [
       "6"
      ]
     },
     "execution_count": 175,
     "metadata": {},
     "output_type": "execute_result"
    }
   ],
   "source": [
    "def solution(a):\n",
    "    answer = [a[0], a[-1]]\n",
    "    min1_a = min(a) # 전역 최소값\n",
    "    min1_a_idx = a.index(min1_a) # 전역최소값 idx\n",
    "    \n",
    "    a2 = a.copy()\n",
    "    a2.remove(min1_a) # 전역 두번째 최소값을 구하기위해 remove\n",
    "    min2_a = min(a2) # 전역 두번째 최소값\n",
    "    min2_a_idx = a.index(min2_a) # 전역 두번째 최소값 idx\n",
    "    \n",
    "    index_i =0\n",
    "    min_right_a = min(a[1:])\n",
    "    min_left_a = a[0]\n",
    "    \n",
    "    while index_i<(len(a)-2):\n",
    "        index_i+=1\n",
    "        if (min1_a_idx-index_i)*(min2_a_idx-index_i)<0 or (min_right_a<a[index_i])&(min_left_a<a[index_i]):\n",
    "            continue\n",
    "        else:\n",
    "            answer.append(a[index_i])\n",
    "            if min_right_a>=a[index_i]:\n",
    "                min_right_a = min(a[index_i+1:])\n",
    "            if min_left_a>=a[index_i]:\n",
    "                    min_left_a = a[index_i]\n",
    "    return len(answer)\n",
    "\n",
    "solution([-16,27,65,-2,58,-92,-71,-68,-61,-33])\n",
    "# solution([9,-1,-5])"
   ]
  },
  {
   "cell_type": "markdown",
   "metadata": {},
   "source": [
    "### 넘파이의 argsort를 이용해서 메모리를 줄일 수있을까?"
   ]
  },
  {
   "cell_type": "code",
   "execution_count": 190,
   "metadata": {},
   "outputs": [
    {
     "name": "stdout",
     "output_type": "stream",
     "text": [
      "min1:  5\n",
      "min2:  6\n"
     ]
    }
   ],
   "source": [
    "# a = [9,-1,-5] #3\n",
    "a = [-16,27,65,-2,58,-92,-71,-68,-61,-33]  #6 - 16, -92, -71, -68, -61, -33\n",
    "\n",
    "answer = []\n",
    "a = np.array(a)\n",
    "# print(a)\n",
    "min1 = np.argsort(a)[0]\n",
    "min2 = np.argsort(a)[1]\n",
    "\n",
    "print(\"min1: \",min1)\n",
    "print(\"min2: \",min2)"
   ]
  },
  {
   "cell_type": "code",
   "execution_count": 183,
   "metadata": {
    "scrolled": true
   },
   "outputs": [
    {
     "data": {
      "text/plain": [
       "-68"
      ]
     },
     "execution_count": 183,
     "metadata": {},
     "output_type": "execute_result"
    }
   ],
   "source": [
    "np.where(b==0) #최소값\n",
    "min2_idx = np.where(b==1)[0][0] #두번째 최소값\n",
    "a[min2_idx]"
   ]
  },
  {
   "cell_type": "code",
   "execution_count": 192,
   "metadata": {},
   "outputs": [
    {
     "data": {
      "text/plain": [
       "6"
      ]
     },
     "execution_count": 192,
     "metadata": {},
     "output_type": "execute_result"
    }
   ],
   "source": [
    "def solution(a):\n",
    "    answer = 2\n",
    "    \n",
    "    index_i =0\n",
    "    min_idx_1 = np.argsort(a)[0]\n",
    "    min_idx_2 = np.argsort(a)[1]\n",
    "    min_right_a = min(a[1:])\n",
    "    min_left_a = a[0]\n",
    "    \n",
    "    while index_i<(len(a)-2):\n",
    "        index_i+=1\n",
    "        if (min_idx_2-index_i)*(min_idx_1-index_i)<0:\n",
    "            continue\n",
    "        elif (min_right_a<a[index_i])&(min_left_a<a[index_i]):\n",
    "            continue\n",
    "        else:\n",
    "            answer+=1\n",
    "            if (min_idx_1<=index_i)&(min_right_a>=a[index_i]):\n",
    "                min_right_a = min(a[index_i+1:])\n",
    "            if (min_idx_1>=index_i)&(min_left_a>=a[index_i]):\n",
    "                min_left_a = a[index_i]\n",
    "    return answer\n",
    "\n",
    "solution([-16,27,65,-2,58,-92,-71,-68,-61,-33])\n",
    "# solution([9,-1,-5])"
   ]
  },
  {
   "cell_type": "markdown",
   "metadata": {},
   "source": [
    "### 시간초과를 없애기 위한 예외처리\n",
    "--> 크게 줄지 않음...\n",
    "\n",
    "1)  최소값이 right에 남아있으면, 굳이 최소값 구할필요 없다\n",
    "\n",
    "2)  최소값이 left에 이미 넘어왔으면, 굳이 최소값 구할필요 없다."
   ]
  },
  {
   "cell_type": "code",
   "execution_count": 113,
   "metadata": {},
   "outputs": [],
   "source": [
    "# 정확성  테스트\n",
    "# 테스트 1 〉\t통과 (0.01ms, 10.2MB)\n",
    "# 테스트 2 〉\t통과 (0.01ms, 10.2MB)\n",
    "# 테스트 3 〉\t통과 (0.44ms, 10.2MB)\n",
    "# 테스트 4 〉\t통과 (24.68ms, 14.5MB)\n",
    "# 테스트 5 〉\t통과 (120.07ms, 32.9MB)\n",
    "# 테스트 6 〉\t통과 (198.45ms, 44.8MB)\n",
    "# 테스트 7 〉\t통과 (247.39ms, 56.2MB)\n",
    "# 테스트 8 〉\t통과 (1021.00ms, 56.1MB)\n",
    "# 테스트 9 〉\t통과 (3220.88ms, 56.1MB)\n",
    "# 테스트 10 〉\t실패 (시간 초과)\n",
    "# 테스트 11 〉\t실패 (시간 초과)\n",
    "# 테스트 12 〉\t실패 (시간 초과)\n",
    "# 테스트 13 〉\t실패 (시간 초과)\n",
    "# 테스트 14 〉\t실패 (시간 초과)\n",
    "# 테스트 15 〉\t실패 (시간 초과)"
   ]
  },
  {
   "cell_type": "code",
   "execution_count": 114,
   "metadata": {},
   "outputs": [
    {
     "data": {
      "text/plain": [
       "3"
      ]
     },
     "execution_count": 114,
     "metadata": {},
     "output_type": "execute_result"
    }
   ],
   "source": [
    "def solution(a):\n",
    "    answer = [a[0], a[-1]]\n",
    "    index_i =0\n",
    "    min_idx = a.index(min(a))\n",
    "    \n",
    "    min_right_a = min(a[1:])\n",
    "    min_left_a = a[0]\n",
    "    \n",
    "    while index_i<(len(a)-2):\n",
    "        index_i+=1\n",
    "        if (min_right_a<a[index_i])&(min_left_a<a[index_i]):\n",
    "            pass\n",
    "        else:\n",
    "            answer.append(a[index_i])\n",
    "            if (min_idx<=index_i)&(min_right_a>=a[index_i]):\n",
    "                min_right_a = min(a[index_i+1:])\n",
    "            if (min_idx>=index_i)&(min_left_a>=a[index_i]):\n",
    "                min_left_a = a[index_i]\n",
    "    return len(answer)\n",
    "\n",
    "# solution([-16,27,65,-2,58,-92,-71,-68,-61,-33])\n",
    "solution([9,-1,-5])"
   ]
  },
  {
   "cell_type": "markdown",
   "metadata": {},
   "source": [
    "### 기존 a.remove 방식에서, answer.append로 바꿈"
   ]
  },
  {
   "cell_type": "code",
   "execution_count": null,
   "metadata": {},
   "outputs": [],
   "source": [
    "# 정확성  테스트\n",
    "# 테스트 1 〉\t통과 (0.01ms, 10.2MB)\n",
    "# 테스트 2 〉\t통과 (0.01ms, 10.3MB)\n",
    "# 테스트 3 〉\t통과 (0.41ms, 10.2MB)\n",
    "# 테스트 4 〉\t통과 (20.78ms, 14.4MB)\n",
    "# 테스트 5 〉\t통과 (106.58ms, 33MB)\n",
    "# 테스트 6 〉\t통과 (179.14ms, 44.7MB)\n",
    "# 테스트 7 〉\t통과 (208.20ms, 56.3MB)\n",
    "# 테스트 8 〉\t통과 (998.48ms, 56.2MB)\n",
    "# 테스트 9 〉\t통과 (3302.76ms, 56.1MB)\n",
    "# 테스트 10 〉\t실패 (시간 초과)\n",
    "# 테스트 11 〉\t실패 (시간 초과)\n",
    "# 테스트 12 〉\t실패 (시간 초과)\n",
    "# 테스트 13 〉\t실패 (시간 초과)\n",
    "# 테스트 14 〉\t실패 (시간 초과)\n",
    "# 테스트 15 〉\t실패 (시간 초과)"
   ]
  },
  {
   "cell_type": "code",
   "execution_count": 101,
   "metadata": {},
   "outputs": [
    {
     "data": {
      "text/plain": [
       "3"
      ]
     },
     "execution_count": 101,
     "metadata": {},
     "output_type": "execute_result"
    }
   ],
   "source": [
    "def solution(a):\n",
    "    answer = [a[0], a[-1],min]\n",
    "    index_i =0\n",
    "    min_right_a = min(a[1:])\n",
    "    min_left_a = a[0]\n",
    "    \n",
    "    while index_i<(len(a)-2):\n",
    "        index_i+=1\n",
    "        if (min_right_a<a[index_i])&(min_left_a<a[index_i]):\n",
    "            pass\n",
    "        else:\n",
    "            answer.append(a[index_i])\n",
    "            if min_right_a>=a[index_i]:\n",
    "                min_right_a = min(a[index_i+1:])\n",
    "            if min_left_a>=a[index_i]:\n",
    "                    min_left_a = a[index_i]\n",
    "    return len(answer)"
   ]
  },
  {
   "cell_type": "markdown",
   "metadata": {},
   "source": [
    "### 원포인트 스왑\n",
    "-  겨우 한문제더 맞춤...."
   ]
  },
  {
   "cell_type": "code",
   "execution_count": null,
   "metadata": {},
   "outputs": [],
   "source": [
    "# 정확성  테스트\n",
    "# 테스트 1 〉\t통과 (0.01ms, 10.2MB)\n",
    "# 테스트 2 〉\t통과 (0.01ms, 10.2MB)\n",
    "# 테스트 3 〉\t통과 (0.72ms, 10.2MB)\n",
    "# 테스트 4 〉\t통과 (707.26ms, 15.3MB)\n",
    "# 테스트 5 〉\t실패 (시간 초과)\n",
    "# 테스트 6 〉\t실패 (시간 초과)\n",
    "# 테스트 7 〉\t실패 (시간 초과)\n",
    "# 테스트 8 〉\t실패 (시간 초과)\n",
    "# 테스트 9 〉\t실패 (시간 초과)\n",
    "# 테스트 10 〉\t실패 (시간 초과)\n",
    "# 테스트 11 〉\t실패 (시간 초과)\n",
    "# 테스트 12 〉\t실패 (시간 초과)\n",
    "# 테스트 13 〉\t실패 (시간 초과)\n",
    "# 테스트 14 〉\t실패 (시간 초과)\n",
    "# 테스트 15 〉\t실패 (시간 초과)"
   ]
  },
  {
   "cell_type": "code",
   "execution_count": 59,
   "metadata": {},
   "outputs": [
    {
     "data": {
      "text/plain": [
       "6"
      ]
     },
     "execution_count": 59,
     "metadata": {},
     "output_type": "execute_result"
    }
   ],
   "source": [
    "def solution(a):\n",
    "    b = a.copy()\n",
    "\n",
    "    index_i =0\n",
    "    min_right_a = min(a[1:])\n",
    "    min_left_a = a[0]\n",
    "\n",
    "    while index_i<(len(a)-2):\n",
    "        index_i+=1\n",
    "        if (min_right_a<a[index_i])&(min_left_a<a[index_i]):\n",
    "            b.remove(a[index_i])\n",
    "        else:\n",
    "            if min_right_a>=a[index_i]:\n",
    "                min_right_a = min(a[index_i+1:])\n",
    "            if min_left_a>=a[index_i]:\n",
    "                    min_left_a = a[index_i]\n",
    "    return len(b)\n",
    "\n",
    "solution([-16,27,65,-2,58,-92,-71,-68,-61,-33])\n",
    "# solution([9,-1,-5])"
   ]
  },
  {
   "cell_type": "code",
   "execution_count": 35,
   "metadata": {},
   "outputs": [
    {
     "name": "stdout",
     "output_type": "stream",
     "text": [
      "1\n",
      "i번째수: 27\n",
      "min_right_a:  -92\n",
      "min_left_a:  -16\n",
      "지금 remove\n",
      "2\n",
      "i번째수: 65\n",
      "min_right_a:  -92\n",
      "min_left_a:  -16\n",
      "지금 remove\n",
      "3\n",
      "i번째수: -2\n",
      "min_right_a:  -92\n",
      "min_left_a:  -16\n",
      "지금 remove\n",
      "4\n",
      "i번째수: 58\n",
      "min_right_a:  -92\n",
      "min_left_a:  -16\n",
      "지금 remove\n",
      "5\n",
      "i번째수: -92\n",
      "min_right_a:  -92\n",
      "min_left_a:  -16\n",
      "6\n",
      "i번째수: -71\n",
      "min_right_a:  -71\n",
      "min_left_a:  -92\n",
      "7\n",
      "i번째수: -68\n",
      "min_right_a:  -68\n",
      "min_left_a:  -92\n",
      "8\n",
      "i번째수: -61\n",
      "min_right_a:  -61\n",
      "min_left_a:  -92\n",
      "[-16, -92, -71, -68, -61, -33]\n"
     ]
    }
   ],
   "source": [
    "a = [9,-1,-5] #3\n",
    "a = [-16,27,65,-2,58,-92,-71,-68,-61,-33]  #6 - 16, -92, -71, -68, -61, -33\n",
    "b = a.copy()\n",
    "\n",
    "index_i =0\n",
    "min_right_a = min(a[1:])\n",
    "min_left_a = a[0]\n",
    "\n",
    "while index_i<(len(a)-2):\n",
    "    index_i+=1\n",
    "    print(index_i)\n",
    "    print(\"i번째수:\",a[index_i])\n",
    "    print(\"min_right_a: \",min_right_a)\n",
    "    print(\"min_left_a: \",min_left_a)\n",
    "    if (min_right_a<a[index_i])&(min_left_a<a[index_i]):\n",
    "        b.remove(a[index_i])\n",
    "        print(\"지금 remove\")\n",
    "    else:\n",
    "        if min_right_a>=a[index_i]:\n",
    "            min_right_a = min(a[index_i+1:])\n",
    "        if min_left_a>=a[index_i]:\n",
    "                min_left_a = a[index_i]\n",
    "print(b)  "
   ]
  },
  {
   "cell_type": "code",
   "execution_count": 25,
   "metadata": {},
   "outputs": [],
   "source": [
    "#### 엄청난 시간초과.. \n",
    "\n",
    "# 정확성  테스트\n",
    "# 테스트 1 〉\t통과 (0.01ms, 10.2MB)\n",
    "# 테스트 2 〉\t통과 (0.01ms, 10.1MB)\n",
    "# 테스트 3 〉\t통과 (20.97ms, 10.3MB)\n",
    "# 테스트 4 〉\t실패 (시간 초과)\n",
    "# 테스트 5 〉\t실패 (시간 초과)\n",
    "# 테스트 6 〉\t실패 (시간 초과)\n",
    "# 테스트 7 〉\t실패 (시간 초과)\n",
    "# 테스트 8 〉\t실패 (시간 초과)\n",
    "# 테스트 9 〉\t실패 (시간 초과)\n",
    "# 테스트 10 〉\t실패 (시간 초과)\n",
    "# 테스트 11 〉\t실패 (시간 초과)\n",
    "# 테스트 12 〉\t실패 (시간 초과)\n",
    "# 테스트 13 〉\t실패 (시간 초과)\n",
    "# 테스트 14 〉\t실패 (시간 초과)\n",
    "# 테스트 15 〉\t실패 (시간 초과)"
   ]
  },
  {
   "cell_type": "code",
   "execution_count": 42,
   "metadata": {},
   "outputs": [
    {
     "name": "stdout",
     "output_type": "stream",
     "text": [
      "[-16, -92, -71, -68, -61, -33]\n"
     ]
    }
   ],
   "source": [
    "b = a.copy()\n",
    "for i in range(1,len(a)):\n",
    "    try:\n",
    "        before_min = min(a[:i])\n",
    "    except:\n",
    "        before_min = max(a)+1\n",
    "    try:\n",
    "        after_min = min(a[i+1:])\n",
    "    except:\n",
    "        after_min = max(a)+1\n",
    "    if (before_min<a[i])&(after_min<a[i]):\n",
    "        b.remove(a[i])\n",
    "\n",
    "print(b)   "
   ]
  },
  {
   "cell_type": "code",
   "execution_count": 32,
   "metadata": {},
   "outputs": [
    {
     "data": {
      "text/plain": [
       "3"
      ]
     },
     "execution_count": 32,
     "metadata": {},
     "output_type": "execute_result"
    }
   ],
   "source": [
    "def solution(a):\n",
    "    b = a.copy()\n",
    "    \n",
    "    for i in range(1,len(a)):\n",
    "        try:\n",
    "            before_min = min(a[:i])\n",
    "        except:\n",
    "            before_min = max(a)+1\n",
    "    \n",
    "        try:\n",
    "            after_min = min(a[i+1:])\n",
    "        except:\n",
    "            after_min = max(a)+1\n",
    "        \n",
    "        if (before_min<a[i])&(after_min<a[i]):\n",
    "            b.remove(a[i])\n",
    "    return len(b)\n",
    "\n",
    "solution([-16,27,65,-2,58,-92,-71,-68,-61,-33])\n",
    "solution([9,-1,-5])"
   ]
  },
  {
   "cell_type": "code",
   "execution_count": 157,
   "metadata": {},
   "outputs": [
    {
     "data": {
      "text/plain": [
       "3"
      ]
     },
     "execution_count": 157,
     "metadata": {},
     "output_type": "execute_result"
    }
   ],
   "source": [
    "def solution(a):\n",
    "    \n",
    "    if len(a) < 3:\n",
    "        return 2\n",
    "    else:\n",
    "        answer = 2\n",
    "        for i in range(1,len(a)-1):\n",
    "            output = 1\n",
    "\n",
    "\n",
    "\n",
    "            min_left = min(a[:i])\n",
    "            min_right = min(a[i+1:])\n",
    "            num = a[i]\n",
    "\n",
    "\n",
    "\n",
    "            if min_left> num:\n",
    "                output *= 0\n",
    "            else:\n",
    "                output *= 1\n",
    "\n",
    "            if min_right > num:\n",
    "                output *= 0\n",
    "            else:\n",
    "                output *= 1\n",
    "\n",
    "\n",
    "            if output != 1:\n",
    "                answer += 1\n",
    "        return answer\n",
    "    \n",
    "# solution([-16,27,65,-2,58,-92,-71,-68,-61,-33])\n",
    "solution([9,-1,-5])"
   ]
  }
 ],
 "metadata": {
  "kernelspec": {
   "display_name": "Python 3",
   "language": "python",
   "name": "python3"
  },
  "language_info": {
   "codemirror_mode": {
    "name": "ipython",
    "version": 3
   },
   "file_extension": ".py",
   "mimetype": "text/x-python",
   "name": "python",
   "nbconvert_exporter": "python",
   "pygments_lexer": "ipython3",
   "version": "3.7.4"
  }
 },
 "nbformat": 4,
 "nbformat_minor": 2
}
