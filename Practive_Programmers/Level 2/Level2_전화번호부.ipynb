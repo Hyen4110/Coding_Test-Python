{
 "cells": [
  {
   "cell_type": "markdown",
   "metadata": {},
   "source": [
    "#### 문제 설명\n",
    "- 전화번호부에 적힌 전화번호 중, 한 번호가 다른 번호의 접두어인 경우가 있는지 확인하려 합니다.\n",
    "- 전화번호가 다음과 같을 경우, 구조대 전화번호는 영석이의 전화번호의 접두사입니다.\n",
    "\n",
    "    - 구조대 : 119\n",
    "    - 박준영 : 97 674 223\n",
    "    - 지영석 : 11 9552 4421\n",
    "    - 전화번호부에 적힌 전화번호를 담은 배열 phone_book 이 solution 함수의 매개변수로 주어질 때, 어떤 번호가 다른 번호의 접두어인 경우가 있으면 false를 그렇지 않으면 true를 return 하도록 solution 함수를 작성해주세요.\n",
    "\n",
    "#### 제한 사항\n",
    "- phone_book의 길이는 1 이상 1,000,000 이하입니다.\n",
    "- 각 전화번호의 길이는 1 이상 20 이하입니다.\n",
    "- 같은 전화번호가 중복해서 들어있지 않습니다."
   ]
  },
  {
   "cell_type": "code",
   "execution_count": 72,
   "metadata": {},
   "outputs": [
    {
     "data": {
      "text/plain": [
       "False"
      ]
     },
     "execution_count": 72,
     "metadata": {},
     "output_type": "execute_result"
    }
   ],
   "source": [
    "import collections\n",
    "def solution(phone_book):\n",
    "    #첫자리 숫자를 Key로 dict를 만들기\n",
    "    phone_dic = collections.defaultdict(list)\n",
    "    for phone_num in phone_book:\n",
    "        phone_dic[phone_num[0]].append(phone_num)\n",
    "    \n",
    "    #첫자리 숫자별로 중복값이 있는지 구하기\n",
    "    for first_num_list in  phone_dic.values():\n",
    "        min_len = min([len(x) for x in first_num_list])\n",
    "        temp_dic = collections.defaultdict(list)\n",
    "        \n",
    "        #효율성 Test를 위해, dict를 한 detph 더!(대신, min_len까지는 Key로 한다.)\n",
    "        for num in first_num_list:\n",
    "            temp_dic[num[:min_len]].append(num)\n",
    "        temp_dic_values = list(temp_dic.values())\n",
    "        temp_dic_values.sort(key = lambda x: len(x))\n",
    "        for val in temp_dic_values:\n",
    "            if len(val)<=1:\n",
    "                continue\n",
    "            else:\n",
    "                for i in range(len(val)):\n",
    "                    for next_i in range(i+1, len(val)):\n",
    "                        if val[next_i].startswith(val[i]):\n",
    "                            return False\n",
    "    return True        \n",
    "\n",
    "solution([\"119\", \"97674223\", \"1195524421\"]) #False\n",
    "# solution([\"123\",\"456\",\"789\"]) #True\n",
    "# solution([\"12\",\"123\",\"1235\",\"567\",\"88\"]) #False"
   ]
  },
  {
   "cell_type": "markdown",
   "metadata": {},
   "source": [
    "#### 효율성은 통과했지만, 틀림"
   ]
  },
  {
   "cell_type": "code",
   "execution_count": 55,
   "metadata": {},
   "outputs": [],
   "source": [
    "# 정확성  테스트\n",
    "# 테스트 1 〉\t통과 (0.02ms, 10.2MB)\n",
    "# 테스트 2 〉\t통과 (0.02ms, 10.3MB)\n",
    "# 테스트 3 〉\t통과 (0.02ms, 10.2MB)\n",
    "# 테스트 4 〉\t통과 (0.02ms, 10.2MB)\n",
    "# 테스트 5 〉\t통과 (0.02ms, 10.2MB)\n",
    "# 테스트 6 〉\t통과 (0.02ms, 10.2MB)\n",
    "# 테스트 7 〉\t통과 (0.02ms, 10.2MB)\n",
    "# 테스트 8 〉\t실패 (0.03ms, 10.3MB)\n",
    "# 테스트 9 〉\t실패 (0.02ms, 10.3MB)\n",
    "# 테스트 10 〉\t통과 (0.02ms, 10.3MB)\n",
    "# 테스트 11 〉\t통과 (0.02ms, 10.2MB)\n",
    "# 테스트 12 〉\t통과 (0.02ms, 10.2MB)\n",
    "# 테스트 13 〉\t통과 (0.02ms, 10.3MB)\n",
    "# 테스트 14 〉\t통과 (1.17ms, 10.3MB)\n",
    "# 테스트 15 〉\t통과 (1.20ms, 10.3MB)\n",
    "# 테스트 16 〉\t통과 (1.44ms, 10.3MB)\n",
    "# 테스트 17 〉\t통과 (1.70ms, 10.4MB)\n",
    "# 테스트 18 〉\t통과 (1.81ms, 10.5MB)\n",
    "# 테스트 19 〉\t실패 (2.04ms, 10.5MB)\n",
    "# 테스트 20 〉\t통과 (2.24ms, 10.5MB)\n",
    "# 효율성  테스트\n",
    "# 테스트 1 〉\t통과 (1.75ms, 10.9MB)\n",
    "# 테스트 2 〉\t통과 (1.62ms, 11MB)\n",
    "# 테스트 3 〉\t통과 (209.21ms, 64.4MB)\n",
    "# 테스트 4 〉\t통과 (36.53ms, 30.1MB)"
   ]
  },
  {
   "cell_type": "code",
   "execution_count": 63,
   "metadata": {},
   "outputs": [
    {
     "data": {
      "text/plain": [
       "False"
      ]
     },
     "execution_count": 63,
     "metadata": {},
     "output_type": "execute_result"
    }
   ],
   "source": [
    "import collections\n",
    "def solution(phone_book):\n",
    "    #첫자리 숫자를 Key로 dict를 만들기\n",
    "    phone_dic = collections.defaultdict(list)\n",
    "    for phone_num in phone_book:\n",
    "        phone_dic[phone_num[0]].append(phone_num)\n",
    "    \n",
    "    #첫자리 숫자별로 중복값이 있는지 구하기\n",
    "    for first_num_list in  phone_dic.values():\n",
    "        min_len = min([len(x) for x in first_num_list])\n",
    "        temp_dic = collections.defaultdict(list)\n",
    "        \n",
    "        #효율성 Test를 위해, dict를 한 detph 더!(대신, min_len까지는 Key로 한다.)\n",
    "        for num in first_num_list:\n",
    "            temp_dic[num[:min_len]].append(num)\n",
    "        temp_dic_values = list(temp_dic.values())\n",
    "        temp_dic_values.sort(key = lambda x: len(x))\n",
    "        for val in temp_dic_values:\n",
    "            if len(val)<=1:\n",
    "                continue\n",
    "            else:\n",
    "                for i in range(len(val)):\n",
    "                    for next_i in range(i+1, len(val)):\n",
    "                        if val[next_i].startswith(val[i]):\n",
    "                            return False\n",
    "    return True        \n",
    "\n",
    "solution([\"119\", \"97674223\", \"1195524421\"]) #False\n",
    "# solution([\"123\",\"456\",\"789\"]) #True\n",
    "# solution([\"12\",\"123\",\"1235\",\"567\",\"88\"]) #False"
   ]
  },
  {
   "cell_type": "markdown",
   "metadata": {},
   "source": [
    "### 맞았지만 효율성 Test 실패"
   ]
  },
  {
   "cell_type": "code",
   "execution_count": 53,
   "metadata": {},
   "outputs": [
    {
     "name": "stdout",
     "output_type": "stream",
     "text": [
      "min_len 3\n",
      "first_num_list ['123']\n",
      "num 123\n",
      "defaultdict(<class 'list'>, {'123': ['123']})\n",
      "min_len 3\n",
      "first_num_list ['456']\n",
      "num 456\n",
      "defaultdict(<class 'list'>, {'456': ['456']})\n",
      "min_len 3\n",
      "first_num_list ['789']\n",
      "num 789\n",
      "defaultdict(<class 'list'>, {'789': ['789']})\n"
     ]
    },
    {
     "data": {
      "text/plain": [
       "True"
      ]
     },
     "execution_count": 53,
     "metadata": {},
     "output_type": "execute_result"
    }
   ],
   "source": [
    "import collections\n",
    "def solution(phone_book):\n",
    "    phone_dic = collections.defaultdict(list)\n",
    "    for phone_num in phone_book:\n",
    "        phone_dic[phone_num[0]].append(phone_num)\n",
    "    \n",
    "    for first_num_list in  phone_dic.values():\n",
    "        min_len = min([len(x) for x in first_num_list])\n",
    "        print(\"min_len\",min_len)\n",
    "        print(\"first_num_list\",first_num_list)\n",
    "        temp_dic = collections.defaultdict(list)\n",
    "        for num in first_num_list:\n",
    "            print(\"num\",num)\n",
    "            temp_dic[num[:min_len]].append(num)\n",
    "        \n",
    "        for val in temp_dic.values():\n",
    "            if len(val)<=1:\n",
    "                continue\n",
    "            else:\n",
    "                for i in range(len(val)):\n",
    "                    for next_i in range(i+1, len(val)):\n",
    "                        if val[next_i].startswith(val[i]):\n",
    "                            return False\n",
    "                    \n",
    "            \n",
    "            print(\"val\",val)\n",
    "            \n",
    "        print(temp_dic)\n",
    "    return True\n",
    "        \n",
    "# solution([\"119\", \"97674223\", \"1195524421\"]) #False\n",
    "solution([\"123\",\"456\",\"789\"]) #True\n",
    "# solution([\"12\",\"123\",\"1235\",\"567\",\"88\"]) #False"
   ]
  },
  {
   "cell_type": "code",
   "execution_count": null,
   "metadata": {},
   "outputs": [],
   "source": [
    "# 정확성  테스트\n",
    "# 테스트 1 〉\t통과 (0.01ms, 10.1MB)\n",
    "# 테스트 2 〉\t통과 (0.01ms, 10.2MB)\n",
    "# 테스트 3 〉\t통과 (0.01ms, 10.2MB)\n",
    "# 테스트 4 〉\t통과 (0.01ms, 10.3MB)\n",
    "# 테스트 5 〉\t통과 (0.01ms, 10.1MB)\n",
    "# 테스트 6 〉\t통과 (0.01ms, 10.1MB)\n",
    "# 테스트 7 〉\t통과 (0.01ms, 10.1MB)\n",
    "# 테스트 8 〉\t통과 (0.01ms, 10.2MB)\n",
    "# 테스트 9 〉\t통과 (0.01ms, 10.2MB)\n",
    "# 테스트 10 〉\t통과 (0.01ms, 10.2MB)\n",
    "# 테스트 11 〉\t통과 (0.01ms, 10.3MB)\n",
    "# 테스트 12 〉\t통과 (0.01ms, 10.2MB)\n",
    "# 테스트 13 〉\t통과 (0.01ms, 10.1MB)\n",
    "# 테스트 14 〉\t통과 (82.29ms, 10.2MB)\n",
    "# 테스트 15 〉\t통과 (128.08ms, 10.3MB)\n",
    "# 테스트 16 〉\t통과 (203.90ms, 10.3MB)\n",
    "# 테스트 17 〉\t통과 (308.44ms, 10.5MB)\n",
    "# 테스트 18 〉\t통과 (438.91ms, 10.3MB)\n",
    "# 테스트 19 〉\t통과 (112.65ms, 10.3MB)\n",
    "# 테스트 20 〉\t통과 (709.61ms, 10.5MB)\n",
    "# 효율성  테스트\n",
    "# 테스트 1 〉\t통과 (3.16ms, 10.9MB)\n",
    "# 테스트 2 〉\t통과 (3.35ms, 10.8MB)\n",
    "# 테스트 3 〉\t실패 (시간 초과)\n",
    "# 테스트 4 〉\t실패 (시간 초과)"
   ]
  },
  {
   "cell_type": "code",
   "execution_count": 34,
   "metadata": {},
   "outputs": [
    {
     "name": "stdout",
     "output_type": "stream",
     "text": [
      "['119', '1195524421', '97674223']\n"
     ]
    },
    {
     "data": {
      "text/plain": [
       "False"
      ]
     },
     "execution_count": 34,
     "metadata": {},
     "output_type": "execute_result"
    }
   ],
   "source": [
    "def solution(phone_book):\n",
    "    phone_book.sort()\n",
    "    print(phone_book)\n",
    "    for idx in range(len(phone_book)):\n",
    "        for next_idx in range(idx+1, len(phone_book)):\n",
    "            if len(phone_book[next_idx])<len(phone_book[idx]):\n",
    "                continue\n",
    "            elif phone_book[idx]==phone_book[next_idx][:len(phone_book[idx])]:\n",
    "                return False\n",
    "    return True\n",
    "        \n",
    "solution([\"119\", \"97674223\", \"1195524421\"]) #False\n",
    "# solution([\"123\",\"456\",\"789\"]) #True\n",
    "# solution([\"12\",\"123\",\"1235\",\"567\",\"88\"]) #False"
   ]
  },
  {
   "cell_type": "markdown",
   "metadata": {},
   "source": [
    "#### 이유는 모르겠지만, 계속 틀린다!\n",
    " - 시간초과가 일다 뜨므로, 다른 방법을 찾자"
   ]
  },
  {
   "cell_type": "code",
   "execution_count": null,
   "metadata": {},
   "outputs": [],
   "source": [
    "# 확성  테스트\n",
    "# 테스트 1 〉\t통과 (0.02ms, 10.2MB)\n",
    "# 테스트 2 〉\t통과 (0.02ms, 10.1MB)\n",
    "# 테스트 3 〉\t실패 (0.02ms, 10.2MB)\n",
    "# 테스트 4 〉\t통과 (0.01ms, 10.1MB)\n",
    "# 테스트 5 〉\t통과 (0.02ms, 10.2MB)\n",
    "# 테스트 6 〉\t통과 (0.02ms, 10.2MB)\n",
    "# 테스트 7 〉\t통과 (0.02ms, 9.99MB)\n",
    "# 테스트 8 〉\t실패 (0.02ms, 10.2MB)\n",
    "# 테스트 9 〉\t실패 (0.01ms, 10.3MB)\n",
    "# 테스트 10 〉\t실패 (0.01ms, 10.2MB)\n",
    "# 테스트 11 〉\t실패 (0.01ms, 10.2MB)\n",
    "# 테스트 12 〉\t통과 (0.01ms, 10.1MB)\n",
    "# 테스트 13 〉\t통과 (0.01ms, 10.2MB)\n",
    "# 테스트 14 〉\t실패 (0.69ms, 10.3MB)\n",
    "# 테스트 15 〉\t통과 (0.88ms, 10.4MB)\n",
    "# 테스트 16 〉\t통과 (178.86ms, 10.4MB)\n",
    "# 테스트 17 〉\t통과 (257.53ms, 10.4MB)\n",
    "# 테스트 18 〉\t통과 (462.38ms, 10.5MB)\n",
    "# 테스트 19 〉\t통과 (2.79ms, 10.5MB)\n",
    "# 테스트 20 〉\t통과 (705.75ms, 10.7MB)\n",
    "# 효율성  테스트\n",
    "# 테스트 1 〉\t통과 (3.24ms, 10.9MB)\n",
    "# 테스트 2 〉\t통과 (3.02ms, 11MB)\n",
    "# 테스트 3 〉\t실패 (시간 초과)\n",
    "# 테스트 4 〉\t통과 (82.80ms, 50.9MB)"
   ]
  },
  {
   "cell_type": "code",
   "execution_count": 28,
   "metadata": {},
   "outputs": [
    {
     "data": {
      "text/plain": [
       "True"
      ]
     },
     "execution_count": 28,
     "metadata": {},
     "output_type": "execute_result"
    }
   ],
   "source": [
    "def solution(phone_book):\n",
    "    phone_book.sort(key = lambda x: len(x))\n",
    "    \n",
    "    for idx in range(len(phone_book)-1):\n",
    "        temp = [x[:len(phone_book[idx])] for x in phone_book[idx+1:]]\n",
    "        if len(temp)!=0 and len(temp)!=len(set(temp)):\n",
    "            return False\n",
    "    \n",
    "    return True\n",
    "        \n",
    "# solution([\"119\", \"97674223\", \"1195524421\"]) #False\n",
    "solution([\"123\",\"456\",\"789\"]) #True\n",
    "# solution([\"12\",\"123\",\"1235\",\"567\",\"88\"]) #False"
   ]
  },
  {
   "cell_type": "markdown",
   "metadata": {},
   "source": [
    "#### 정렬 후, for문으로 순차적으로 비교해보았지만, 실패와 시간초과!"
   ]
  },
  {
   "cell_type": "code",
   "execution_count": null,
   "metadata": {},
   "outputs": [],
   "source": [
    "# 정확성  테스트\n",
    "# 테스트 1 〉\t통과 (0.02ms, 10.2MB)\n",
    "# 테스트 2 〉\t통과 (0.02ms, 10.2MB)\n",
    "# 테스트 3 〉\t통과 (0.01ms, 10.1MB)\n",
    "# 테스트 4 〉\t통과 (0.01ms, 10.2MB)\n",
    "# 테스트 5 〉\t통과 (0.02ms, 10.3MB)\n",
    "# 테스트 6 〉\t통과 (0.02ms, 10.2MB)\n",
    "# 테스트 7 〉\t통과 (0.01ms, 10.2MB)\n",
    "# 테스트 8 〉\t통과 (0.01ms, 10.1MB)\n",
    "# 테스트 9 〉\t통과 (0.01ms, 10.3MB)\n",
    "# 테스트 10 〉\t통과 (0.01ms, 10.2MB)\n",
    "# 테스트 11 〉\t실패 (0.01ms, 10.2MB)\n",
    "# 테스트 12 〉\t통과 (0.01ms, 10.3MB)\n",
    "# 테스트 13 〉\t통과 (0.01ms, 10MB)\n",
    "# 테스트 14 〉\t실패 (0.61ms, 10.4MB)\n",
    "# 테스트 15 〉\t통과 (0.90ms, 10.4MB)\n",
    "# 테스트 16 〉\t통과 (393.48ms, 10.4MB)\n",
    "# 테스트 17 〉\t통과 (524.51ms, 10.5MB)\n",
    "# 테스트 18 〉\t통과 (801.37ms, 10.6MB)\n",
    "# 테스트 19 〉\t통과 (1.35ms, 10.7MB)\n",
    "# 테스트 20 〉\t통과 (1258.91ms, 10.7MB)\n",
    "# 효율성  테스트\n",
    "# 테스트 1 〉\t통과 (3.14ms, 10.8MB)\n",
    "# 테스트 2 〉\t통과 (3.07ms, 10.9MB)\n",
    "# 테스트 3 〉\t실패 (시간 초과)\n",
    "# 테스트 4 〉\t통과 (77.66ms, 50.2MB)"
   ]
  },
  {
   "cell_type": "code",
   "execution_count": 25,
   "metadata": {},
   "outputs": [
    {
     "data": {
      "text/plain": [
       "True"
      ]
     },
     "execution_count": 25,
     "metadata": {},
     "output_type": "execute_result"
    }
   ],
   "source": [
    "def solution(phone_book):\n",
    "    phone_book.sort(key = lambda x: len(x))\n",
    "    \n",
    "    for idx in range(len(phone_book)):\n",
    "        temp = [x[:len(phone_book[idx])] for x in phone_book]\n",
    "        if len(temp)!=len(set(temp)):\n",
    "            return False\n",
    "    \n",
    "    return True\n",
    "        \n",
    "# solution([\"119\", \"97674223\", \"1195524421\"]) #False\n",
    "solution([\"123\",\"456\",\"789\"]) #True\n",
    "# solution([\"12\",\"123\",\"1235\",\"567\",\"88\"]) #False"
   ]
  },
  {
   "cell_type": "markdown",
   "metadata": {},
   "source": [
    "#### 인덱싱을 고쳤는데도 틀렸다!"
   ]
  },
  {
   "cell_type": "code",
   "execution_count": null,
   "metadata": {},
   "outputs": [],
   "source": [
    "# 정확성  테스트\n",
    "# 테스트 1 〉\t통과 (0.01ms, 10.2MB)\n",
    "# 테스트 2 〉\t통과 (0.01ms, 10.2MB)\n",
    "# 테스트 3 〉\t실패 (0.01ms, 10.2MB)\n",
    "# 테스트 4 〉\t통과 (0.01ms, 10.3MB)\n",
    "# 테스트 5 〉\t통과 (0.01ms, 10.2MB)\n",
    "# 테스트 6 〉\t통과 (0.01ms, 10.2MB)\n",
    "# 테스트 7 〉\t통과 (0.01ms, 10.2MB)\n",
    "# 테스트 8 〉\t통과 (0.01ms, 10.2MB)\n",
    "# 테스트 9 〉\t통과 (0.01ms, 10.2MB)\n",
    "# 테스트 10 〉\t통과 (0.01ms, 10.2MB)\n",
    "# 테스트 11 〉\t실패 (0.01ms, 10.1MB)\n",
    "# 테스트 12 〉\t통과 (0.01ms, 10.1MB)\n",
    "# 테스트 13 〉\t통과 (0.01ms, 10.2MB)\n",
    "# 테스트 14 〉\t실패 (0.39ms, 10.3MB)\n",
    "# 테스트 15 〉\t통과 (0.65ms, 10.4MB)\n",
    "# 테스트 16 〉\t실패 (4.32ms, 10.6MB)\n",
    "# 테스트 17 〉\t실패 (5.01ms, 10.8MB)\n",
    "# 테스트 18 〉\t실패 (4.65ms, 10.8MB)\n",
    "# 테스트 19 〉\t통과 (1.06ms, 10.6MB)\n",
    "# 테스트 20 〉\t실패 (4.62ms, 10.7MB)\n",
    "# 효율성  테스트\n",
    "# 테스트 1 〉\t실패 (0.83ms, 10.9MB)\n",
    "# 테스트 2 〉\t실패 (0.85ms, 10.8MB)\n",
    "# 테스트 3 〉\t실패 (103.19ms, 48.2MB)\n",
    "# 테스트 4 〉\t통과 (63.71ms, 51.2MB)"
   ]
  },
  {
   "cell_type": "code",
   "execution_count": null,
   "metadata": {},
   "outputs": [],
   "source": [
    "def solution(phone_book):\n",
    "    phone_book_len = [len(x) for x in phone_book]\n",
    "    max_len = max(phone_book_len)\n",
    "    min_len = min(phone_book_len)\n",
    "    \n",
    "    while min_len!=1:\n",
    "        temp = [x[:min_len] for x in phone_book]\n",
    "        if len(temp)!=len(set(temp)):\n",
    "            return False\n",
    "        min_len-=1\n",
    "    return True\n",
    "        "
   ]
  },
  {
   "cell_type": "code",
   "execution_count": 16,
   "metadata": {},
   "outputs": [
    {
     "name": "stdout",
     "output_type": "stream",
     "text": [
      "min_len 3\n",
      "['123', '456', '789']\n",
      "['12', '45', '78']\n"
     ]
    },
    {
     "data": {
      "text/plain": [
       "True"
      ]
     },
     "execution_count": 16,
     "metadata": {},
     "output_type": "execute_result"
    }
   ],
   "source": [
    "def solution(phone_book):\n",
    "    phone_book_len = [len(x) for x in phone_book]\n",
    "    max_len = max(phone_book_len)\n",
    "    min_len = min(phone_book_len)\n",
    "    print(\"min_len\",min_len)\n",
    "    \n",
    "    while min_len!=1:\n",
    "        temp = [x[:min_len] for x in phone_book]\n",
    "        print(temp)\n",
    "        if len(temp)!=len(set(temp)):\n",
    "            return False\n",
    "        min_len-=1\n",
    "    return True\n",
    "        \n",
    "# solution([\"119\", \"97674223\", \"1195524421\"]) #False\n",
    "solution([\"123\",\"456\",\"789\"]) #True\n",
    "# solution([\"12\",\"123\",\"1235\",\"567\",\"88\"]) #False"
   ]
  },
  {
   "cell_type": "markdown",
   "metadata": {},
   "source": [
    "#### 인덱싱을 잘못했다!"
   ]
  },
  {
   "cell_type": "code",
   "execution_count": null,
   "metadata": {},
   "outputs": [],
   "source": [
    "# 정확성  테스트\n",
    "# 테스트 1 〉\t실패 (0.01ms, 10.1MB)\n",
    "# 테스트 2 〉\t통과 (0.01ms, 10.3MB)\n",
    "# 테스트 3 〉\t실패 (0.01ms, 10.2MB)\n",
    "# 테스트 4 〉\t통과 (0.01ms, 10.1MB)\n",
    "# 테스트 5 〉\t실패 (0.01ms, 10.2MB)\n",
    "# 테스트 6 〉\t실패 (0.01ms, 10.2MB)\n",
    "# 테스트 7 〉\t실패 (0.01ms, 10.1MB)\n",
    "# 테스트 8 〉\t통과 (0.01ms, 10.2MB)\n",
    "# 테스트 9 〉\t통과 (0.01ms, 10.3MB)\n",
    "# 테스트 10 〉\t통과 (0.01ms, 10.2MB)\n",
    "# 테스트 11 〉\t실패 (0.01ms, 10.2MB)\n",
    "# 테스트 12 〉\t통과 (0.01ms, 10.2MB)\n",
    "# 테스트 13 〉\t통과 (0.05ms, 10.2MB)\n",
    "# 테스트 14 〉\t실패 (0.48ms, 10.3MB)\n",
    "# 테스트 15 〉\t통과 (0.81ms, 10.3MB)\n",
    "# 테스트 16 〉\t실패 (4.14ms, 10.5MB)\n",
    "# 테스트 17 〉\t실패 (4.74ms, 10.8MB)\n",
    "# 테스트 18 〉\t실패 (4.90ms, 10.8MB)\n",
    "# 테스트 19 〉\t통과 (1.19ms, 10.4MB)\n",
    "# 테스트 20 〉\t실패 (2.51ms, 10.8MB)\n",
    "# 효율성  테스트\n",
    "# 테스트 1 〉\t실패 (0.80ms, 10.9MB)\n",
    "# 테스트 2 〉\t실패 (1.00ms, 10.9MB)\n",
    "# 테스트 3 〉\t실패 (72.58ms, 48.7MB)\n",
    "# 테스트 4 〉\t통과 (69.30ms, 55.4MB)"
   ]
  },
  {
   "cell_type": "code",
   "execution_count": 8,
   "metadata": {},
   "outputs": [
    {
     "data": {
      "text/plain": [
       "False"
      ]
     },
     "execution_count": 8,
     "metadata": {},
     "output_type": "execute_result"
    }
   ],
   "source": [
    "def solution(phone_book):\n",
    "    phone_book_len = [len(x) for x in phone_book]\n",
    "    max_len = max(phone_book_len)\n",
    "    min_len = min(phone_book_len)\n",
    "    \n",
    "    while min_len!=1:\n",
    "        temp = [x[:min_len-1] for x in phone_book]\n",
    "        if len(temp)!=len(set(temp)):\n",
    "            return False\n",
    "        min_len-=1\n",
    "    return True\n",
    "        \n",
    "solution([\"119\", \"97674223\", \"1195524421\"]) #False\n",
    "# solution([\"123\",\"456\",\"789\"]) #True\n",
    "# solution([\"12\",\"123\",\"1235\",\"567\",\"88\"]) #False"
   ]
  }
 ],
 "metadata": {
  "kernelspec": {
   "display_name": "Python 3",
   "language": "python",
   "name": "python3"
  },
  "language_info": {
   "codemirror_mode": {
    "name": "ipython",
    "version": 3
   },
   "file_extension": ".py",
   "mimetype": "text/x-python",
   "name": "python",
   "nbconvert_exporter": "python",
   "pygments_lexer": "ipython3",
   "version": "3.7.4"
  }
 },
 "nbformat": 4,
 "nbformat_minor": 2
}
