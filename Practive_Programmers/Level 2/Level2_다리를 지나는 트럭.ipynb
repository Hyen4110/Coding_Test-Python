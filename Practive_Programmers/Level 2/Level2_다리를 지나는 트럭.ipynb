{
 "cells": [
  {
   "cell_type": "markdown",
   "metadata": {},
   "source": [
    "11:50 ~ "
   ]
  },
  {
   "cell_type": "markdown",
   "metadata": {},
   "source": [
    "시간을 단축해본 Code"
   ]
  },
  {
   "cell_type": "code",
   "execution_count": 5,
   "metadata": {},
   "outputs": [
    {
     "data": {
      "text/plain": [
       "[2, 4]"
      ]
     },
     "execution_count": 5,
     "metadata": {},
     "output_type": "execute_result"
    }
   ],
   "source": [
    "a = [1,2,3,4]\n",
    "list(filter(lambda x: x%2==0,a))"
   ]
  },
  {
   "cell_type": "code",
   "execution_count": 174,
   "metadata": {},
   "outputs": [
    {
     "data": {
      "text/plain": [
       "110"
      ]
     },
     "execution_count": 174,
     "metadata": {},
     "output_type": "execute_result"
    }
   ],
   "source": [
    "def solution(bridge_length, weight, truck_weights):\n",
    "    seconds = 0\n",
    "    bridge_now = [0]*bridge_length\n",
    "\n",
    "    while truck_weights:\n",
    "        truck_next = truck_weights[0]\n",
    "        if sum(bridge_now[1:])+truck_next <= weight:\n",
    "            seconds+=1\n",
    "            bridge_now.pop(0)\n",
    "            bridge_now.append(truck_next)\n",
    "            truck_weights.pop(0)\n",
    "        else:\n",
    "            out_loc = bridge_now.index(list(filter(lambda x:x!=0,bridge_now))[0]) #0이 아닌 첫 숫자 인덱스\n",
    "#             if out_loc==0:\n",
    "#                 bridge_now.pop(0)\n",
    "#                 bridge_now.append(0)\n",
    "#                 seconds+=1\n",
    "            seconds+= out_loc\n",
    "            bridge_now = bridge_now[out_loc:]+[0]*(out_loc)\n",
    "            \n",
    "    seconds+=len(bridge_now)\n",
    "    return seconds\n",
    "\n",
    "# solution(100,100,[10])\n",
    "# solution(2,10,[7,4,5,6])\n",
    "solution(100,100,[10,10,10,10,10,10,10,10,10,10])\n",
    "\n",
    "# 정확성  테스트\n",
    "# 테스트 1 〉\t통과 (0.29ms, 10.3MB)\n",
    "# 테스트 2 〉\t통과 (5.44ms, 10.3MB)\n",
    "# 테스트 3 〉\t통과 (0.02ms, 10.2MB)\n",
    "# 테스트 4 〉\t통과 (22.17ms, 10.4MB)\n",
    "# 테스트 5 〉\t통과 (148.24ms, 10.3MB)\n",
    "# 테스트 6 〉\t통과 (60.84ms, 10.3MB)\n",
    "# 테스트 7 〉\t통과 (0.28ms, 10.3MB)\n",
    "# 테스트 8 〉\t통과 (0.11ms, 10.2MB)\n",
    "# 테스트 9 〉\t통과 (2.43ms, 10.3MB)\n",
    "# 테스트 10 〉\t통과 (0.10ms, 10.2MB)\n",
    "# 테스트 11 〉\t통과 (0.02ms, 10.3MB)\n",
    "# 테스트 12 〉\t통과 (0.28ms, 10.2MB)\n",
    "# 테스트 13 〉\t통과 (0.81ms, 10.2MB)\n",
    "# 테스트 14 〉\t통과 (0.01ms, 10.2MB)"
   ]
  },
  {
   "cell_type": "markdown",
   "metadata": {},
   "source": [
    "시간 단축없이 원리만"
   ]
  },
  {
   "cell_type": "code",
   "execution_count": 78,
   "metadata": {},
   "outputs": [
    {
     "data": {
      "text/plain": [
       "101"
      ]
     },
     "execution_count": 78,
     "metadata": {},
     "output_type": "execute_result"
    }
   ],
   "source": [
    "def solution(bridge_length, weight, truck_weights):\n",
    "    seconds = 0\n",
    "    bridge_now = [0]*bridge_length\n",
    "\n",
    "    while truck_weights:\n",
    "        truck_next = truck_weights[0]\n",
    "        bridge_now.pop(0)\n",
    "        \n",
    "        seconds+=1\n",
    "        if sum(bridge_now)+truck_next <= weight:\n",
    "            bridge_now.append(truck_next)\n",
    "            truck_weights.pop(0)\n",
    "        else:\n",
    "            bridge_now.append(0)\n",
    "    \n",
    "    seconds+=len(bridge_now)\n",
    "    return seconds\n",
    "\n",
    "solution(100,100,[10])\n",
    "# solution(2,10,[7,4,5,6])\n",
    "\n",
    "# 정확성  테스트\n",
    "# 테스트 1 〉\t통과 (12.42ms, 10.2MB)\n",
    "# 테스트 2 〉\t통과 (1496.19ms, 10.2MB)\n",
    "# 테스트 3 〉\t통과 (0.01ms, 10.2MB)\n",
    "# 테스트 4 〉\t통과 (335.01ms, 10.2MB)\n",
    "# 테스트 5 〉\t통과 (9647.65ms, 10.2MB)\n",
    "# 테스트 6 〉\t통과 (1659.61ms, 10.3MB)\n",
    "# 테스트 7 〉\t통과 (6.73ms, 10.3MB)\n",
    "# 테스트 8 〉\t통과 (0.35ms, 10.2MB)\n",
    "# 테스트 9 〉\t통과 (6.19ms, 10.3MB)\n",
    "# 테스트 10 〉\t통과 (0.44ms, 10.1MB)\n",
    "# 테스트 11 〉\t통과 (0.01ms, 10.1MB)\n",
    "# 테스트 12 〉\t통과 (0.43ms, 10.2MB)\n",
    "# 테스트 13 〉\t통과 (2.47ms, 10.1MB)\n",
    "# 테스트 14 〉\t통과 (0.01ms, 10.3MB)"
   ]
  },
  {
   "cell_type": "code",
   "execution_count": 75,
   "metadata": {},
   "outputs": [
    {
     "data": {
      "text/plain": [
       "101"
      ]
     },
     "execution_count": 75,
     "metadata": {},
     "output_type": "execute_result"
    }
   ],
   "source": [
    "def solution(bridge_length, weight, truck_weights):\n",
    "    seconds=0\n",
    "    truck_weights.reverse()\n",
    "    bridge_now = [0]*bridge_length\n",
    "\n",
    "    while truck_weights:\n",
    "        truck_next = truck_weights[-1]\n",
    "        bridge_now.pop(0)\n",
    "\n",
    "        if sum(bridge_now)+truck_next <= weight:\n",
    "            seconds+=1\n",
    "            bridge_now.append(truck_next)\n",
    "            truck_weights.pop()\n",
    "\n",
    "        else:\n",
    "            seconds += 1\n",
    "            bridge_now.append(0)\n",
    "    seconds+=len(bridge_now)\n",
    "\n",
    "    return seconds\n",
    "\n",
    "solution(100,100,[10])\n",
    "# solution(2,10,[7,4,5,6])\n",
    "\n",
    "# 채점을 시작합니다.\n",
    "# 정확성  테스트\n",
    "# 테스트 1 〉\t통과 (12.42ms, 10.2MB)\n",
    "# 테스트 2 〉\t통과 (1497.79ms, 10.3MB)\n",
    "# 테스트 3 〉\t통과 (0.01ms, 10.3MB)\n",
    "# 테스트 4 〉\t통과 (334.98ms, 10.1MB)\n",
    "# 테스트 5 〉\t통과 (9633.02ms, 10.3MB)\n",
    "# 테스트 6 〉\t통과 (1662.80ms, 10.3MB)\n",
    "# 테스트 7 〉\t통과 (6.69ms, 10.2MB)\n",
    "# 테스트 8 〉\t통과 (0.37ms, 10.3MB)\n",
    "# 테스트 9 〉\t통과 (6.27ms, 10.2MB)\n",
    "# 테스트 10 〉\t통과 (0.46ms, 10.3MB)\n",
    "# 테스트 11 〉\t통과 (0.01ms, 10.2MB)\n",
    "# 테스트 12 〉\t통과 (0.43ms, 10.3MB)\n",
    "# 테스트 13 〉\t통과 (3.80ms, 10.2MB)\n",
    "# 테스트 14 〉\t통과 (0.01ms, 10.2MB)"
   ]
  },
  {
   "cell_type": "code",
   "execution_count": 73,
   "metadata": {},
   "outputs": [
    {
     "name": "stdout",
     "output_type": "stream",
     "text": [
      "[6, 5, 4, 7]\n",
      "truck_next 7\n",
      "bridge_now [0]\n",
      "bridge_now 트럭추가 [0, 7]\n",
      "truck_next 4\n",
      "bridge_now [7]\n",
      "bridge_now 0추가 [7, 0]\n",
      "truck_next 4\n",
      "bridge_now [0]\n",
      "bridge_now 트럭추가 [0, 4]\n",
      "truck_next 5\n",
      "bridge_now [4]\n",
      "bridge_now 트럭추가 [4, 5]\n",
      "truck_next 6\n",
      "bridge_now [5]\n",
      "bridge_now 0추가 [5, 0]\n",
      "truck_next 6\n",
      "bridge_now [0]\n",
      "bridge_now 트럭추가 [0, 6]\n"
     ]
    },
    {
     "data": {
      "text/plain": [
       "8"
      ]
     },
     "execution_count": 73,
     "metadata": {},
     "output_type": "execute_result"
    }
   ],
   "source": [
    "bridge_length = 2\n",
    "weight = 10\n",
    "truck_weights = [7,4,5,6]\n",
    "\n",
    "# bridge_length = 100\n",
    "# weight = 100\n",
    "# truck_weights = [10]\n",
    "\n",
    "\n",
    "# bridge_length = 100\n",
    "# weight = 100\n",
    "# truck_weights = [10,10,10,10,10,10,10,10,10,10]\n",
    "\n",
    "\n",
    "seconds=0\n",
    "truck_weights.reverse()\n",
    "print(truck_weights)\n",
    "bridge_now = [0]*bridge_length\n",
    "\n",
    "while truck_weights:\n",
    "    truck_next = truck_weights[-1]\n",
    "    bridge_now.pop(0)\n",
    "    print(\"truck_next\",truck_next)\n",
    "    print(\"bridge_now\",bridge_now)\n",
    "    \n",
    "    if sum(bridge_now)+truck_next <= weight:\n",
    "        seconds+=1\n",
    "        bridge_now.append(truck_next)\n",
    "        truck_weights.pop()\n",
    "        print(\"bridge_now 트럭추가\",bridge_now)\n",
    "\n",
    "    else:\n",
    "        seconds += 1\n",
    "        bridge_now.append(0)\n",
    "        print(\"bridge_now 0추가\",bridge_now)\n",
    "\n",
    "seconds+=len(bridge_now)\n",
    "\n",
    "seconds"
   ]
  },
  {
   "cell_type": "code",
   "execution_count": null,
   "metadata": {},
   "outputs": [],
   "source": [
    "def solution(bridge_length, weight, truck_weights):\n",
    "    answer = 0\n",
    "    return answer"
   ]
  },
  {
   "cell_type": "code",
   "execution_count": null,
   "metadata": {},
   "outputs": [],
   "source": []
  },
  {
   "cell_type": "code",
   "execution_count": 11,
   "metadata": {},
   "outputs": [
    {
     "name": "stdout",
     "output_type": "stream",
     "text": [
      "Wall time: 0 ns\n"
     ]
    },
    {
     "data": {
      "text/plain": [
       "[0, 0, 0]"
      ]
     },
     "execution_count": 11,
     "metadata": {},
     "output_type": "execute_result"
    }
   ],
   "source": [
    "%%time\n",
    "bridge_now = [0 for i in range(bridge_length)]\n",
    "bridge_now"
   ]
  },
  {
   "cell_type": "code",
   "execution_count": 12,
   "metadata": {},
   "outputs": [
    {
     "name": "stdout",
     "output_type": "stream",
     "text": [
      "Wall time: 0 ns\n"
     ]
    },
    {
     "data": {
      "text/plain": [
       "[0, 0, 0]"
      ]
     },
     "execution_count": 12,
     "metadata": {},
     "output_type": "execute_result"
    }
   ],
   "source": [
    "%%time\n",
    "bridge_now = [0]*bridge_length\n",
    "bridge_now"
   ]
  }
 ],
 "metadata": {
  "kernelspec": {
   "display_name": "Python 3",
   "language": "python",
   "name": "python3"
  },
  "language_info": {
   "codemirror_mode": {
    "name": "ipython",
    "version": 3
   },
   "file_extension": ".py",
   "mimetype": "text/x-python",
   "name": "python",
   "nbconvert_exporter": "python",
   "pygments_lexer": "ipython3",
   "version": "3.7.4"
  }
 },
 "nbformat": 4,
 "nbformat_minor": 2
}
