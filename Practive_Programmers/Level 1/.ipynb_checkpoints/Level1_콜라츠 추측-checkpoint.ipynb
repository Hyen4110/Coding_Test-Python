{
 "cells": [
  {
   "cell_type": "markdown",
   "metadata": {},
   "source": [
    "#### 문제 설명\n",
    "- 1937년 Collatz란 사람에 의해 제기된 이 추측은, 주어진 수가 1이 될때까지 다음 작업을 반복하면, 모든 수를 1로 만들 수 있다는 추측입니다. 작업은 다음과 같습니다.\n",
    "\n",
    "    - 1-1. 입력된 수가 짝수라면 2로 나눕니다. \n",
    "    - 1-2. 입력된 수가 홀수라면 3을 곱하고 1을 더합니다.\n",
    "    - 2. 결과로 나온 수에 같은 작업을 1이 될 때까지 반복합니다.\n",
    "    \n",
    "    \n",
    "- 예를 들어, 입력된 수가 6이라면 6→3→10→5→16→8→4→2→1 이 되어 총 8번 만에 1이 됩니다.\n",
    "- 위 작업을 몇 번이나 반복해야하는지 반환하는 함수, solution을 완성해 주세요. \n",
    "- 단, 작업을 500번을 반복해도 1이 되지 않는다면 –1을 반환해 주세요.\n",
    "\n",
    "#### 제한 사항\n",
    "- 입력된 수, num은 1 이상 8000000 미만인 정수입니다."
   ]
  },
  {
   "cell_type": "code",
   "execution_count": 3,
   "metadata": {},
   "outputs": [
    {
     "data": {
      "text/plain": [
       "1.0"
      ]
     },
     "execution_count": 3,
     "metadata": {},
     "output_type": "execute_result"
    }
   ],
   "source": [
    "num =2\n",
    "num/=2\n",
    "num"
   ]
  },
  {
   "cell_type": "code",
   "execution_count": null,
   "metadata": {},
   "outputs": [],
   "source": [
    "# 정확성  테스트\n",
    "# 테스트 1 〉\t통과 (0.04ms, 10.2MB)\n",
    "# 테스트 2 〉\t통과 (0.05ms, 10.1MB)\n",
    "# 테스트 3 〉\t통과 (0.05ms, 10.2MB)\n",
    "# 테스트 4 〉\t통과 (0.03ms, 10.1MB)\n",
    "# 테스트 5 〉\t통과 (0.14ms, 10.2MB)\n",
    "# 테스트 6 〉\t통과 (0.03ms, 10.2MB)\n",
    "# 테스트 7 〉\t통과 (0.13ms, 10.3MB)\n",
    "# 테스트 8 〉\t통과 (0.03ms, 10.2MB)\n",
    "# 테스트 9 〉\t통과 (0.02ms, 10.1MB)\n",
    "# 테스트 10 〉\t통과 (0.13ms, 10.2MB)\n",
    "# 테스트 11 〉\t통과 (0.14ms, 10.2MB)\n",
    "# 테스트 12 〉\t통과 (0.02ms, 10.2MB)\n",
    "# 테스트 13 〉\t통과 (0.00ms, 10MB)\n",
    "# 테스트 14 〉\t통과 (0.04ms, 10.3MB)\n",
    "# 테스트 15 〉\t통과 (0.03ms, 10.2MB)\n",
    "# 테스트 16 〉\t통과 (0.03ms, 10.2MB)"
   ]
  },
  {
   "cell_type": "code",
   "execution_count": 7,
   "metadata": {},
   "outputs": [
    {
     "data": {
      "text/plain": [
       "8"
      ]
     },
     "execution_count": 7,
     "metadata": {},
     "output_type": "execute_result"
    }
   ],
   "source": [
    "def solution(num):\n",
    "    count=0\n",
    "    if n==1:\n",
    "        return 0\n",
    "    while count<=500:\n",
    "        count+=1\n",
    "        if num%2==0:\n",
    "            num = int(num/2)\n",
    "        else:\n",
    "            num = 3*num+1\n",
    "        if num==1:\n",
    "            return count\n",
    "    \n",
    "    return -1\n",
    "\n",
    "solution(6) #8\n",
    "# solution(16) #4\n",
    "# solution(626331) #-1\n"
   ]
  }
 ],
 "metadata": {
  "kernelspec": {
   "display_name": "Python 3",
   "language": "python",
   "name": "python3"
  },
  "language_info": {
   "codemirror_mode": {
    "name": "ipython",
    "version": 3
   },
   "file_extension": ".py",
   "mimetype": "text/x-python",
   "name": "python",
   "nbconvert_exporter": "python",
   "pygments_lexer": "ipython3",
   "version": "3.7.4"
  }
 },
 "nbformat": 4,
 "nbformat_minor": 2
}
