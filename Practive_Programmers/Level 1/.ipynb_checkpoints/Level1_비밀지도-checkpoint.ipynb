{
 "cells": [
  {
   "cell_type": "markdown",
   "metadata": {},
   "source": [
    "#### 문제 설명\n",
    "- 네오는 평소 프로도가 비상금을 숨겨놓는 장소를 알려줄 비밀지도를 손에 넣었다. 그런데 이 비밀지도는 숫자로 암호화되어 있어 위치를 확인하기 위해서는 암호를 해독해야 한다. 다행히 지도 암호를 해독할 방법을 적어놓은 메모도 함께 발견했다.\n",
    "\n",
    "- 지도는 한 변의 길이가 n인 정사각형 배열 형태로, 각 칸은 \"공백\"(\" \") 또는 \"벽\"(\"#\") 두 종류로 이루어져 있다.\n",
    "- 전체 지도는 두 장의 지도를 겹쳐서 얻을 수 있다. 각각 \"지도 1\"과 \"지도 2\"라고 하자. 지도 1 또는 지도 2 중 어느 하나라도 벽인 부분은 전체 지도에서도 벽이다. 지도 1과 지도 2에서 모두 공백인 부분은 전체 지도에서도 공백이다.\n",
    "- \"지도 1\"과 \"지도 2\"는 각각 정수 배열로 암호화되어 있다.\n",
    "- 암호화된 배열은 지도의 각 가로줄에서 벽 부분을 1, 공백 부분을 0으로 부호화했을 때 얻어지는 이진수에 해당하는 값의 배열이다.\n",
    "\n",
    "-> 네오가 프로도의 비상금을 손에 넣을 수 있도록, 비밀지도의 암호를 해독하는 작업을 도와줄 프로그램을 작성하라.\n",
    "\n",
    "#### 입력 형식\n",
    "- 입력으로 지도의 한 변 크기 n 과 2개의 정수 배열 arr1, arr2가 들어온다.\n",
    "\n",
    "- 1 ≦ n ≦ 16\n",
    "- arr1, arr2는 길이 n인 정수 배열로 주어진다.\n",
    "- 정수 배열의 각 원소 x를 이진수로 변환했을 때의 길이는 n 이하이다. 즉, 0 ≦ x ≦ 2n - 1을 만족한다."
   ]
  },
  {
   "cell_type": "markdown",
   "metadata": {},
   "source": [
    "### 풀이 계획\n",
    "1) 배열을 이진수로 바꾼다\n",
    "\n",
    "2) 이진수를 넘파이를 사용한 조건식으로 답을 구한다"
   ]
  },
  {
   "cell_type": "markdown",
   "metadata": {},
   "source": [
    "### 0을 예외처리를 잘못해서 못풀었던것으로!"
   ]
  },
  {
   "cell_type": "code",
   "execution_count": 72,
   "metadata": {},
   "outputs": [
    {
     "name": "stdout",
     "output_type": "stream",
     "text": [
      "00aaa\n",
      "aaa00\n",
      "002\n"
     ]
    }
   ],
   "source": [
    "# https://www.crocus.co.kr/1660\n",
    "print(\"aaa\".rjust(5,\"0\")) #오른쪽 정렬\n",
    "print(\"aaa\".ljust(5,\"0\")) #왼쪽 정렬\n",
    "print(\"2\".zfill(3)) #왼쪽에 0을 채워줌"
   ]
  },
  {
   "cell_type": "code",
   "execution_count": 69,
   "metadata": {},
   "outputs": [
    {
     "data": {
      "text/plain": [
       "101"
      ]
     },
     "execution_count": 69,
     "metadata": {},
     "output_type": "execute_result"
    }
   ],
   "source": [
    "100|1"
   ]
  },
  {
   "cell_type": "code",
   "execution_count": 60,
   "metadata": {},
   "outputs": [
    {
     "data": {
      "text/plain": [
       "'0b1010'"
      ]
     },
     "execution_count": 60,
     "metadata": {},
     "output_type": "execute_result"
    }
   ],
   "source": [
    "bin(10)"
   ]
  },
  {
   "cell_type": "code",
   "execution_count": null,
   "metadata": {},
   "outputs": [],
   "source": [
    "# 정확성  테스트\n",
    "# 테스트 1 〉\t통과 (0.30ms, 27MB)\n",
    "# 테스트 2 〉\t통과 (0.82ms, 27.6MB)\n",
    "# 테스트 3 〉\t통과 (3.38ms, 27.6MB)\n",
    "# 테스트 4 〉\t통과 (0.34ms, 28MB)\n",
    "# 테스트 5 〉\t통과 (0.22ms, 27.9MB)\n",
    "# 테스트 6 〉\t통과 (0.48ms, 27.6MB)\n",
    "# 테스트 7 〉\t통과 (0.18ms, 27.7MB)\n",
    "# 테스트 8 〉\t통과 (1.43ms, 27.7MB)\n",
    "# 채점 결과"
   ]
  },
  {
   "cell_type": "code",
   "execution_count": 57,
   "metadata": {},
   "outputs": [],
   "source": [
    "import math\n",
    "import numpy as np\n",
    "\n",
    "def solution(n, arr1, arr2):\n",
    "    \n",
    "    def to_binary_num(num_10):\n",
    "        if num_10 ==0:\n",
    "            return 1,['0']\n",
    "        digits=math.floor(math.log2(num_10))\n",
    "        num_2_str = \"\"\n",
    "\n",
    "        for i in range(digits,-1,-1):\n",
    "            if num_10>=2**i:\n",
    "                num_10-=2**i\n",
    "                num_2_str+=str(1)\n",
    "            else:\n",
    "                num_2_str+=str(0)\n",
    "        num2_list = list(num_2_str)\n",
    "        num2_len = len(num2_list)     \n",
    "        return num2_len, num2_list\n",
    "\n",
    "    def arr_to_map(arr):\n",
    "        arr1 = arr\n",
    "        arr1_num2 = [to_binary_num(x)[1] for x in arr1]\n",
    "        arr1_len = max([to_binary_num(x)[0] for x in arr1])\n",
    "        for i in range(len(arr1_num2)):\n",
    "            if len(arr1_num2[i])<arr1_len:\n",
    "                arr1_num2[i] = ['0']*(arr1_len-len(arr1_num2[i]))+arr1_num2[i]\n",
    "            arr1_num2[i] = [int(x) for x in arr1_num2[i]]\n",
    "        return arr1_num2\n",
    "    \n",
    "    arr1_map = np.array(arr_to_map(arr1))\n",
    "    arr2_map = np.array(arr_to_map(arr2))\n",
    "    \n",
    "    total_map = arr1_map+arr2_map\n",
    "    total_map = np.where(total_map>=1,\"#\",\" \")\n",
    "    \n",
    "    answer = [ \"\".join(x) for x in total_map]\n",
    "    return answer\n"
   ]
  },
  {
   "cell_type": "markdown",
   "metadata": {},
   "source": [
    "### 런타임 에러가 났다. 어디선가 예외처리를 해야하는 부분이 있나보다"
   ]
  },
  {
   "cell_type": "code",
   "execution_count": 4,
   "metadata": {},
   "outputs": [
    {
     "data": {
      "text/plain": [
       "[0, 0]"
      ]
     },
     "execution_count": 4,
     "metadata": {},
     "output_type": "execute_result"
    }
   ],
   "source": [
    "# 정확성  테스트\n",
    "# 테스트 1 〉\t실패 (런타임 에러)\n",
    "# 테스트 2 〉\t통과 (0.81ms, 27.9MB)\n",
    "# 테스트 3 〉\t실패 (런타임 에러)\n",
    "# 테스트 4 〉\t통과 (0.35ms, 28MB)\n",
    "# 테스트 5 〉\t통과 (2.32ms, 27.6MB)\n",
    "# 테스트 6 〉\t통과 (0.45ms, 27.7MB)\n",
    "# 테스트 7 〉\t통과 (0.18ms, 27.6MB)\n",
    "# 테스트 8 〉\t통과 (0.14ms, 27.5MB)"
   ]
  },
  {
   "cell_type": "code",
   "execution_count": 33,
   "metadata": {},
   "outputs": [
    {
     "name": "stdout",
     "output_type": "stream",
     "text": [
      "['1', '0', '0', '1']\n",
      "4\n",
      "['1', '0', '1', '0', '0']\n",
      "5\n",
      "['1', '1', '1', '0', '0']\n",
      "5\n",
      "['1', '0', '0', '1', '0']\n",
      "5\n",
      "['1', '0', '1', '1']\n",
      "4\n",
      "['1', '0', '0', '1']\n",
      "4\n",
      "['1', '0', '1', '0', '0']\n",
      "5\n",
      "['1', '1', '1', '0', '0']\n",
      "5\n",
      "['1', '0', '0', '1', '0']\n",
      "5\n",
      "['1', '0', '1', '1']\n",
      "4\n",
      "['1', '1', '1', '1', '0']\n",
      "5\n",
      "['1']\n",
      "1\n",
      "['1', '0', '1', '0', '1']\n",
      "5\n",
      "['1', '0', '0', '0', '1']\n",
      "5\n",
      "['1', '1', '1', '0', '0']\n",
      "5\n",
      "['1', '1', '1', '1', '0']\n",
      "5\n",
      "['1']\n",
      "1\n",
      "['1', '0', '1', '0', '1']\n",
      "5\n",
      "['1', '0', '0', '0', '1']\n",
      "5\n",
      "['1', '1', '1', '0', '0']\n",
      "5\n",
      "[[0 1 0 0 1]\n",
      " [1 0 1 0 0]\n",
      " [1 1 1 0 0]\n",
      " [1 0 0 1 0]\n",
      " [0 1 0 1 1]]\n",
      "[[1 1 1 1 0]\n",
      " [0 0 0 0 1]\n",
      " [1 0 1 0 1]\n",
      " [1 0 0 0 1]\n",
      " [1 1 1 0 0]]\n",
      "total_map [['#' '#' '#' '#' '#']\n",
      " ['#' ' ' '#' ' ' '#']\n",
      " ['#' '#' '#' ' ' '#']\n",
      " ['#' ' ' ' ' '#' '#']\n",
      " ['#' '#' '#' '#' '#']]\n"
     ]
    },
    {
     "data": {
      "text/plain": [
       "['#####', '# # #', '### #', '#  ##', '#####']"
      ]
     },
     "execution_count": 33,
     "metadata": {},
     "output_type": "execute_result"
    }
   ],
   "source": [
    "import math\n",
    "import numpy as np\n",
    "def solution(n, arr1, arr2):\n",
    "    \n",
    "    def to_binary_num(num_10):\n",
    "        digits=math.floor(math.log2(num_10))\n",
    "        num_2_str = \"\"\n",
    "\n",
    "        for i in range(digits,-1,-1):\n",
    "            if num_10>=2**i:\n",
    "                num_10-=2**i\n",
    "                num_2_str+=str(1)\n",
    "            else:\n",
    "                num_2_str+=str(0)\n",
    "        num2_list = list(num_2_str)\n",
    "        num2_len = len(num2_list)     \n",
    "        \n",
    "        print(num2_list)\n",
    "        print(num2_len)\n",
    "        return num2_len, num2_list\n",
    "\n",
    "    def arr_to_map(arr):\n",
    "        arr1 = arr\n",
    "        arr1_num2 = [to_binary_num(x)[1] for x in arr1]\n",
    "        arr1_len = max([to_binary_num(x)[0] for x in arr1])\n",
    "\n",
    "        for i in range(len(arr1_num2)):\n",
    "            if len(arr1_num2[i])<arr1_len:\n",
    "                arr1_num2[i] = ['0']*(arr1_len-len(arr1_num2[i]))+arr1_num2[i]\n",
    "            arr1_num2[i] = [int(x) for x in arr1_num2[i]]\n",
    "        return arr1_num2\n",
    "    \n",
    "    arr1_map = np.array(arr_to_map(arr1))\n",
    "    arr2_map = np.array(arr_to_map(arr2))\n",
    "    \n",
    "    total_map = arr1_map+arr2_map\n",
    "    total_map = np.where(total_map>=1,\"#\",\" \")\n",
    "    print(arr1_map)\n",
    "    print(arr2_map)\n",
    "    print(\"total_map\",total_map)\n",
    "    \n",
    "    answer = [ \"\".join(x) for x in total_map]\n",
    "    return answer\n",
    "\n",
    "solution(5, [9, 20, 28, 18, 11],[30, 1, 21, 17, 28]) \n",
    "#[\"#####\",\"# # #\", \"### #\", \"# ##\", \"#####\"]\n",
    "# solution(6, [46, 33, 33 ,22, 31, 50],[27 ,56, 19, 14, 14, 10]) \n",
    "#[\"######\", \"### #\", \"## ##\", \" #### \", \" #####\", \"### # \"]"
   ]
  }
 ],
 "metadata": {
  "kernelspec": {
   "display_name": "Python 3",
   "language": "python",
   "name": "python3"
  },
  "language_info": {
   "codemirror_mode": {
    "name": "ipython",
    "version": 3
   },
   "file_extension": ".py",
   "mimetype": "text/x-python",
   "name": "python",
   "nbconvert_exporter": "python",
   "pygments_lexer": "ipython3",
   "version": "3.7.4"
  }
 },
 "nbformat": 4,
 "nbformat_minor": 2
}
