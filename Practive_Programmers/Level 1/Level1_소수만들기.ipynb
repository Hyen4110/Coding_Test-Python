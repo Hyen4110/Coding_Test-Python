{
 "cells": [
  {
   "cell_type": "markdown",
   "metadata": {},
   "source": [
    "#### 문제 설명\n",
    "- 주어진 숫자 중 3개의 수를 더했을 때 소수가 되는 경우의 개수를 구하려고 합니다. \n",
    "- 숫자들이 들어있는 배열 nums가 매개변수로 주어질 때, nums에 있는 숫자들 중 서로 다른 3개를 골라 더했을 때 소수가 되는 경우의 개수를 return 하도록 solution 함수를 완성해주세요.\n",
    "\n",
    "#### 제한사항\n",
    "- nums에 들어있는 숫자의 개수는 3개 이상 50개 이하입니다.\n",
    "- nums의 각 원소는 1 이상 1,000 이하의 자연수이며, 중복된 숫자가 들어있지 않습니다."
   ]
  },
  {
   "cell_type": "markdown",
   "metadata": {},
   "source": [
    "### 의미 : itertools를 써보았다!"
   ]
  },
  {
   "cell_type": "code",
   "execution_count": 6,
   "metadata": {},
   "outputs": [
    {
     "name": "stdout",
     "output_type": "stream",
     "text": [
      "[(1, 2, 3), (1, 2, 4), (1, 3, 4), (2, 3, 4)]\n"
     ]
    },
    {
     "data": {
      "text/plain": [
       "[6, 7, 8, 9]"
      ]
     },
     "execution_count": 6,
     "metadata": {},
     "output_type": "execute_result"
    }
   ],
   "source": [
    "import itertools\n",
    "print(list(itertools.combinations([1,2,3,4], 3)))\n",
    "[a+b+c for a, b, c in list(itertools.combinations(sum(nums), 3))]"
   ]
  },
  {
   "cell_type": "code",
   "execution_count": null,
   "metadata": {},
   "outputs": [],
   "source": [
    "# 정확성  테스트\n",
    "# 테스트 1 〉\t통과 (3.50ms, 10.3MB)\n",
    "# 테스트 2 〉\t통과 (5.03ms, 10.4MB)\n",
    "# 테스트 3 〉\t통과 (3.27ms, 10.2MB)\n",
    "# 테스트 4 〉\t통과 (0.99ms, 10.2MB)\n",
    "# 테스트 5 〉\t통과 (5.42ms, 10.3MB)\n",
    "# 테스트 6 〉\t통과 (35.08ms, 10.6MB)\n",
    "# 테스트 7 〉\t통과 (1.60ms, 10.1MB)\n",
    "# 테스트 8 〉\t통과 (64.58ms, 11.4MB)\n",
    "# 테스트 9 〉\t통과 (6.42ms, 10.3MB)\n",
    "# 테스트 10 〉\t통과 (65.48ms, 11.3MB)\n",
    "# 테스트 11 〉\t통과 (0.22ms, 10.2MB)\n",
    "# 테스트 12 〉\t통과 (0.09ms, 10.2MB)\n",
    "# 테스트 13 〉\t통과 (0.21ms, 10.1MB)\n",
    "# 테스트 14 〉\t통과 (0.09ms, 10.2MB)\n",
    "# 테스트 15 〉\t통과 (0.09ms, 10.2MB)\n",
    "# 테스트 16 〉\t통과 (208.30ms, 11.7MB)\n",
    "# 테스트 17 〉\t통과 (5.48ms, 12.1MB)\n",
    "# 테스트 18 〉\t통과 (3.06ms, 10.2MB)\n",
    "# 테스트 19 〉\t통과 (0.39ms, 10.1MB)\n",
    "# 테스트 20 〉\t통과 (285.99ms, 12.3MB)\n",
    "# 테스트 21 〉\t통과 (247.56ms, 12.2MB)\n",
    "# 테스트 22 〉\t통과 (1.27ms, 10.3MB)\n",
    "# 테스트 23 〉\t통과 (0.01ms, 10.2MB)\n",
    "# 테스트 24 〉\t통과 (217.76ms, 11.6MB)\n",
    "# 테스트 25 〉\t통과 (218.08ms, 11.7MB)\n",
    "# 테스트 26 〉\t통과 (0.01ms, 10.1MB)"
   ]
  },
  {
   "cell_type": "code",
   "execution_count": null,
   "metadata": {},
   "outputs": [],
   "source": [
    "import itertools\n",
    "def solution(nums):\n",
    "    answer = 0\n",
    "    abc_sum = [a+b+c for a, b, c in list(itertools.combinations(set(nums), 3))]\n",
    "\n",
    "    for num in abc_sum:\n",
    "        count=2\n",
    "        while True:\n",
    "            if num%count==0:\n",
    "                break\n",
    "            else:\n",
    "                count+=1\n",
    "            if count==num:\n",
    "                answer+=1\n",
    "                break            \n",
    "    return answer\n",
    "\n",
    "# solution([1,2,3,4]) #1\n",
    "solution([1,2,7,6,4]) #4"
   ]
  },
  {
   "cell_type": "code",
   "execution_count": 11,
   "metadata": {},
   "outputs": [
    {
     "name": "stdout",
     "output_type": "stream",
     "text": [
      "[7, 9, 10, 11, 12, 14, 12, 13, 15, 17]\n"
     ]
    },
    {
     "data": {
      "text/plain": [
       "4"
      ]
     },
     "execution_count": 11,
     "metadata": {},
     "output_type": "execute_result"
    }
   ],
   "source": [
    "import itertools\n",
    "def solution(nums):\n",
    "    answer = 0\n",
    "    abc_sum = [a+b+c for a, b, c in list(itertools.combinations(set(nums), 3))]\n",
    "    print(abc_sum)\n",
    "    for num in abc_sum:\n",
    "        count=2\n",
    "        while True:\n",
    "            if num%count==0:\n",
    "                break\n",
    "            else:\n",
    "                count+=1\n",
    "            if count==num:\n",
    "                answer+=1\n",
    "                break\n",
    "            \n",
    "    return answer\n",
    "\n",
    "# solution([1,2,3,4]) #1\n",
    "solution([1,2,7,6,4]) #4"
   ]
  }
 ],
 "metadata": {
  "kernelspec": {
   "display_name": "Python 3",
   "language": "python",
   "name": "python3"
  },
  "language_info": {
   "codemirror_mode": {
    "name": "ipython",
    "version": 3
   },
   "file_extension": ".py",
   "mimetype": "text/x-python",
   "name": "python",
   "nbconvert_exporter": "python",
   "pygments_lexer": "ipython3",
   "version": "3.7.4"
  }
 },
 "nbformat": 4,
 "nbformat_minor": 2
}
