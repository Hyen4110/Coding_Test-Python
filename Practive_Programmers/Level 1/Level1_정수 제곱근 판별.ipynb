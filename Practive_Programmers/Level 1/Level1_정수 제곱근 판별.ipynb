{
 "cells": [
  {
   "cell_type": "markdown",
   "metadata": {},
   "source": [
    "#### 문제 설명\n",
    "- 임의의 양의 정수 n에 대해, n이 어떤 양의 정수 x의 제곱인지 아닌지 판단하려 합니다.\n",
    "- n이 양의 정수 x의 제곱이라면 x+1의 제곱을 리턴하고, n이 양의 정수 x의 제곱이 아니라면 -1을 리턴하는 함수를 완성하세요.\n",
    "\n",
    "#### 제한 사항\n",
    "- n은 1이상, 50000000000000 이하인 양의 정수입니다."
   ]
  },
  {
   "cell_type": "code",
   "execution_count": 18,
   "metadata": {},
   "outputs": [
    {
     "data": {
      "text/plain": [
       "[2, 3, 4]"
      ]
     },
     "execution_count": 18,
     "metadata": {},
     "output_type": "execute_result"
    }
   ],
   "source": [
    "list(range(2,5))"
   ]
  },
  {
   "cell_type": "code",
   "execution_count": null,
   "metadata": {},
   "outputs": [],
   "source": [
    "# 정확성  테스트\n",
    "# 테스트 1 〉\t통과 (760.56ms, 10.2MB)\n",
    "# 테스트 2 〉\t통과 (1375.25ms, 10.2MB)\n",
    "# 테스트 3 〉\t통과 (1577.00ms, 10.1MB)\n",
    "# 테스트 4 〉\t통과 (242.43ms, 10.2MB)\n",
    "# 테스트 5 〉\t통과 (4.98ms, 10.2MB)\n",
    "# 테스트 6 〉\t통과 (7.88ms, 10.1MB)\n",
    "# 테스트 7 〉\t통과 (10.71ms, 10.2MB)\n",
    "# 테스트 8 〉\t통과 (2.46ms, 10.2MB)\n",
    "# 테스트 9 〉\t통과 (4.51ms, 10.2MB)\n",
    "# 테스트 10 〉\t통과 (11.22ms, 10.2MB)\n",
    "# 테스트 11 〉\t통과 (16.27ms, 10.2MB)\n",
    "# 테스트 12 〉\t통과 (16.45ms, 10.3MB)\n",
    "# 테스트 13 〉\t통과 (17.91ms, 10.2MB)\n",
    "# 테스트 14 〉\t통과 (13.68ms, 10.2MB)\n",
    "# 테스트 15 〉\t통과 (3.85ms, 10.2MB)\n",
    "# 테스트 16 〉\t통과 (2.49ms, 10.2MB)\n",
    "# 테스트 17 〉\t통과 (0.01ms, 10.2MB)\n",
    "# 테스트 18 〉\t통과 (0.00ms, 10.2MB)"
   ]
  },
  {
   "cell_type": "code",
   "execution_count": 22,
   "metadata": {},
   "outputs": [
    {
     "data": {
      "text/plain": [
       "4"
      ]
     },
     "execution_count": 22,
     "metadata": {},
     "output_type": "execute_result"
    }
   ],
   "source": [
    "def solution(n):\n",
    "    if n in [2,3,5,7]:\n",
    "        return -1\n",
    "    elif n ==1:\n",
    "        return 4\n",
    "    for num in range(2,n):\n",
    "        if num**2==n:\n",
    "            return (num+1)**2\n",
    "        else:\n",
    "            pass\n",
    "    return -1\n",
    "    \n",
    "solution(1) "
   ]
  },
  {
   "cell_type": "code",
   "execution_count": null,
   "metadata": {},
   "outputs": [],
   "source": [
    "# 정확성  테스트\n",
    "# 테스트 1 〉\t통과 (759.36ms, 10.2MB)\n",
    "# 테스트 2 〉\t통과 (1376.85ms, 10.2MB)\n",
    "# 테스트 3 〉\t통과 (1570.97ms, 10.2MB)\n",
    "# 테스트 4 〉\t통과 (242.21ms, 10.3MB)\n",
    "# 테스트 5 〉\t통과 (6.73ms, 10.2MB)\n",
    "# 테스트 6 〉\t통과 (7.86ms, 10.2MB)\n",
    "# 테스트 7 〉\t통과 (11.24ms, 10.2MB)\n",
    "# 테스트 8 〉\t통과 (2.55ms, 10.1MB)\n",
    "# 테스트 9 〉\t통과 (4.57ms, 10.1MB)\n",
    "# 테스트 10 〉\t통과 (10.77ms, 10.3MB)\n",
    "# 테스트 11 〉\t통과 (16.25ms, 10.2MB)\n",
    "# 테스트 12 〉\t통과 (16.70ms, 10.2MB)\n",
    "# 테스트 13 〉\t통과 (17.86ms, 10.1MB)\n",
    "# 테스트 14 〉\t통과 (13.65ms, 10.1MB)\n",
    "# 테스트 15 〉\t통과 (4.09ms, 10.2MB)\n",
    "# 테스트 16 〉\t통과 (2.61ms, 10.2MB)\n",
    "# 테스트 17 〉\t통과 (0.01ms, 10.2MB)\n",
    "# 테스트 18 〉\t실패 (0.00ms, 10.2MB)"
   ]
  },
  {
   "cell_type": "code",
   "execution_count": 16,
   "metadata": {},
   "outputs": [
    {
     "data": {
      "text/plain": [
       "144"
      ]
     },
     "execution_count": 16,
     "metadata": {},
     "output_type": "execute_result"
    }
   ],
   "source": [
    "def solution(n):\n",
    "    if n in [1,2,3,5,7]:\n",
    "        return -1\n",
    "    for num in range(2,n):\n",
    "        if num**2==n:\n",
    "            return (num+1)**2\n",
    "        else:\n",
    "            pass\n",
    "    return -1\n",
    "    \n",
    "solution(121) #144\n",
    "# solution(3) #-1"
   ]
  },
  {
   "cell_type": "code",
   "execution_count": null,
   "metadata": {},
   "outputs": [],
   "source": [
    "# 정확성  테스트\n",
    "# 테스트 1 〉\t통과 (759.75ms, 10.2MB)\n",
    "# 테스트 2 〉\t통과 (1378.23ms, 10.2MB)\n",
    "# 테스트 3 〉\t통과 (1577.49ms, 10.2MB)\n",
    "# 테스트 4 〉\t통과 (243.52ms, 10.2MB)\n",
    "# 테스트 5 〉\t통과 (5.23ms, 10.2MB)\n",
    "# 테스트 6 〉\t통과 (7.87ms, 10.1MB)\n",
    "# 테스트 7 〉\t통과 (11.01ms, 10.2MB)\n",
    "# 테스트 8 〉\t통과 (2.49ms, 10.2MB)\n",
    "# 테스트 9 〉\t통과 (4.60ms, 10.2MB)\n",
    "# 테스트 10 〉\t통과 (11.10ms, 10.2MB)\n",
    "# 테스트 11 〉\t통과 (16.34ms, 10.2MB)\n",
    "# 테스트 12 〉\t통과 (16.66ms, 10.1MB)\n",
    "# 테스트 13 〉\t통과 (19.22ms, 10.2MB)\n",
    "# 테스트 14 〉\t통과 (13.78ms, 10.2MB)\n",
    "# 테스트 15 〉\t통과 (4.12ms, 10.1MB)\n",
    "# 테스트 16 〉\t통과 (2.69ms, 10.2MB)\n",
    "# 테스트 17 〉\t통과 (0.01ms, 10.1MB)\n",
    "# 테스트 18 〉\t실패 (0.00ms, 10.2MB)"
   ]
  },
  {
   "cell_type": "code",
   "execution_count": null,
   "metadata": {},
   "outputs": [],
   "source": [
    "def solution(n):\n",
    "    for num in range(2,n):\n",
    "        if num**2==n:\n",
    "            return (num+1)**2\n",
    "        else:\n",
    "            pass\n",
    "    return -1\n",
    "    \n",
    "solution(121) #144\n",
    "# solution(3) #-1"
   ]
  },
  {
   "cell_type": "code",
   "execution_count": 15,
   "metadata": {},
   "outputs": [
    {
     "name": "stdout",
     "output_type": "stream",
     "text": [
      "num:  2 /num**2: 4 / n: 121\n",
      "num:  3 /num**2: 9 / n: 121\n",
      "num:  4 /num**2: 16 / n: 121\n",
      "num:  5 /num**2: 25 / n: 121\n",
      "num:  6 /num**2: 36 / n: 121\n",
      "num:  7 /num**2: 49 / n: 121\n",
      "num:  8 /num**2: 64 / n: 121\n",
      "num:  9 /num**2: 81 / n: 121\n",
      "num:  10 /num**2: 100 / n: 121\n",
      "num:  11 /num**2: 121 / n: 121\n"
     ]
    },
    {
     "data": {
      "text/plain": [
       "144"
      ]
     },
     "execution_count": 15,
     "metadata": {},
     "output_type": "execute_result"
    }
   ],
   "source": [
    "def solution(n):\n",
    "    for num in range(2,n):\n",
    "        print(\"num: \",num, \"/num**2:\",num**2,\"/ n:\",n)\n",
    "        if num**2==n:\n",
    "            return (num+1)**2\n",
    "        else:\n",
    "            pass\n",
    "    return -1\n",
    "    \n",
    "solution(121) #144\n",
    "# solution(3) #-1"
   ]
  }
 ],
 "metadata": {
  "kernelspec": {
   "display_name": "Python 3",
   "language": "python",
   "name": "python3"
  },
  "language_info": {
   "codemirror_mode": {
    "name": "ipython",
    "version": 3
   },
   "file_extension": ".py",
   "mimetype": "text/x-python",
   "name": "python",
   "nbconvert_exporter": "python",
   "pygments_lexer": "ipython3",
   "version": "3.7.4"
  }
 },
 "nbformat": 4,
 "nbformat_minor": 2
}
