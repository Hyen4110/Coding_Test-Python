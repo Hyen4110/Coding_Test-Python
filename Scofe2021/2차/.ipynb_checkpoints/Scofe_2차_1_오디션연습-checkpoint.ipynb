{
 "cells": [
  {
   "cell_type": "markdown",
   "metadata": {},
   "source": [
    "### 규칙 주의 \n",
    "\n",
    "1. 곡은 순서대로 진행한다.\n",
    "\n",
    "2. 음악을 1초라도 들었다면, 들은 것으로 간주한다. \n",
    "\n",
    "3. answer = 연습가능한 최대 곡수, play 시작 곡"
   ]
  },
  {
   "cell_type": "code",
   "execution_count": 30,
   "metadata": {},
   "outputs": [
    {
     "name": "stdout",
     "output_type": "stream",
     "text": [
      "7 00:05:48\n",
      "02:14\n",
      "03:34\n",
      "02:34\n",
      "03:45\n",
      "05:43\n",
      "01:34\n",
      "02:33\n",
      "3 1\n"
     ]
    }
   ],
   "source": [
    "trials, pract_time_str = input().split()#재생곡 수\n",
    "trials = int(trials)\n",
    "pract_time_str = pract_time_str.split(\":\") #총 연습가능 시간\n",
    "total_prac_seconds = int(pract_time_str[0])*3600+int(pract_time_str[1])*60+int(pract_time_str[2]) #seconds 합계\n",
    "\n",
    "play_list =[]\n",
    "while trials>0:\n",
    "    play_time = input().split(\":\")\n",
    "    play_list.append(int(play_time[0])*60+int(play_time[1]))\n",
    "    trials-=1\n",
    "    \n",
    "answer =[]\n",
    "\n",
    "\n",
    "for i in range(len(play_list)):\n",
    "    cumsum_time = 0\n",
    "    play_count=0\n",
    "    for j in range(i,len(play_list)):\n",
    "        cumsum_time+=play_list[j]\n",
    "        play_count+=1\n",
    "\n",
    "        if (j==len(play_list)-1) or cumsum_time>=total_prac_seconds:\n",
    "            answer.append([play_count,i+1])\n",
    "            break\n",
    "\n",
    "answer.sort(key = lambda x:-x[0])\n",
    "print(str(answer[0][0])+\" \"+str(answer[0][1]))"
   ]
  },
  {
   "cell_type": "code",
   "execution_count": 31,
   "metadata": {},
   "outputs": [
    {
     "name": "stdout",
     "output_type": "stream",
     "text": [
      "[134, 214, 154, 225, 343, 94, 153]\n",
      "348\n"
     ]
    }
   ],
   "source": [
    "print(play_list)\n",
    "print(total_prac_seconds)"
   ]
  },
  {
   "cell_type": "code",
   "execution_count": 29,
   "metadata": {},
   "outputs": [
    {
     "name": "stdout",
     "output_type": "stream",
     "text": [
      "3 1\n"
     ]
    }
   ],
   "source": [
    "answer =[]\n",
    "\n",
    "\n",
    "for i in range(len(play_list)):\n",
    "    cumsum_time = 0\n",
    "    play_count=0\n",
    "    for j in range(i,len(play_list)):\n",
    "        cumsum_time+=play_list[j]\n",
    "        play_count+=1\n",
    "\n",
    "        if (j==len(play_list)-1) or cumsum_time>=total_prac_seconds:\n",
    "            answer.append([play_count,i+1])\n",
    "            break\n",
    "\n",
    "answer.sort(key = lambda x:-x[0])\n",
    "print(str(answer[0][0])+\" \"+str(answer[0][1]))"
   ]
  },
  {
   "cell_type": "code",
   "execution_count": 7,
   "metadata": {},
   "outputs": [
    {
     "data": {
      "text/plain": [
       "348"
      ]
     },
     "execution_count": 7,
     "metadata": {},
     "output_type": "execute_result"
    }
   ],
   "source": [
    "total_prac_seconds"
   ]
  },
  {
   "cell_type": "code",
   "execution_count": 5,
   "metadata": {
    "scrolled": true
   },
   "outputs": [
    {
     "name": "stdout",
     "output_type": "stream",
     "text": [
      "01:01:01\n",
      "3661\n"
     ]
    }
   ],
   "source": [
    "pract_time_str = input().split(\":\")\n",
    "pract_time = int(pract_time_str[0])*3600+int(pract_time_str[1])*60+int(pract_time_str[2])\n",
    "print(pract_time)"
   ]
  },
  {
   "cell_type": "code",
   "execution_count": 3,
   "metadata": {},
   "outputs": [
    {
     "name": "stdout",
     "output_type": "stream",
     "text": [
      "01:00\n",
      "01:01\n",
      "01:02\n",
      "[60, 61, 62]\n"
     ]
    }
   ],
   "source": [
    "trials=3\n",
    "play_list =[]\n",
    "while trials>0:\n",
    "    play_time = input().split(\":\")\n",
    "    play_list.append(int(play_time[0])*60+int(play_time[1]))\n",
    "    trials-=1\n",
    "    \n",
    "print(play_list)"
   ]
  }
 ],
 "metadata": {
  "kernelspec": {
   "display_name": "Python 3",
   "language": "python",
   "name": "python3"
  },
  "language_info": {
   "codemirror_mode": {
    "name": "ipython",
    "version": 3
   },
   "file_extension": ".py",
   "mimetype": "text/x-python",
   "name": "python",
   "nbconvert_exporter": "python",
   "pygments_lexer": "ipython3",
   "version": "3.7.4"
  }
 },
 "nbformat": 4,
 "nbformat_minor": 2
}
