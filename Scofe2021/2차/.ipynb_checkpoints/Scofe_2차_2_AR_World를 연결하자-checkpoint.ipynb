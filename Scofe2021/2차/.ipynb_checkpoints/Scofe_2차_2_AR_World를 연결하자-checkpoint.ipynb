{
 "cells": [
  {
   "cell_type": "code",
   "execution_count": null,
   "metadata": {},
   "outputs": [],
   "source": [
    "# 6\n",
    "# seoul beijing 3\n",
    "# beijing hawaii 10\n",
    "# seoul tokyo 4\n",
    "# seoul hawaii 6\n",
    "# tokyo hawaii 5\n",
    "# beijing tokyo 5\n",
    "\n",
    "1\n",
    "a b 1\n",
    "b c 1\n",
    "a c 2"
   ]
  },
  {
   "cell_type": "code",
   "execution_count": null,
   "metadata": {},
   "outputs": [],
   "source": []
  },
  {
   "cell_type": "code",
   "execution_count": 69,
   "metadata": {},
   "outputs": [
    {
     "name": "stdout",
     "output_type": "stream",
     "text": [
      "5\n",
      "0 1 1\n",
      "0 2 2\n",
      "1 2 5\n",
      "1 3 1\n",
      "2 3 8\n",
      "4\n"
     ]
    }
   ],
   "source": [
    "trials = int(input())\n",
    "city_count = int(trials)\n",
    "\n",
    "cost =[]\n",
    "node_cost ={}\n",
    "\n",
    "while trials>0:\n",
    "    x = list(input().split())\n",
    "    node_cost[(x[0],x[1])]= int(x[2])\n",
    "    trials-=1\n",
    "    \n",
    "city_name_list = []\n",
    "for i in list(node_cost.keys()):\n",
    "    city_name_list.extend(i)\n",
    "city_count = len(set(city_name_list))\n",
    "\n",
    "node_cost_copy = node_cost.copy()\n",
    "node_list = list(node_cost.keys())\n",
    "answer = []\n",
    "\n",
    "#초기값은 모든 node 하나씩 시작\n",
    "for start_node in node_list:\n",
    "    node_cost = node_cost_copy.copy()\n",
    "    cost_way = list(node_cost.keys())\n",
    "    \n",
    "    total_cost= node_cost[start_node] #초기 비용 = 1번 노드 비용\n",
    "    word_linked=list(start_node) #초기 연결 = 1번 노드 도시\n",
    "    \n",
    "    cost_way.remove(start_node)\n",
    "    del node_cost[start_node]\n",
    "    \n",
    "    while len(word_linked)!=city_count:\n",
    "        candidate_ways =[]\n",
    "        for i in word_linked:\n",
    "            candidate_ways.extend(list(filter(lambda x: i in x, cost_way)))\n",
    "            \n",
    "        min_way = min(candidate_ways, key = lambda x: node_cost[x])\n",
    "        if set(min_way).intersection(set(word_linked))!=set(min_way):            \n",
    "            word_linked.extend(list(min_way))\n",
    "            word_linked = list(set(word_linked))\n",
    "            total_cost+= node_cost[min_way]\n",
    "\n",
    "        del node_cost[min_way]\n",
    "        cost_way.remove(min_way)\n",
    "    answer.append(total_cost)\n",
    "    \n",
    "print(min(answer))"
   ]
  },
  {
   "cell_type": "code",
   "execution_count": null,
   "metadata": {},
   "outputs": [],
   "source": [
    "[[0,1,1],[0,2,2],[1,2,5],[1,3,1],[2,3,8]]"
   ]
  },
  {
   "cell_type": "code",
   "execution_count": 65,
   "metadata": {},
   "outputs": [
    {
     "data": {
      "text/plain": [
       "{('a', 'b'): 2, ('b', 'e'): 1, ('c', 'd'): 1, ('b', 'd'): 1}"
      ]
     },
     "execution_count": 65,
     "metadata": {},
     "output_type": "execute_result"
    }
   ],
   "source": [
    "node_cost_copy"
   ]
  },
  {
   "cell_type": "code",
   "execution_count": 34,
   "metadata": {},
   "outputs": [],
   "source": [
    "node_cost = node_cost_copy.copy()"
   ]
  },
  {
   "cell_type": "code",
   "execution_count": 30,
   "metadata": {},
   "outputs": [
    {
     "data": {
      "text/plain": [
       "6"
      ]
     },
     "execution_count": 30,
     "metadata": {},
     "output_type": "execute_result"
    }
   ],
   "source": [
    "city_count"
   ]
  },
  {
   "cell_type": "code",
   "execution_count": 58,
   "metadata": {},
   "outputs": [
    {
     "name": "stdout",
     "output_type": "stream",
     "text": [
      "min_way삭제:  ('seoul', 'tokyo')\n",
      "word_linked ['seoul', 'tokyo', 'beijing']\n",
      "min_way삭제:  ('tokyo', 'hawaii')\n",
      "word_linked ['seoul', 'tokyo', 'hawaii', 'beijing']\n",
      "[12]\n",
      "min_way삭제:  ('seoul', 'beijing')\n",
      "word_linked ['seoul', 'hawaii', 'beijing']\n",
      "min_way삭제:  ('seoul', 'tokyo')\n",
      "word_linked ['seoul', 'tokyo', 'hawaii', 'beijing']\n",
      "[12, 17]\n",
      "min_way삭제:  ('seoul', 'beijing')\n",
      "word_linked ['seoul', 'tokyo', 'beijing']\n",
      "min_way삭제:  ('tokyo', 'hawaii')\n",
      "word_linked ['seoul', 'tokyo', 'hawaii', 'beijing']\n",
      "[12, 17, 12]\n",
      "min_way삭제:  ('seoul', 'beijing')\n",
      "word_linked ['seoul', 'hawaii', 'beijing']\n",
      "min_way삭제:  ('seoul', 'tokyo')\n",
      "word_linked ['seoul', 'tokyo', 'hawaii', 'beijing']\n",
      "[12, 17, 12, 13]\n",
      "min_way삭제:  ('seoul', 'tokyo')\n",
      "word_linked ['seoul', 'hawaii', 'tokyo']\n",
      "min_way삭제:  ('seoul', 'beijing')\n",
      "word_linked ['seoul', 'tokyo', 'hawaii', 'beijing']\n",
      "[12, 17, 12, 13, 12]\n",
      "min_way삭제:  ('seoul', 'beijing')\n",
      "word_linked ['seoul', 'tokyo', 'beijing']\n",
      "min_way삭제:  ('seoul', 'tokyo')\n",
      "word_linked ['seoul', 'tokyo', 'beijing']\n",
      "min_way삭제:  ('tokyo', 'hawaii')\n",
      "word_linked ['seoul', 'tokyo', 'hawaii', 'beijing']\n",
      "[12, 17, 12, 13, 12, 13]\n"
     ]
    },
    {
     "data": {
      "text/plain": [
       "12"
      ]
     },
     "execution_count": 58,
     "metadata": {},
     "output_type": "execute_result"
    }
   ],
   "source": [
    "answer = []\n",
    "\n",
    "#초기값은 모든 node 하나씩 시작\n",
    "for start_node in node_list:\n",
    "    node_cost = node_cost_copy.copy()\n",
    "    cost_way = list(node_cost.keys())\n",
    "    \n",
    "    total_cost= node_cost[start_node] #초기 비용 = 1번 노드 비용\n",
    "    word_linked=list(start_node) #초기 연결 = 1번 노드 도시\n",
    "    cost_way.remove(start_node)\n",
    "    del node_cost[start_node]\n",
    "    \n",
    "    while len(word_linked)!=city_count:\n",
    "        candidate_ways =[]\n",
    "        for i in word_linked:\n",
    "            candidate_ways.extend(list(filter(lambda x: i in x, cost_way)))\n",
    "            \n",
    "        min_way = min(candidate_ways, key = lambda x: node_cost[x])\n",
    "        if set(min_way).intersection(set(word_linked))!=set(min_way):            \n",
    "            word_linked.extend(list(min_way))\n",
    "            word_linked = list(set(word_linked))\n",
    "            total_cost+= node_cost[min_way]\n",
    "        print(\"min_way삭제: \", min_way)\n",
    "        print(\"word_linked\",word_linked)\n",
    "        del node_cost[min_way]\n",
    "        cost_way.remove(min_way)\n",
    "    answer.append(total_cost)\n",
    "    \n",
    "    print(answer)\n",
    "min(answer)"
   ]
  },
  {
   "cell_type": "code",
   "execution_count": 29,
   "metadata": {},
   "outputs": [
    {
     "data": {
      "text/plain": [
       "[]"
      ]
     },
     "execution_count": 29,
     "metadata": {},
     "output_type": "execute_result"
    }
   ],
   "source": [
    "answer"
   ]
  },
  {
   "cell_type": "code",
   "execution_count": 25,
   "metadata": {},
   "outputs": [
    {
     "data": {
      "text/plain": [
       "dict_keys([('beijing', 'hawaii'), ('seoul', 'tokyo'), ('seoul', 'hawaii'), ('tokyo', 'hawaii'), ('beijing', 'tokyo')])"
      ]
     },
     "execution_count": 25,
     "metadata": {},
     "output_type": "execute_result"
    }
   ],
   "source": [
    "node_cost.keys()"
   ]
  },
  {
   "cell_type": "markdown",
   "metadata": {},
   "source": [
    "## 프로그래머스 통과했떤것 변수값만 변경"
   ]
  },
  {
   "cell_type": "code",
   "execution_count": 5,
   "metadata": {
    "scrolled": true
   },
   "outputs": [
    {
     "name": "stdout",
     "output_type": "stream",
     "text": [
      "6\n",
      "seoul beijing 3\n",
      "beijing hawaii 10\n",
      "seoul tokyo 4\n",
      "seoul hawaii 6\n",
      "tokyo hawaii 5\n",
      "beijing tokyo 5\n",
      "[12, 17, 12, 13, 12, 13]\n",
      "12\n"
     ]
    }
   ],
   "source": [
    "trials = int(input())\n",
    "city_count = int(trials)\n",
    "\n",
    "cost =[]\n",
    "node_cost ={}\n",
    "costs = []\n",
    "while trials>0:\n",
    "    x = list(input().split())\n",
    "    node_cost[(x[0],x[1])]= int(x[2])\n",
    "    costs.append([x[0],x[1],int(x[2])])\n",
    "    trials-=1\n",
    "    \n",
    "city_name_list = []\n",
    "for i in list(node_cost.keys()):\n",
    "    city_name_list.extend(i)\n",
    "n= len(set(city_name_list))\n",
    "\n",
    "answer = []\n",
    "cost_way = [tuple(x[:2]) for x in costs] #경로 정보 init\n",
    "\n",
    "\n",
    "for start_way in cost_way:\n",
    "    cost_way = [tuple(x[:2]) for x in costs]\n",
    "    way_cost_dict = {tuple(x[:2]):x[2] for x in costs}\n",
    "    cost_way.remove(start_way)\n",
    "    connected_group  = list(start_way)\n",
    "    total_cost=way_cost_dict[start_way]\n",
    "    del way_cost_dict[start_way]\n",
    "\n",
    "    while len(connected_group)!=n:\n",
    "        candidate_ways =[]\n",
    "        for i in connected_group:\n",
    "            candidate_ways.extend(list(filter(lambda x: i in x, cost_way)))\n",
    "        min_way = min(candidate_ways, key = lambda x: way_cost_dict[x])\n",
    "        if set(min_way).intersection(set(connected_group))!=set(min_way):            \n",
    "            connected_group.extend(list(min_way))\n",
    "            connected_group = list(set(connected_group))\n",
    "            total_cost+= way_cost_dict[min_way]\n",
    "        del way_cost_dict[min_way]\n",
    "        cost_way.remove(min_way)\n",
    "    answer.append(total_cost)\n",
    "print(answer)\n",
    "print(min(answer))"
   ]
  },
  {
   "cell_type": "markdown",
   "metadata": {},
   "source": [
    "###### costs"
   ]
  },
  {
   "cell_type": "code",
   "execution_count": null,
   "metadata": {},
   "outputs": [],
   "source": [
    "# 6\n",
    "# seoul beijing 3\n",
    "# beijing hawaii 10\n",
    "# seoul tokyo 4\n",
    "# seoul hawaii 6\n",
    "# tokyo hawaii 5\n",
    "# beijing tokyo 5\n",
    "\n",
    "1\n",
    "a b 1\n",
    "b c 1\n",
    "a c 2"
   ]
  },
  {
   "cell_type": "code",
   "execution_count": 4,
   "metadata": {},
   "outputs": [
    {
     "data": {
      "text/plain": [
       "[<generator object <genexpr> at 0x00000255572C2EC8>,\n",
       " <generator object <genexpr> at 0x00000255572C2E48>,\n",
       " <generator object <genexpr> at 0x00000255572C2F48>,\n",
       " <generator object <genexpr> at 0x00000255572C2B48>,\n",
       " <generator object <genexpr> at 0x00000255572FE048>,\n",
       " <generator object <genexpr> at 0x00000255572FE148>]"
      ]
     },
     "execution_count": 4,
     "metadata": {},
     "output_type": "execute_result"
    }
   ],
   "source": [
    "answer = []\n",
    "\n",
    "costs = \n",
    "cost_way = [tuple(x[:2]) for x in costs] #경로 정보 init\n",
    "\n",
    "\n",
    "for start_way in cost_way:\n",
    "    cost_way = [tuple(x[:2]) for x in costs]\n",
    "    way_cost_dict = {tuple(x[:2]):x[2] for x in costs}\n",
    "    cost_way.remove(start_way)\n",
    "    connected_group  = list(start_way)\n",
    "    total_cost=way_cost_dict[start_way]\n",
    "    del way_cost_dict[start_way]\n",
    "\n",
    "    while len(connected_group)!=n:\n",
    "        candidate_ways =[]\n",
    "        for i in connected_group:\n",
    "            candidate_ways.extend(list(filter(lambda x: i in x, cost_way)))\n",
    "        min_way = min(candidate_ways, key = lambda x: way_cost_dict[x])\n",
    "        if set(min_way).intersection(set(connected_group))!=set(min_way):            \n",
    "            connected_group.extend(list(min_way))\n",
    "            connected_group = list(set(connected_group))\n",
    "            total_cost+= way_cost_dict[min_way]\n",
    "        del way_cost_dict[min_way]\n",
    "        cost_way.remove(min_way)\n",
    "    answer.append(total_cost)\n",
    "print(min(answer))"
   ]
  }
 ],
 "metadata": {
  "kernelspec": {
   "display_name": "Python 3",
   "language": "python",
   "name": "python3"
  },
  "language_info": {
   "codemirror_mode": {
    "name": "ipython",
    "version": 3
   },
   "file_extension": ".py",
   "mimetype": "text/x-python",
   "name": "python",
   "nbconvert_exporter": "python",
   "pygments_lexer": "ipython3",
   "version": "3.7.4"
  }
 },
 "nbformat": 4,
 "nbformat_minor": 2
}
