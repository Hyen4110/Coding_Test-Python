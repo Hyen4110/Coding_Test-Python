{
 "cells": [
  {
   "cell_type": "code",
   "execution_count": null,
   "metadata": {},
   "outputs": [],
   "source": [
    "# 5\n",
    "# dijkstra\n",
    "# greedy\n",
    "# bfs\n",
    "# backtracking\n",
    "# dynamic\n",
    "\n",
    "\n",
    "# 3\n",
    "# bfs\n",
    "# greedyalgorithm\n",
    "# ra\n",
    "\n",
    "# <정답>\n",
    "# 0\n",
    "# 1\n",
    "# 2"
   ]
  },
  {
   "cell_type": "code",
   "execution_count": null,
   "metadata": {},
   "outputs": [],
   "source": [
    "index_word_count = int(input())\n",
    "\n",
    "index_word =[]\n",
    "while index_word_count>0:\n",
    "    index_word.append(input())\n",
    "    index_word_count-=1\n",
    "    \n"
   ]
  },
  {
   "cell_type": "code",
   "execution_count": null,
   "metadata": {},
   "outputs": [],
   "source": []
  }
 ],
 "metadata": {
  "kernelspec": {
   "display_name": "Python 3",
   "language": "python",
   "name": "python3"
  },
  "language_info": {
   "codemirror_mode": {
    "name": "ipython",
    "version": 3
   },
   "file_extension": ".py",
   "mimetype": "text/x-python",
   "name": "python",
   "nbconvert_exporter": "python",
   "pygments_lexer": "ipython3",
   "version": "3.7.4"
  }
 },
 "nbformat": 4,
 "nbformat_minor": 2
}
