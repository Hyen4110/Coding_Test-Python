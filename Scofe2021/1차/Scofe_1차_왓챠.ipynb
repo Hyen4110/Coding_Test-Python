{
 "cells": [
  {
   "cell_type": "code",
   "execution_count": 1,
   "metadata": {},
   "outputs": [
    {
     "name": "stdout",
     "output_type": "stream",
     "text": [
      "4.0 3.0 2.1 4.3 5.0\n",
      "2 3\n",
      "WYO\n",
      "YYO\n",
      "ABC\n",
      "DCE\n"
     ]
    },
    {
     "ename": "TypeError",
     "evalue": "can only concatenate str (not \"float\") to str",
     "output_type": "error",
     "traceback": [
      "\u001b[1;31m---------------------------------------------------------------------------\u001b[0m",
      "\u001b[1;31mTypeError\u001b[0m                                 Traceback (most recent call last)",
      "\u001b[1;32m<ipython-input-1-72f41bbf6cf5>\u001b[0m in \u001b[0;36m<module>\u001b[1;34m\u001b[0m\n\u001b[0;32m     30\u001b[0m \u001b[1;33m\u001b[0m\u001b[0m\n\u001b[0;32m     31\u001b[0m \u001b[1;32mfor\u001b[0m \u001b[0mi\u001b[0m \u001b[1;32min\u001b[0m \u001b[0mrange\u001b[0m\u001b[1;33m(\u001b[0m\u001b[0mlen\u001b[0m\u001b[1;33m(\u001b[0m\u001b[0mfiltered_by_watch\u001b[0m\u001b[1;33m)\u001b[0m\u001b[1;33m)\u001b[0m\u001b[1;33m:\u001b[0m\u001b[1;33m\u001b[0m\u001b[1;33m\u001b[0m\u001b[0m\n\u001b[1;32m---> 32\u001b[1;33m     \u001b[0mprint\u001b[0m\u001b[1;33m(\u001b[0m\u001b[0mfiltered_by_watch\u001b[0m\u001b[1;33m[\u001b[0m\u001b[0mi\u001b[0m\u001b[1;33m]\u001b[0m\u001b[1;33m[\u001b[0m\u001b[1;36m1\u001b[0m\u001b[1;33m]\u001b[0m\u001b[1;33m+\u001b[0m\u001b[1;34m\" \"\u001b[0m\u001b[1;33m+\u001b[0m\u001b[0mscore_dict\u001b[0m\u001b[1;33m[\u001b[0m\u001b[0mfiltered_by_watch\u001b[0m\u001b[1;33m[\u001b[0m\u001b[0mi\u001b[0m\u001b[1;33m]\u001b[0m\u001b[1;33m[\u001b[0m\u001b[1;36m1\u001b[0m\u001b[1;33m]\u001b[0m\u001b[1;33m]\u001b[0m\u001b[1;33m+\u001b[0m\u001b[1;34m\" \"\u001b[0m\u001b[1;33m+\u001b[0m\u001b[0mstr\u001b[0m\u001b[1;33m(\u001b[0m\u001b[0mfiltered_by_watch\u001b[0m\u001b[1;33m[\u001b[0m\u001b[0mi\u001b[0m\u001b[1;33m]\u001b[0m\u001b[1;33m[\u001b[0m\u001b[1;36m2\u001b[0m\u001b[1;33m]\u001b[0m\u001b[1;33m[\u001b[0m\u001b[1;36m0\u001b[0m\u001b[1;33m]\u001b[0m\u001b[1;33m)\u001b[0m\u001b[1;33m+\u001b[0m\u001b[1;34m\" \"\u001b[0m\u001b[1;33m+\u001b[0m\u001b[0mstr\u001b[0m\u001b[1;33m(\u001b[0m\u001b[0mfiltered_by_watch\u001b[0m\u001b[1;33m[\u001b[0m\u001b[0mi\u001b[0m\u001b[1;33m]\u001b[0m\u001b[1;33m[\u001b[0m\u001b[1;36m2\u001b[0m\u001b[1;33m]\u001b[0m\u001b[1;33m[\u001b[0m\u001b[1;36m1\u001b[0m\u001b[1;33m]\u001b[0m\u001b[1;33m)\u001b[0m\u001b[1;33m)\u001b[0m\u001b[1;33m\u001b[0m\u001b[1;33m\u001b[0m\u001b[0m\n\u001b[0m",
      "\u001b[1;31mTypeError\u001b[0m: can only concatenate str (not \"float\") to str"
     ]
    }
   ],
   "source": [
    "import numpy as np\n",
    "# 평점 dict 생성하기\n",
    "score_alpha = [\"A\",\"B\",\"C\",\"D\",\"E\"]\n",
    "scores = list(map(float, input().split()))\n",
    "score_dict = {key:val for key, val in list(zip(score_alpha, scores))}\n",
    "watch_dict = {'Y':2, 'O':1, \"W\":0}\n",
    "\n",
    "#사용자로그(시청, 평점) 입력하기\n",
    "n, m =  list(map(int, input().split()))\n",
    "user_log_watch = []\n",
    "user_log_score = []\n",
    "\n",
    "trials=n\n",
    "while trials>0:\n",
    "    user_log_watch.append(list(input()))\n",
    "    trials-=1\n",
    "trials=n\n",
    "while trials>0:\n",
    "    user_log_score.append(list(input()))\n",
    "    trials-=1\n",
    "\n",
    "total_list=[]\n",
    "watch_dict = {'Y':2, 'O':1, \"W\":0}\n",
    "for i in range(n):\n",
    "    for k in range(m):\n",
    "        total_list.append([user_log_watch[i][k],user_log_score[i][k], (i,k) ])\n",
    "\n",
    "filtered_by_watch = [x for x in total_list if x[0] in ['O','Y']]\n",
    "filtered_by_watch.sort(key = lambda x: (-watch_dict[x[0]], -score_dict[x[1]]) )\n",
    "\n",
    "for i in range(len(filtered_by_watch)):\n",
    "    print(filtered_by_watch[i][1]+\" \"+str(score_dict[filtered_by_watch[i][1]])+\" \"+str(filtered_by_watch[i][2][0])+\" \"+str(filtered_by_watch[i][2][1]))"
   ]
  },
  {
   "cell_type": "code",
   "execution_count": 3,
   "metadata": {},
   "outputs": [
    {
     "data": {
      "text/plain": [
       "3.0"
      ]
     },
     "execution_count": 3,
     "metadata": {},
     "output_type": "execute_result"
    }
   ],
   "source": [
    "score_dict[filtered_by_watch[1][1]]"
   ]
  },
  {
   "cell_type": "code",
   "execution_count": 18,
   "metadata": {},
   "outputs": [
    {
     "name": "stdout",
     "output_type": "stream",
     "text": [
      "[['W', 'A', (0, 0)], ['Y', 'B', (0, 1)], ['O', 'C', (0, 2)], ['Y', 'D', (1, 0)], ['Y', 'C', (1, 1)], ['O', 'E', (1, 2)]]\n",
      "D   4.3   (1, 0)\n",
      "B   3.0   (0, 1)\n",
      "C   2.1   (1, 1)\n",
      "E   5.0   (1, 2)\n",
      "C   2.1   (0, 2)\n"
     ]
    }
   ],
   "source": [
    "total_list=[]\n",
    "watch_dict = {'Y':2, 'O':1, \"W\":0}\n",
    "for i in range(n):\n",
    "    for k in range(m):\n",
    "        total_list.append([user_log_watch[i][k],user_log_score[i][k], (i,k) ])\n",
    "print(total_list)\n",
    "\n",
    "filtered_by_watch = [x for x in total_list if x[0] in ['O','Y']]\n",
    "filtered_by_watch.sort(key = lambda x: (-watch_dict[x[0]], -score_dict[x[1]]) )\n",
    "\n",
    "for i in range(len(filtered_by_watch)):\n",
    "    print(filtered_by_watch[i][1],\" \",score_dict[filtered_by_watch[i][1]],\" \",filtered_by_watch[i][2])"
   ]
  },
  {
   "cell_type": "code",
   "execution_count": 15,
   "metadata": {},
   "outputs": [
    {
     "data": {
      "text/plain": [
       "[['Y', 'D', (1, 0)],\n",
       " ['Y', 'B', (0, 1)],\n",
       " ['Y', 'C', (1, 1)],\n",
       " ['O', 'E', (1, 2)],\n",
       " ['O', 'C', (0, 2)]]"
      ]
     },
     "execution_count": 15,
     "metadata": {},
     "output_type": "execute_result"
    }
   ],
   "source": [
    "filtered_by_watch"
   ]
  },
  {
   "cell_type": "code",
   "execution_count": 5,
   "metadata": {},
   "outputs": [
    {
     "data": {
      "text/plain": [
       "[(['W', 'Y', 'O'], ['A', 'B', 'C']), (['Y', 'Y', 'O'], ['D', 'C', 'E'])]"
      ]
     },
     "execution_count": 5,
     "metadata": {},
     "output_type": "execute_result"
    }
   ],
   "source": [
    "list(zip(user_log_watch,user_log_score))"
   ]
  },
  {
   "cell_type": "code",
   "execution_count": 3,
   "metadata": {},
   "outputs": [
    {
     "data": {
      "text/plain": [
       "[['A', 'B', 'C'], ['D', 'C', 'E']]"
      ]
     },
     "execution_count": 3,
     "metadata": {},
     "output_type": "execute_result"
    }
   ],
   "source": [
    "user_log_score"
   ]
  },
  {
   "cell_type": "code",
   "execution_count": 4,
   "metadata": {},
   "outputs": [
    {
     "data": {
      "text/plain": [
       "[['W', 'Y', 'O'], ['Y', 'Y', 'O']]"
      ]
     },
     "execution_count": 4,
     "metadata": {},
     "output_type": "execute_result"
    }
   ],
   "source": [
    "user_log_watch"
   ]
  },
  {
   "cell_type": "code",
   "execution_count": 2,
   "metadata": {},
   "outputs": [
    {
     "name": "stdout",
     "output_type": "stream",
     "text": [
      "2 3\n",
      "WYO\n",
      "YYO\n",
      "ABC\n",
      "DCE\n",
      "user_log_watch [['W', 'Y', 'O'], ['Y', 'Y', 'O']]\n",
      "user_log_score [['A', 'B', 'C'], ['D', 'C', 'E']]\n"
     ]
    }
   ],
   "source": [
    "n, m =  list(map(int, input().split()))\n",
    "user_log_watch = []\n",
    "user_log_score = []\n",
    "\n",
    "trials=n\n",
    "while trials>0:\n",
    "    user_log_watch.append(list(input()))\n",
    "    trials-=1\n",
    "trials=n\n",
    "while trials>0:\n",
    "    user_log_score.append(list(input()))\n",
    "    trials-=1\n",
    "\n",
    "print(\"user_log_watch\",user_log_watch)\n",
    "print(\"user_log_score\",user_log_score)\n"
   ]
  }
 ],
 "metadata": {
  "kernelspec": {
   "display_name": "Python 3",
   "language": "python",
   "name": "python3"
  },
  "language_info": {
   "codemirror_mode": {
    "name": "ipython",
    "version": 3
   },
   "file_extension": ".py",
   "mimetype": "text/x-python",
   "name": "python",
   "nbconvert_exporter": "python",
   "pygments_lexer": "ipython3",
   "version": "3.7.4"
  }
 },
 "nbformat": 4,
 "nbformat_minor": 2
}
