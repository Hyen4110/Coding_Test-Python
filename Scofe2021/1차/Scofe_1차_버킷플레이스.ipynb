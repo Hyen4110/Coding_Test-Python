{
 "cells": [
  {
   "cell_type": "code",
   "execution_count": 66,
   "metadata": {},
   "outputs": [
    {
     "name": "stdout",
     "output_type": "stream",
     "text": [
      "4\n",
      "1110\n",
      "1110\n",
      "0110\n",
      "0000\n",
      "total: 11\n",
      "size[1]: 8\n",
      "size[2]: 3\n"
     ]
    }
   ],
   "source": [
    "import numpy as np \n",
    "\n",
    "trials = int(input())\n",
    "trial_num = trials \n",
    "\n",
    "#room 생성하기\n",
    "room =[]\n",
    "while trials>0:\n",
    "    room.append([int(x) for x in list(input())])\n",
    "    trials-=1\n",
    "room_array = np.array(room)\n",
    "\n",
    "num = 1\n",
    "answer = []\n",
    "while num<=len(room):\n",
    "    count=0\n",
    "\n",
    "    for i in range(len(room)-num+1):\n",
    "        for k in range(len(room)-num+1):\n",
    "            if room[i][k]==1:\n",
    "                if int((room_array[i:i+num,k:k+num]).sum())==num**2:\n",
    "                    count+=1\n",
    "\n",
    "    if count!=0:\n",
    "        answer.append([num,count])\n",
    "    num+=1\n",
    "\n",
    "answer = np.array(answer)\n",
    "total = [ x[1] for x in answer ]\n",
    "print(\"total:\",str(sum(total)))\n",
    "# answer = list(answer)\n",
    "for i in range(len(answer)):\n",
    "    print(\"size[\"+str(answer[i][0])+\"]:\",str(answer[i][1]))"
   ]
  },
  {
   "cell_type": "code",
   "execution_count": 62,
   "metadata": {},
   "outputs": [
    {
     "data": {
      "text/plain": [
       "11"
      ]
     },
     "execution_count": 62,
     "metadata": {},
     "output_type": "execute_result"
    }
   ],
   "source": [
    "total = [ x[1] for x in answer ]\n",
    "sum(total)"
   ]
  },
  {
   "cell_type": "code",
   "execution_count": 60,
   "metadata": {},
   "outputs": [
    {
     "data": {
      "text/plain": [
       "array([2, 3])"
      ]
     },
     "execution_count": 60,
     "metadata": {},
     "output_type": "execute_result"
    }
   ],
   "source": [
    "answer[:][1]"
   ]
  },
  {
   "cell_type": "code",
   "execution_count": 53,
   "metadata": {},
   "outputs": [
    {
     "name": "stdout",
     "output_type": "stream",
     "text": [
      "4\n",
      "1110\n",
      "1110\n",
      "0110\n",
      "0000\n",
      "[[1 8]\n",
      " [2 3]]\n",
      "total:14\n",
      "size[1]:8\n",
      "size[2]:3\n"
     ]
    }
   ],
   "source": [
    "import numpy as np \n",
    "\n",
    "trials = int(input())\n",
    "trial_num = trials \n",
    "\n",
    "#room 생성하기\n",
    "room =[]\n",
    "while trials>0:\n",
    "    room.append([int(x) for x in list(input())])\n",
    "    trials-=1\n",
    "room_array = np.array(room)\n",
    "\n",
    "num = 1\n",
    "answer = []\n",
    "while num<=len(room):\n",
    "    count=0\n",
    "\n",
    "    for i in range(len(room)-num):\n",
    "        for k in range(len(room)-num):\n",
    "            if room[i][k]==1:\n",
    "                if int((room_array[i:i+num,k:k+num]).sum())==num**2:\n",
    "                    count+=1\n",
    "\n",
    "    if count!=0:\n",
    "        answer.append([num,count])\n",
    "    num+=1\n",
    "\n",
    "answer = np.array(answer)\n",
    "print(answer)\n",
    "\n",
    "print(\"total:\"+str(answer.sum()))\n",
    "# answer = list(answer)\n",
    "for i in range(len(answer)):\n",
    "    print(\"size[\"+str(answer[i][0])+\"]:\"+str(answer[i][1]))"
   ]
  },
  {
   "cell_type": "code",
   "execution_count": 46,
   "metadata": {},
   "outputs": [
    {
     "data": {
      "text/plain": [
       "14"
      ]
     },
     "execution_count": 46,
     "metadata": {},
     "output_type": "execute_result"
    }
   ],
   "source": [
    "answer = np.array(answer)\n",
    "answer.sum()"
   ]
  },
  {
   "cell_type": "code",
   "execution_count": 41,
   "metadata": {},
   "outputs": [
    {
     "name": "stdout",
     "output_type": "stream",
     "text": [
      "[[1, 8], [2, 3]]\n"
     ]
    }
   ],
   "source": [
    "num = 1\n",
    "answer = []\n",
    "while num<=len(room):\n",
    "    count=0\n",
    "\n",
    "    for i in range(len(room)-num):\n",
    "        for k in range(len(room)-num):\n",
    "            if room[i][k]==1:\n",
    "                if int((room_array[i:i+num,k:k+num]).sum())==num**2:\n",
    "                    count+=1\n",
    "\n",
    "    if count!=0:\n",
    "        answer.append([num,count])\n",
    "    num+=1\n",
    "print(answer)"
   ]
  },
  {
   "cell_type": "code",
   "execution_count": 18,
   "metadata": {},
   "outputs": [
    {
     "ename": "TypeError",
     "evalue": "unsupported operand type(s) for +: 'int' and 'list'",
     "output_type": "error",
     "traceback": [
      "\u001b[1;31m---------------------------------------------------------------------------\u001b[0m",
      "\u001b[1;31mTypeError\u001b[0m                                 Traceback (most recent call last)",
      "\u001b[1;32m<ipython-input-18-c067a248a37f>\u001b[0m in \u001b[0;36m<module>\u001b[1;34m\u001b[0m\n\u001b[1;32m----> 1\u001b[1;33m \u001b[0msum\u001b[0m\u001b[1;33m(\u001b[0m\u001b[0mroom\u001b[0m\u001b[1;33m)\u001b[0m\u001b[1;33m\u001b[0m\u001b[1;33m\u001b[0m\u001b[0m\n\u001b[0m",
      "\u001b[1;31mTypeError\u001b[0m: unsupported operand type(s) for +: 'int' and 'list'"
     ]
    }
   ],
   "source": [
    "a = [x + y for x, y in zip(a,b)]"
   ]
  },
  {
   "cell_type": "code",
   "execution_count": 27,
   "metadata": {},
   "outputs": [
    {
     "data": {
      "text/plain": [
       "[[1, 1, 1, 0], [1, 1, 1, 0], [0, 1, 1, 0], [0, 0, 0, 0]]"
      ]
     },
     "execution_count": 27,
     "metadata": {},
     "output_type": "execute_result"
    }
   ],
   "source": [
    "room"
   ]
  },
  {
   "cell_type": "code",
   "execution_count": 34,
   "metadata": {},
   "outputs": [
    {
     "data": {
      "text/plain": [
       "4"
      ]
     },
     "execution_count": 34,
     "metadata": {},
     "output_type": "execute_result"
    }
   ],
   "source": [
    "room_array = np.array(room)\n",
    "len(room_array)"
   ]
  },
  {
   "cell_type": "code",
   "execution_count": 35,
   "metadata": {},
   "outputs": [
    {
     "data": {
      "text/plain": [
       "array([[1, 1],\n",
       "       [1, 1]])"
      ]
     },
     "execution_count": 35,
     "metadata": {},
     "output_type": "execute_result"
    }
   ],
   "source": [
    "i,k =1,1\n",
    "room_array[i:i+2,k:k+2]"
   ]
  },
  {
   "cell_type": "code",
   "execution_count": 36,
   "metadata": {},
   "outputs": [
    {
     "name": "stdout",
     "output_type": "stream",
     "text": [
      "3\n"
     ]
    }
   ],
   "source": [
    "count=0\n",
    "num =2\n",
    "room_array = np.array(room)\n",
    "for i in range(len(room)-num):\n",
    "    for k in range(len(room)-num):\n",
    "        if room[i][k]==1:\n",
    "            if int((room_array[i:i+2,k:k+2]).sum())==num**2:\n",
    "                count+=1\n",
    "            \n",
    "print(count)"
   ]
  },
  {
   "cell_type": "code",
   "execution_count": 9,
   "metadata": {},
   "outputs": [
    {
     "ename": "NameError",
     "evalue": "name 'np' is not defined",
     "output_type": "error",
     "traceback": [
      "\u001b[1;31m---------------------------------------------------------------------------\u001b[0m",
      "\u001b[1;31mNameError\u001b[0m                                 Traceback (most recent call last)",
      "\u001b[1;32m<ipython-input-9-69c4ca0f367e>\u001b[0m in \u001b[0;36m<module>\u001b[1;34m\u001b[0m\n\u001b[0;32m      1\u001b[0m \u001b[1;31m# 위쪽 1개행, 아래쪽 2개행, 왼쪽 3개열, 오른족 4개열 0으로 패딩합니다\u001b[0m\u001b[1;33m\u001b[0m\u001b[1;33m\u001b[0m\u001b[1;33m\u001b[0m\u001b[0m\n\u001b[1;32m----> 2\u001b[1;33m \u001b[0mnp\u001b[0m\u001b[1;33m.\u001b[0m\u001b[0mpad\u001b[0m\u001b[1;33m(\u001b[0m\u001b[0mbb\u001b[0m\u001b[1;33m,\u001b[0m \u001b[1;33m(\u001b[0m\u001b[1;33m(\u001b[0m\u001b[1;36m1\u001b[0m\u001b[1;33m,\u001b[0m\u001b[1;36m2\u001b[0m\u001b[1;33m)\u001b[0m\u001b[1;33m,\u001b[0m\u001b[1;33m(\u001b[0m\u001b[1;36m3\u001b[0m\u001b[1;33m,\u001b[0m\u001b[1;36m4\u001b[0m\u001b[1;33m)\u001b[0m\u001b[1;33m)\u001b[0m\u001b[1;33m,\u001b[0m \u001b[1;34m'constant'\u001b[0m\u001b[1;33m,\u001b[0m \u001b[0mconstant_values\u001b[0m\u001b[1;33m=\u001b[0m\u001b[1;36m0\u001b[0m\u001b[1;33m)\u001b[0m\u001b[1;33m\u001b[0m\u001b[1;33m\u001b[0m\u001b[0m\n\u001b[0m",
      "\u001b[1;31mNameError\u001b[0m: name 'np' is not defined"
     ]
    }
   ],
   "source": [
    "# 위쪽 1개행, 아래쪽 2개행, 왼쪽 3개열, 오른족 4개열 0으로 패딩합니다\n",
    "np.pad(bb, ((1,2),(3,4)), 'constant', constant_values=0)"
   ]
  },
  {
   "cell_type": "code",
   "execution_count": 6,
   "metadata": {},
   "outputs": [
    {
     "data": {
      "text/plain": [
       "[[1, 1, 1, 0], [1, 1, 1, 0], [0, 1, 1, 0], [0, 0, 0, 0]]"
      ]
     },
     "execution_count": 6,
     "metadata": {},
     "output_type": "execute_result"
    }
   ],
   "source": [
    "room,sum()"
   ]
  },
  {
   "cell_type": "code",
   "execution_count": null,
   "metadata": {
    "scrolled": true
   },
   "outputs": [],
   "source": [
    "import sys\n",
    "a = int(sys.stdin.readline())"
   ]
  }
 ],
 "metadata": {
  "kernelspec": {
   "display_name": "Python 3",
   "language": "python",
   "name": "python3"
  },
  "language_info": {
   "codemirror_mode": {
    "name": "ipython",
    "version": 3
   },
   "file_extension": ".py",
   "mimetype": "text/x-python",
   "name": "python",
   "nbconvert_exporter": "python",
   "pygments_lexer": "ipython3",
   "version": "3.7.4"
  }
 },
 "nbformat": 4,
 "nbformat_minor": 2
}
