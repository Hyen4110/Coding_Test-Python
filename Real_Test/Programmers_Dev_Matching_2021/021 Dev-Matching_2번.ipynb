{
 "cells": [
  {
   "cell_type": "code",
   "execution_count": null,
   "metadata": {},
   "outputs": [],
   "source": [
    "def rotation(row_column_list):\n",
    "    \n",
    "    \n",
    "    return "
   ]
  },
  {
   "cell_type": "code",
   "execution_count": 18,
   "metadata": {},
   "outputs": [
    {
     "data": {
      "text/plain": [
       "11"
      ]
     },
     "execution_count": 18,
     "metadata": {},
     "output_type": "execute_result"
    }
   ],
   "source": [
    "rotated[1,4] #행*열"
   ]
  },
  {
   "cell_type": "code",
   "execution_count": 76,
   "metadata": {},
   "outputs": [
    {
     "data": {
      "text/plain": [
       "[1]"
      ]
     },
     "execution_count": 76,
     "metadata": {},
     "output_type": "execute_result"
    }
   ],
   "source": [
    "import numpy as np \n",
    "def solution(rows, columns, queries):\n",
    "    arrange_list = np.arange(1, rows*columns+1).reshape(rows,columns)\n",
    "    queries = np.array(queries)-1\n",
    "    answer = []\n",
    "        \n",
    "    def rotation(arrange_list, query):\n",
    "        x1, y1, x2, y2 = query\n",
    "        rotated = arrange_list.copy()\n",
    "        moved = []\n",
    "\n",
    "        # 1. 회전하기\n",
    "        for i in range(y1+1, y2+1):\n",
    "            rotated[x1,i]= arrange_list[x1,i-1]\n",
    "        rotated[x1,y1] = arrange_list[x1+1,y1]\n",
    "\n",
    "        for i in range(y1, y2):\n",
    "            rotated[x2,i]=  arrange_list[x2,i+1]\n",
    "        rotated[x2,y2] = arrange_list[x2-1,y2]\n",
    "        \n",
    "        for k in range(x1+1, x2):\n",
    "            rotated[k,y1] = arrange_list[k+1,y1]\n",
    "            rotated[k,y2] = arrange_list[k-1,y2]\n",
    "\n",
    "        # 2.움직인 숫자 리스트 구하기\n",
    "        for i in range(y1, y2+1):\n",
    "            moved.append(int(rotated[x1,i]))\n",
    "            moved.append(int(rotated[x2,i]))\n",
    "\n",
    "        for k in range(x1+1, x2):    \n",
    "            moved.append(int(rotated[k,y1]))\n",
    "            moved.append(int(rotated[k,y2]))\n",
    "\n",
    "        return rotated, moved\n",
    "    \n",
    "    for query in queries:\n",
    "        arrange_list, moved = rotation(arrange_list, query)\n",
    "        answer.append(min(moved))\n",
    "                                       \n",
    "    return answer\n",
    "\n",
    "# solution(6,6,[[2,2,5,4],[3,3,6,6],[5,1,6,3]]) #[8, 10, 25]\n",
    "# solution(3,3,[[1,1,2,2],[1,2,2,3],[2,1,3,2],[2,2,3,3]] )#[1, 1, 5, 3]\n",
    "solution(100,97,[[1,1,100,97]]) #[1]"
   ]
  },
  {
   "cell_type": "code",
   "execution_count": 75,
   "metadata": {},
   "outputs": [
    {
     "name": "stdout",
     "output_type": "stream",
     "text": [
      "query [ 0  0 99 96]\n",
      "arrange_list [[  98    1    2 ...   94   95   96]\n",
      " [ 195   99  100 ...  192  193   97]\n",
      " [ 292  196  197 ...  289  290  194]\n",
      " ...\n",
      " [9507 9411 9412 ... 9504 9505 9409]\n",
      " [9604 9508 9509 ... 9601 9602 9506]\n",
      " [9605 9606 9607 ... 9699 9700 9603]]\n"
     ]
    },
    {
     "data": {
      "text/plain": [
       "[1]"
      ]
     },
     "execution_count": 75,
     "metadata": {},
     "output_type": "execute_result"
    }
   ],
   "source": [
    "import numpy as np \n",
    "def solution(rows, columns, queries):\n",
    "    arrange_list = np.arange(1, rows*columns+1).reshape(rows,columns)\n",
    "    queries = np.array(queries)-1\n",
    "    answer = []\n",
    "        \n",
    "    def rotation(arrange_list, query):\n",
    "        print(\"query\",query)\n",
    "        x1, y1, x2, y2 = query\n",
    "        rotated = arrange_list.copy()\n",
    "        moved = []\n",
    "\n",
    "        # 1. 회전하기\n",
    "        for i in range(y1+1, y2+1):\n",
    "            rotated[x1,i]= arrange_list[x1,i-1]\n",
    "        rotated[x1,y1] = arrange_list[x1+1,y1]\n",
    "\n",
    "        for i in range(y1, y2):\n",
    "            rotated[x2,i]=  arrange_list[x2,i+1]\n",
    "        rotated[x2,y2] = arrange_list[x2-1,y2]\n",
    "        \n",
    "        for k in range(x1+1, x2):\n",
    "            rotated[k,y1] = arrange_list[k+1,y1]\n",
    "            rotated[k,y2] = arrange_list[k-1,y2]\n",
    "\n",
    "        # 2.움직인 숫자 리스트 구하기\n",
    "        for i in range(y1, y2+1):\n",
    "            moved.append(int(rotated[x1,i]))\n",
    "            moved.append(int(rotated[x2,i]))\n",
    "\n",
    "        for k in range(x1+1, x2):    \n",
    "            moved.append(int(rotated[k,y1]))\n",
    "            moved.append(int(rotated[k,y2]))\n",
    "\n",
    "        return rotated, moved\n",
    "    \n",
    "    for query in queries:\n",
    "        arrange_list, moved = rotation(arrange_list, query)\n",
    "        print(\"arrange_list\",arrange_list)\n",
    "        answer.append(min(moved))\n",
    "                                       \n",
    "    return answer\n",
    "\n",
    "# solution(6,6,[[2,2,5,4],[3,3,6,6],[5,1,6,3]]) #[8, 10, 25]\n",
    "# solution(3,3,[[1,1,2,2],[1,2,2,3],[2,1,3,2],[2,2,3,3]] )#[1, 1, 5, 3]\n",
    "solution(100,97,[[1,1,100,97]]) #[1]"
   ]
  }
 ],
 "metadata": {
  "kernelspec": {
   "display_name": "Python 3",
   "language": "python",
   "name": "python3"
  },
  "language_info": {
   "codemirror_mode": {
    "name": "ipython",
    "version": 3
   },
   "file_extension": ".py",
   "mimetype": "text/x-python",
   "name": "python",
   "nbconvert_exporter": "python",
   "pygments_lexer": "ipython3",
   "version": "3.7.4"
  }
 },
 "nbformat": 4,
 "nbformat_minor": 2
}
