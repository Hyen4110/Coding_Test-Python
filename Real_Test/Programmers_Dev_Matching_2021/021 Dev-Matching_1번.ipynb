{
 "cells": [
  {
   "cell_type": "code",
   "execution_count": 11,
   "metadata": {},
   "outputs": [],
   "source": [
    "# 순위\t당첨 내용\n",
    "# 1\t: 6개 번호가 모두 일치\n",
    "# 2\t: 5개 번호가 일치\n",
    "# 3\t: 4개 번호가 일치\n",
    "# 4\t: 3개 번호가 일치\n",
    "# 5\t: 2개 번호가 일치"
   ]
  },
  {
   "cell_type": "code",
   "execution_count": 12,
   "metadata": {},
   "outputs": [
    {
     "data": {
      "text/plain": [
       "3"
      ]
     },
     "execution_count": 12,
     "metadata": {},
     "output_type": "execute_result"
    }
   ],
   "source": [
    "[0,0,0].count(0)"
   ]
  },
  {
   "cell_type": "code",
   "execution_count": null,
   "metadata": {},
   "outputs": [],
   "source": [
    "# 정확성  테스트\n",
    "# 테스트 1 〉\t통과 (0.01ms, 10.3MB)\n",
    "# 테스트 2 〉\t통과 (0.01ms, 10.3MB)\n",
    "# 테스트 3 〉\t통과 (0.01ms, 10.1MB)\n",
    "# 테스트 4 〉\t통과 (0.01ms, 10.2MB)\n",
    "# 테스트 5 〉\t통과 (0.01ms, 10.2MB)\n",
    "# 테스트 6 〉\t통과 (0.01ms, 10.2MB)\n",
    "# 테스트 7 〉\t통과 (0.01ms, 10.1MB)\n",
    "# 테스트 8 〉\t통과 (0.01ms, 10.3MB)\n",
    "# 테스트 9 〉\t통과 (0.01ms, 10.2MB)\n",
    "# 테스트 10 〉\t통과 (0.01ms, 10.2MB)\n",
    "# 테스트 11 〉\t통과 (0.01ms, 10.1MB)\n",
    "# 테스트 12 〉\t통과 (0.01ms, 10.1MB)\n",
    "# 테스트 13 〉\t통과 (0.01ms, 10.3MB)\n",
    "# 테스트 14 〉\t실패 (0.01ms, 10.1MB)\n",
    "# 테스트 15 〉\t통과 (0.01ms, 10MB)"
   ]
  },
  {
   "cell_type": "code",
   "execution_count": 21,
   "metadata": {},
   "outputs": [
    {
     "data": {
      "text/plain": [
       "[1, 4]"
      ]
     },
     "execution_count": 21,
     "metadata": {},
     "output_type": "execute_result"
    }
   ],
   "source": [
    "def solution(lottos, win_nums):\n",
    "    \n",
    "    passed_num = set(lottos).intersection(set(win_nums))\n",
    "    remained = [x for x in lottos if x not in passed_num]\n",
    "    \n",
    "    found_rank = len(passed_num)\n",
    "    plus_rank  = remained.count(0)\n",
    "    \n",
    "    top_rank = 7-(found_rank+plus_rank)\n",
    "    base_rank = min(6, 7-found_rank)\n",
    "    \n",
    "    return [top_rank,base_rank]\n",
    "\n",
    "# solution([44, 1, 0, 0, 31, 25],[31, 10, 45, 1, 6, 19]\t) #[3, 5]\n",
    "# solution([0, 0, 0, 0, 0, 0],[38, 19, 20, 40, 15, 25]) #[1, 6]\n",
    "# solution([45, 4, 35, 20, 3, 9],[20, 9, 3, 45, 4, 35]) #\t[1, 1]\n",
    "solution([0, 0, 0, 1, 2, 3], [1, 2, 3, 4, 5, 6]) #"
   ]
  }
 ],
 "metadata": {
  "kernelspec": {
   "display_name": "Python 3",
   "language": "python",
   "name": "python3"
  },
  "language_info": {
   "codemirror_mode": {
    "name": "ipython",
    "version": 3
   },
   "file_extension": ".py",
   "mimetype": "text/x-python",
   "name": "python",
   "nbconvert_exporter": "python",
   "pygments_lexer": "ipython3",
   "version": "3.7.4"
  }
 },
 "nbformat": 4,
 "nbformat_minor": 2
}
