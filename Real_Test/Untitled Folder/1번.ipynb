{
 "cells": [
  {
   "cell_type": "code",
   "execution_count": 13,
   "metadata": {},
   "outputs": [
    {
     "data": {
      "text/plain": [
       "False"
      ]
     },
     "execution_count": 13,
     "metadata": {},
     "output_type": "execute_result"
    }
   ],
   "source": [
    "endict = {'zero':'0', 'one':'1','two':'2', 'three':'3', 'four':'4', 'five':'5',\n",
    "         'six':'6', 'seven':'7', 'eight':'8', 'nine':'9'}\n",
    "\n",
    "'zer' in endict"
   ]
  },
  {
   "cell_type": "code",
   "execution_count": 16,
   "metadata": {},
   "outputs": [
    {
     "data": {
      "text/plain": [
       "'234567'"
      ]
     },
     "execution_count": 16,
     "metadata": {},
     "output_type": "execute_result"
    }
   ],
   "source": [
    "def solution(s):\n",
    "    endict = {'zero':'0', 'one':'1','two':'2', 'three':'3', 'four':'4', 'five':'5',\n",
    "             'six':'6', 'seven':'7', 'eight':'8', 'nine':'9'}\n",
    "    \n",
    "    english= \"\"\n",
    "    answer = \"\"\n",
    "    for i in s:\n",
    "        if i.isdigit():\n",
    "            answer+=i\n",
    "            if english!=\"\":\n",
    "                answer+=endict[english]\n",
    "            english = \"\"\n",
    "        else:\n",
    "            english+= i\n",
    "            if english in endict.keys():\n",
    "                answer+=endict[english]\n",
    "                english = \"\"\n",
    "    return answer\n",
    "\n",
    "# solution(\"one4seveneight\") #1478\n",
    "solution(\"23four5six7\") #234567"
   ]
  },
  {
   "cell_type": "code",
   "execution_count": 15,
   "metadata": {},
   "outputs": [
    {
     "name": "stdout",
     "output_type": "stream",
     "text": [
      "english: f\n",
      "english: fo\n",
      "english: fou\n",
      "english: \n",
      "english: s\n",
      "english: si\n",
      "english: \n"
     ]
    },
    {
     "data": {
      "text/plain": [
       "'234567'"
      ]
     },
     "execution_count": 15,
     "metadata": {},
     "output_type": "execute_result"
    }
   ],
   "source": [
    "def solution(s):\n",
    "    endict = {'zero':'0', 'one':'1','two':'2', 'three':'3', 'four':'4', 'five':'5',\n",
    "             'six':'6', 'seven':'7', 'eight':'8', 'nine':'9'}\n",
    "    \n",
    "    english= \"\"\n",
    "    answer = \"\"\n",
    "    for i in s:\n",
    "        if i.isdigit():\n",
    "            answer+=i\n",
    "            if english!=\"\":\n",
    "                print(endict[english])\n",
    "                answer+=endict[english]\n",
    "            english = \"\"\n",
    "        else:\n",
    "            english+= i\n",
    "            if english in endict.keys():\n",
    "                answer+=endict[english]\n",
    "                english = \"\"\n",
    "            print(\"english:\",english)\n",
    "    return answer\n",
    "\n",
    "# solution(\"one4seveneight\") #1478\n",
    "solution(\"23four5six7\") #234567"
   ]
  }
 ],
 "metadata": {
  "kernelspec": {
   "display_name": "Python 3",
   "language": "python",
   "name": "python3"
  },
  "language_info": {
   "codemirror_mode": {
    "name": "ipython",
    "version": 3
   },
   "file_extension": ".py",
   "mimetype": "text/x-python",
   "name": "python",
   "nbconvert_exporter": "python",
   "pygments_lexer": "ipython3",
   "version": "3.7.4"
  }
 },
 "nbformat": 4,
 "nbformat_minor": 2
}
