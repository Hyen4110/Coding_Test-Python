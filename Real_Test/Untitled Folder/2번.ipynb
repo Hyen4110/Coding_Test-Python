{
 "cells": [
  {
   "cell_type": "code",
   "execution_count": 22,
   "metadata": {},
   "outputs": [
    {
     "data": {
      "text/plain": [
       "array([['P', 'O', 'O', 'O', 'P'],\n",
       "       ['O', 'X', 'X', 'O', 'X'],\n",
       "       ['O', 'P', 'X', 'P', 'X'],\n",
       "       ['O', 'O', 'X', 'O', 'X'],\n",
       "       ['P', 'O', 'X', 'X', 'P']], dtype='<U1')"
      ]
     },
     "execution_count": 22,
     "metadata": {},
     "output_type": "execute_result"
    }
   ],
   "source": [
    "array_place"
   ]
  },
  {
   "cell_type": "code",
   "execution_count": 23,
   "metadata": {},
   "outputs": [
    {
     "data": {
      "text/plain": [
       "(array([0, 0, 2, 2, 4, 4], dtype=int64),\n",
       " array([0, 4, 1, 3, 0, 4], dtype=int64))"
      ]
     },
     "execution_count": 23,
     "metadata": {},
     "output_type": "execute_result"
    }
   ],
   "source": [
    "np.where(array_place==\"P\")"
   ]
  },
  {
   "cell_type": "code",
   "execution_count": 28,
   "metadata": {},
   "outputs": [
    {
     "data": {
      "text/plain": [
       "[(0, 0), (0, 4), (2, 1), (2, 3), (4, 0), (4, 4)]"
      ]
     },
     "execution_count": 28,
     "metadata": {},
     "output_type": "execute_result"
    }
   ],
   "source": [
    "list(zip(np.where(array_place==\"P\")[0],np.where(array_place==\"P\")[1]))"
   ]
  },
  {
   "cell_type": "code",
   "execution_count": 51,
   "metadata": {},
   "outputs": [
    {
     "name": "stdout",
     "output_type": "stream",
     "text": [
      "[(0, 0), (0, 4), (2, 1), (2, 3), (4, 0), (4, 4)]\n",
      "i: 2 j: 3 manhattan_d: 2\n"
     ]
    },
    {
     "data": {
      "text/plain": [
       "[1]"
      ]
     },
     "execution_count": 51,
     "metadata": {},
     "output_type": "execute_result"
    }
   ],
   "source": [
    "import numpy as np\n",
    "# places = [[\"POOOP\", \"OXXOX\", \"OPXPX\", \"OOXOX\", \"POXXP\"], \n",
    "#           [\"POOPX\", \"OXPXP\", \"PXXXO\", \"OXXXO\", \"OOOPP\"], \n",
    "#           [\"PXOPX\", \"OXOXP\", \"OXPXX\", \"OXXXP\", \"POOXX\"], \n",
    "#           [\"OOOXX\", \"XOOOX\", \"OOOXX\", \"OXOOX\", \"OOOOO\"], \n",
    "#           [\"PXPXP\", \"XPXPX\", \"PXPXP\", \"XPXPX\", \"PXPXP\"]]\n",
    "\n",
    "place = [\"POOOP\", \"OXXOX\", \"OPXPX\", \"OOXOX\", \"POXXP\"]\n",
    "answer=[]\n",
    "\n"
   ]
  },
  {
   "cell_type": "code",
   "execution_count": 87,
   "metadata": {},
   "outputs": [
    {
     "data": {
      "text/plain": [
       "'P'"
      ]
     },
     "execution_count": 87,
     "metadata": {},
     "output_type": "execute_result"
    }
   ],
   "source": [
    "abc = np.array([['P','X','P', 'O', 'P'],\n",
    " ['O', 'X', 'X', 'O', 'X'],\n",
    " ['O', 'P', 'X', 'P', 'X'],\n",
    " ['O', 'O', 'X', 'O', 'X'],\n",
    " ['P', 'O', 'X', 'X' ,'P']])\n",
    "\n",
    "a1, b1 = (0,2), (0,3)\n",
    "abc[a1]"
   ]
  },
  {
   "cell_type": "markdown",
   "metadata": {},
   "source": [
    "Here 정답"
   ]
  },
  {
   "cell_type": "code",
   "execution_count": 90,
   "metadata": {},
   "outputs": [
    {
     "ename": "IndentationError",
     "evalue": "expected an indented block (<ipython-input-90-ddd33bac114a>, line 35)",
     "output_type": "error",
     "traceback": [
      "\u001b[1;36m  File \u001b[1;32m\"<ipython-input-90-ddd33bac114a>\"\u001b[1;36m, line \u001b[1;32m35\u001b[0m\n\u001b[1;33m    return(1)\u001b[0m\n\u001b[1;37m    ^\u001b[0m\n\u001b[1;31mIndentationError\u001b[0m\u001b[1;31m:\u001b[0m expected an indented block\n"
     ]
    }
   ],
   "source": [
    "import numpy as np\n",
    "def solution(places):\n",
    "    answer=[]\n",
    "    \n",
    "    def transfer_to_array(place):\n",
    "        this_array=[]\n",
    "        for i in place:\n",
    "            this_array.append(list(i))\n",
    "        return np.array(this_array)\n",
    "\n",
    "    def check_function(place):\n",
    "        array_place = transfer_to_array(place) # 한 대기실 array로 변환\n",
    "        where_p = list(zip(np.where(array_place==\"P\")[0],np.where(array_place==\"P\")[1])) #한 대기실 p의 위치\n",
    "\n",
    "\n",
    "        for i in range(len(where_p)):\n",
    "            for j in range(i+1, len(where_p)):\n",
    "                manhattan_d = abs(where_p[i][0]-where_p[j][0])+abs(where_p[i][1]-where_p[j][1])\n",
    "\n",
    "                if manhattan_d<=2:\n",
    "                    if where_p[i][0]==where_p[j][0]:\n",
    "                        temp = array_place[where_p[i][0],where_p[i][1]:where_p[j][1]]\n",
    "                        if \"X\" not in temp:\n",
    "                            return(0)\n",
    "                    elif where_p[i][1]==where_p[j][1]:\n",
    "                        temp = array_place[where_p[i][0]:where_p[j][0],where_p[i][1]]\n",
    "                        if \"X\" not in temp:\n",
    "                            return(0)\n",
    "                    else:\n",
    "                        temp1 = array_place[where_p[i][0],where_p[j][1]]\n",
    "                        temp2 = array_place[where_p[j][0],where_p[i][1]]\n",
    "                        if (\"X\" not in temp1) or (\"X\" not in temp2):\n",
    "                                return(0)\n",
    "                        else:\n",
    "                            pass\n",
    "        return(1)\n",
    "        \n",
    "    count=0\n",
    "    for place in places:\n",
    "        answer.append(check_function(place))\n",
    "    return answer\n",
    "\n",
    "solution([[\"PXPOP\", \"OXXOX\", \"OPXPX\", \"OOXOX\", \"POXXP\"]])\n",
    "# solution([[\"POOOP\", \"OXXOX\", \"OPXPX\", \"OOXOX\", \"POXXP\"], \n",
    "#           [\"POOPX\", \"OXPXP\", \"PXXXO\", \"OXXXO\", \"OOOPP\"], \n",
    "#           [\"PXOPX\", \"OXOXP\", \"OXPXX\", \"OXXXP\", \"POOXX\"], \n",
    "#           [\"OOOXX\", \"XOOOX\", \"OOOXX\", \"OXOOX\", \"OOOOO\"], \n",
    "#           [\"PXPXP\", \"XPXPX\", \"PXPXP\", \"XPXPX\", \"PXPXP\"]])\n",
    " #[1, 0, 1, 1, 1]"
   ]
  },
  {
   "cell_type": "code",
   "execution_count": 88,
   "metadata": {},
   "outputs": [
    {
     "name": "stdout",
     "output_type": "stream",
     "text": [
      "where_p [(0, 0), (0, 2), (0, 4), (2, 1), (2, 3), (4, 0), (4, 4)]\n",
      "array_place\n",
      " [['P' 'X' 'P' 'O' 'P']\n",
      " ['O' 'X' 'X' 'O' 'X']\n",
      " ['O' 'P' 'X' 'P' 'X']\n",
      " ['O' 'O' 'X' 'O' 'X']\n",
      " ['P' 'O' 'X' 'X' 'P']]\n",
      "i: (0, 0) j: (0, 2) manhattan_d: 2\n",
      "temp ['P' 'X']\n",
      "array_place\n",
      " [['P' 'X' 'P' 'O' 'P']\n",
      " ['O' 'X' 'X' 'O' 'X']\n",
      " ['O' 'P' 'X' 'P' 'X']\n",
      " ['O' 'O' 'X' 'O' 'X']\n",
      " ['P' 'O' 'X' 'X' 'P']]\n",
      "i: (0, 2) j: (0, 4) manhattan_d: 2\n",
      "temp ['P' 'O']\n",
      "대기실 결과0\n"
     ]
    },
    {
     "data": {
      "text/plain": [
       "[0]"
      ]
     },
     "execution_count": 88,
     "metadata": {},
     "output_type": "execute_result"
    }
   ],
   "source": [
    "import numpy as np\n",
    "def solution(places):\n",
    "    answer=[]\n",
    "    \n",
    "    def transfer_to_array(place):\n",
    "        this_array=[]\n",
    "        for i in place:\n",
    "            this_array.append(list(i))\n",
    "        return np.array(this_array)\n",
    "\n",
    "    def check_function(place):\n",
    "        array_place = transfer_to_array(place) # 한 대기실 array로 변환\n",
    "        where_p = list(zip(np.where(array_place==\"P\")[0],np.where(array_place==\"P\")[1])) #한 대기실 p의 위치\n",
    "        print(\"where_p\",where_p)\n",
    "\n",
    "        for i in range(len(where_p)):\n",
    "            for j in range(i+1, len(where_p)):\n",
    "                manhattan_d = abs(where_p[i][0]-where_p[j][0])+abs(where_p[i][1]-where_p[j][1])\n",
    "\n",
    "                if manhattan_d<=2:\n",
    "                    print(\"array_place\\n\",array_place)\n",
    "                    print(\"i:\",where_p[i],\"j:\",where_p[j], \"manhattan_d:\",manhattan_d)\n",
    "                    \n",
    "                    if where_p[i][0]==where_p[j][0]:\n",
    "                        temp = array_place[where_p[i][0],where_p[i][1]:where_p[j][1]]\n",
    "                        print(\"temp\",temp)\n",
    "                        if \"X\" not in temp:\n",
    "                            print(\"대기실 결과0\")\n",
    "                            return(0)\n",
    "                    elif where_p[i][1]==where_p[j][1]:\n",
    "                        temp = array_place[where_p[i][0]:where_p[j][0],where_p[i][1]]\n",
    "                        print(\"temp\",temp)\n",
    "                        if \"X\" not in temp:\n",
    "                            print(\"대기실 결과0\")\n",
    "                            return(0)\n",
    "                    else:\n",
    "                        temp1 = array_place[where_p[i][0],where_p[j][1]]\n",
    "                        temp2 = array_place[where_p[j][0],where_p[i][1]]\n",
    "                        print(\"temp1\",temp1)\n",
    "                        print(\"temp2\",temp2)\n",
    "                        if (\"X\" not in temp1) or (\"X\" not in temp2):\n",
    "                                print(\"대기실 결과0\")\n",
    "                                return(0)\n",
    "                        else:\n",
    "                            print(\"0은 아닌걸로\")\n",
    "        print(\"대기실 결과1\")\n",
    "        return(1)\n",
    "        \n",
    "    count=0\n",
    "    for place in places:\n",
    "        answer.append(check_function(place))\n",
    "    return answer\n",
    "\n",
    "solution([[\"PXPOP\", \"OXXOX\", \"OPXPX\", \"OOXOX\", \"POXXP\"]])\n",
    "# solution([[\"POOOP\", \"OXXOX\", \"OPXPX\", \"OOXOX\", \"POXXP\"], \n",
    "#           [\"POOPX\", \"OXPXP\", \"PXXXO\", \"OXXXO\", \"OOOPP\"], \n",
    "#           [\"PXOPX\", \"OXOXP\", \"OXPXX\", \"OXXXP\", \"POOXX\"], \n",
    "#           [\"OOOXX\", \"XOOOX\", \"OOOXX\", \"OXOOX\", \"OOOOO\"], \n",
    "#           [\"PXPXP\", \"XPXPX\", \"PXPXP\", \"XPXPX\", \"PXPXP\"]])\n",
    " #[1, 0, 1, 1, 1]"
   ]
  }
 ],
 "metadata": {
  "kernelspec": {
   "display_name": "Python 3",
   "language": "python",
   "name": "python3"
  },
  "language_info": {
   "codemirror_mode": {
    "name": "ipython",
    "version": 3
   },
   "file_extension": ".py",
   "mimetype": "text/x-python",
   "name": "python",
   "nbconvert_exporter": "python",
   "pygments_lexer": "ipython3",
   "version": "3.7.4"
  }
 },
 "nbformat": 4,
 "nbformat_minor": 2
}
