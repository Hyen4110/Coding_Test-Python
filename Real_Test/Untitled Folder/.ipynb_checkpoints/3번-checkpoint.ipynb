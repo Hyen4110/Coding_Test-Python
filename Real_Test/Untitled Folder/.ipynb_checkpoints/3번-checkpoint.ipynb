{
 "cells": [
  {
   "cell_type": "code",
   "execution_count": 5,
   "metadata": {
    "scrolled": true
   },
   "outputs": [
    {
     "data": {
      "text/plain": [
       "True"
      ]
     },
     "execution_count": 5,
     "metadata": {},
     "output_type": "execute_result"
    }
   ],
   "source": [
    "n=6\n",
    "n_list =list(\"0\"*n)\n",
    "n_list[1]=\"X\"\n",
    "n_list\n",
    "\n",
    "\"X\" in n_list"
   ]
  },
  {
   "cell_type": "code",
   "execution_count": 27,
   "metadata": {},
   "outputs": [
    {
     "data": {
      "text/plain": [
       "'OOXOXOOO'"
      ]
     },
     "execution_count": 27,
     "metadata": {},
     "output_type": "execute_result"
    }
   ],
   "source": [
    "import numpy as np\n",
    "def solution(n, k, cmd):\n",
    "    nlist =np.array(list(\"O\"*n))\n",
    "    now_point = k\n",
    "    deleted_idx = []\n",
    "    before_nlist = []\n",
    "    \n",
    "    for cmd_i in cmd:\n",
    "        func = cmd_i.split()\n",
    "        \n",
    "        #Type1 : Z\n",
    "        if func[0]==\"Z\":\n",
    "            nlist[deleted_idx.pop()]=\"O\"\n",
    "    \n",
    "        #TYpe2: C, U, D\n",
    "        before_nlist = nlist.copy()\n",
    "        if func[0]==\"C\":\n",
    "            nlist[now_point]=\"X\"\n",
    "            deleted_idx.append(now_point)\n",
    "            \n",
    "            if \"O\" not in nlist[now_point:]:\n",
    "                now_point-=1\n",
    "                while nlist[now_point]==\"X\":\n",
    "                    now_point-=1\n",
    "            else:\n",
    "                now_point+=1\n",
    "                while nlist[now_point]==\"X\":\n",
    "                    now_point+=1\n",
    "                \n",
    "        elif func[0]==\"U\":\n",
    "            for k in range(int(func[1])):\n",
    "                now_point-=1\n",
    "                if nlist[now_point]!=\"O\":\n",
    "                    while nlist[now_point]==\"X\":\n",
    "                        now_point-=1\n",
    "            \n",
    "        elif func[0]==\"D\":\n",
    "            for k in range(int(func[1])):\n",
    "                now_point+=1\n",
    "                if nlist[now_point]!=\"O\":\n",
    "                    while nlist[now_point]==\"X\":\n",
    "                        now_point+=1\n",
    "    return \"\".join(nlist)\n",
    "\n",
    "\n",
    "# solution(8,2,[\"D 2\",\"C\",\"U 3\",\"C\",\"D 4\",\"C\",\"U 2\",\"Z\",\"Z\"]) #\"OOOOXOOO\"\n",
    "solution(8,2,[\"D 2\",\"C\",\"U 3\",\"C\",\"D 4\",\"C\",\"U 2\",\"Z\",\"Z\",\"U 1\",\"C\"]) #\"OOXOXOOO\"                  "
   ]
  },
  {
   "cell_type": "code",
   "execution_count": 26,
   "metadata": {},
   "outputs": [
    {
     "name": "stdout",
     "output_type": "stream",
     "text": [
      "now_point 2\n",
      "어떤 명령어?: ['D', '2']\n",
      "['O' 'O' 'O' 'O' 'O' 'O' 'O' 'O']\n",
      "now_point 4\n",
      "now_point 4\n",
      "어떤 명령어?: ['C']\n",
      "['O' 'O' 'O' 'O' 'X' 'O' 'O' 'O']\n",
      "now_point 5\n",
      "now_point 5\n",
      "어떤 명령어?: ['U', '3']\n",
      "['O' 'O' 'O' 'O' 'X' 'O' 'O' 'O']\n",
      "now_point 1\n",
      "now_point 1\n",
      "어떤 명령어?: ['C']\n",
      "['O' 'X' 'O' 'O' 'X' 'O' 'O' 'O']\n",
      "now_point 2\n",
      "now_point 2\n",
      "어떤 명령어?: ['D', '4']\n",
      "['O' 'X' 'O' 'O' 'X' 'O' 'O' 'O']\n",
      "now_point 7\n",
      "now_point 7\n",
      "어떤 명령어?: ['C']\n",
      "['O' 'X' 'O' 'O' 'X' 'O' 'O' 'X']\n",
      "now_point 6\n",
      "now_point 6\n",
      "어떤 명령어?: ['U', '2']\n",
      "['O' 'X' 'O' 'O' 'X' 'O' 'O' 'X']\n",
      "now_point 3\n",
      "now_point 3\n",
      "어떤 명령어?: ['Z']\n",
      "['O' 'X' 'O' 'O' 'X' 'O' 'O' 'O']\n",
      "now_point 3\n",
      "now_point 3\n",
      "어떤 명령어?: ['Z']\n",
      "['O' 'O' 'O' 'O' 'X' 'O' 'O' 'O']\n",
      "now_point 3\n",
      "now_point 3\n",
      "어떤 명령어?: ['U', '1']\n",
      "['O' 'O' 'O' 'O' 'X' 'O' 'O' 'O']\n",
      "now_point 2\n",
      "now_point 2\n",
      "어떤 명령어?: ['C']\n",
      "['O' 'O' 'X' 'O' 'X' 'O' 'O' 'O']\n",
      "now_point 3\n"
     ]
    },
    {
     "data": {
      "text/plain": [
       "'OOXOXOOO'"
      ]
     },
     "execution_count": 26,
     "metadata": {},
     "output_type": "execute_result"
    }
   ],
   "source": [
    "import numpy as np\n",
    "def solution(n, k, cmd):\n",
    "    nlist =np.array(list(\"O\"*n))\n",
    "    now_point = k\n",
    "    deleted_idx = []\n",
    "    before_nlist = []\n",
    "    for cmd_i in cmd:\n",
    "        \n",
    "        func = cmd_i.split()\n",
    "        print(\"now_point\",now_point)\n",
    "        print(\"어떤 명령어?:\",func)\n",
    "        \n",
    "        #Type1 : Z\n",
    "        if func[0]==\"Z\":\n",
    "            nlist[deleted_idx.pop()]=\"O\"\n",
    "    \n",
    "        #TYpe2: C, U, D\n",
    "        before_nlist = nlist.copy()\n",
    "        if func[0]==\"C\":\n",
    "            nlist[now_point]=\"X\"\n",
    "            deleted_idx.append(now_point)\n",
    "            \n",
    "            if \"O\" not in nlist[now_point:]:\n",
    "                now_point-=1\n",
    "                while nlist[now_point]==\"X\":\n",
    "                    now_point-=1\n",
    "            else:\n",
    "                now_point+=1\n",
    "                while nlist[now_point]==\"X\":\n",
    "                    now_point+=1\n",
    "                \n",
    "        elif func[0]==\"U\":\n",
    "            for k in range(int(func[1])):\n",
    "                now_point-=1\n",
    "                if nlist[now_point]!=\"O\":\n",
    "                    while nlist[now_point]==\"X\":\n",
    "                        now_point-=1\n",
    "            \n",
    "        elif func[0]==\"D\":\n",
    "            for k in range(int(func[1])):\n",
    "                now_point+=1\n",
    "                if nlist[now_point]!=\"O\":\n",
    "                    while nlist[now_point]==\"X\":\n",
    "                        now_point+=1\n",
    "        print(nlist)\n",
    "        print(\"now_point\",now_point)\n",
    "    return \"\".join(nlist)\n",
    "\n",
    "\n",
    "# solution(8,2,[\"D 2\",\"C\",\"U 3\",\"C\",\"D 4\",\"C\",\"U 2\",\"Z\",\"Z\"]) #\"OOOOXOOO\"\n",
    "solution(8,2,[\"D 2\",\"C\",\"U 3\",\"C\",\"D 4\",\"C\",\"U 2\",\"Z\",\"Z\",\"U 1\",\"C\"]) #\"OOXOXOOO\"                  "
   ]
  }
 ],
 "metadata": {
  "kernelspec": {
   "display_name": "Python 3",
   "language": "python",
   "name": "python3"
  },
  "language_info": {
   "codemirror_mode": {
    "name": "ipython",
    "version": 3
   },
   "file_extension": ".py",
   "mimetype": "text/x-python",
   "name": "python",
   "nbconvert_exporter": "python",
   "pygments_lexer": "ipython3",
   "version": "3.7.4"
  }
 },
 "nbformat": 4,
 "nbformat_minor": 2
}
