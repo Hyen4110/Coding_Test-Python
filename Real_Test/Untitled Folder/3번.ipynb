{
 "cells": [
  {
   "cell_type": "code",
   "execution_count": 5,
   "metadata": {
    "scrolled": true
   },
   "outputs": [
    {
     "data": {
      "text/plain": [
       "True"
      ]
     },
     "execution_count": 5,
     "metadata": {},
     "output_type": "execute_result"
    }
   ],
   "source": [
    "n=6\n",
    "n_list =list(\"0\"*n)\n",
    "n_list[1]=\"X\"\n",
    "n_list\n",
    "\n",
    "\"X\" in n_list"
   ]
  },
  {
   "cell_type": "code",
   "execution_count": 41,
   "metadata": {
    "scrolled": true
   },
   "outputs": [
    {
     "name": "stdout",
     "output_type": "stream",
     "text": [
      "(array([0, 1, 2, 3, 4, 5, 7], dtype=int64),)\n",
      "abc ['O' 'O' 'O' 'O' 'O' 'O' 'X' 'O']\n",
      "[0 1 2 4]\n",
      "[3 4 5 7]\n",
      "[3 4 5 7]\n"
     ]
    }
   ],
   "source": [
    "abc=np.array(['O','O', 'O', 'O', 'O', 'O', 'X', 'O'])\n",
    "print(np.where(abc==\"O\"))\n",
    "print(\"abc\",abc)\n",
    "now =2\n",
    "where_idx = np.where(abc[now+1:]==\"O\")[0]\n",
    "print(where_idx)\n",
    "print(where_idx+now+1)\n",
    "\n",
    "where_idx2 = np.where(abc[now+1:]==\"O\")[0]+now+1\n",
    "print(where_idx2)"
   ]
  },
  {
   "cell_type": "markdown",
   "metadata": {},
   "source": [
    "cmd를 최적화해보자"
   ]
  },
  {
   "cell_type": "markdown",
   "metadata": {},
   "source": [
    "최적화부분만 보자"
   ]
  },
  {
   "cell_type": "code",
   "execution_count": 9,
   "metadata": {},
   "outputs": [
    {
     "name": "stdout",
     "output_type": "stream",
     "text": [
      "['D 2', 'C', 'U 3', 'C', 'D 4', 'C', 'U 2', 'Z']\n"
     ]
    }
   ],
   "source": [
    "#CMD 최적화 - 직전에 유형이 같은것이 나온다면 합친다\n",
    "cmd = [\"D 2\",\"C\",\"U 3\",\"C\",\"D 4\",\"C\",\"U 2\",\"Z\",\"Z\"]\n",
    "final_cmd = []\n",
    "type_dict = {\"U\":\"move\",\"D\":\"move\", \"Z\":\"delete\",\"C\":\"delete\",\"N\":\"default\"}\n",
    "\n",
    "#U,D 합치기\n",
    "move_cmd = []\n",
    "before_i=\"N\"\n",
    "for i in cmd:\n",
    "    if type_dict[i[0]]==type_dict[before_i[0]]:\n",
    "        if type_dict[i[0]]==\"move\":\n",
    "            move_cmd.append(i)\n",
    "\n",
    "    else:\n",
    "        if len(move_cmd)>1:\n",
    "            move_cmd_merged = [ x.replace(\"U \",\"-\").replace(\"D \",\"+\") for x in move_cmd]\n",
    "            res = eval(''.join(move_cmd_merged))\n",
    "            if res==0:\n",
    "                pass\n",
    "            elif res<0:\n",
    "                cmd = \"U \"+str(-res)\n",
    "            elif res>0:\n",
    "                cmd = \"D \"+str(res)\n",
    "\n",
    "            final_cmd.append(cmd)\n",
    "        elif len(move_cmd)==1:\n",
    "            final_cmd.append(move_cmd[0])\n",
    "        else:\n",
    "            final_cmd.append(i)\n",
    "    before_i = i\n",
    "\n",
    "print(final_cmd)"
   ]
  },
  {
   "cell_type": "markdown",
   "metadata": {},
   "source": [
    "최적화했으나, 런타임에러가 부분뜸"
   ]
  },
  {
   "cell_type": "code",
   "execution_count": 11,
   "metadata": {},
   "outputs": [
    {
     "data": {
      "text/plain": [
       "'OOOOXOOO'"
      ]
     },
     "execution_count": 11,
     "metadata": {},
     "output_type": "execute_result"
    }
   ],
   "source": [
    "import numpy as np\n",
    "def solution(n, k, cmd):\n",
    "    nlist =np.array(list(\"O\"*n))\n",
    "    now_point = k\n",
    "    deleted_idx = []\n",
    "    before_nlist = []\n",
    "    \n",
    "     \n",
    "    final_cmd = []\n",
    "    type_dict = {\"U\":\"move\",\"D\":\"move\", \"Z\":\"delete\",\"C\":\"delete\",\"N\":\"default\"}\n",
    "\n",
    "    #U,D 합치기\n",
    "    move_cmd = []\n",
    "    before_i=\"N\"\n",
    "    for i in cmd:\n",
    "        if type_dict[i[0]]==type_dict[before_i[0]]:\n",
    "            if type_dict[i[0]]==\"move\":\n",
    "                move_cmd.append(i)\n",
    "\n",
    "        else:\n",
    "            if len(move_cmd)>1:\n",
    "                move_cmd_merged = [ x.replace(\"U \",\"-\").replace(\"D \",\"+\") for x in move_cmd]\n",
    "                res = eval(''.join(move_cmd_merged))\n",
    "                if res==0:\n",
    "                    pass\n",
    "                elif res<0:\n",
    "                    cmd = \"U \"+str(-res)\n",
    "                elif res>0:\n",
    "                    cmd = \"D \"+str(res)\n",
    "\n",
    "                final_cmd.append(cmd)\n",
    "            elif len(move_cmd)==1:\n",
    "                final_cmd.append(move_cmd[0])\n",
    "            else:\n",
    "                final_cmd.append(i)\n",
    "        before_i = i\n",
    "    \n",
    "    for cmd_i in cmd:\n",
    "        func = cmd_i.split()\n",
    "        \n",
    "        #Type1 : Z\n",
    "        if func[0]==\"Z\":\n",
    "            nlist[deleted_idx.pop()]=\"O\"\n",
    "    \n",
    "        #TYpe2: C, U, D\n",
    "        before_nlist = nlist.copy()\n",
    "        if func[0]==\"C\":\n",
    "            nlist[now_point]=\"X\"\n",
    "            deleted_idx.append(now_point)\n",
    "            \n",
    "            temp = np.where(nlist[now_point+1:]==\"O\")[0]+now_point+1\n",
    "            if len(temp)==0:\n",
    "                temp = np.where(nlist[:now_point]==\"O\")[0]\n",
    "                now_point = temp[-1]\n",
    "            else:\n",
    "                now_point = temp[0]\n",
    "\n",
    "                \n",
    "        elif func[0]==\"U\":\n",
    "            temp = np.where(nlist[:now_point]==\"O\")[0]\n",
    "            now_point = temp[-int(func[1])]\n",
    "            \n",
    "        elif func[0]==\"D\":\n",
    "            temp = np.where(nlist[now_point+1:]==\"O\")[0]+now_point+1\n",
    "            now_point = temp[int(func[1])-1]\n",
    "    return \"\".join(nlist)\n",
    "\n",
    "\n",
    "solution(8,2,[\"D 2\",\"C\",\"U 3\",\"C\",\"D 4\",\"C\",\"U 2\",\"Z\",\"Z\"]) #\"OOOOXOOO\"\n",
    "# solution(8,2,[\"D 2\",\"C\",\"U 3\",\"C\",\"D 4\",\"C\",\"U 2\",\"Z\",\"Z\",\"U 1\",\"C\"]) #\"OOXOXOOO\"                  "
   ]
  },
  {
   "cell_type": "code",
   "execution_count": 72,
   "metadata": {},
   "outputs": [
    {
     "name": "stdout",
     "output_type": "stream",
     "text": [
      "[0, 1, 2, 3, 4, 5, 6, 7]\n"
     ]
    },
    {
     "data": {
      "text/plain": [
       "'OOOOOOOO'"
      ]
     },
     "execution_count": 72,
     "metadata": {},
     "output_type": "execute_result"
    }
   ],
   "source": [
    "import numpy as np\n",
    "def solution(n, k, cmd):\n",
    "    \n",
    "    #CMD 최적화 - 직전에 유형이 같은것이 나온다면 합친다\n",
    "    final_cmd = []\n",
    "    type_dict = {\"U\":\"move\",\"D\":\"move\", \"Z\":\"delete\",\"C\":\"delete\",\"N\":\"default\"}\n",
    "\n",
    "    #U,D 합치기\n",
    "    move_cmd = []\n",
    "    before_i=\"N\"\n",
    "    for i in cmd:\n",
    "        if type_dict[i[0]]==type_dict[before_i[0]]:\n",
    "            if type_dict[i[0]]==\"move\":\n",
    "                move_cmd.append(i)\n",
    "\n",
    "        else:\n",
    "            if len(move_cmd)>1:\n",
    "                move_cmd_merged = [ x.replace(\"U \",\"-\").replace(\"D \",\"+\") for x in move_cmd]\n",
    "                res = eval(''.join(move_cmd_merged))\n",
    "                if res==0:\n",
    "                    pass\n",
    "                elif res<0:\n",
    "                    cmd = \"U \"+str(-res)\n",
    "                elif res>0:\n",
    "                    cmd = \"D \"+str(res)\n",
    "\n",
    "                final_cmd.append(cmd)\n",
    "            elif len(move_cmd)==1:\n",
    "                final_cmd.append(move_cmd[0])\n",
    "            else:\n",
    "                pass\n",
    "        before_i = i\n",
    "    \n",
    "    \n",
    "    nlist =list(range(n))    \n",
    "    now_point = k\n",
    "    before_nlist =[]\n",
    "    \n",
    "    for cmd_i in final_cmd:\n",
    "        func = cmd_i.split()\n",
    "        \n",
    "        #Type1 : Z\n",
    "        if func[0]==\"Z\":\n",
    "            nlist=before_nlist.pop()\n",
    "    \n",
    "        #TYpe2: C, U, D\n",
    "        \n",
    "        if func[0]==\"C\":\n",
    "            before_nlist.append(nlist.copy())\n",
    "            nlist.pop(now_point)\n",
    "            if now_point ==len(nlist)-1:\n",
    "                now_point-=1\n",
    "            else:\n",
    "                now_point+1\n",
    "                \n",
    "        elif func[0]==\"U\":\n",
    "            now_point-=int(func[1])\n",
    "            \n",
    "        elif func[0]==\"D\":\n",
    "            now_point+=int(func[1])\n",
    "\n",
    "    nlist_final = list(\"X\"*n)\n",
    "    print(nlist)\n",
    "    for k in nlist:\n",
    "         nlist_final[k]=\"O\"\n",
    "                \n",
    "    return \"\".join(nlist_final)\n",
    "\n",
    "solution(8,2,[\"D 2\",\"C\",\"U 3\",\"C\",\"D 4\",\"C\",\"U 2\",\"Z\",\"Z\"]) #\"OOOOXOOO\"\n",
    "# solution(8,2,[\"D 2\",\"C\",\"U 3\",\"C\",\"D 4\",\"C\",\"U 2\",\"Z\",\"Z\",\"U 1\",\"C\"]) #\"OOXOXOOO\"                  \n"
   ]
  },
  {
   "cell_type": "code",
   "execution_count": null,
   "metadata": {},
   "outputs": [],
   "source": [
    "\n",
    "리스트를 인덱싱 하지않고 바로 delete하게 했으나 그래도 시간초과가 난다 "
   ]
  },
  {
   "cell_type": "code",
   "execution_count": 60,
   "metadata": {},
   "outputs": [
    {
     "data": {
      "text/plain": [
       "'OOOOXOOO'"
      ]
     },
     "execution_count": 60,
     "metadata": {},
     "output_type": "execute_result"
    }
   ],
   "source": [
    "import numpy as np\n",
    "def solution(n, k, cmd):\n",
    "    nlist =list(range(n))    \n",
    "    now_point = k\n",
    "    before_nlist =[]\n",
    "    \n",
    "    for cmd_i in cmd:\n",
    "        func = cmd_i.split()\n",
    "        \n",
    "        #Type1 : Z\n",
    "        if func[0]==\"Z\":\n",
    "            nlist=before_nlist.pop()\n",
    "    \n",
    "        #TYpe2: C, U, D\n",
    "        \n",
    "        if func[0]==\"C\":\n",
    "            before_nlist.append(nlist.copy())\n",
    "            nlist.pop(now_point)\n",
    "            if now_point ==len(nlist)-1:\n",
    "                now_point-=1\n",
    "            else:\n",
    "                now_point+1\n",
    "                \n",
    "        elif func[0]==\"U\":\n",
    "            now_point-=int(func[1])\n",
    "            \n",
    "        elif func[0]==\"D\":\n",
    "            now_point+=int(func[1])\n",
    "\n",
    "        nlist_final = list(\"X\"*n)\n",
    "#         print(nlist)\n",
    "        for k in nlist:\n",
    "             nlist_final[k]=\"O\"\n",
    "                \n",
    "    return \"\".join(nlist_final)\n",
    "\n",
    "\n",
    "solution(8,2,[\"D 2\",\"C\",\"U 3\",\"C\",\"D 4\",\"C\",\"U 2\",\"Z\",\"Z\"]) #\"OOOOXOOO\"\n",
    "# solution(8,2,[\"D 2\",\"C\",\"U 3\",\"C\",\"D 4\",\"C\",\"U 2\",\"Z\",\"Z\",\"U 1\",\"C\"]) #\"OOXOXOOO\"                  "
   ]
  },
  {
   "cell_type": "markdown",
   "metadata": {},
   "source": [
    "np.where 로바꿨으나 역시 시간초과"
   ]
  },
  {
   "cell_type": "code",
   "execution_count": 52,
   "metadata": {},
   "outputs": [
    {
     "data": {
      "text/plain": [
       "'OOXOXOOO'"
      ]
     },
     "execution_count": 52,
     "metadata": {},
     "output_type": "execute_result"
    }
   ],
   "source": [
    "import numpy as np\n",
    "def solution(n, k, cmd):\n",
    "    nlist =np.array(list(\"O\"*n))\n",
    "    now_point = k\n",
    "    deleted_idx = []\n",
    "    before_nlist = []\n",
    "    \n",
    "    for cmd_i in cmd:\n",
    "        func = cmd_i.split()\n",
    "        \n",
    "        #Type1 : Z\n",
    "        if func[0]==\"Z\":\n",
    "            nlist[deleted_idx.pop()]=\"O\"\n",
    "    \n",
    "        #TYpe2: C, U, D\n",
    "        before_nlist = nlist.copy()\n",
    "        if func[0]==\"C\":\n",
    "            nlist[now_point]=\"X\"\n",
    "            deleted_idx.append(now_point)\n",
    "            \n",
    "            temp = np.where(nlist[now_point+1:]==\"O\")[0]+now_point+1\n",
    "            if len(temp)==0:\n",
    "                temp = np.where(nlist[:now_point]==\"O\")[0]\n",
    "                now_point = temp[-1]\n",
    "            else:\n",
    "                now_point = temp[0]\n",
    "\n",
    "                \n",
    "        elif func[0]==\"U\":\n",
    "            temp = np.where(nlist[:now_point]==\"O\")[0]\n",
    "            now_point = temp[-int(func[1])]\n",
    "            \n",
    "        elif func[0]==\"D\":\n",
    "            temp = np.where(nlist[now_point+1:]==\"O\")[0]+now_point+1\n",
    "            now_point = temp[int(func[1])-1]\n",
    "    return \"\".join(nlist)\n",
    "\n",
    "\n",
    "# solution(8,2,[\"D 2\",\"C\",\"U 3\",\"C\",\"D 4\",\"C\",\"U 2\",\"Z\",\"Z\"]) #\"OOOOXOOO\"\n",
    "solution(8,2,[\"D 2\",\"C\",\"U 3\",\"C\",\"D 4\",\"C\",\"U 2\",\"Z\",\"Z\",\"U 1\",\"C\"]) #\"OOXOXOOO\"                  "
   ]
  },
  {
   "cell_type": "code",
   "execution_count": 51,
   "metadata": {},
   "outputs": [
    {
     "name": "stdout",
     "output_type": "stream",
     "text": [
      "명령어: D 2\n",
      "temp [3 4 5 6 7]\n",
      "2\n",
      "한단계 후 상황: ['O' 'O' 'O' 'O' 'O' 'O' 'O' 'O']\n",
      "now_point 4\n",
      "명령어: C\n",
      "한단계 후 상황: ['O' 'O' 'O' 'O' 'X' 'O' 'O' 'O']\n",
      "now_point 5\n",
      "명령어: U 3\n",
      "한단계 후 상황: ['O' 'O' 'O' 'O' 'X' 'O' 'O' 'O']\n",
      "now_point 1\n",
      "명령어: C\n",
      "한단계 후 상황: ['O' 'X' 'O' 'O' 'X' 'O' 'O' 'O']\n",
      "now_point 2\n",
      "명령어: D 4\n",
      "temp [3 5 6 7]\n",
      "4\n",
      "한단계 후 상황: ['O' 'X' 'O' 'O' 'X' 'O' 'O' 'O']\n",
      "now_point 7\n",
      "명령어: C\n",
      "한단계 후 상황: ['O' 'X' 'O' 'O' 'X' 'O' 'O' 'X']\n",
      "now_point 6\n",
      "명령어: U 2\n",
      "한단계 후 상황: ['O' 'X' 'O' 'O' 'X' 'O' 'O' 'X']\n",
      "now_point 3\n",
      "명령어: Z\n",
      "한단계 후 상황: ['O' 'X' 'O' 'O' 'X' 'O' 'O' 'O']\n",
      "now_point 3\n",
      "명령어: Z\n",
      "한단계 후 상황: ['O' 'O' 'O' 'O' 'X' 'O' 'O' 'O']\n",
      "now_point 3\n",
      "명령어: U 1\n",
      "한단계 후 상황: ['O' 'O' 'O' 'O' 'X' 'O' 'O' 'O']\n",
      "now_point 2\n",
      "명령어: C\n",
      "한단계 후 상황: ['O' 'O' 'X' 'O' 'X' 'O' 'O' 'O']\n",
      "now_point 3\n"
     ]
    },
    {
     "data": {
      "text/plain": [
       "'OOXOXOOO'"
      ]
     },
     "execution_count": 51,
     "metadata": {},
     "output_type": "execute_result"
    }
   ],
   "source": [
    "import numpy as np\n",
    "def solution(n, k, cmd):\n",
    "    nlist =np.array(list(\"O\"*n))\n",
    "    now_point = k\n",
    "    deleted_idx = []\n",
    "    before_nlist = []\n",
    "    \n",
    "    for cmd_i in cmd:\n",
    "        print(\"명령어:\",cmd_i)\n",
    "        func = cmd_i.split()\n",
    "        \n",
    "        #Type1 : Z\n",
    "        if func[0]==\"Z\":\n",
    "            nlist[deleted_idx.pop()]=\"O\"\n",
    "    \n",
    "        #TYpe2: C, U, D\n",
    "        before_nlist = nlist.copy()\n",
    "        if func[0]==\"C\":\n",
    "            nlist[now_point]=\"X\"\n",
    "            deleted_idx.append(now_point)\n",
    "            \n",
    "            temp = np.where(nlist[now_point+1:]==\"O\")[0]+now_point+1\n",
    "            if len(temp)==0:\n",
    "                temp = np.where(nlist[:now_point]==\"O\")[0]\n",
    "                now_point = temp[-1]\n",
    "            else:\n",
    "                now_point = temp[0]\n",
    "\n",
    "                \n",
    "        elif func[0]==\"U\":\n",
    "            temp = np.where(nlist[:now_point]==\"O\")[0]\n",
    "            now_point = temp[-int(func[1])]\n",
    "            \n",
    "        elif func[0]==\"D\":\n",
    "            temp = np.where(nlist[now_point+1:]==\"O\")[0]+now_point+1\n",
    "            print(\"temp\",temp)\n",
    "            print(func[1])\n",
    "            now_point = temp[int(func[1])-1]\n",
    "        \n",
    "        print(\"한단계 후 상황:\",nlist)\n",
    "        print(\"now_point\",now_point)\n",
    "    return \"\".join(nlist)\n",
    "\n",
    "\n",
    "# solution(8,2,[\"D 2\",\"C\",\"U 3\",\"C\",\"D 4\",\"C\",\"U 2\",\"Z\",\"Z\"]) #\"OOOOXOOO\"\n",
    "solution(8,2,[\"D 2\",\"C\",\"U 3\",\"C\",\"D 4\",\"C\",\"U 2\",\"Z\",\"Z\",\"U 1\",\"C\"]) #\"OOXOXOOO\"                  "
   ]
  },
  {
   "cell_type": "markdown",
   "metadata": {},
   "source": [
    "다 통과했으나 시간초과남!"
   ]
  },
  {
   "cell_type": "code",
   "execution_count": 26,
   "metadata": {},
   "outputs": [
    {
     "name": "stdout",
     "output_type": "stream",
     "text": [
      "now_point 2\n",
      "어떤 명령어?: ['D', '2']\n",
      "['O' 'O' 'O' 'O' 'O' 'O' 'O' 'O']\n",
      "now_point 4\n",
      "now_point 4\n",
      "어떤 명령어?: ['C']\n",
      "['O' 'O' 'O' 'O' 'X' 'O' 'O' 'O']\n",
      "now_point 5\n",
      "now_point 5\n",
      "어떤 명령어?: ['U', '3']\n",
      "['O' 'O' 'O' 'O' 'X' 'O' 'O' 'O']\n",
      "now_point 1\n",
      "now_point 1\n",
      "어떤 명령어?: ['C']\n",
      "['O' 'X' 'O' 'O' 'X' 'O' 'O' 'O']\n",
      "now_point 2\n",
      "now_point 2\n",
      "어떤 명령어?: ['D', '4']\n",
      "['O' 'X' 'O' 'O' 'X' 'O' 'O' 'O']\n",
      "now_point 7\n",
      "now_point 7\n",
      "어떤 명령어?: ['C']\n",
      "['O' 'X' 'O' 'O' 'X' 'O' 'O' 'X']\n",
      "now_point 6\n",
      "now_point 6\n",
      "어떤 명령어?: ['U', '2']\n",
      "['O' 'X' 'O' 'O' 'X' 'O' 'O' 'X']\n",
      "now_point 3\n",
      "now_point 3\n",
      "어떤 명령어?: ['Z']\n",
      "['O' 'X' 'O' 'O' 'X' 'O' 'O' 'O']\n",
      "now_point 3\n",
      "now_point 3\n",
      "어떤 명령어?: ['Z']\n",
      "['O' 'O' 'O' 'O' 'X' 'O' 'O' 'O']\n",
      "now_point 3\n",
      "now_point 3\n",
      "어떤 명령어?: ['U', '1']\n",
      "['O' 'O' 'O' 'O' 'X' 'O' 'O' 'O']\n",
      "now_point 2\n",
      "now_point 2\n",
      "어떤 명령어?: ['C']\n",
      "['O' 'O' 'X' 'O' 'X' 'O' 'O' 'O']\n",
      "now_point 3\n"
     ]
    },
    {
     "data": {
      "text/plain": [
       "'OOXOXOOO'"
      ]
     },
     "execution_count": 26,
     "metadata": {},
     "output_type": "execute_result"
    }
   ],
   "source": [
    "import numpy as np\n",
    "def solution(n, k, cmd):\n",
    "    nlist =np.array(list(\"O\"*n))\n",
    "    now_point = k\n",
    "    deleted_idx = []\n",
    "    before_nlist = []\n",
    "    for cmd_i in cmd:\n",
    "        \n",
    "        func = cmd_i.split()\n",
    "        print(\"now_point\",now_point)\n",
    "        print(\"어떤 명령어?:\",func)\n",
    "        \n",
    "        #Type1 : Z\n",
    "        if func[0]==\"Z\":\n",
    "            nlist[deleted_idx.pop()]=\"O\"\n",
    "    \n",
    "        #TYpe2: C, U, D\n",
    "        before_nlist = nlist.copy()\n",
    "        if func[0]==\"C\":\n",
    "            nlist[now_point]=\"X\"\n",
    "            deleted_idx.append(now_point)\n",
    "            \n",
    "            if \"O\" not in nlist[now_point:]:\n",
    "                now_point-=1\n",
    "                while nlist[now_point]==\"X\":\n",
    "                    now_point-=1\n",
    "            else:\n",
    "                now_point+=1\n",
    "                while nlist[now_point]==\"X\":\n",
    "                    now_point+=1\n",
    "                \n",
    "        elif func[0]==\"U\":\n",
    "            for k in range(int(func[1])):\n",
    "                now_point-=1\n",
    "                if nlist[now_point]!=\"O\":\n",
    "                    while nlist[now_point]==\"X\":\n",
    "                        now_point-=1\n",
    "            \n",
    "        elif func[0]==\"D\":\n",
    "            for k in range(int(func[1])):\n",
    "                now_point+=1\n",
    "                if nlist[now_point]!=\"O\":\n",
    "                    while nlist[now_point]==\"X\":\n",
    "                        now_point+=1\n",
    "        print(nlist)\n",
    "        print(\"now_point\",now_point)\n",
    "    return \"\".join(nlist)\n",
    "\n",
    "\n",
    "# solution(8,2,[\"D 2\",\"C\",\"U 3\",\"C\",\"D 4\",\"C\",\"U 2\",\"Z\",\"Z\"]) #\"OOOOXOOO\"\n",
    "solution(8,2,[\"D 2\",\"C\",\"U 3\",\"C\",\"D 4\",\"C\",\"U 2\",\"Z\",\"Z\",\"U 1\",\"C\"]) #\"OOXOXOOO\"                  "
   ]
  }
 ],
 "metadata": {
  "kernelspec": {
   "display_name": "Python 3",
   "language": "python",
   "name": "python3"
  },
  "language_info": {
   "codemirror_mode": {
    "name": "ipython",
    "version": 3
   },
   "file_extension": ".py",
   "mimetype": "text/x-python",
   "name": "python",
   "nbconvert_exporter": "python",
   "pygments_lexer": "ipython3",
   "version": "3.7.4"
  }
 },
 "nbformat": 4,
 "nbformat_minor": 2
}
