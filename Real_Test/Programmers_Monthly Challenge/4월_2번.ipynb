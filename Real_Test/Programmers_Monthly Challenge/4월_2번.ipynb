{
 "cells": [
  {
   "cell_type": "markdown",
   "metadata": {},
   "source": [
    "#### 문제 설명\n",
    "- 다음 규칙을 지키는 문자열을 올바른 괄호 문자열이라고 정의합니다.\n",
    "\n",
    "- (), [], {} 는 모두 올바른 괄호 문자열입니다.\n",
    "- 만약 A가 올바른 괄호 문자열이라면, (A), [A], {A} 도 올바른 괄호 문자열입니다. 예를 들어, [] 가 올바른 괄호 문자열이므로, ([]) 도 올바른 괄호 문자열입니다.\n",
    "- 만약 A, B가 올바른 괄호 문자열이라면, AB 도 올바른 괄호 문자열입니다. 예를 들어, {} 와 ([]) 가 올바른 괄호 문자열이므로, {}([]) 도 올바른 괄호 문자열입니다.\n",
    "- 대괄호, 중괄호, 그리고 소괄호로 이루어진 문자열 s가 매개변수로 주어집니다. 이 s를 왼쪽으로 x (0 ≤ x < (s의 길이)) 칸만큼 회전시켰을 때 s가 올바른 괄호 문자열이 되게 하는 x의 개수를 return 하도록 solution 함수를 완성해주세요.\n",
    "\n"
   ]
  },
  {
   "cell_type": "code",
   "execution_count": 61,
   "metadata": {},
   "outputs": [
    {
     "data": {
      "text/plain": [
       "1"
      ]
     },
     "execution_count": 61,
     "metadata": {},
     "output_type": "execute_result"
    }
   ],
   "source": [
    "import collections\n",
    "\n",
    "def solution(s):\n",
    "    if len(s)%2==1:\n",
    "        return 0\n",
    "    def check_func(string):\n",
    "        bracket_dict = {\"(\":\")\", \"[\":\"]\", \"{\":\"}\"}\n",
    "        temp=[]\n",
    "        for s in string:\n",
    "            if s in bracket_dict:\n",
    "                temp.append(s)\n",
    "            else:\n",
    "                if len(temp)==0:\n",
    "                    return False\n",
    "                elif s != bracket_dict[temp.pop()]:\n",
    "                    return False\n",
    "        return True    \n",
    "    \n",
    "    trial = 0\n",
    "    answer = 0\n",
    "    while trial<len(s):\n",
    "        if check_func(s):\n",
    "            answer+=1\n",
    "        s_deq = collections.deque(s)\n",
    "        s_deq.rotate(-1)\n",
    "        s = list(s_deq)\n",
    "        trial+=1\n",
    "    return answer\n",
    "\n",
    "# solution(\"[](){}\") #3\n",
    "solution(\"[]\") #2"
   ]
  },
  {
   "cell_type": "code",
   "execution_count": 46,
   "metadata": {},
   "outputs": [
    {
     "data": {
      "text/plain": [
       "deque(['b', 'c', 'd', 'e', 'a'])"
      ]
     },
     "execution_count": 46,
     "metadata": {},
     "output_type": "execute_result"
    }
   ],
   "source": [
    "s_deq = collections.deque(['a', 'b', 'c', 'd', 'e'])\n",
    "s_deq.rotate(-1)\n",
    "s_deq"
   ]
  },
  {
   "cell_type": "code",
   "execution_count": 7,
   "metadata": {},
   "outputs": [],
   "source": [
    "import collections\n",
    "def rorate_one(s):\n",
    "    s_deq = collections.deque(['a', 'b', 'c', 'd', 'e'])\n",
    "    s_deq.rotate(-1)\n",
    "    return list(s_deq)\n",
    "\n"
   ]
  },
  {
   "cell_type": "code",
   "execution_count": 50,
   "metadata": {},
   "outputs": [
    {
     "data": {
      "text/plain": [
       "True"
      ]
     },
     "execution_count": 50,
     "metadata": {},
     "output_type": "execute_result"
    }
   ],
   "source": [
    "def check_func(string):\n",
    "    bracket_dict = {\"(\":\")\", \"[\":\"]\", \"{\":\"}\"}\n",
    "    temp=[]\n",
    "    for s in string:\n",
    "        if s in bracket_dict:\n",
    "            temp.append(s)\n",
    "        else:\n",
    "            if len(temp)==0:\n",
    "                return False\n",
    "            elif s != bracket_dict[temp.pop()]:\n",
    "                return False\n",
    "    return True    \n",
    "    \n",
    "    \n",
    "check_func(\"{}([])\")"
   ]
  },
  {
   "cell_type": "code",
   "execution_count": 36,
   "metadata": {},
   "outputs": [
    {
     "name": "stdout",
     "output_type": "stream",
     "text": [
      "s }]()[{\n",
      "trial 6\n",
      "check_func(s) False\n",
      "s deq 리스트로 바꾼직후 [']', '(', ')', '[', '{', '}']\n",
      "s [']', '(', ')', '[', '{', '}']\n",
      "trial 5\n",
      "check_func(s) False\n",
      "s deq 리스트로 바꾼직후 ['(', ')', '[', '{', '}', ']']\n",
      "s ['(', ')', '[', '{', '}', ']']\n",
      "trial 4\n",
      "check_func(s) True\n",
      "answer을 추가합니다\n",
      "s deq 리스트로 바꾼직후 [')', '[', '{', '}', ']', '(']\n",
      "s [')', '[', '{', '}', ']', '(']\n",
      "trial 3\n",
      "check_func(s) False\n",
      "s deq 리스트로 바꾼직후 ['[', '{', '}', ']', '(', ')']\n",
      "s ['[', '{', '}', ']', '(', ')']\n",
      "trial 2\n",
      "check_func(s) True\n",
      "answer을 추가합니다\n",
      "s deq 리스트로 바꾼직후 ['{', '}', ']', '(', ')', '[']\n",
      "s ['{', '}', ']', '(', ')', '[']\n",
      "trial 1\n",
      "check_func(s) False\n",
      "s deq 리스트로 바꾼직후 ['}', ']', '(', ')', '[', '{']\n"
     ]
    },
    {
     "data": {
      "text/plain": [
       "2"
      ]
     },
     "execution_count": 36,
     "metadata": {},
     "output_type": "execute_result"
    }
   ],
   "source": [
    "import collections\n",
    "\n",
    "def solution(s):\n",
    "    \n",
    "    def check_func(string):\n",
    "        bracket_dict = {\"(\":\")\", \"[\":\"]\", \"{\":\"}\", \"<\":\">\"}\n",
    "        temp=[]\n",
    "        for s in string:\n",
    "            if s in bracket_dict:\n",
    "                temp.append(s)\n",
    "            else:\n",
    "                if len(temp)==0:\n",
    "                    return False\n",
    "                elif s != bracket_dict[temp.pop()]:\n",
    "                    return False\n",
    "        return True    \n",
    "    \n",
    "    trial = len(s)\n",
    "    answer = 0\n",
    "    while trial>0:\n",
    "        print(\"s\",s)\n",
    "        print(\"trial\", trial)\n",
    "        print(\"check_func(s)\",check_func(s))\n",
    "        if check_func(s):\n",
    "            answer+=1\n",
    "            print(\"answer을 추가합니다\")\n",
    "        s_deq = collections.deque(s)\n",
    "        s_deq.rotate(-1)\n",
    "        s = list(s_deq)\n",
    "        print(\"s deq 리스트로 바꾼직후\",s)\n",
    "        trial-=1\n",
    "    return answer\n",
    "\n",
    "# solution(\"[](){}\") #3\n",
    "solution(\"}]()[{\") #2"
   ]
  },
  {
   "cell_type": "code",
   "execution_count": null,
   "metadata": {},
   "outputs": [],
   "source": []
  }
 ],
 "metadata": {
  "kernelspec": {
   "display_name": "Python 3",
   "language": "python",
   "name": "python3"
  },
  "language_info": {
   "codemirror_mode": {
    "name": "ipython",
    "version": 3
   },
   "file_extension": ".py",
   "mimetype": "text/x-python",
   "name": "python",
   "nbconvert_exporter": "python",
   "pygments_lexer": "ipython3",
   "version": "3.7.4"
  }
 },
 "nbformat": 4,
 "nbformat_minor": 2
}
