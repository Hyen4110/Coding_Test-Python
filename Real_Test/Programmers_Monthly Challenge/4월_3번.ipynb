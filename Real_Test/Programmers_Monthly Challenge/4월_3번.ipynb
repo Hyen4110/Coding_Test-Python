{
 "cells": [
  {
   "cell_type": "markdown",
   "metadata": {},
   "source": [
    "#### 문제 설명\n",
    "- 각 점에 가중치가 부여된 트리가 주어집니다. 당신은 다음 연산을 통하여, 이 트리의 모든 점들의 가중치를 0으로 만들고자 합니다.\n",
    "\n",
    "- 임의의 연결된 두 점을 골라서 한쪽은 1 증가시키고, 다른 한쪽은 1 감소시킵니다.\n",
    "- 하지만, 모든 트리가 위의 행동을 통하여 모든 점들의 가중치를 0으로 만들 수 있는 것은 아닙니다. 당신은 주어진 트리에 대해서 해당 사항이 가능한지 판별하고, 만약 가능하다면 최소한의 행동을 통하여 모든 점들의 가중치를 0으로 만들고자 합니다.\n",
    "\n",
    "- 트리의 각 점의 가중치를 의미하는 1차원 정수 배열 a와 트리의 간선 정보를 의미하는 edges가 매개변수로 주어집니다. 주어진 행동을 통해 트리의 모든 점들의 가중치를 0으로 만드는 것이 불가능하다면 -1을, 가능하다면 최소 몇 번만에 가능한지를 찾아 return 하도록 solution 함수를 완성해주세요. (만약 처음부터 트리의 모든 정점의 가중치가 0이라면, 0을 return 해야 합니다.)\n",
    "\n",
    "#### 제한사항\n",
    "- a의 길이는 2 이상 300,000 이하입니다.\n",
    "- a의 모든 수는 각각 -1,000,000 이상 1,000,000 이하입니다.\n",
    "- a[i]는 i번 정점의 가중치를 의미합니다.\n",
    "- edges의 행의 개수는 (a의 길이 - 1)입니다.\n",
    "- edges의 각 행은 [u, v] 2개의 정수로 이루어져 있으며, 이는 u번 정점과 v번 정점이 간선으로 연결되어 있음을 의미합니다.\n",
    "- edges가 나타내는 그래프는 항상 트리로 주어집니다."
   ]
  },
  {
   "cell_type": "code",
   "execution_count": 2,
   "metadata": {
    "scrolled": true
   },
   "outputs": [
    {
     "data": {
      "text/plain": [
       "{0: -5, 1: 0, 2: 2, 3: 1, 4: 2}"
      ]
     },
     "execution_count": 2,
     "metadata": {},
     "output_type": "execute_result"
    }
   ],
   "source": [
    "a = [-5,0,2,1,2]\n",
    "weight_dict = {key:val for key, val in enumerate(a)}\n",
    "weight_dict    "
   ]
  },
  {
   "cell_type": "code",
   "execution_count": 114,
   "metadata": {},
   "outputs": [
    {
     "data": {
      "text/plain": [
       "14"
      ]
     },
     "execution_count": 114,
     "metadata": {},
     "output_type": "execute_result"
    }
   ],
   "source": [
    "import collections\n",
    "def solution(a, edges):\n",
    "    if sum(a)!=0:\n",
    "        return -1\n",
    "    #가중치 dict\n",
    "    weight_dict = {key:val for key, val in enumerate(a)}\n",
    "    a_list = list(weight_dict.keys())\n",
    "    edge_dict = collections.defaultdict(list)\n",
    "    \n",
    "    #edge_dict\n",
    "    for a1, a2 in edges:\n",
    "        edge_dict[a1].append(a2)\n",
    "        edge_dict[a2].append(a1)\n",
    "    \n",
    "    #edge가 없는 순서대로 a_list 정렬\n",
    "    len_dict = [len(edge_dict[x]) for x in  a_list]\n",
    "    if set(len_dict) == 1:\n",
    "        weight_dict = [-x if x<0 else x for x in weight_dict]\n",
    "        return sum(weight_dict)\n",
    "    \n",
    "    answer=0\n",
    "    while True:\n",
    "        out_list = [key for key in edge_dict if edge_dict[key]==[]]\n",
    "        a_list = list(set(a_list)-set(out_list))\n",
    "        \n",
    "        if a_list==[]:\n",
    "            return answer\n",
    "        a_list.sort(key = lambda x:len(edge_dict[x]))\n",
    "        for node in a_list:\n",
    "            if edge_dict[node] ==[] and weight_dict[node]!=0:\n",
    "                return -1\n",
    "            else:\n",
    "                neighbor_list = edge_dict[node]\n",
    "                for neighbor in neighbor_list:\n",
    "                    if weight_dict[node]==0:\n",
    "                        continue\n",
    "                    else:\n",
    "                        weight_dict[neighbor]+=weight_dict[node]\n",
    "                        answer+=abs(weight_dict[node])\n",
    "                        weight_dict[node]=0\n",
    "                        #각자 edge_dict value에서 서로 제외\n",
    "                    edge_dict[node].remove(neighbor)\n",
    "                    edge_dict[neighbor].remove(node)\n",
    "    if sum(list(weight_dict.values()))!=0:\n",
    "        return -1\n",
    "    return answer\n",
    "\n",
    "# solution([-5,0,2,1,2],[[0,1],[3,4],[2,3],[0,3]]) #9\n",
    "# solution([0,1,0],[[0,1],[1,2]])#-1\n",
    "solution([4,2,-2,-4], [[0,1],[1,2],[2,3]])\n",
    "# solution([0,3,-3,3,-3,0], [[0,1],[0,2],[0,3],[0,4],[4,5]]) #12\n",
    "# solution([3,-3,3,0,-3],[[0,1],[1,2],[2,3],[3,4],[4,0]]) #12"
   ]
  },
  {
   "cell_type": "code",
   "execution_count": 106,
   "metadata": {},
   "outputs": [
    {
     "data": {
      "text/plain": [
       "14"
      ]
     },
     "execution_count": 106,
     "metadata": {},
     "output_type": "execute_result"
    }
   ],
   "source": [
    "import collections\n",
    "def solution(a, edges):\n",
    "    if sum(a)!=0:\n",
    "        return -1\n",
    "    #가중치 dict\n",
    "    weight_dict = {key:val for key, val in enumerate(a)}\n",
    "    a_list = list(weight_dict.keys())\n",
    "    edge_dict = collections.defaultdict(list)\n",
    "    \n",
    "    #edge_dict\n",
    "    for a1, a2 in edges:\n",
    "        edge_dict[a1].append(a2)\n",
    "        edge_dict[a2].append(a1)\n",
    "    \n",
    "    #edge가 없는 순서대로 a_list 정렬\n",
    "    len_dict = [len(edge_dict[x]) for x in  a_list]\n",
    "    if set(len_dict) == 1:\n",
    "        weight_dict = [-x if x<0 else x for x in weight_dict]\n",
    "        return sum(weight_dict)\n",
    "    a_list.sort(key = lambda x:len(edge_dict[x]))\n",
    "    answer=0\n",
    "    for node in a_list:\n",
    "        if edge_dict[node] ==[] and weight_dict[node]!=0:\n",
    "            return -1\n",
    "        else:\n",
    "            neighbor_list = edge_dict[node]\n",
    "            for neighbor in neighbor_list:\n",
    "                if weight_dict[node]==0:\n",
    "                    continue\n",
    "                else:\n",
    "                    weight_dict[neighbor]+=weight_dict[node]\n",
    "                    answer+=abs(weight_dict[node])\n",
    "                    weight_dict[node]=0\n",
    "                    #각자 edge_dict value에서 서로 제외\n",
    "                edge_dict[node].remove(neighbor)\n",
    "                edge_dict[neighbor].remove(node)\n",
    "    \n",
    "    if sum(list(weight_dict.values()))!=0:\n",
    "        return -1\n",
    "    return answer\n",
    "\n",
    "# solution([-5,0,2,1,2],[[0,1],[3,4],[2,3],[0,3]]) #9\n",
    "# solution([0,1,0],[[0,1],[1,2]])#-1\n",
    "solution([4,2,-2,-4], [[0,1],[1,2],[2,3]])\n",
    "# solution([0,3,-3,3,-3,0], [[0,1],[0,2],[0,3],[0,4],[4,5]]) #12\n",
    "# solution([3,-3,3,0,-3],[[0,1],[1,2],[2,3],[3,4],[4,0]]) #12"
   ]
  },
  {
   "cell_type": "code",
   "execution_count": 102,
   "metadata": {},
   "outputs": [
    {
     "name": "stdout",
     "output_type": "stream",
     "text": [
      "weight_dict {0: 0, 1: 3, 2: -3, 3: 3, 4: -3, 5: 0}\n",
      "a_list [1, 2, 3, 5, 4, 0]\n",
      "edge_dict defaultdict(<class 'list'>, {0: [1, 2, 3, 4], 1: [0], 2: [0], 3: [0], 4: [0, 5], 5: [4]})\n",
      "**node:  1 ========================================\n",
      "현재 상황 defaultdict(<class 'list'>, {0: [1, 2, 3, 4], 1: [0], 2: [0], 3: [0], 4: [0, 5], 5: [4]})\n",
      "===>neighbor 0\n",
      "3 만큼 더함!!!!!!!\n",
      "weight_dict 정산 후 --->  {0: 3, 1: 0, 2: -3, 3: 3, 4: -3, 5: 0}\n",
      "**node:  2 ========================================\n",
      "현재 상황 defaultdict(<class 'list'>, {0: [2, 3, 4], 1: [], 2: [0], 3: [0], 4: [0, 5], 5: [4]})\n",
      "===>neighbor 0\n",
      "3 만큼 더함!!!!!!!\n",
      "weight_dict 정산 후 --->  {0: 0, 1: 0, 2: 0, 3: 3, 4: -3, 5: 0}\n",
      "**node:  3 ========================================\n",
      "현재 상황 defaultdict(<class 'list'>, {0: [3, 4], 1: [], 2: [], 3: [0], 4: [0, 5], 5: [4]})\n",
      "===>neighbor 0\n",
      "3 만큼 더함!!!!!!!\n",
      "weight_dict 정산 후 --->  {0: 3, 1: 0, 2: 0, 3: 0, 4: -3, 5: 0}\n",
      "**node:  5 ========================================\n",
      "현재 상황 defaultdict(<class 'list'>, {0: [4], 1: [], 2: [], 3: [], 4: [0, 5], 5: [4]})\n",
      "===>neighbor 4\n",
      "**node:  4 ========================================\n",
      "현재 상황 defaultdict(<class 'list'>, {0: [4], 1: [], 2: [], 3: [], 4: [0, 5], 5: [4]})\n",
      "===>neighbor 0\n",
      "3 만큼 더함!!!!!!!\n",
      "weight_dict 정산 후 --->  {0: 0, 1: 0, 2: 0, 3: 0, 4: 0, 5: 0}\n",
      "**node:  0 ========================================\n",
      "현재 상황 defaultdict(<class 'list'>, {0: [], 1: [], 2: [], 3: [], 4: [5], 5: [4]})\n",
      "최종 edge_dict defaultdict(<class 'list'>, {0: [], 1: [], 2: [], 3: [], 4: [5], 5: [4]})\n",
      "최종 weight_dict {0: 0, 1: 0, 2: 0, 3: 0, 4: 0, 5: 0}\n"
     ]
    },
    {
     "data": {
      "text/plain": [
       "12"
      ]
     },
     "execution_count": 102,
     "metadata": {},
     "output_type": "execute_result"
    }
   ],
   "source": [
    "import collections\n",
    "def solution(a, edges):\n",
    "    if sum(a)!=0:\n",
    "        print(\"sum이 0이 아니네\")\n",
    "        return -1\n",
    "    #가중치 dict\n",
    "    weight_dict = {key:val for key, val in enumerate(a)}\n",
    "    print(\"weight_dict\",weight_dict)\n",
    "    a_list = list(weight_dict.keys())\n",
    "    edge_dict = collections.defaultdict(list)\n",
    "    \n",
    "    #edge_dict\n",
    "    for a1, a2 in edges:\n",
    "        edge_dict[a1].append(a2)\n",
    "        edge_dict[a2].append(a1)\n",
    "    \n",
    "    #edge가 없는 순서대로 a_list 정렬\n",
    "    len_dict = [len(edge_dict[x]) for x in  a_list]\n",
    "    if len_dict == [len_dict[0]]*len(a_list):\n",
    "        weight_dict = [-x if x<0 else x for x in weight_dict]\n",
    "        return sum(weight_dict)\n",
    "    a_list.sort(key = lambda x:len(edge_dict[x]))\n",
    "    print(\"a_list\",a_list)\n",
    "    print(\"edge_dict\",edge_dict)\n",
    "    answer=0\n",
    "    for node in a_list:\n",
    "        print(\"**node: \",node, \"=\"*40)\n",
    "        print(\"현재 상황\", edge_dict)\n",
    "        if edge_dict[node] ==[]:\n",
    "            pass\n",
    "        else:\n",
    "            neighbor_list = edge_dict[node]\n",
    "            for neighbor in neighbor_list:\n",
    "                print(\"===>neighbor\",neighbor)\n",
    "                if weight_dict[node]==0:\n",
    "                    continue\n",
    "                else:\n",
    "                    weight_dict[neighbor]+=weight_dict[node]\n",
    "                    answer+=abs(weight_dict[node])\n",
    "                    print(abs(weight_dict[node]),\"만큼 더함!!!!!!!\")\n",
    "                    weight_dict[node]=0\n",
    "                    print(\"weight_dict 정산 후 ---> \",weight_dict)\n",
    "                    #각자 edge_dict value에서 서로 제외\n",
    "                edge_dict[node].remove(neighbor)\n",
    "                edge_dict[neighbor].remove(node)\n",
    "    \n",
    "    if sum(list(weight_dict.values()))!=0:\n",
    "        return -1\n",
    "    print(\"최종 edge_dict\",edge_dict)\n",
    "    print(\"최종 weight_dict\",weight_dict )\n",
    "    return answer\n",
    "\n",
    "# solution([-5,0,2,1,2],[[0,1],[3,4],[2,3],[0,3]]) #9\n",
    "# solution([0,1,0],[[0,1],[1,2]])#-1\n",
    "# solution([4,2,-2,-4], [[0,1],[1,2],[2,3]])\n",
    "solution([0,3,-3,3,-3,0], [[0,1],[0,2],[0,3],[0,4],[4,5]]) #12\n",
    "# solution([3,-3,3,0,-3],[[0,1],[1,2],[2,3],[3,4],[4,0]]) #12"
   ]
  },
  {
   "cell_type": "code",
   "execution_count": null,
   "metadata": {},
   "outputs": [],
   "source": []
  },
  {
   "cell_type": "code",
   "execution_count": 82,
   "metadata": {},
   "outputs": [
    {
     "data": {
      "text/plain": [
       "9"
      ]
     },
     "execution_count": 82,
     "metadata": {},
     "output_type": "execute_result"
    }
   ],
   "source": [
    "import collections\n",
    "def solution(a, edges):\n",
    "    if sum(a)!=0:\n",
    "        return -1\n",
    "    #가중치 dict\n",
    "    weight_dict = {key:val for key, val in enumerate(a)}\n",
    "    a_list = list(weight_dict.keys())\n",
    "    edge_dict = collections.defaultdict(list)\n",
    "    \n",
    "    #edge_dict\n",
    "    for a1, a2 in edges:\n",
    "        edge_dict[a1].append(a2)\n",
    "        edge_dict[a2].append(a1)\n",
    "    \n",
    "    #edge가 없는 순서대로 a_list 정렬\n",
    "    a_list.sort(key = lambda x:len(edge_dict[x]))\n",
    "    answer=0\n",
    "    for node in a_list:\n",
    "        if edge_dict[node] ==[] and weight_dict[node]!=0:\n",
    "            return -1\n",
    "        else:\n",
    "            neighbor_list = edge_dict[node]\n",
    "            for neighbor in neighbor_list:\n",
    "                weight_dict[neighbor]+=weight_dict[node]\n",
    "                answer+=abs(weight_dict[node])\n",
    "                weight_dict[node]=0\n",
    "                #각자 edge_dict value에서 서로 제외\n",
    "                edge_dict[node].remove(neighbor)\n",
    "                edge_dict[neighbor].remove(node)\n",
    "    \n",
    "    if sum(list(weight_dict.values()))!=0:\n",
    "        return -1\n",
    "    return answer\n",
    "\n",
    "solution([-5,0,2,1,2],[[0,1],[3,4],[2,3],[0,3]]) #9\n",
    "# solution([0,1,0],[[0,1],[1,2]])#-1"
   ]
  },
  {
   "cell_type": "code",
   "execution_count": 81,
   "metadata": {},
   "outputs": [
    {
     "name": "stdout",
     "output_type": "stream",
     "text": [
      "weight_dict {0: -5, 1: 0, 2: 2, 3: 1, 4: 2}\n",
      "a_list [1, 2, 4, 0, 3]\n",
      "edge_dict defaultdict(<class 'list'>, {0: [1, 3], 1: [0], 3: [4, 2, 0], 4: [3], 2: [3]})\n",
      "**node:  1 ========================================\n",
      "현재 상황 defaultdict(<class 'list'>, {0: [1, 3], 1: [0], 3: [4, 2, 0], 4: [3], 2: [3]})\n",
      "weight_dict 정산 후 --->  {0: -5, 1: 0, 2: 2, 3: 1, 4: 2}\n",
      "**node:  2 ========================================\n",
      "현재 상황 defaultdict(<class 'list'>, {0: [3], 1: [], 3: [4, 2, 0], 4: [3], 2: [3]})\n",
      "weight_dict 정산 후 --->  {0: -5, 1: 0, 2: 0, 3: 3, 4: 2}\n",
      "**node:  4 ========================================\n",
      "현재 상황 defaultdict(<class 'list'>, {0: [3], 1: [], 3: [4, 0], 4: [3], 2: []})\n",
      "weight_dict 정산 후 --->  {0: -5, 1: 0, 2: 0, 3: 5, 4: 0}\n",
      "**node:  0 ========================================\n",
      "현재 상황 defaultdict(<class 'list'>, {0: [3], 1: [], 3: [0], 4: [], 2: []})\n",
      "weight_dict 정산 후 --->  {0: 0, 1: 0, 2: 0, 3: 0, 4: 0}\n",
      "**node:  3 ========================================\n",
      "현재 상황 defaultdict(<class 'list'>, {0: [], 1: [], 3: [], 4: [], 2: []})\n",
      "edge_dict defaultdict(<class 'list'>, {0: [], 1: [], 3: [], 4: [], 2: []})\n"
     ]
    },
    {
     "data": {
      "text/plain": [
       "9"
      ]
     },
     "execution_count": 81,
     "metadata": {},
     "output_type": "execute_result"
    }
   ],
   "source": [
    "import collections\n",
    "def solution(a, edges):\n",
    "    if sum(a)!=0:\n",
    "        return -1\n",
    "    #가중치 dict\n",
    "    weight_dict = {key:val for key, val in enumerate(a)}\n",
    "    print(\"weight_dict\",weight_dict)\n",
    "    a_list = list(weight_dict.keys())\n",
    "    edge_dict = collections.defaultdict(list)\n",
    "    \n",
    "    #edge_dict\n",
    "    for a1, a2 in edges:\n",
    "        edge_dict[a1].append(a2)\n",
    "        edge_dict[a2].append(a1)\n",
    "    \n",
    "    #edge가 없는 순서대로 a_list 정렬\n",
    "    a_list.sort(key = lambda x:len(edge_dict[x]))\n",
    "    print(\"a_list\",a_list)\n",
    "    print(\"edge_dict\",edge_dict)\n",
    "    answer=0\n",
    "    for node in a_list:\n",
    "        print(\"**node: \",node, \"=\"*40)\n",
    "        print(\"현재 상황\", edge_dict)\n",
    "        if edge_dict[node] ==[] and weight_dict[node]!=0:\n",
    "            print(\"No answer\")\n",
    "            return -1\n",
    "        else:\n",
    "            neighbor_list = edge_dict[node]\n",
    "            for neighbor in neighbor_list:\n",
    "                weight_dict[neighbor]+=weight_dict[node]\n",
    "                answer+=abs(weight_dict[node])\n",
    "                weight_dict[node]=0\n",
    "                print(\"weight_dict 정산 후 ---> \",weight_dict)\n",
    "                #각자 edge_dict value에서 서로 제외\n",
    "                edge_dict[node].remove(neighbor)\n",
    "                edge_dict[neighbor].remove(node)\n",
    "    \n",
    "    if sum(list(weight_dict.values()))!=0:\n",
    "        return -1\n",
    "    print(\"edge_dict\",edge_dict)\n",
    "    return answer\n",
    "\n",
    "solution([-5,0,2,1,2],[[0,1],[3,4],[2,3],[0,3]]) #9\n",
    "# solution([0,1,0],[[0,1],[1,2]])#-1"
   ]
  },
  {
   "cell_type": "code",
   "execution_count": null,
   "metadata": {},
   "outputs": [],
   "source": []
  },
  {
   "cell_type": "code",
   "execution_count": 79,
   "metadata": {},
   "outputs": [
    {
     "data": {
      "text/plain": [
       "9"
      ]
     },
     "execution_count": 79,
     "metadata": {},
     "output_type": "execute_result"
    }
   ],
   "source": [
    "import collections\n",
    "def solution(a, edges):\n",
    "    #가중치 dict\n",
    "    weight_dict = {key:val for key, val in enumerate(a)}\n",
    "    a_list = list(weight_dict.keys())\n",
    "    edge_dict = collections.defaultdict(list)\n",
    "    \n",
    "    #edge_dict\n",
    "    for a1, a2 in edges:\n",
    "        edge_dict[a1].append(a2)\n",
    "        edge_dict[a2].append(a1)\n",
    "    \n",
    "    #edge가 없는 순서대로 a_list 정렬\n",
    "    a_list.sort(key = lambda x:len(edge_dict[x]))\n",
    "    answer=0\n",
    "    for node in a_list:\n",
    "        if edge_dict[node] ==[] and weight_dict[node]!=0:\n",
    "            return -1\n",
    "        else:\n",
    "            neighbor_list = edge_dict[node]\n",
    "            for neighbor in neighbor_list:\n",
    "                weight_dict[neighbor]+=weight_dict[node]\n",
    "                answer+=abs(weight_dict[node])\n",
    "                weight_dict[node]=0\n",
    "                #각자 edge_dict value에서 서로 제외\n",
    "                edge_dict[node].remove(neighbor)\n",
    "                edge_dict[neighbor].remove(node)\n",
    "    \n",
    "    if sum(list(weight_dict.values()))!=0:\n",
    "        return -1\n",
    "    return answer\n",
    "\n",
    "solution([-5,0,2,1,2],[[0,1],[3,4],[2,3],[0,3]]) #9\n",
    "# solution([0,1,0],[[0,1],[1,2]])#-1"
   ]
  },
  {
   "cell_type": "code",
   "execution_count": null,
   "metadata": {},
   "outputs": [],
   "source": []
  },
  {
   "cell_type": "code",
   "execution_count": 80,
   "metadata": {},
   "outputs": [
    {
     "name": "stdout",
     "output_type": "stream",
     "text": [
      "weight_dict {0: -5, 1: 0, 2: 2, 3: 1, 4: 2}\n",
      "a_list [1, 2, 4, 0, 3]\n",
      "edge_dict defaultdict(<class 'list'>, {0: [1, 3], 1: [0], 3: [4, 2, 0], 4: [3], 2: [3]})\n",
      "**node:  1 ========================================\n",
      "현재 상황 defaultdict(<class 'list'>, {0: [1, 3], 1: [0], 3: [4, 2, 0], 4: [3], 2: [3]})\n",
      "weight_dict 정산 전 --->  {0: -5, 1: 0, 2: 2, 3: 1, 4: 2}\n",
      "*****neighbor 0\n",
      "weight_dict[node] 0\n",
      "weight_dict 정산 후 --->  {0: -5, 1: 0, 2: 2, 3: 1, 4: 2}\n",
      "**node:  2 ========================================\n",
      "현재 상황 defaultdict(<class 'list'>, {0: [3], 1: [], 3: [4, 2, 0], 4: [3], 2: [3]})\n",
      "weight_dict 정산 전 --->  {0: -5, 1: 0, 2: 2, 3: 1, 4: 2}\n",
      "*****neighbor 3\n",
      "weight_dict[node] 2\n",
      "weight_dict 정산 후 --->  {0: -5, 1: 0, 2: 0, 3: 3, 4: 2}\n",
      "**node:  4 ========================================\n",
      "현재 상황 defaultdict(<class 'list'>, {0: [3], 1: [], 3: [4, 0], 4: [3], 2: []})\n",
      "weight_dict 정산 전 --->  {0: -5, 1: 0, 2: 0, 3: 3, 4: 2}\n",
      "*****neighbor 3\n",
      "weight_dict[node] 2\n",
      "weight_dict 정산 후 --->  {0: -5, 1: 0, 2: 0, 3: 5, 4: 0}\n",
      "**node:  0 ========================================\n",
      "현재 상황 defaultdict(<class 'list'>, {0: [3], 1: [], 3: [0], 4: [], 2: []})\n",
      "weight_dict 정산 전 --->  {0: -5, 1: 0, 2: 0, 3: 5, 4: 0}\n",
      "*****neighbor 3\n",
      "weight_dict[node] -5\n",
      "weight_dict 정산 후 --->  {0: 0, 1: 0, 2: 0, 3: 0, 4: 0}\n",
      "**node:  3 ========================================\n",
      "현재 상황 defaultdict(<class 'list'>, {0: [], 1: [], 3: [], 4: [], 2: []})\n",
      "edge_dict defaultdict(<class 'list'>, {0: [], 1: [], 3: [], 4: [], 2: []})\n"
     ]
    },
    {
     "data": {
      "text/plain": [
       "9"
      ]
     },
     "execution_count": 80,
     "metadata": {},
     "output_type": "execute_result"
    }
   ],
   "source": [
    "import collections\n",
    "def solution(a, edges):\n",
    "    #가중치 dict\n",
    "    weight_dict = {key:val for key, val in enumerate(a)}\n",
    "    print(\"weight_dict\",weight_dict)\n",
    "    a_list = list(weight_dict.keys())\n",
    "    edge_dict = collections.defaultdict(list)\n",
    "    \n",
    "    #edge_dict\n",
    "    for a1, a2 in edges:\n",
    "        edge_dict[a1].append(a2)\n",
    "        edge_dict[a2].append(a1)\n",
    "    \n",
    "    #edge가 없는 순서대로 a_list 정렬\n",
    "    a_list.sort(key = lambda x:len(edge_dict[x]))\n",
    "    print(\"a_list\",a_list)\n",
    "    print(\"edge_dict\",edge_dict)\n",
    "    answer=0\n",
    "    for node in a_list:\n",
    "        print(\"**node: \",node, \"=\"*40)\n",
    "        print(\"현재 상황\", edge_dict)\n",
    "        if edge_dict[node] ==[] and weight_dict[node]!=0:\n",
    "            print(\"No answer\")\n",
    "            return -1\n",
    "        else:\n",
    "            neighbor_list = edge_dict[node]\n",
    "            for neighbor in neighbor_list:\n",
    "                print(\"weight_dict 정산 전 ---> \",weight_dict)\n",
    "                print(\"*****neighbor\",neighbor)\n",
    "                print(\"weight_dict[node]\",weight_dict[node])\n",
    "                weight_dict[neighbor]+=weight_dict[node]\n",
    "                answer+=abs(weight_dict[node])\n",
    "                weight_dict[node]=0\n",
    "                print(\"weight_dict 정산 후 ---> \",weight_dict)\n",
    "                #각자 edge_dict value에서 서로 제외\n",
    "                edge_dict[node].remove(neighbor)\n",
    "                edge_dict[neighbor].remove(node)\n",
    "    \n",
    "    if sum(list(weight_dict.values()))!=0:\n",
    "        return -1\n",
    "    print(\"edge_dict\",edge_dict)\n",
    "    return answer\n",
    "\n",
    "solution([-5,0,2,1,2],[[0,1],[3,4],[2,3],[0,3]]) #9\n",
    "# solution([0,1,0],[[0,1],[1,2]])#-1"
   ]
  },
  {
   "cell_type": "code",
   "execution_count": 76,
   "metadata": {},
   "outputs": [
    {
     "data": {
      "text/plain": [
       "0"
      ]
     },
     "execution_count": 76,
     "metadata": {},
     "output_type": "execute_result"
    }
   ],
   "source": [
    "dfs = {0: -5, 1: 0, 2: 2, 3: 1, 4: 2}\n",
    "\n",
    "sum(list(dfs.values()))"
   ]
  }
 ],
 "metadata": {
  "kernelspec": {
   "display_name": "Python 3",
   "language": "python",
   "name": "python3"
  },
  "language_info": {
   "codemirror_mode": {
    "name": "ipython",
    "version": 3
   },
   "file_extension": ".py",
   "mimetype": "text/x-python",
   "name": "python",
   "nbconvert_exporter": "python",
   "pygments_lexer": "ipython3",
   "version": "3.7.4"
  }
 },
 "nbformat": 4,
 "nbformat_minor": 2
}
