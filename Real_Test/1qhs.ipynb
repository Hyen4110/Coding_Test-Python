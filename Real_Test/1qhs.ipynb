{
 "cells": [
  {
   "cell_type": "markdown",
   "metadata": {},
   "source": [
    "[문제 설명]\n",
    "- 두 정수 left와 right가 매개변수로 주어집니다. left부터 right까지의 모든 수들 중에서, 약수의 개수가 짝수인 수는 더하고, 약수의 개수가 홀수인 수는 뺀 수를 return 하도록 solution 함수를 완성해주세요."
   ]
  },
  {
   "cell_type": "code",
   "execution_count": null,
   "metadata": {},
   "outputs": [],
   "source": [
    "def solution(left, right):    \n",
    "    \n",
    "    def get_yak(n):\n",
    "        return len([i for i in list(range(1,n+1)) if n%i==0])\n",
    "\n",
    "    yes_2=[]\n",
    "    not_2=[]\n",
    "    for i in range(left, right+1):\n",
    "        if get_yak(i)%2==0:\n",
    "            yes_2.append(i)\n",
    "        else:\n",
    "            not_2.append(i)\n",
    "    return sum(yes_2)-sum(not_2)"
   ]
  }
 ],
 "metadata": {
  "kernelspec": {
   "display_name": "Python 3",
   "language": "python",
   "name": "python3"
  },
  "language_info": {
   "codemirror_mode": {
    "name": "ipython",
    "version": 3
   },
   "file_extension": ".py",
   "mimetype": "text/x-python",
   "name": "python",
   "nbconvert_exporter": "python",
   "pygments_lexer": "ipython3",
   "version": "3.7.4"
  }
 },
 "nbformat": 4,
 "nbformat_minor": 2
}
