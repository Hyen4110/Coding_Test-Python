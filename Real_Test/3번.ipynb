{
 "cells": [
  {
   "cell_type": "code",
   "execution_count": 24,
   "metadata": {
    "scrolled": true
   },
   "outputs": [
    {
     "data": {
      "text/plain": [
       "12"
      ]
     },
     "execution_count": 24,
     "metadata": {},
     "output_type": "execute_result"
    }
   ],
   "source": [
    "int('1100',2)"
   ]
  },
  {
   "cell_type": "code",
   "execution_count": 23,
   "metadata": {},
   "outputs": [
    {
     "data": {
      "text/plain": [
       "4"
      ]
     },
     "execution_count": 23,
     "metadata": {},
     "output_type": "execute_result"
    }
   ],
   "source": [
    "int('100',2)"
   ]
  },
  {
   "cell_type": "code",
   "execution_count": 33,
   "metadata": {},
   "outputs": [
    {
     "name": "stdout",
     "output_type": "stream",
     "text": [
      "num 11\n",
      "d 1\n",
      "num 1000\n",
      "d 4\n",
      "num 1001\n",
      "d 3\n",
      "num 1010\n",
      "d 3\n",
      "num 1011\n",
      "d 2\n"
     ]
    },
    {
     "data": {
      "text/plain": [
       "[3, 11]"
      ]
     },
     "execution_count": 33,
     "metadata": {},
     "output_type": "execute_result"
    }
   ],
   "source": [
    "def solution(numbers):\n",
    "    \n",
    "    answer=[]\n",
    "    def get_answer(num):\n",
    "        num_base_2 = bin(num)[2:]\n",
    "        while True:\n",
    "            num+=1\n",
    "            temp_base_2 = bin(num)[2:] #1씩 증가하며 비트로 변환\n",
    "            print(\"num\",temp_base_2)\n",
    "            c = str(int(temp_base_2) + int(num_base_2))\n",
    "            d = sum([int(i) for i in c if i=='1'])\n",
    "            print(\"d\",d)\n",
    "            if d<=2:\n",
    "    \n",
    "                return(num)\n",
    "\n",
    "    for i in numbers:\n",
    "        answer.append(get_answer(i))\n",
    "\n",
    "    return answer\n",
    "\n",
    "solution([2,7])"
   ]
  }
 ],
 "metadata": {
  "kernelspec": {
   "display_name": "Python 3",
   "language": "python",
   "name": "python3"
  },
  "language_info": {
   "codemirror_mode": {
    "name": "ipython",
    "version": 3
   },
   "file_extension": ".py",
   "mimetype": "text/x-python",
   "name": "python",
   "nbconvert_exporter": "python",
   "pygments_lexer": "ipython3",
   "version": "3.7.4"
  }
 },
 "nbformat": 4,
 "nbformat_minor": 2
}
