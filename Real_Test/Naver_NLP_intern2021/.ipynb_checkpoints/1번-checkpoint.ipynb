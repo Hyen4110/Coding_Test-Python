{
 "cells": [
  {
   "cell_type": "code",
   "execution_count": 15,
   "metadata": {},
   "outputs": [
    {
     "data": {
      "text/plain": [
       "[2, 0]"
      ]
     },
     "execution_count": 15,
     "metadata": {},
     "output_type": "execute_result"
    }
   ],
   "source": [
    "a_dict = {'a':2, 'b':3,'c':0}\n",
    "[a_dict[key] for key in a_dict if a_dict[key]!=3]"
   ]
  },
  {
   "cell_type": "code",
   "execution_count": 41,
   "metadata": {},
   "outputs": [
    {
     "data": {
      "text/plain": [
       "0"
      ]
     },
     "execution_count": 41,
     "metadata": {},
     "output_type": "execute_result"
    }
   ],
   "source": [
    "from collections import Counter\n",
    "\n",
    "def solution(A, B):\n",
    "    counter_a, counter_b = Counter(A), Counter(B)\n",
    "    \n",
    "    diff_dict = (counter_a-counter_b)+(counter_b-counter_a)\n",
    "    diff_count = [abs(diff_dict[key]) for key in diff_dict if diff_dict[key]!=0]\n",
    "\n",
    "    return sum(diff_count)\n",
    "\n",
    "\n",
    "solution('rather','harder') #2\n",
    "solution('melon','lemon') #0\n",
    "# solution('apple','pear') #3\n",
    "# solution('addd','ad') #2\n",
    "# solution('eeee','e') #3\n",
    "# solution('abcd','acded') #3"
   ]
  },
  {
   "cell_type": "code",
   "execution_count": null,
   "metadata": {},
   "outputs": [],
   "source": []
  }
 ],
 "metadata": {
  "kernelspec": {
   "display_name": "Python 3",
   "language": "python",
   "name": "python3"
  },
  "language_info": {
   "codemirror_mode": {
    "name": "ipython",
    "version": 3
   },
   "file_extension": ".py",
   "mimetype": "text/x-python",
   "name": "python",
   "nbconvert_exporter": "python",
   "pygments_lexer": "ipython3",
   "version": "3.7.4"
  }
 },
 "nbformat": 4,
 "nbformat_minor": 2
}
