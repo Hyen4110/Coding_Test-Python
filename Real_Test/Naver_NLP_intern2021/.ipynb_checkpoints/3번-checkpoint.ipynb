{
 "cells": [
  {
   "cell_type": "code",
   "execution_count": 3,
   "metadata": {},
   "outputs": [
    {
     "data": {
      "text/plain": [
       "'AbCd'"
      ]
     },
     "execution_count": 3,
     "metadata": {},
     "output_type": "execute_result"
    }
   ],
   "source": [
    "text_li = \"abcd\"\n",
    "text_li.translate(text_li.maketrans(\"ac\",\"AC\",\"\"))"
   ]
  },
  {
   "cell_type": "code",
   "execution_count": 47,
   "metadata": {},
   "outputs": [
    {
     "data": {
      "text/plain": [
       "1"
      ]
     },
     "execution_count": 47,
     "metadata": {},
     "output_type": "execute_result"
    }
   ],
   "source": [
    "ord(\"A\")-64\n"
   ]
  },
  {
   "cell_type": "code",
   "execution_count": 18,
   "metadata": {},
   "outputs": [
    {
     "data": {
      "text/plain": [
       "'26'"
      ]
     },
     "execution_count": 18,
     "metadata": {},
     "output_type": "execute_result"
    }
   ],
   "source": [
    "\"26B\"[:-1]"
   ]
  },
  {
   "cell_type": "code",
   "execution_count": 51,
   "metadata": {},
   "outputs": [
    {
     "data": {
      "text/plain": [
       "array([[  1,   2,   3,   4],\n",
       "       [101, 102, 103, 104]])"
      ]
     },
     "metadata": {},
     "output_type": "display_data"
    },
    {
     "data": {
      "text/plain": [
       "array([[103, 104]])"
      ]
     },
     "execution_count": 51,
     "metadata": {},
     "output_type": "execute_result"
    }
   ],
   "source": [
    "acdsdf = np.array([[1,2,3,4],[101,102,103,104]])\n",
    "\n",
    "# acdsdf = [[1,2,3,4],[101,102,103,104]]\n",
    "display(acdsdf)\n",
    "acdsdf[1:2,2:4]"
   ]
  },
  {
   "cell_type": "code",
   "execution_count": 68,
   "metadata": {},
   "outputs": [
    {
     "data": {
      "text/plain": [
       "[[0, 0, 0], [0, 0, 0], [0, 0, 0]]"
      ]
     },
     "execution_count": 68,
     "metadata": {},
     "output_type": "execute_result"
    }
   ],
   "source": [
    "n=3\n",
    "matrix = [[0 for col in range(n)] for row in range(n)]\n",
    "matrix"
   ]
  },
  {
   "cell_type": "code",
   "execution_count": 99,
   "metadata": {},
   "outputs": [
    {
     "data": {
      "text/plain": [
       "'1,1'"
      ]
     },
     "execution_count": 99,
     "metadata": {},
     "output_type": "execute_result"
    }
   ],
   "source": [
    "def solution(N, S, T):\n",
    "    matrix = [[0 for col in range(N)] for row in range(N)]\n",
    "\n",
    "    \n",
    "    # [step1] mark the location of ships (+1)\n",
    "    ships_info =[]\n",
    "    for start_end in S.split(\",\"):\n",
    "        start, end = start_end.split(\" \")\n",
    "        \n",
    "        start_row, start_col = int(start[:-1])-1, ord(start[-1])-65 # ord() : ASCII code\n",
    "        end_row, end_col = int(end[:-1])-1, ord(end[-1])-65 # ord() : ASCII code\n",
    "\n",
    "        ship_area=0\n",
    "        for row in range(start_row,end_row+1):\n",
    "            for col in range(start_col, end_col+1):\n",
    "                matrix[row][col]=1\n",
    "                ship_area+=1\n",
    "        \n",
    "\n",
    "        #[step1.5] save the ship info (location(top_left,bottom_right) , area)\n",
    "        ships_info.append([(start_row,start_col),(end_row, end_col),ship_area])\n",
    "\n",
    "    \n",
    "    # [step2] mark the location of hit (-1)\n",
    "    for hit_loc in T.split(\" \"):\n",
    "        hit_row, hit_col = int(hit_loc[:-1])-1, ord(hit_loc[-1])-65\n",
    "        matrix[hit_row][hit_col]-=1\n",
    "\n",
    "        \n",
    "    # [step3] check for singking (using matrix & ship info)\n",
    "    sunk_ship=0              # hitted and sunk\n",
    "    hitted_not_sunk_ship=0   # hitted but not sunk\n",
    "    not_hitted_ship=0        # not hitted\n",
    "    \n",
    "    for ship_info in ships_info:\n",
    "        ship_start, ship_end, ship_area = ship_info\n",
    "        \n",
    "        remain_area=0\n",
    "        for row in range(ship_start[0],ship_end[0]+1):\n",
    "            for col in range(ship_start[1],ship_end[1]+1):\n",
    "                remain_area+=matrix[row][col]\n",
    "        \n",
    "        if remain_area == ship_area:\n",
    "            not_hitted_ship+=1\n",
    "        elif remain_area ==0:\n",
    "            sunk_ship+=1\n",
    "        else:\n",
    "            hitted_not_sunk_ship+=1\n",
    "    return (str(sunk_ship)+\",\"+str(hitted_not_sunk_ship))\n",
    "\n",
    "solution(4, \"1B 2C,2D 4D\" , \"2B 2D 3D 4D 4A\") #1,1 \n",
    "\n",
    "# solution(20, \"4B 4E,5B 5E,6B 6E\",\"0A 2A 5B 5C 5D 5E 6B\") # 1,1\n",
    "# solution(20, \"4B 4E,5B 5E,6B 6E\",\"0A 2A 5B 5C 5D 5E 6B 4B\") # 1,2\n",
    "# solution(1, \"1A\", \"1A\")"
   ]
  },
  {
   "cell_type": "code",
   "execution_count": 97,
   "metadata": {},
   "outputs": [
    {
     "data": {
      "text/plain": [
       "'1,0'"
      ]
     },
     "execution_count": 97,
     "metadata": {},
     "output_type": "execute_result"
    }
   ],
   "source": [
    "#넘파이 aray 리스트로 바꾸기 -> print문 지우기\n",
    "\n",
    "def solution(N, S, T):\n",
    "    matrix = [[0 for col in range(N)] for row in range(N)]\n",
    "\n",
    "    # [exeption] if N==1\n",
    "    if N==1:\n",
    "        if S==T:\n",
    "            return \"1,0\"\n",
    "        \n",
    "    # [step1] mark the location of ships (+1)\n",
    "    ships_info =[]\n",
    "    for start_end in S.split(\",\"):\n",
    "        start, end = start_end.split(\" \")\n",
    "        \n",
    "        start_row, start_col = int(start[:-1])-1, ord(start[-1])-65 # ord() : ASCII code\n",
    "        end_row, end_col = int(end[:-1])-1, ord(end[-1])-65 # ord() : ASCII code\n",
    "\n",
    "        ship_area = (end_row-start_row+1)*(end_col-start_col+1)\n",
    "        for row in range(start_row,end_row+1):\n",
    "            for col in range(start_col, end_col+1):\n",
    "                matrix[row][col]=1\n",
    "                ship_area+=1\n",
    "        \n",
    "\n",
    "        #[step1.5] save the ship info (location(top_left,bottom_right) , area)\n",
    "        ships_info.append([(start_row,start_col),(end_row, end_col),ship_area])\n",
    "\n",
    "    \n",
    "    # [step2] mark the location of hit (-1)\n",
    "    for hit_loc in T.split(\" \"):\n",
    "        hit_row, hit_col = int(hit_loc[:-1])-1, ord(hit_loc[-1])-65\n",
    "        matrix[hit_row][hit_col]-=1\n",
    "\n",
    "        \n",
    "    # [step3] check for singking (using matrix & ship info)\n",
    "    sunk_ship=0              # hitted and sunk\n",
    "    hitted_not_sunk_ship=0   # hitted but not sunk\n",
    "    not_hitted_ship=0        # not hitted\n",
    "    \n",
    "    for ship_info in ships_info:\n",
    "        ship_start, ship_end, ship_area = ship_info\n",
    "        \n",
    "        remain_area=0\n",
    "        for row in range(ship_start[0],ship_end[0]+1):\n",
    "            for col in range(ship_start[1],ship_end[1]+1):\n",
    "                remain_area+=matrix[row][col]\n",
    "        \n",
    "        if remain_area == ship_area:\n",
    "            not_hitted_ship+=1\n",
    "        elif remain_area ==0:\n",
    "            sunk_ship+=1\n",
    "        else:\n",
    "            hitted_not_sunk_ship+=1\n",
    "    return (str(sunk_ship)+\",\"+str(hitted_not_sunk_ship))\n",
    "\n",
    "solution(4, \"1B 2C,2D 4D\" , \"2B 2D 3D 4D 4A\") #1,1 \n",
    "\n",
    "# solution(20, \"4B 4E,5B 5E,6B 6E\",\"0A 2A 5B 5C 5D 5E 6B\") # 1,1\n",
    "# solution(20, \"4B 4E,5B 5E,6B 6E\",\"0A 2A 5B 5C 5D 5E 6B 4B\") # 1,2\n",
    "solution(1, \"1A\", \"1A\")"
   ]
  },
  {
   "cell_type": "code",
   "execution_count": 92,
   "metadata": {},
   "outputs": [
    {
     "data": {
      "text/plain": [
       "'1,1'"
      ]
     },
     "execution_count": 92,
     "metadata": {},
     "output_type": "execute_result"
    }
   ],
   "source": [
    "#넘파이 aray 리스트로 바꾸기 -> print문 지우기\n",
    "\n",
    "def solution(N, S, T):\n",
    "    matrix = [[0 for col in range(N)] for row in range(N)]\n",
    "\n",
    "    \n",
    "    # [step1] mark the location of ships (+1)\n",
    "    ships_info =[]\n",
    "    for start_end in S.split(\",\"):\n",
    "        start, end = start_end.split(\" \")\n",
    "        \n",
    "        start_row, start_col = int(start[:-1])-1, ord(start[-1])-65 # ord() : ASCII code\n",
    "        end_row, end_col = int(end[:-1])-1, ord(end[-1])-65 # ord() : ASCII code\n",
    "\n",
    "        ship_area=0\n",
    "        for row in range(start_row,end_row+1):\n",
    "            for col in range(start_col, end_col+1):\n",
    "                matrix[row][col]=1\n",
    "                ship_area+=1\n",
    "        \n",
    "\n",
    "        #[step1.5] save the ship info (location(top_left,bottom_right) , area)\n",
    "        ships_info.append([(start_row,start_col),(end_row, end_col),ship_area])\n",
    "\n",
    "    \n",
    "    # [step2] mark the location of hit (-1)\n",
    "    for hit_loc in T.split(\" \"):\n",
    "        hit_row, hit_col = int(hit_loc[:-1])-1, ord(hit_loc[-1])-65\n",
    "        matrix[hit_row][hit_col]-=1\n",
    "\n",
    "        \n",
    "    # [step3] check for singking (using matrix & ship info)\n",
    "    sunk_ship=0              # hitted and sunk\n",
    "    hitted_not_sunk_ship=0   # hitted but not sunk\n",
    "    not_hitted_ship=0        # not hitted\n",
    "    \n",
    "    for ship_info in ships_info:\n",
    "        ship_start, ship_end, ship_area = ship_info\n",
    "        \n",
    "        remain_area=0\n",
    "        for row in range(ship_start[0],ship_end[0]+1):\n",
    "            for col in range(ship_start[1],ship_end[1]+1):\n",
    "                remain_area+=matrix[row][col]\n",
    "        \n",
    "        if remain_area == ship_area:\n",
    "            not_hitted_ship+=1\n",
    "        elif remain_area ==0:\n",
    "            sunk_ship+=1\n",
    "        else:\n",
    "            hitted_not_sunk_ship+=1\n",
    "    return (str(sunk_ship)+\",\"+str(hitted_not_sunk_ship))\n",
    "\n",
    "solution(4, \"1B 2C,2D 4D\" , \"2B 2D 3D 4D 4A\") #1,1 \n",
    "# solution(20, \"4B 4E,5B 5E,6B 6E\",\"0A 2A 5B 5C 5D 5E 6B\") # 1,1\n",
    "# solution(20, \"4B 4E,5B 5E,6B 6E\",\"0A 2A 5B 5C 5D 5E 6B 4B\") # 1,2"
   ]
  },
  {
   "cell_type": "code",
   "execution_count": 79,
   "metadata": {},
   "outputs": [
    {
     "data": {
      "text/plain": [
       "[[0, 0, 0, 0], [0, 0, 0, 0], [0, 0, 0, 0], [0, 0, 0, 0]]"
      ]
     },
     "metadata": {},
     "output_type": "display_data"
    },
    {
     "name": "stdout",
     "output_type": "stream",
     "text": [
      "[[0, 1, 1, 0], [0, 1, 1, 0], [0, 0, 0, 0], [0, 0, 0, 0]]\n",
      "[[0, 1, 1, 0], [0, 1, 1, 1], [0, 0, 0, 1], [0, 0, 0, 1]]\n",
      "[[0, 1, 1, 0], [0, 0, 1, 0], [0, 0, 0, 0], [-1, 0, 0, 0]]\n",
      "ship_info [(0, 1), (1, 2), 4]\n",
      "3\n",
      "ship_info [(1, 3), (3, 3), 3]\n",
      "0\n"
     ]
    },
    {
     "data": {
      "text/plain": [
       "'1,1'"
      ]
     },
     "execution_count": 79,
     "metadata": {},
     "output_type": "execute_result"
    }
   ],
   "source": [
    "#넘파이 aray 리스트로 바꾸기\n",
    "\n",
    "def solution(N, S, T):\n",
    "    matrix = [[0 for col in range(N)] for row in range(N)]\n",
    "    \n",
    "    display(matrix)\n",
    "    ships_info =[]\n",
    "    # [step1] mark the location of ships (+1)\n",
    "    for start_end in S.split(\",\"):\n",
    "        start, end = start_end.split(\" \")\n",
    "        \n",
    "        start_row, start_col = int(start[:-1])-1, ord(start[-1])-65 # ord() : ASCII code\n",
    "        end_row, end_col = int(end[:-1])-1, ord(end[-1])-65 # ord() : ASCII code\n",
    "\n",
    "        ship_area=0\n",
    "        for row in range(start_row,end_row+1):\n",
    "            for col in range(start_col, end_col+1):\n",
    "                matrix[row][col]=1\n",
    "                ship_area+=1\n",
    "        \n",
    "        print(matrix)\n",
    "        #[step1.5] save the ship info (location , area)\n",
    "        ships_info.append([(start_row,start_col),(end_row, end_col),ship_area])\n",
    "\n",
    "    \n",
    "    # [step2] mark the location of hit (-1)\n",
    "    for hit_loc in T.split(\" \"):\n",
    "        hit_row, hit_col = int(hit_loc[:-1])-1, ord(hit_loc[-1])-65\n",
    "        matrix[hit_row][hit_col]-=1\n",
    "    \n",
    "    print(matrix)\n",
    "        \n",
    "    # [step3] check for singking (using matrix & ship info)\n",
    "    sunk_ship=0 # hitted and sunk\n",
    "    hitted_not_sunk_ship=0 # hitted but not sunk\n",
    "    not_hitted_ship=0 # not hitted\n",
    "    \n",
    "    for ship_info in ships_info:\n",
    "        ship_start, ship_end, ship_area = ship_info\n",
    "        print(\"ship_info\",ship_info)\n",
    "        \n",
    "        remain_area=0\n",
    "        for row in range(ship_start[0],ship_end[0]+1):\n",
    "            for col in range(ship_start[1],ship_end[1]+1):\n",
    "                remain_area+=matrix[row][col]\n",
    "        print(remain_area)\n",
    "        \n",
    "        if remain_area == ship_area:\n",
    "            not_hitted_ship+=1\n",
    "        elif remain_area ==0:\n",
    "            sunk_ship+=1\n",
    "        else:\n",
    "            hitted_not_sunk_ship+=1\n",
    "    return (str(sunk_ship)+\",\"+str(hitted_not_sunk_ship))\n",
    "\n",
    "solution(4, \"1B 2C,2D 4D\" , \"2B 2D 3D 4D 4A\") #1,1 \n"
   ]
  },
  {
   "cell_type": "code",
   "execution_count": 67,
   "metadata": {},
   "outputs": [
    {
     "data": {
      "text/plain": [
       "'1,1'"
      ]
     },
     "execution_count": 67,
     "metadata": {},
     "output_type": "execute_result"
    }
   ],
   "source": [
    "import numpy as np\n",
    "\n",
    "def solution(N, S, T):\n",
    "    metrix = np.zeros((N,N))\n",
    "    \n",
    "    ships_info =[]\n",
    "    # [step1] mark the location of ships (+1)\n",
    "    for start_end in S.split(\", \"):\n",
    "        start, end = start_end.split(\" \")\n",
    "        \n",
    "        start_row, start_col = int(start[:-1])-1, ord(start[-1])-65 # ord() : ASCII code\n",
    "        end_row, end_col = int(end[:-1])-1, ord(end[-1])-65 # ord() : ASCII code\n",
    "\n",
    "        ship_area=0\n",
    "        for row in range(start_row,end_row+1):\n",
    "            for col in range(start_col, end_col+1):\n",
    "                metrix[row,col]=1\n",
    "                ship_area+=1\n",
    "        \n",
    "        #[step1.5] save the ship info (location , area)\n",
    "        ships_info.append([(start_row,start_col),(end_row, end_col),ship_area])\n",
    "\n",
    "    \n",
    "    # [step2] mark the location of hit (-1)\n",
    "    for hit_loc in T.split(\" \"):\n",
    "        hit_row, hit_col = int(hit_loc[:-1])-1, ord(hit_loc[-1])-65\n",
    "        metrix[hit_row, hit_col]-=1\n",
    "        \n",
    "        \n",
    "    # [step3] check for singking (using metrix & ship info)\n",
    "    sunk_ship=0 # hitted and sunk\n",
    "    hitted_not_sunk_ship=0 # hitted but not sunk\n",
    "    not_hitted_ship=0 # not hitted\n",
    "    \n",
    "    for ship_info in ships_info:\n",
    "        ship_start, ship_end, ship_area = ship_info\n",
    "        ship_state = metrix[ship_start[0]:ship_end[0]+1, ship_start[1]:ship_end[1]+1]\n",
    "        remain_area = ship_state.sum()\n",
    "        \n",
    "        if remain_area == ship_area:\n",
    "            not_hitted_ship+=1\n",
    "        elif remain_area ==0:\n",
    "            sunk_ship+=1\n",
    "        else:\n",
    "            hitted_not_sunk_ship+=1\n",
    "    return (str(sunk_ship)+\",\"+str(hitted_not_sunk_ship))\n",
    "\n",
    "solution(4, \"1B 2C, 2D 4D\" , \"2B 2D 3D 4D 4A\") #1,1 \n"
   ]
  },
  {
   "cell_type": "code",
   "execution_count": 66,
   "metadata": {},
   "outputs": [
    {
     "data": {
      "text/plain": [
       "array([[0., 1., 1., 0.],\n",
       "       [0., 1., 1., 0.],\n",
       "       [0., 0., 0., 0.],\n",
       "       [0., 0., 0., 0.]])"
      ]
     },
     "metadata": {},
     "output_type": "display_data"
    },
    {
     "data": {
      "text/plain": [
       "array([[0., 1., 1., 0.],\n",
       "       [0., 1., 1., 1.],\n",
       "       [0., 0., 0., 1.],\n",
       "       [0., 0., 0., 1.]])"
      ]
     },
     "metadata": {},
     "output_type": "display_data"
    },
    {
     "name": "stdout",
     "output_type": "stream",
     "text": [
      "hit_row, hit_col 1 1\n"
     ]
    },
    {
     "data": {
      "text/plain": [
       "array([[0., 1., 1., 0.],\n",
       "       [0., 0., 1., 1.],\n",
       "       [0., 0., 0., 1.],\n",
       "       [0., 0., 0., 1.]])"
      ]
     },
     "metadata": {},
     "output_type": "display_data"
    },
    {
     "name": "stdout",
     "output_type": "stream",
     "text": [
      "hit_row, hit_col 1 3\n"
     ]
    },
    {
     "data": {
      "text/plain": [
       "array([[0., 1., 1., 0.],\n",
       "       [0., 0., 1., 0.],\n",
       "       [0., 0., 0., 1.],\n",
       "       [0., 0., 0., 1.]])"
      ]
     },
     "metadata": {},
     "output_type": "display_data"
    },
    {
     "name": "stdout",
     "output_type": "stream",
     "text": [
      "hit_row, hit_col 2 3\n"
     ]
    },
    {
     "data": {
      "text/plain": [
       "array([[0., 1., 1., 0.],\n",
       "       [0., 0., 1., 0.],\n",
       "       [0., 0., 0., 0.],\n",
       "       [0., 0., 0., 1.]])"
      ]
     },
     "metadata": {},
     "output_type": "display_data"
    },
    {
     "name": "stdout",
     "output_type": "stream",
     "text": [
      "hit_row, hit_col 3 3\n"
     ]
    },
    {
     "data": {
      "text/plain": [
       "array([[0., 1., 1., 0.],\n",
       "       [0., 0., 1., 0.],\n",
       "       [0., 0., 0., 0.],\n",
       "       [0., 0., 0., 0.]])"
      ]
     },
     "metadata": {},
     "output_type": "display_data"
    },
    {
     "name": "stdout",
     "output_type": "stream",
     "text": [
      "hit_row, hit_col 3 0\n"
     ]
    },
    {
     "data": {
      "text/plain": [
       "array([[ 0.,  1.,  1.,  0.],\n",
       "       [ 0.,  0.,  1.,  0.],\n",
       "       [ 0.,  0.,  0.,  0.],\n",
       "       [-1.,  0.,  0.,  0.]])"
      ]
     },
     "metadata": {},
     "output_type": "display_data"
    },
    {
     "name": "stdout",
     "output_type": "stream",
     "text": [
      "==============================\n",
      "ship_info [(0, 1), (1, 2), 4]\n"
     ]
    },
    {
     "data": {
      "text/plain": [
       "array([[1., 1.],\n",
       "       [0., 1.]])"
      ]
     },
     "metadata": {},
     "output_type": "display_data"
    },
    {
     "name": "stdout",
     "output_type": "stream",
     "text": [
      "==============================\n",
      "배 남은 공간? 3.0\n",
      "==============================\n",
      "ship_info [(1, 3), (3, 3), 3]\n"
     ]
    },
    {
     "data": {
      "text/plain": [
       "array([[0.],\n",
       "       [0.],\n",
       "       [0.]])"
      ]
     },
     "metadata": {},
     "output_type": "display_data"
    },
    {
     "name": "stdout",
     "output_type": "stream",
     "text": [
      "==============================\n",
      "배 남은 공간? 0.0\n"
     ]
    },
    {
     "data": {
      "text/plain": [
       "'1,1'"
      ]
     },
     "execution_count": 66,
     "metadata": {},
     "output_type": "execute_result"
    }
   ],
   "source": [
    "import numpy as np\n",
    "\n",
    "def solution(N, S, T):\n",
    "    metrix = np.zeros((N,N))\n",
    "    \n",
    "    ships_info =[]\n",
    "    # [step1] mark the location of ships (+1)\n",
    "    for start_end in S.split(\", \"):\n",
    "        start, end = start_end.split(\" \")\n",
    "        \n",
    "        start_row, start_col = int(start[:-1])-1, ord(start[-1])-65 # ord() : ASCII code\n",
    "        end_row, end_col = int(end[:-1])-1, ord(end[-1])-65 # ord() : ASCII code\n",
    "\n",
    "        ship_area=0\n",
    "        for row in range(start_row,end_row+1):\n",
    "            for col in range(start_col, end_col+1):\n",
    "                metrix[row,col]=1\n",
    "                ship_area+=1\n",
    "        \n",
    "        #[step1.5] save the ship info (location , area)\n",
    "        ships_info.append([(start_row,start_col),(end_row, end_col),ship_area])\n",
    "        \n",
    "        \n",
    "        display(metrix)\n",
    "    \n",
    "    # [step2] mark the location of hit (-1)\n",
    "    for hit_loc in T.split(\" \"):\n",
    "        hit_row, hit_col = int(hit_loc[:-1])-1, ord(hit_loc[-1])-65\n",
    "        metrix[hit_row, hit_col]-=1\n",
    "        print(\"hit_row, hit_col\", hit_row, hit_col)\n",
    "        display(metrix)\n",
    "        \n",
    "        \n",
    "    # [step3] check for singking (using metrix & ship info)\n",
    "    sunk_ship=0 # hitted and sunk\n",
    "    hitted_not_sunk_ship=0 # hitted but not sunk\n",
    "    not_hitted_ship=0 # not hitted\n",
    "    \n",
    "    for ship_info in ships_info:\n",
    "        ship_start, ship_end, ship_area = ship_info\n",
    "        ship_state = metrix[ship_start[0]:ship_end[0]+1, ship_start[1]:ship_end[1]+1]\n",
    "        remain_area = ship_state.sum()\n",
    "        \n",
    "        print(\"=\"*30)\n",
    "        print(\"ship_info\",ship_info)\n",
    "        display(ship_state)\n",
    "        print(\"=\"*30)\n",
    "        print(\"배 남은 공간?\", ship_state.sum())\n",
    "        \n",
    "        if remain_area == ship_area:\n",
    "            not_hitted_ship+=1\n",
    "        elif remain_area ==0:\n",
    "            sunk_ship+=1\n",
    "        else:\n",
    "            hitted_not_sunk_ship+=1\n",
    "    return (str(sunk_ship)+\",\"+str(hitted_not_sunk_ship))\n",
    "\n",
    "solution(4, \"1B 2C, 2D 4D\" , \"2B 2D 3D 4D 4A\") #1,1 \n"
   ]
  }
 ],
 "metadata": {
  "kernelspec": {
   "display_name": "Python 3",
   "language": "python",
   "name": "python3"
  },
  "language_info": {
   "codemirror_mode": {
    "name": "ipython",
    "version": 3
   },
   "file_extension": ".py",
   "mimetype": "text/x-python",
   "name": "python",
   "nbconvert_exporter": "python",
   "pygments_lexer": "ipython3",
   "version": "3.7.4"
  }
 },
 "nbformat": 4,
 "nbformat_minor": 2
}
