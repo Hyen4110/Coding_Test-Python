{
 "cells": [
  {
   "cell_type": "code",
   "execution_count": null,
   "metadata": {},
   "outputs": [],
   "source": [
    "map_dict = {'c':2, \".\":1, \"x\":0}\n",
    "width, height = list(map(int, input().split()))\n",
    "\n",
    "trials = height\n",
    "screen_location =[]\n",
    "while trials>0:\n",
    "    screen_location.append(list(map(lambda x: map_dict[x], list(input()) )))\n",
    "    trials-=1\n",
    "    \n",
    "\n",
    "#시작점의 위치 찾기\n",
    "start_idx =[(0,idx) for idx, val in enumerate(screen_location[0]) if val==2]\n",
    "screen_location\n",
    "\n",
    "print(start_idx)"
   ]
  },
  {
   "cell_type": "code",
   "execution_count": 18,
   "metadata": {},
   "outputs": [
    {
     "data": {
      "text/plain": [
       "[[1, 1, 0, 1], [1, 1, 1, 1], [0, 0, 1, 1], [1, 1, 1, 0], [0, 1, 1, 0]]"
      ]
     },
     "execution_count": 18,
     "metadata": {},
     "output_type": "execute_result"
    }
   ],
   "source": [
    "screen_location"
   ]
  },
  {
   "cell_type": "code",
   "execution_count": 12,
   "metadata": {},
   "outputs": [
    {
     "name": "stdout",
     "output_type": "stream",
     "text": [
      "[0, 3]\n"
     ]
    }
   ],
   "source": [
    "start_idxs =[idx for idx, val in enumerate(screen_location[0]) if val=='c']\n",
    "print(start_idxs)\n",
    "\n",
    "for start_idx in start_idxs:\n",
    "    "
   ]
  },
  {
   "cell_type": "code",
   "execution_count": 9,
   "metadata": {},
   "outputs": [
    {
     "data": {
      "text/plain": [
       "[(0, 'c'), (1, '.'), (2, 'x'), (3, 'c')]"
      ]
     },
     "execution_count": 9,
     "metadata": {},
     "output_type": "execute_result"
    }
   ],
   "source": [
    "def dfs_findway(start_idx, screen_location,candidate_idx =[], count)\n",
    "    count = 0\n",
    "    for i in range(len(screen_location)):\n",
    "        if screen_location[i+1][start_idx]==\".\":\n",
    "            pass\n",
    "        else:\n",
    "            \n",
    "    return "
   ]
  }
 ],
 "metadata": {
  "kernelspec": {
   "display_name": "Python 3",
   "language": "python",
   "name": "python3"
  },
  "language_info": {
   "codemirror_mode": {
    "name": "ipython",
    "version": 3
   },
   "file_extension": ".py",
   "mimetype": "text/x-python",
   "name": "python",
   "nbconvert_exporter": "python",
   "pygments_lexer": "ipython3",
   "version": "3.7.4"
  }
 },
 "nbformat": 4,
 "nbformat_minor": 2
}
