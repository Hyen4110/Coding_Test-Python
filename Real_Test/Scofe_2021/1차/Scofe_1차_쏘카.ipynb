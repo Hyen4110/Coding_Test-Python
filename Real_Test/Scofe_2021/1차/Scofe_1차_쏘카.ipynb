{
 "cells": [
  {
   "cell_type": "code",
   "execution_count": 2,
   "metadata": {},
   "outputs": [
    {
     "name": "stdout",
     "output_type": "stream",
     "text": [
      "12:00 ~ 23:59\n"
     ]
    }
   ],
   "source": [
    "start_time = []\n",
    "end_time = []\n",
    "\n",
    "start, end = input().split(\" ~ \") #HH:MM ~ HH:MM\n",
    "\n",
    "start_time.append(start.split(\":\"))\n",
    "end_time.append(end.split(\":\"))"
   ]
  },
  {
   "cell_type": "code",
   "execution_count": 3,
   "metadata": {},
   "outputs": [
    {
     "name": "stdout",
     "output_type": "stream",
     "text": [
      "[['12', '00']]\n",
      "[['23', '59']]\n"
     ]
    }
   ],
   "source": [
    "print(start_time)\n",
    "print(end_time)"
   ]
  },
  {
   "cell_type": "code",
   "execution_count": 4,
   "metadata": {},
   "outputs": [
    {
     "name": "stdout",
     "output_type": "stream",
     "text": [
      "2\n",
      "00:00 ~ 00:00\n",
      "00:00 ~ 00:00\n"
     ]
    },
    {
     "ename": "SyntaxError",
     "evalue": "'return' outside function (<ipython-input-4-e7b1a002cb99>, line 19)",
     "output_type": "error",
     "traceback": [
      "\u001b[1;36m  File \u001b[1;32m\"<ipython-input-4-e7b1a002cb99>\"\u001b[1;36m, line \u001b[1;32m19\u001b[0m\n\u001b[1;33m    return -1\u001b[0m\n\u001b[1;37m    ^\u001b[0m\n\u001b[1;31mSyntaxError\u001b[0m\u001b[1;31m:\u001b[0m 'return' outside function\n"
     ]
    }
   ],
   "source": [
    "member_cnt = int(input())\n",
    "start_time = []\n",
    "end_time = []\n",
    "\n",
    "while member_cnt>0:\n",
    "    start, end = input().split(\" ~ \") #HH:MM ~ HH:MM\n",
    "    \n",
    "    start_time.append([ int(x) for x in (start.split(\":\"))]) #출발 시간\n",
    "    end_time.append([int (x) for x in (end.split(\":\"))]) # 도착시간\n",
    "    member_cnt-=1\n",
    "\n",
    "start_time.sort(key = lambda x: (-x[0], -x[1]))\n",
    "end_time.sort(key = lambda x: (x[0], x[1]))\n",
    "\n",
    "start_fix = [\"0\"+str(x) if len(str(x))==1 else str(x) for x  in start_time[0] ]\n",
    "end_fix = [\"0\"+str(x) if len(str(x))==1 else str(x) for x  in end_time[0] ]\n",
    "\n",
    "if start_fix[0]>=end_fix[0] and start_fix[1]>=end_fix[1]:\n",
    "    print(\"-1\")\n",
    "else:\n",
    "    print(start_fix[0]+\":\"+start_fix[1]+\" ~ \"+end_fix[0]+\":\"+end_fix[1])"
   ]
  },
  {
   "cell_type": "code",
   "execution_count": 2,
   "metadata": {},
   "outputs": [
    {
     "name": "stdout",
     "output_type": "stream",
     "text": [
      "['14', '00']\n",
      "['18', '00']\n"
     ]
    }
   ],
   "source": [
    "# start_fix = [\"0\"+str(x) if len(str(x))==1 else x for x  in start_time[0] ]\n",
    "# end_fix = [\"0\"+str(x) if len(str(x))==1 else x for x  in end_time[0] ]\n",
    "\n",
    "print(start_fix)\n",
    "print(end_fix)\n"
   ]
  },
  {
   "cell_type": "code",
   "execution_count": null,
   "metadata": {},
   "outputs": [],
   "source": [
    "3\n",
    "12:00 ~ 23:59\n",
    "11:00 ~ 18:00\n",
    "14:00 ~ 20:00\n",
    "\n",
    "2\n",
    "00:00 ~ 13:00\n",
    "23:0"
   ]
  },
  {
   "cell_type": "code",
   "execution_count": 6,
   "metadata": {},
   "outputs": [
    {
     "name": "stdout",
     "output_type": "stream",
     "text": [
      "['00']\n",
      "['00']\n"
     ]
    }
   ],
   "source": [
    "print(start_fix)\n",
    "print(end_fix)"
   ]
  },
  {
   "cell_type": "code",
   "execution_count": 4,
   "metadata": {},
   "outputs": [
    {
     "name": "stdout",
     "output_type": "stream",
     "text": [
      "[14, 0]\n",
      "[18, 0]\n"
     ]
    }
   ],
   "source": [
    "print(start_fix)\n",
    "print(end_fix)"
   ]
  },
  {
   "cell_type": "code",
   "execution_count": 3,
   "metadata": {},
   "outputs": [
    {
     "name": "stdout",
     "output_type": "stream",
     "text": [
      "3\n",
      "12:00 ~ 23:59\n",
      "11:00 ~ 18:00\n",
      "14:00 ~ 20:00\n",
      "[14, 0]\n",
      "[18, 0]\n"
     ]
    }
   ],
   "source": [
    "member_cnt = int(input())\n",
    "start_time = []\n",
    "end_time = []\n",
    "\n",
    "while member_cnt>0:\n",
    "    start, end = input().split(\" ~ \") #HH:MM ~ HH:MM\n",
    "    \n",
    "    start_time.append([ int(x) for x in (start.split(\":\"))]) #출발 시간\n",
    "    end_time.append([int (x) for x in (end.split(\":\"))]) # 도착시간\n",
    "    member_cnt-=1\n",
    "\n",
    "start_time.sort(key = lambda x: (-x[0], -x[1]))\n",
    "end_time.sort(key = lambda x: (x[0], x[1]))\n",
    "\n",
    "start_fix = start_time[0]\n",
    "end_fix = end_time[0]\n",
    "\n",
    "print(start_fix)\n",
    "print(end_fix)\n",
    "\n",
    "# print(start_time[0][0],\":\",start_time[0][1], \" ~ \",end_time[0][0],\":\",end_time[0][1])"
   ]
  },
  {
   "cell_type": "code",
   "execution_count": null,
   "metadata": {},
   "outputs": [],
   "source": [
    "member_cnt = int(input())\n",
    "start_time = []\n",
    "end_time = []\n",
    "\n",
    "while member_cnt>0:\n",
    "    start, end = input().split(\" ~ \") #HH:MM ~ HH:MM\n",
    "    \n",
    "    start_time.append(start.split(\":\")) #출발 시간\n",
    "    end_time.append(end.split(\":\")) # 도착시간\n",
    "    member_cnt-=1\n",
    "\n",
    "start_fix = start_time.max(key = lambda x: (x[0], x[1]))\n",
    "end_fix = end_time.min(key = lambda x: (x[0], x[1]))\n",
    "\n",
    "print(start_fix[0],\":\",start_fix[1], \" ~ \",end_fix[0],\":\",end_fix[1])"
   ]
  },
  {
   "cell_type": "code",
   "execution_count": null,
   "metadata": {},
   "outputs": [],
   "source": [
    "\":\""
   ]
  }
 ],
 "metadata": {
  "kernelspec": {
   "display_name": "Python 3",
   "language": "python",
   "name": "python3"
  },
  "language_info": {
   "codemirror_mode": {
    "name": "ipython",
    "version": 3
   },
   "file_extension": ".py",
   "mimetype": "text/x-python",
   "name": "python",
   "nbconvert_exporter": "python",
   "pygments_lexer": "ipython3",
   "version": "3.7.4"
  }
 },
 "nbformat": 4,
 "nbformat_minor": 2
}
