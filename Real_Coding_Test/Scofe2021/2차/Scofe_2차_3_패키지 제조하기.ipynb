{
 "cells": [
  {
   "cell_type": "code",
   "execution_count": null,
   "metadata": {},
   "outputs": [],
   "source": []
  },
  {
   "cell_type": "code",
   "execution_count": null,
   "metadata": {},
   "outputs": [],
   "source": [
    "6 6\n",
    "6 4\n",
    "6 5\n",
    "4 1\n",
    "4 2\n",
    "4 3"
   ]
  },
  {
   "cell_type": "code",
   "execution_count": 17,
   "metadata": {},
   "outputs": [
    {
     "name": "stdout",
     "output_type": "stream",
     "text": [
      "8 3\n",
      "1 3\n",
      "1 2\n",
      "2 4\n",
      "2 5\n",
      "3 6\n",
      "3 7\n",
      "4 8\n",
      "\n",
      "\n",
      "\n",
      "3 8\n",
      "2 8\n",
      "1 8\n",
      "no\n",
      "yes\n",
      "yes\n"
     ]
    }
   ],
   "source": [
    "item_count,qeury_count = list(map(int, input().split()))\n",
    "trials = item_count-1\n",
    "\n",
    "relation_node =[]\n",
    "while trials>0:\n",
    "    relation_node.append(list(map(int,(input().split()))))\n",
    "    trials-=1\n",
    "\n",
    "relation_node_copy = relation_node[:]\n",
    "mother_node = [x[0] for x in relation_node]\n",
    "children_node = [x[-1] for x in relation_node]\n",
    "\n",
    "connected_needed = list(set(mother_node).intersection(set(children_node)))\n",
    "while len(connected_needed)!=0:\n",
    "    for connected in connected_needed:\n",
    "        print()\n",
    "        conncected_candidate = [x for x in relation_node if x[0]==connected]\n",
    "        candidate_mother = [x for x in relation_node if x[-1]==connected]\n",
    "        \n",
    "        for mother in candidate_mother:\n",
    "            for children in conncected_candidate:\n",
    "                relation_node.append(mother+children[1:])\n",
    "        \n",
    "        for children in conncected_candidate:\n",
    "            relation_node.remove(children)\n",
    "        for mother in candidate_mother:\n",
    "            relation_node.remove(mother)\n",
    "    #초기화\n",
    "    mother_node = [x[0] for x in relation_node]\n",
    "    children_node = [x[-1] for x in relation_node]        \n",
    "    connected_needed = list(set(mother_node).intersection(set(children_node)))\n",
    "    \n",
    "def solution(relation_node, mother, children):\n",
    "    mother_list = [x for x in relation_node if (mother in x) and (children in x)]\n",
    "    if len(mother_list)==0:\n",
    "        return \"no\"\n",
    "    else:\n",
    "        for k in mother_list:\n",
    "            if k.index(mother)<k.index(children):\n",
    "                return \"yes\"\n",
    "            else:\n",
    "                return \"no\"\n",
    "    \n",
    "\n",
    "question_list =[]\n",
    "while qeury_count>0:\n",
    "    question_list.append(list(map(int,input().split())))\n",
    "    qeury_count-=1\n",
    "\n",
    "for i in question_list:\n",
    "    mother, children = i\n",
    "    print(solution(relation_node, mother, children))\n",
    "    "
   ]
  },
  {
   "cell_type": "code",
   "execution_count": null,
   "metadata": {},
   "outputs": [],
   "source": [
    "6 6\n",
    "6 4\n",
    "6 5\n",
    "4 1\n",
    "4 2\n",
    "4 3"
   ]
  },
  {
   "cell_type": "code",
   "execution_count": 10,
   "metadata": {},
   "outputs": [
    {
     "name": "stdout",
     "output_type": "stream",
     "text": [
      "6 6\n",
      "6 4\n",
      "6 5\n",
      "4 1\n",
      "4 2\n",
      "4 3\n",
      "\n",
      "1 4\n",
      "4 1\n",
      "6 5\n",
      "1 6\n",
      "6 3\n",
      "4 3\n",
      "No\n",
      "Yes\n",
      "Yes\n",
      "No\n",
      "Yes\n",
      "Yes\n"
     ]
    }
   ],
   "source": [
    "item_count,qeury_count = list(map(int, input().split()))\n",
    "trials = item_count-1\n",
    "\n",
    "relation_node =[]\n",
    "while trials>0:\n",
    "    relation_node.append(list(map(int,(input().split()))))\n",
    "    trials-=1\n",
    "\n",
    "relation_node_copy = relation_node[:]\n",
    "\n",
    "# relation_node = relation_node_copy.copy()\n",
    "mother_node = [x[0] for x in relation_node]\n",
    "children_node = [x[-1] for x in relation_node]\n",
    "\n",
    "# print(\"mother_node\",mother_node)\n",
    "# print(\"children_node\",children_node)\n",
    "\n",
    "connected_needed = list(set(mother_node).intersection(set(children_node)))\n",
    "while len(connected_needed)!=0:\n",
    "#     print(\"relation_node\",relation_node)\n",
    "    for connected in connected_needed:\n",
    "        print()\n",
    "        conncected_candidate = [x for x in relation_node if x[0]==connected]\n",
    "        candidate_mother = [x for x in relation_node if x[-1]==connected]\n",
    "        \n",
    "#         print(\"conncected_candidate\",conncected_candidate)\n",
    "#         print(\"candidate_mother\",candidate_mother)\n",
    "        \n",
    "        for mother in candidate_mother:\n",
    "            for children in conncected_candidate:\n",
    "                relation_node.append(mother+children[1:])\n",
    "        \n",
    "        for children in conncected_candidate:\n",
    "            relation_node.remove(children)\n",
    "        for mother in candidate_mother:\n",
    "            relation_node.remove(mother)\n",
    "    \n",
    "#     print(\"relation_node\",relation_node)\n",
    "    #초기화\n",
    "    mother_node = [x[0] for x in relation_node]\n",
    "    children_node = [x[-1] for x in relation_node]        \n",
    "    connected_needed = list(set(mother_node).intersection(set(children_node)))\n",
    "\n",
    "#     print(\"connected_needed\",connected_needed)\n",
    "# print(\"relation_node\",relation_node)\n",
    "\n",
    "def solution(relation_node, mother, children):\n",
    "    mother_list = [x for x in relation_node if (mother in x) and (children in x)]\n",
    "#     print(\"mother\",mother)\n",
    "#     print(\"children\",children)\n",
    "#     print(\"mother_list\",mother_list)\n",
    "    if len(mother_list)==0:\n",
    "        return \"No\"\n",
    "    else:\n",
    "        for k in mother_list:\n",
    "            if k.index(mother)<k.index(children):\n",
    "                return \"Yes\"\n",
    "            else:\n",
    "                return \"No\"\n",
    "    \n",
    "\n",
    "question_list =[]\n",
    "while qeury_count>0:\n",
    "    question_list.append(list(map(int,input().split())))\n",
    "    qeury_count-=1\n",
    "\n",
    "for i in question_list:\n",
    "    mother, children = i\n",
    "    print(solution(relation_node, mother, children))\n",
    "    "
   ]
  },
  {
   "cell_type": "code",
   "execution_count": 8,
   "metadata": {},
   "outputs": [],
   "source": [
    "relation_node =[[6, 4], [6, 5], [4, 1], [4, 2], [4, 3]]\n",
    "qeury_count =6"
   ]
  },
  {
   "cell_type": "code",
   "execution_count": 45,
   "metadata": {},
   "outputs": [
    {
     "data": {
      "text/plain": [
       "[[6, 4], [6, 5], [4, 1], [4, 2], [4, 3]]"
      ]
     },
     "execution_count": 45,
     "metadata": {},
     "output_type": "execute_result"
    }
   ],
   "source": [
    "relation_node_copy"
   ]
  },
  {
   "cell_type": "code",
   "execution_count": 39,
   "metadata": {},
   "outputs": [
    {
     "name": "stdout",
     "output_type": "stream",
     "text": [
      "[[6, 4, 1, 2, 3], [6, 5], [4, 1], [4, 2], [4, 3]]\n"
     ]
    }
   ],
   "source": [
    "# \n",
    "relation_node = relation_node_copy[:]\n",
    "# relation_node = relation_node_copy.copy()\n",
    "print(relation_node)"
   ]
  },
  {
   "cell_type": "code",
   "execution_count": 9,
   "metadata": {},
   "outputs": [
    {
     "name": "stdout",
     "output_type": "stream",
     "text": [
      "relation_node [[6, 4], [6, 5], [4, 1], [4, 2], [4, 3]]\n",
      "\n",
      "1 4\n",
      "4 1\n",
      "6 5\n",
      "1 6\n",
      "6 3\n",
      "4 3\n",
      "No\n",
      "Yes\n",
      "Yes\n",
      "No\n",
      "Yes\n",
      "Yes\n"
     ]
    }
   ],
   "source": [
    "# relation_node = relation_node_copy.copy()\n",
    "mother_node = [x[0] for x in relation_node]\n",
    "children_node = [x[-1] for x in relation_node]\n",
    "\n",
    "# print(\"mother_node\",mother_node)\n",
    "# print(\"children_node\",children_node)\n",
    "\n",
    "connected_needed = list(set(mother_node).intersection(set(children_node)))\n",
    "while len(connected_needed)!=0:\n",
    "#     print(\"relation_node\",relation_node)\n",
    "    for connected in connected_needed:\n",
    "        print()\n",
    "        conncected_candidate = [x for x in relation_node if x[0]==connected]\n",
    "        candidate_mother = [x for x in relation_node if x[-1]==connected]\n",
    "        \n",
    "#         print(\"conncected_candidate\",conncected_candidate)\n",
    "#         print(\"candidate_mother\",candidate_mother)\n",
    "        \n",
    "        for mother in candidate_mother:\n",
    "            for children in conncected_candidate:\n",
    "                relation_node.append(mother+children[1:])\n",
    "        \n",
    "        for children in conncected_candidate:\n",
    "            relation_node.remove(children)\n",
    "        for mother in candidate_mother:\n",
    "            relation_node.remove(mother)\n",
    "    \n",
    "#     print(\"relation_node\",relation_node)\n",
    "    #초기화\n",
    "    mother_node = [x[0] for x in relation_node]\n",
    "    children_node = [x[-1] for x in relation_node]        \n",
    "    connected_needed = list(set(mother_node).intersection(set(children_node)))\n",
    "\n",
    "#     print(\"connected_needed\",connected_needed)\n",
    "# print(\"relation_node\",relation_node)\n",
    "\n",
    "def solution(relation_node, mother, children):\n",
    "    mother_list = [x for x in relation_node if (mother in x) and (children in x)]\n",
    "#     print(\"mother\",mother)\n",
    "#     print(\"children\",children)\n",
    "#     print(\"mother_list\",mother_list)\n",
    "    if len(mother_list)==0:\n",
    "        return \"No\"\n",
    "    else:\n",
    "        for k in mother_list:\n",
    "            if k.index(mother)<k.index(children):\n",
    "                return \"Yes\"\n",
    "            else:\n",
    "                return \"No\"\n",
    "    \n",
    "\n",
    "question_list =[]\n",
    "while qeury_count>0:\n",
    "    question_list.append(list(map(int,input().split())))\n",
    "    qeury_count-=1\n",
    "\n",
    "for i in question_list:\n",
    "    mother, children = i\n",
    "    print(solution(relation_node, mother, children))\n",
    "    "
   ]
  },
  {
   "cell_type": "code",
   "execution_count": null,
   "metadata": {},
   "outputs": [],
   "source": [
    "\n"
   ]
  }
 ],
 "metadata": {
  "kernelspec": {
   "display_name": "Python 3",
   "language": "python",
   "name": "python3"
  },
  "language_info": {
   "codemirror_mode": {
    "name": "ipython",
    "version": 3
   },
   "file_extension": ".py",
   "mimetype": "text/x-python",
   "name": "python",
   "nbconvert_exporter": "python",
   "pygments_lexer": "ipython3",
   "version": "3.7.4"
  }
 },
 "nbformat": 4,
 "nbformat_minor": 2
}
