{
 "cells": [
  {
   "cell_type": "code",
   "execution_count": 19,
   "metadata": {},
   "outputs": [
    {
     "name": "stdout",
     "output_type": "stream",
     "text": [
      "3 5\n",
      "3 4 5\n",
      "2 3 9\n",
      "3 9 3\n",
      "4 5 1\n",
      "1 3 6\n",
      "33\n"
     ]
    }
   ],
   "source": [
    "import numpy as np\n",
    "width, height = list(map(int, input().split()))\n",
    "\n",
    "trials = height\n",
    "popup_location =[]\n",
    "while trials>0:\n",
    "    popup_location.append([int(x) for x in list(input().split())])\n",
    "    trials-=1\n",
    "\n",
    "    \n",
    "popup_location = np.array(popup_location)\n",
    "l1_sum = 0\n",
    "l2_sum = 0\n",
    "l3_sum = 0\n",
    "total_sum=[0]\n",
    "\n",
    "if len(popup_location)==1:\n",
    "    print(popup_location[0,0])\n",
    "else:\n",
    "    \n",
    "    for l1 in range(height):\n",
    "        for l2 in range(l1, height):\n",
    "            for l3 in range(l2, height):\n",
    "                l1_sum = int(sum(popup_location[:l1+1,0]))\n",
    "                l2_sum = int(sum(popup_location[l1:l2+1,1]))\n",
    "                l3_sum = int(sum(popup_location[l2:,2]))\n",
    "                tot= l1_sum+l2_sum+l3_sum\n",
    "                \n",
    "                if tot> max(total_sum):\n",
    "                    total_sum.append(l1_sum+l2_sum+l3_sum)\n",
    "    print(max(total_sum))"
   ]
  },
  {
   "cell_type": "code",
   "execution_count": 18,
   "metadata": {},
   "outputs": [
    {
     "name": "stdout",
     "output_type": "stream",
     "text": [
      "3 5\n",
      "3 4 5\n",
      "2 3 9\n",
      "3 9 3\n",
      "4 5 1\n",
      "1 3 6\n",
      "0\n"
     ]
    }
   ],
   "source": [
    "import numpy as np\n",
    "width, height = list(map(int, input().split()))\n",
    "\n",
    "trials = height\n",
    "popup_location =[]\n",
    "while trials>0:\n",
    "    popup_location.append([int(x) for x in list(input().split())])\n",
    "    trials-=1\n",
    "\n",
    "    \n",
    "popup_location = np.array(popup_location)\n",
    "l1_sum = 0\n",
    "l2_sum = 0\n",
    "l3_sum = 0\n",
    "total_sum=[0]\n",
    "\n",
    "if len(popup_location)==1:\n",
    "    print(popup_location[0,0])\n",
    "else:\n",
    "    \n",
    "    for l1 in range(height):\n",
    "        for l2 in range(l1, height):\n",
    "            for l3 in range(l2, height):\n",
    "                for l4 in range(l3,height):\n",
    "                    for l5 in range()\n",
    "                tot = int(sum(popup_location[:l1+1,0]))+int(sum(popup_location[l1:l2+1,1]))+int(sum(popup_location[l2:,2]))+\n",
    "                tot= l1_sum+l2_sum+l3_sum\n",
    "                \n",
    "                if tot> max(total_sum):\n",
    "                    total_sum.append(l1_sum+l2_sum+l3_sum)\n",
    "    print(max(total_sum))"
   ]
  },
  {
   "cell_type": "code",
   "execution_count": 4,
   "metadata": {},
   "outputs": [
    {
     "name": "stdout",
     "output_type": "stream",
     "text": [
      "1\n"
     ]
    }
   ],
   "source": [
    "print(len(popup_location))"
   ]
  },
  {
   "cell_type": "code",
   "execution_count": 17,
   "metadata": {},
   "outputs": [
    {
     "name": "stdout",
     "output_type": "stream",
     "text": [
      "[3 2]\n",
      "5\n"
     ]
    }
   ],
   "source": [
    "popup_location = np.array(popup_location)\n",
    "print(popup_location[:2,0])\n",
    "print(sum(popup_location[:2,0]))"
   ]
  },
  {
   "cell_type": "code",
   "execution_count": null,
   "metadata": {},
   "outputs": [],
   "source": []
  },
  {
   "cell_type": "code",
   "execution_count": 23,
   "metadata": {},
   "outputs": [
    {
     "data": {
      "text/plain": [
       "33"
      ]
     },
     "execution_count": 23,
     "metadata": {},
     "output_type": "execute_result"
    }
   ],
   "source": [
    "l1_sum = 0\n",
    "l2_sum = 0\n",
    "l3_sum = 0\n",
    "total_sum=[]\n",
    "\n",
    "for l1 in range(height):\n",
    "    for l2 in range(l1, height):\n",
    "        for l3 in range(l2, height):\n",
    "            l1_sum = int(sum(popup_location[:l1+1,0]))\n",
    "            l2_sum = int(sum(popup_location[l1:l2+1,1]))\n",
    "            l3_sum = int(sum(popup_location[l2:,2]))\n",
    "            \n",
    "#             print(\"l1_sum\",l1_sum)\n",
    "#             print(\"l2_sum\",l2_sum)\n",
    "#             print(\"l3_sum\",l3_sum)\n",
    "            total_sum.append(l1_sum+l2_sum+l3_sum)\n",
    "answer = max(total_sum)"
   ]
  }
 ],
 "metadata": {
  "kernelspec": {
   "display_name": "Python 3",
   "language": "python",
   "name": "python3"
  },
  "language_info": {
   "codemirror_mode": {
    "name": "ipython",
    "version": 3
   },
   "file_extension": ".py",
   "mimetype": "text/x-python",
   "name": "python",
   "nbconvert_exporter": "python",
   "pygments_lexer": "ipython3",
   "version": "3.7.4"
  }
 },
 "nbformat": 4,
 "nbformat_minor": 2
}
