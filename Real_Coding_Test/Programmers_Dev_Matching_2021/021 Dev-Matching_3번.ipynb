{
 "cells": [
  {
   "cell_type": "code",
   "execution_count": 16,
   "metadata": {},
   "outputs": [
    {
     "data": {
      "text/plain": [
       "[('young', 12), ('john', 4), ('tod', 2), ('emily', 5), ('mary', 10)]"
      ]
     },
     "execution_count": 16,
     "metadata": {},
     "output_type": "execute_result"
    }
   ],
   "source": [
    "list(zip([\"young\", \"john\", \"tod\", \"emily\", \"mary\"],\n",
    "         [12, 4, 2, 5, 10]))"
   ]
  },
  {
   "cell_type": "code",
   "execution_count": 3,
   "metadata": {},
   "outputs": [
    {
     "name": "stdout",
     "output_type": "stream",
     "text": [
      "enroll_payment_dict {'john': 0, 'mary': 0, 'edward': 0, 'sam': 0, 'emily': 0, 'jaimie': 0, 'tod': 0, 'young': 0}\n",
      "enroll_parent_dict defaultdict(None, {'edward': 'mary', 'sam': 'edward', 'emily': 'mary', 'jaimie': 'mary', 'tod': 'jaimie', 'young': 'edward'})\n",
      "{'john': 400, 'mary': 1000, 'edward': 0, 'sam': 0, 'emily': 550.0, 'jaimie': 0, 'tod': 222.0, 'young': 1332.0}\n"
     ]
    },
    {
     "data": {
      "text/plain": [
       "[]"
      ]
     },
     "execution_count": 3,
     "metadata": {},
     "output_type": "execute_result"
    }
   ],
   "source": [
    "import collections\n",
    "\n",
    "def solution(enroll, referral, seller, amount):\n",
    "    enroll_payment_dict = { x:0 for x in enroll}\n",
    "    enroll_parent_dict = collections.defaultdict()\n",
    "    for i in range(len(referral)):\n",
    "        if referral[i]!=\"-\":\n",
    "            enroll_parent_dict[enroll[i]]=(referral[i])    \n",
    "            \n",
    "    print(\"enroll_payment_dict\",enroll_payment_dict)\n",
    "    print(\"enroll_parent_dict\",enroll_parent_dict)\n",
    "    \n",
    "    seller_amunt = list(zip(seller,amount))\n",
    "    for seller, amount in seller_amunt:\n",
    "        rate =1\n",
    "        children = seller\n",
    "        while children!=\"\":\n",
    "            enroll_payment_dict[seller]+= amount*rate*100\n",
    "            if children in enroll_parent_dict.keys():\n",
    "                children = enroll_parent_dict[children]\n",
    "            else:\n",
    "                children =\"\"\n",
    "            rate*=0.1\n",
    "    print(enroll_payment_dict)    \n",
    "    answer = []\n",
    "    return answer\n",
    "\n",
    "solution([\"john\", \"mary\", \"edward\", \"sam\", \"emily\", \"jaimie\", \"tod\", \"young\"],\n",
    "         [\"-\", \"-\", \"mary\", \"edward\", \"mary\", \"mary\", \"jaimie\", \"edward\"],\n",
    "         [\"young\", \"john\", \"tod\", \"emily\", \"mary\"],\n",
    "         [12, 4, 2, 5, 10]) #[360, 958, 108, 0, 450, 18, 180, 1080]"
   ]
  }
 ],
 "metadata": {
  "kernelspec": {
   "display_name": "Python 3",
   "language": "python",
   "name": "python3"
  }
 },
 "nbformat": 4,
 "nbformat_minor": 2
}
