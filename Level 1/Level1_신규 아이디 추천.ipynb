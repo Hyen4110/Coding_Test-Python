{
 "cells": [
  {
   "cell_type": "markdown",
   "metadata": {},
   "source": [
    "#### 문제 설명\n",
    "- 카카오에 입사한 신입 개발자 네오는 카카오계정개발팀에 배치되어, 카카오 서비스에 가입하는 유저들의 아이디를 생성하는 업무를 담당하게 되었습니다. 네오에게 주어진 첫 업무는 새로 가입하는 유저들이 카카오 아이디 규칙에 맞지 않는 아이디를 입력했을 때, 입력된 아이디와 유사하면서 규칙에 맞는 아이디를 추천해주는 프로그램을 개발하는 것입니다.\n",
    "\n",
    "\n",
    "- 다음은 카카오 아이디의 규칙입니다.\n",
    "\n",
    "1. 아이디의 길이는 3자 이상 15자 이하여야 합니다.\n",
    "2. 아이디는 알파벳 소문자, 숫자, 빼기(-), 밑줄(_), 마침표(.) 문자만 사용할 수 있습니다.\n",
    "    - 단, 마침표(.)는 처음과 끝에 사용할 수 없으며 또한 연속으로 사용할 수 없습니다.\n",
    "\n",
    "\n",
    "#### 7단계의 순차적인 처리 과정\n",
    "- 네오는 다음과 같이 7단계의 순차적인 처리 과정을 통해 신규 유저가 입력한 아이디가 카카오 아이디 규칙에 맞는 지 검사하고 규칙에 맞지 않은 경우 규칙에 맞는 새로운 아이디를 추천해 주려고 합니다.\n",
    "    : 신규 유저가 입력한 아이디가 new_id 라고 한다면,\n",
    "    \n",
    "- 1단계 new_id의 모든 대문자를 대응되는 소문자로 치환합니다.\n",
    "- 2단계 new_id에서 알파벳 소문자, 숫자, 빼기(-), 밑줄(_), 마침표(.)를 제외한 모든 문자를 제거합니다.\n",
    "- 3단계 new_id에서 마침표(.)가 2번 이상 연속된 부분을 하나의 마침표(.)로 치환합니다.\n",
    "- 4단계 new_id에서 마침표(.)가 처음이나 끝에 위치한다면 제거합니다.\n",
    "- 5단계 new_id가 빈 문자열이라면, new_id에 \"a\"를 대입합니다.\n",
    "- 6단계 new_id의 길이가 16자 이상이면, new_id의 첫 15개의 문자를 제외한 나머지 문자들을 모두 제거합니다.\n",
    "     만약 제거 후 마침표(.)가 new_id의 끝에 위치한다면 끝에 위치한 마침표(.) 문자를 제거합니다.\n",
    "- 7단계 new_id의 길이가 2자 이하라면, new_id의 마지막 문자를 new_id의 길이가 3이 될 때까지 반복해서 끝에 붙입니다.'"
   ]
  },
  {
   "cell_type": "markdown",
   "metadata": {},
   "source": [
    "#### [문제]\n",
    "신규 유저가 입력한 아이디를 나타내는 new_id가 매개변수로 주어질 때, 네오가 설계한 7단계의 처리 과정을 거친 후의 추천 아이디를 return 하도록 solution 함수를 완성해 주세요.\n",
    "\n",
    "#### [제한사항]\n",
    "new_id는 길이 1 이상 1,000 이하인 문자열입니다.\n",
    "new_id는 알파벳 대문자, 알파벳 소문자, 숫자, 특수문자로 구성되어 있습니다.\n",
    "new_id에 나타날 수 있는 특수문자는 -_.~!@#$%^&*()=+[{]}:?,<>/ 로 한정됩니다."
   ]
  },
  {
   "cell_type": "markdown",
   "metadata": {},
   "source": [
    "### 틀렸던 이유!\n",
    "- : \".\"이 2개인 경우만 \".\"로 대체! \n",
    "- \".\"이 2개 이상인 경우 모두 대체하도록 하니 통과함!"
   ]
  },
  {
   "cell_type": "code",
   "execution_count": 35,
   "metadata": {},
   "outputs": [
    {
     "data": {
      "text/plain": [
       "'bbb'"
      ]
     },
     "execution_count": 35,
     "metadata": {},
     "output_type": "execute_result"
    }
   ],
   "source": [
    "import re\n",
    "\n",
    "def solution(new_id):\n",
    "    new_id = new_id.lower()\n",
    "    new_id = re.sub('[^a-z0-9\\_\\-\\.]','',new_id)\n",
    "    new_id = re.sub('[.]{2,}','.',new_id)\n",
    "    new_id = new_id.strip(\".\")\n",
    "    \n",
    "    if not new_id:\n",
    "        new_id = \"a\"\n",
    "    if len(new_id) >= 16:\n",
    "        new_id = new_id[:15]\n",
    "        new_id = new_id.rstrip(\".\")\n",
    "        \n",
    "    if len(new_id)<=2:\n",
    "        new_id = new_id + new_id[-1]*(3-len(new_id))\n",
    "\n",
    "    return new_id\n",
    "\n",
    "solution(\"................b\")"
   ]
  },
  {
   "cell_type": "code",
   "execution_count": 19,
   "metadata": {},
   "outputs": [
    {
     "data": {
      "text/plain": [
       "'aaa'"
      ]
     },
     "execution_count": 19,
     "metadata": {},
     "output_type": "execute_result"
    }
   ],
   "source": [
    "import re\n",
    "    \n",
    "def solution(new_id):\n",
    "    new_id = new_id.lower()\n",
    "    new_id = re.sub('[^a-z0-9\\_\\-\\.]','',new_id)\n",
    "    new_id = new_id.replace(\"..\", \".\")\n",
    "    new_id = new_id.strip(\".\")\n",
    "    \n",
    "    if not new_id : \n",
    "        new_id = \"a\"\n",
    "        \n",
    "    if len(new_id) >= 16:\n",
    "        new_id = new_id[:15]\n",
    "        new_id = new_id.rstrip(\".\")\n",
    "        \n",
    "    if len(new_id)<=2:\n",
    "        new_id = new_id + new_id[-1]*(3-len(new_id))\n",
    "\n",
    "    return new_id\n",
    "\n",
    "solution('=.=')\n",
    "\n",
    "# 정확성  테스트\n",
    "# 테스트 1 〉\t통과 (0.12ms, 10.2MB)\n",
    "# 테스트 2 〉\t통과 (0.12ms, 10.2MB)\n",
    "# 테스트 3 〉\t통과 (0.12ms, 10.2MB)\n",
    "# 테스트 4 〉\t실패 (0.13ms, 10.2MB)\n",
    "# 테스트 5 〉\t통과 (0.13ms, 10.2MB)\n",
    "# 테스트 6 〉\t통과 (0.13ms, 10.2MB)\n",
    "# 테스트 7 〉\t통과 (0.13ms, 10.2MB)\n",
    "# 테스트 8 〉\t통과 (0.13ms, 10.2MB)\n",
    "# 테스트 9 〉\t통과 (0.13ms, 10.3MB)\n",
    "# 테스트 10 〉\t통과 (0.13ms, 10.2MB)\n",
    "# 테스트 11 〉\t통과 (0.13ms, 10.2MB)\n",
    "# 테스트 12 〉\t통과 (0.13ms, 10.3MB)\n",
    "# 테스트 13 〉\t통과 (0.13ms, 10.3MB)\n",
    "# 테스트 14 〉\t실패 (0.13ms, 10.2MB)\n",
    "# 테스트 15 〉\t통과 (0.13ms, 10.2MB)\n",
    "# 테스트 16 〉\t실패 (0.15ms, 10.3MB)\n",
    "# 테스트 17 〉\t실패 (0.14ms, 10.1MB)\n",
    "# 테스트 18 〉\t통과 (0.15ms, 10.2MB)\n",
    "# 테스트 19 〉\t통과 (0.19ms, 10.3MB)\n",
    "# 테스트 20 〉\t실패 (0.31ms, 10.3MB)\n",
    "# 테스트 21 〉\t실패 (0.26ms, 10.3MB)\n",
    "# 테스트 22 〉\t통과 (0.31ms, 10.3MB)\n",
    "# 테스트 23 〉\t통과 (0.15ms, 10.3MB)\n",
    "# 테스트 24 〉\t통과 (0.14ms, 10.2MB)\n",
    "# 테스트 25 〉\t실패 (0.18ms, 10.3MB)\n",
    "# 테스트 26 〉\t통과 (0.15ms, 10.2MB)"
   ]
  },
  {
   "cell_type": "code",
   "execution_count": 28,
   "metadata": {},
   "outputs": [
    {
     "name": "stdout",
     "output_type": "stream",
     "text": [
      "False\n"
     ]
    }
   ],
   "source": [
    "import re\n",
    "str = \"ASasdf_::://..--A-_.~!@#$%^&*()=+[{]}:?,<>/\"\n",
    "# str.lower()\n",
    "re.sub('[^a-z0-9\\_\\-\\.]',\"\",str)\n",
    "\n",
    "# str.strip(\"A\")\n",
    "# str[:3].strip(\"A\")\n",
    "\n",
    "b = None\n",
    "b = \"\"\n",
    "if not b: print(\"False\")"
   ]
  }
 ],
 "metadata": {
  "kernelspec": {
   "display_name": "Python 3",
   "language": "python",
   "name": "python3"
  },
  "language_info": {
   "codemirror_mode": {
    "name": "ipython",
    "version": 3
   },
   "file_extension": ".py",
   "mimetype": "text/x-python",
   "name": "python",
   "nbconvert_exporter": "python",
   "pygments_lexer": "ipython3",
   "version": "3.7.4"
  }
 },
 "nbformat": 4,
 "nbformat_minor": 2
}
