{
 "cells": [
  {
   "cell_type": "markdown",
   "metadata": {},
   "source": [
    "#### 문제 설명\n",
    "- 스마트폰 전화 키패드의 각 칸에 다음과 같이 숫자들이 적혀 있습니다.\n",
    "\n",
    "- 이 전화 키패드에서 왼손과 오른손의 엄지손가락만을 이용해서 숫자만을 입력하려고 합니다.\n",
    "- 맨 처음 왼손 엄지손가락은 * 키패드에 오른손 엄지손가락은 # 키패드 위치에서 시작하며, 엄지손가락을 사용하는 규칙은 다음과 같습니다.\n",
    "\n",
    "    1. 엄지손가락은 상하좌우 4가지 방향으로만 이동할 수 있으며 키패드 이동 한 칸은 거리로 1에 해당합니다.\n",
    "    2. 왼쪽 열의 3개의 숫자 1, 4, 7을 입력할 때는 왼손 엄지손가락을 사용합니다.\n",
    "    3. 오른쪽 열의 3개의 숫자 3, 6, 9를 입력할 때는 오른손 엄지손가락을 사용합니다.\n",
    "    4. 가운데 열의 4개의 숫자 2, 5, 8, 0을 입력할 때는 두 엄지손가락의 현재 키패드의 위치에서 더 가까운 엄지손가락을 사용합니다.\n",
    "    \n",
    "        4-1. 만약 두 엄지손가락의 거리가 같다면, 오른손잡이는 오른손 엄지손가락, 왼손잡이는 왼손 엄지손가락을 사용합니다.\n",
    "        \n",
    "        \n",
    "- 순서대로 누를 번호가 담긴 배열 numbers, 왼손잡이인지 오른손잡이인 지를 나타내는 문자열 hand가 매개변수로 주어질 때, 각 번호를 누른 엄지손가락이 왼손인 지 오른손인 지를 나타내는 연속된 문자열 형태로 return 하도록 solution 함수를 완성해주세요.\n",
    "\n",
    "#### 제한사항\n",
    "- numbers 배열의 크기는 1 이상 1,000 이하입니다.\n",
    "- numbers 배열 원소의 값은 0 이상 9 이하인 정수입니다.\n",
    "- hand는 \"left\" 또는 \"right\" 입니다.\n",
    "- \"left\"는 왼손잡이, \"right\"는 오른손잡이를 의미합니다.\n",
    "- 왼손 엄지손가락을 사용한 경우는 L, 오른손 엄지손가락을 사용한 경우는 R을 순서대로 이어붙여 문자열 형태로 return 해주세요.\n",
    "\n"
   ]
  },
  {
   "cell_type": "markdown",
   "metadata": {},
   "source": [
    "#### 시작지점을 생각못했다!\n",
    "- 시작 지점에도 좌표를 넣어서 거리계산할 수있게 해주자!\n",
    "- ---> 통과 "
   ]
  },
  {
   "cell_type": "code",
   "execution_count": null,
   "metadata": {},
   "outputs": [],
   "source": [
    "# 정확성  테스트\n",
    "# 테스트 1 〉\t통과 (0.01ms, 10.2MB)\n",
    "# 테스트 2 〉\t통과 (0.01ms, 10.3MB)\n",
    "# 테스트 3 〉\t통과 (0.01ms, 10.2MB)\n",
    "# 테스트 4 〉\t통과 (0.00ms, 10.3MB)\n",
    "# 테스트 5 〉\t통과 (0.01ms, 10.3MB)\n",
    "# 테스트 6 〉\t통과 (0.01ms, 10.3MB)\n",
    "# 테스트 7 〉\t통과 (0.03ms, 10.3MB)\n",
    "# 테스트 8 〉\t통과 (0.04ms, 10.3MB)\n",
    "# 테스트 9 〉\t통과 (0.03ms, 10.3MB)\n",
    "# 테스트 10 〉\t통과 (0.03ms, 10.3MB)\n",
    "# 테스트 11 〉\t통과 (0.11ms, 10.3MB)\n",
    "# 테스트 12 〉\t통과 (0.06ms, 10.3MB)\n",
    "# 테스트 13 〉\t통과 (0.13ms, 10.3MB)\n",
    "# 테스트 14 〉\t통과 (0.33ms, 10.4MB)\n",
    "# 테스트 15 〉\t통과 (0.90ms, 10.3MB)\n",
    "# 테스트 16 〉\t통과 (0.86ms, 10.2MB)\n",
    "# 테스트 17 〉\t통과 (1.56ms, 10.2MB)\n",
    "# 테스트 18 〉\t통과 (1.28ms, 10.4MB)\n",
    "# 테스트 19 〉\t통과 (1.59ms, 10.3MB)\n",
    "# 테스트 20 〉\t통과 (1.45ms, 10.3MB)"
   ]
  },
  {
   "cell_type": "code",
   "execution_count": null,
   "metadata": {},
   "outputs": [],
   "source": [
    "def solution(numbers, hand):\n",
    "    \n",
    "    def distance(a,b):\n",
    "        num_loc_dict = {1:(1,1), 2:(1,2), 3:(1,3),4:(2,1),5:(2,2),6:(2,3),7:(3,1),8:(3,2),9:(3,3),0:(4,2),10:(4,1),11:(4,3)}\n",
    "        distance = abs(num_loc_dict[a][0]-num_loc_dict[b][0])+ abs(num_loc_dict[a][1]-num_loc_dict[b][1])\n",
    "        return distance\n",
    "    \n",
    "    digit_dict = {1:\"L\", 4:\"L\", 7:\"L\", 3:\"R\", 6:\"R\", 9:\"R\"}\n",
    "    answer = \"\"\n",
    "    left, right = 10 , 11\n",
    "    \n",
    "    for num in numbers:\n",
    "        if num in digit_dict.keys():\n",
    "            num_hand= digit_dict[num]\n",
    "        else:\n",
    "            if distance(right,num) > distance(left,num):\n",
    "                    num_hand=\"L\"\n",
    "            elif distance(right,num) < distance(left,num):\n",
    "                    num_hand=\"R\"\n",
    "            else:\n",
    "                num_hand=hand[0].upper()\n",
    "        answer+=num_hand\n",
    "\n",
    "        if num_hand == \"R\":\n",
    "            right = num\n",
    "        else: \n",
    "            left = num\n",
    "    return answer\n",
    "                                                 \n",
    "# solution([1, 3, 4, 5, 8, 2, 1, 4, 5, 9, 5], \"right\") #\"LRLLLRLLRRL\"\n",
    "solution([7, 0, 8, 2, 8, 3, 1, 5, 7, 6, 2], \"left\") #\"LRLLRRLLLRR\"\n",
    "# solution([1, 2, 3, 4, 5, 6, 7, 8, 9, 0], \"right\") #\"LLRLLRLLRL\""
   ]
  },
  {
   "cell_type": "markdown",
   "metadata": {},
   "source": [
    "#### 맨해튼 거리로 바꾸어보았다\n",
    " - 그래도 2개 통과 못함..!"
   ]
  },
  {
   "cell_type": "code",
   "execution_count": 27,
   "metadata": {},
   "outputs": [],
   "source": [
    "# 정확성  테스트\n",
    "# 테스트 1 〉\t통과 (0.00ms, 10.3MB)\n",
    "# 테스트 2 〉\t통과 (0.01ms, 10.3MB)\n",
    "# 테스트 3 〉\t통과 (0.01ms, 10.3MB)\n",
    "# 테스트 4 〉\t통과 (0.01ms, 10.3MB)\n",
    "# 테스트 5 〉\t통과 (0.01ms, 10.4MB)\n",
    "# 테스트 6 〉\t통과 (0.01ms, 10.3MB)\n",
    "# 테스트 7 〉\t통과 (0.02ms, 10.3MB)\n",
    "# 테스트 8 〉\t실패 (0.04ms, 10.3MB)\n",
    "# 테스트 9 〉\t통과 (0.03ms, 10.3MB)\n",
    "# 테스트 10 〉\t통과 (0.07ms, 10.3MB)\n",
    "# 테스트 11 〉\t통과 (0.09ms, 10.3MB)\n",
    "# 테스트 12 〉\t통과 (0.05ms, 10.3MB)\n",
    "# 테스트 13 〉\t통과 (0.12ms, 10.3MB)\n",
    "# 테스트 14 〉\t통과 (0.26ms, 10.3MB)\n",
    "# 테스트 15 〉\t실패 (0.83ms, 10.3MB)\n",
    "# 테스트 16 〉\t통과 (0.51ms, 10.4MB)\n",
    "# 테스트 17 〉\t통과 (1.44ms, 10.3MB)\n",
    "# 테스트 18 〉\t통과 (0.78ms, 10.2MB)\n",
    "# 테스트 19 〉\t통과 (1.41ms, 10.3MB)\n",
    "# 테스트 20 〉\t통과 (1.43ms, 10.3MB)"
   ]
  },
  {
   "cell_type": "code",
   "execution_count": 35,
   "metadata": {},
   "outputs": [
    {
     "data": {
      "text/plain": [
       "3"
      ]
     },
     "execution_count": 35,
     "metadata": {},
     "output_type": "execute_result"
    }
   ],
   "source": [
    "def distance(a,b):\n",
    "    num_loc_dict = {1:(1,1), 2:(1,2), 3:(1,3),4:(2,1),5:(2,2),6:(2,3),7:(3,1),8:(3,2),9:(3,3),0:(4,2)}\n",
    "    distance = abs(num_loc_dict[a][0]-num_loc_dict[b][0])+ abs(num_loc_dict[a][1]-num_loc_dict[b][1])\n",
    "    return distance\n",
    "\n",
    "distance(1,8)"
   ]
  },
  {
   "cell_type": "code",
   "execution_count": 36,
   "metadata": {},
   "outputs": [
    {
     "data": {
      "text/plain": [
       "'LRLLRRLLLRR'"
      ]
     },
     "execution_count": 36,
     "metadata": {},
     "output_type": "execute_result"
    }
   ],
   "source": [
    "def solution(numbers, hand):\n",
    "    \n",
    "    def distance(a,b):\n",
    "        num_loc_dict = {1:(1,1), 2:(1,2), 3:(1,3),4:(2,1),5:(2,2),6:(2,3),7:(3,1),8:(3,2),9:(3,3),0:(4,2)}\n",
    "        distance = abs(num_loc_dict[a][0]-num_loc_dict[b][0])+ abs(num_loc_dict[a][1]-num_loc_dict[b][1])\n",
    "        return distance\n",
    "    \n",
    "    digit_dict = {1:\"L\", 4:\"L\", 7:\"L\", 3:\"R\", 6:\"R\", 9:\"R\"}\n",
    "    answer = \"\"\n",
    "    left, right = 0 , 0\n",
    "    \n",
    "    for num in numbers:\n",
    "        if num in digit_dict.keys():\n",
    "            num_hand= digit_dict[num]\n",
    "        else:\n",
    "            if distance(right,num)>distance(left,num):\n",
    "                    num_hand=\"L\"\n",
    "            elif distance(right,num)<distance(left,num):\n",
    "                    num_hand=\"R\"\n",
    "            else:\n",
    "                num_hand=hand[0].upper()\n",
    "        answer+=num_hand\n",
    "\n",
    "        if num_hand == \"R\":\n",
    "            right = num\n",
    "        else: \n",
    "            left = num\n",
    "    return answer\n",
    "                      "
   ]
  },
  {
   "cell_type": "code",
   "execution_count": 19,
   "metadata": {},
   "outputs": [
    {
     "data": {
      "text/plain": [
       "5"
      ]
     },
     "execution_count": 19,
     "metadata": {},
     "output_type": "execute_result"
    }
   ],
   "source": [
    "# 정확성  테스트\n",
    "# 테스트 1 〉\t통과 (0.01ms, 10.3MB)\n",
    "# 테스트 2 〉\t통과 (0.01ms, 10.3MB)\n",
    "# 테스트 3 〉\t통과 (0.01ms, 10.3MB)\n",
    "# 테스트 4 〉\t통과 (0.00ms, 10.3MB)\n",
    "# 테스트 5 〉\t통과 (0.01ms, 10.3MB)\n",
    "# 테스트 6 〉\t통과 (0.01ms, 10.3MB)\n",
    "# 테스트 7 〉\t통과 (0.03ms, 10.3MB)\n",
    "# 테스트 8 〉\t통과 (0.04ms, 10.3MB)\n",
    "# 테스트 9 〉\t통과 (0.03ms, 10.4MB)\n",
    "# 테스트 10 〉\t통과 (0.03ms, 10.2MB)\n",
    "# 테스트 11 〉\t통과 (0.12ms, 10.3MB)\n",
    "# 테스트 12 〉\t통과 (0.06ms, 10.3MB)\n",
    "# 테스트 13 〉\t실패 (0.14ms, 10.3MB)\n",
    "# 테스트 14 〉\t실패 (0.35ms, 10.3MB)\n",
    "# 테스트 15 〉\t실패 (1.04ms, 10.2MB)\n",
    "# 테스트 16 〉\t실패 (0.84ms, 10.3MB)\n",
    "# 테스트 17 〉\t실패 (1.77ms, 10.3MB)\n",
    "# 테스트 18 〉\t실패 (3.46ms, 10.3MB)\n",
    "# 테스트 19 〉\t실패 (1.75ms, 10.2MB)\n",
    "# 테스트 20 〉\t실패 (1.61ms, 10.3MB)"
   ]
  },
  {
   "cell_type": "code",
   "execution_count": 25,
   "metadata": {},
   "outputs": [
    {
     "data": {
      "text/plain": [
       "'LRLLRRLLLRR'"
      ]
     },
     "execution_count": 25,
     "metadata": {},
     "output_type": "execute_result"
    }
   ],
   "source": [
    "def solution(numbers, hand):\n",
    "    def distance(a,b):\n",
    "        num_loc_dict = {1:(1,1), 2:(1,2), 3:(1,3),4:(2,1),5:(2,2),6:(2,3),7:(3,1),8:(3,2),9:(3,3),0:(4,2)}\n",
    "        distance = (num_loc_dict[a][0]-num_loc_dict[b][0])**2+((num_loc_dict[a][1]-num_loc_dict[b][1]))**2\n",
    "        return distance\n",
    "    \n",
    "    digit_dict = {1:\"L\", 4:\"L\", 7:\"L\", 3:\"R\", 6:\"R\", 9:\"R\"}\n",
    "    answer = \"\"\n",
    "    left, right = 0 , 0\n",
    "    \n",
    "    for num in numbers:\n",
    "        if num in digit_dict.keys():\n",
    "            num_hand= digit_dict[num]\n",
    "        else:\n",
    "            if distance(right,num)>distance(left,num):\n",
    "                    num_hand=\"L\"\n",
    "            elif distance(right,num)<distance(left,num):\n",
    "                    num_hand=\"R\"\n",
    "            else:\n",
    "                num_hand=hand[0].upper()\n",
    "        answer+=num_hand\n",
    "\n",
    "        if num_hand == \"R\":\n",
    "            right = num\n",
    "        else: \n",
    "            left = num\n",
    "    return answer\n",
    "                                                 \n",
    "# solution([1, 3, 4, 5, 8, 2, 1, 4, 5, 9, 5], \"right\") #\"LRLLLRLLRRL\"\n",
    "solution([7, 0, 8, 2, 8, 3, 1, 5, 7, 6, 2], \"left\") #\"LRLLRRLLLRR\"\n",
    "# solution([1, 2, 3, 4, 5, 6, 7, 8, 9, 0], \"right\") #\"LLRLLRLLRL\""
   ]
  },
  {
   "cell_type": "code",
   "execution_count": null,
   "metadata": {},
   "outputs": [],
   "source": [
    "solution([1, 3, 4, 5, 8, 2, 1, 4, 5, 9, 5], \"right\") #\"LRLLLRLLRRL\"\n",
    "solution([7, 0, 8, 2, 8, 3, 1, 5, 7, 6, 2], \"left\") #\"LRLLRRLLLRR\"\n",
    "solution([1, 2, 3, 4, 5, 6, 7, 8, 9, 0], \"right\") #\"LLRLLRLLRL\""
   ]
  },
  {
   "cell_type": "code",
   "execution_count": null,
   "metadata": {},
   "outputs": [],
   "source": [
    "엄지손가락은 상하좌우 4가지 방향으로만 이동할 수 있으며 키패드 이동 한 칸은 거리로 1에 해당합니다.\n",
    "\n",
    "왼쪽 열의 3개의 숫자 1, 4, 7을 입력할 때는 왼손 엄지손가락을 사용합니다.\n",
    "\n",
    "오른쪽 열의 3개의 숫자 3, 6, 9를 입력할 때는 오른손 엄지손가락을 사용합니다.\n",
    "\n",
    "가운데 열의 4개의 숫자 2, 5, 8, 0을 입력할 때는 두 엄지손가락의 현재 키패드의 위치에서 더 "
   ]
  }
 ],
 "metadata": {
  "kernelspec": {
   "display_name": "Python 3",
   "language": "python",
   "name": "python3"
  },
  "language_info": {
   "codemirror_mode": {
    "name": "ipython",
    "version": 3
   },
   "file_extension": ".py",
   "mimetype": "text/x-python",
   "name": "python",
   "nbconvert_exporter": "python",
   "pygments_lexer": "ipython3",
   "version": "3.7.4"
  }
 },
 "nbformat": 4,
 "nbformat_minor": 2
}
