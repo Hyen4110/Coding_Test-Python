{
 "cells": [
  {
   "cell_type": "code",
   "execution_count": 52,
   "metadata": {},
   "outputs": [],
   "source": [
    "import numpy as np\n",
    "def solution(N, stages):\n",
    "    stage_array = np.array(stages)\n",
    "    fail_rate_tuple = [(k,(stage_array==k).sum()/(stage_array>=k).sum()) for k in range(1,N+1)]\n",
    "    fail_rate_tuple = sorted(fail_rate_tuple, key=lambda x: (-x[1],x[0]))\n",
    "    return [i for i,v in fail_rate_tuple]\n",
    "\n",
    "# 정확성  테스트\n",
    "# 테스트 1 〉\t통과 (1.46ms, 27.9MB)\n",
    "# 테스트 2 〉\t통과 (0.20ms, 27.5MB)\n",
    "# 테스트 3 〉\t통과 (15.47ms, 28.2MB)\n",
    "# 테스트 4 〉\t통과 (67.19ms, 28.8MB)\n",
    "# 테스트 5 〉\t통과 (257.43ms, 33.9MB)\n",
    "# 테스트 6 〉\t통과 (11.89ms, 27.8MB)\n",
    "# 테스트 7 〉\t통과 (8.32ms, 27.6MB)\n",
    "# 테스트 8 〉\t통과 (66.46ms, 29MB)\n",
    "# 테스트 9 〉\t통과 (255.69ms, 33.9MB)\n",
    "# 테스트 10 〉\t통과 (31.68ms, 28.6MB)\n",
    "# 테스트 11 〉\t통과 (69.05ms, 29.1MB)\n",
    "# 테스트 12 〉\t통과 (50.26ms, 29.7MB)\n",
    "# 테스트 13 〉\t통과 (102.37ms, 30.5MB)\n",
    "# 테스트 14 〉\t통과 (0.20ms, 27.8MB)\n",
    "# 테스트 15 〉\t통과 (6.15ms, 28.3MB)\n",
    "# 테스트 16 〉\t통과 (3.08ms, 27.8MB)\n",
    "# 테스트 17 〉\t통과 (6.27ms, 28.4MB)\n",
    "# 테스트 18 〉\t통과 (3.18ms, 28MB)\n",
    "# 테스트 19 〉\t통과 (0.77ms, 28.1MB)\n",
    "# 테스트 20 〉\t통과 (4.73ms, 28.3MB)\n",
    "# 테스트 21 〉\t통과 (9.27ms, 28.9MB)\n",
    "# 테스트 22 〉\t통과 (256.43ms, 37.3MB)\n",
    "# 테스트 23 〉\t통과 (16.07ms, 30.8MB)\n",
    "# 테스트 24 〉\t통과 (24.61ms, 30.9MB)\n",
    "# 테스트 25 〉\t통과 (4.53ms, 27.9MB)\n",
    "# 테스트 26 〉\t통과 (0.05ms, 27.8MB)\n",
    "# 테스트 27 〉\t통과 (0.05ms, 27.6MB)"
   ]
  },
  {
   "cell_type": "code",
   "execution_count": 43,
   "metadata": {},
   "outputs": [
    {
     "data": {
      "text/plain": [
       "[3, 4, 2, 1, 5]"
      ]
     },
     "execution_count": 43,
     "metadata": {},
     "output_type": "execute_result"
    }
   ],
   "source": [
    "import numpy as np\n",
    "def solution(N, stages):\n",
    "    \n",
    "    fail_rate_tuple = []\n",
    "    stage_array = np.array(stages)\n",
    "    \n",
    "    for k in range(1,N+1):\n",
    "            fail_rate = (stage_array==k).sum()/(stage_array>=k).sum()\n",
    "            fail_rate_tuple.append((k,fail_rate))\n",
    " \n",
    "    fail_rate_tuple = sorted(fail_rate_tuple, key=lambda x: (-x[1],x[0]))\n",
    "    answer = [i for i,v in fail_rate_tuple]  \n",
    "    \n",
    "    return answer\n",
    "\n",
    "# 채점을 시작합니다.\n",
    "# 정확성  테스트\n",
    "# 테스트 1 〉\t통과 (4.56ms, 27.8MB)\n",
    "# 테스트 2 〉\t통과 (0.64ms, 27.7MB)\n",
    "# 테스트 3 〉\t통과 (15.96ms, 28.1MB)\n",
    "# 테스트 4 〉\t통과 (85.96ms, 29.1MB)\n",
    "# 테스트 5 〉\t통과 (274.32ms, 33.7MB)\n",
    "# 테스트 6 〉\t통과 (5.22ms, 27.7MB)\n",
    "# 테스트 7 〉\t통과 (10.29ms, 27.8MB)\n",
    "# 테스트 8 〉\t통과 (70.67ms, 29.1MB)\n",
    "# 테스트 9 〉\t통과 (257.17ms, 33.9MB)\n",
    "# 테스트 10 〉\t통과 (30.59ms, 28.7MB)\n",
    "# 테스트 11 〉\t통과 (66.22ms, 28.9MB)\n",
    "# 테스트 12 〉\t통과 (49.01ms, 29.8MB)\n",
    "# 테스트 13 〉\t통과 (101.27ms, 30.4MB)\n",
    "# 테스트 14 〉\t통과 (0.19ms, 27.7MB)\n",
    "# 테스트 15 〉\t통과 (6.20ms, 28.1MB)\n",
    "# 테스트 16 〉\t통과 (3.08ms, 27.8MB)\n",
    "# 테스트 17 〉\t통과 (6.43ms, 28.3MB)\n",
    "# 테스트 18 〉\t통과 (3.16ms, 28MB)\n",
    "# 테스트 19 〉\t통과 (0.77ms, 27.9MB)\n",
    "# 테스트 20 〉\t통과 (4.73ms, 28MB)\n",
    "# 테스트 21 〉\t통과 (9.62ms, 28.5MB)\n",
    "# 테스트 22 〉\t통과 (257.26ms, 36.9MB)\n",
    "# 테스트 23 〉\t통과 (15.66ms, 31MB)\n",
    "# 테스트 24 〉\t통과 (27.00ms, 31MB)\n",
    "# 테스트 25 〉\t통과 (1.38ms, 28.1MB)\n",
    "# 테스트 26 〉\t통과 (0.05ms, 27.8MB)\n",
    "# 테스트 27 〉\t통과 (1.87ms, 27.4MB)"
   ]
  },
  {
   "cell_type": "code",
   "execution_count": 44,
   "metadata": {},
   "outputs": [
    {
     "data": {
      "text/plain": [
       "[3, 4, 2, 1, 5]"
      ]
     },
     "execution_count": 44,
     "metadata": {},
     "output_type": "execute_result"
    }
   ],
   "source": [
    "def solution(N, stages):\n",
    "    \n",
    "    fail_rate_tuple = []\n",
    "    stage_array = np.array(stages)\n",
    "    \n",
    "    for k in range(1,N+1):\n",
    "            fail_rate = stages.count(k)/len([i for i in stages if i>=k])\n",
    "            fail_rate_tuple.append((k,fail_rate))\n",
    " \n",
    "    fail_rate_tuple = sorted(fail_rate_tuple, key=lambda x: (-x[1],x[0]))\n",
    "    answer = [i for i,v in fail_rate_tuple]  \n",
    "    \n",
    "    return answer\n",
    "\n",
    "# 정확성  테스트\n",
    "# 테스트 1 〉\t실패 (런타임 에러)\n",
    "# 테스트 2 〉\t통과 (0.84ms, 10.2MB)\n",
    "# 테스트 3 〉\t통과 (214.34ms, 10.6MB)\n",
    "# 테스트 4 〉\t통과 (1106.86ms, 11.5MB)\n",
    "# 테스트 5 〉\t통과 (4359.53ms, 16.7MB)\n",
    "# 테스트 6 〉\t실패 (런타임 에러)\n",
    "# 테스트 7 〉\t실패 (런타임 에러)\n",
    "# 테스트 8 〉\t통과 (1066.28ms, 11.6MB)\n",
    "# 테스트 9 〉\t실패 (런타임 에러)\n",
    "# 테스트 10 〉\t통과 (428.18ms, 11.7MB)\n",
    "# 테스트 11 〉\t통과 (1079.54ms, 11.6MB)\n",
    "# 테스트 12 〉\t통과 (616.31ms, 12.4MB)\n",
    "# 테스트 13 〉\t실패 (런타임 에러)\n",
    "# 테스트 14 〉\t통과 (0.18ms, 10.1MB)\n",
    "# 테스트 15 〉\t통과 (42.23ms, 10.9MB)\n",
    "# 테스트 16 〉\t통과 (16.39ms, 10.5MB)\n",
    "# 테스트 17 〉\t통과 (55.66ms, 10.9MB)\n",
    "# 테스트 18 〉\t통과 (17.87ms, 10.6MB)\n",
    "# 테스트 19 〉\t통과 (3.53ms, 10.3MB)\n",
    "# 테스트 20 〉\t통과 (29.85ms, 10.8MB)\n",
    "# 테스트 21 〉\t통과 (52.84ms, 11.5MB)\n",
    "# 테스트 22 〉\t통과 (4216.11ms, 20MB)\n",
    "# 테스트 23 〉\t실패 (런타임 에러)\n",
    "# 테스트 24 〉\t실패 (런타임 에러)\n",
    "# 테스트 25 〉\t실패 (런타임 에러)\n",
    "# 테스트 26 〉\t통과 (0.01ms, 10.3MB)\n",
    "# 테스트 27 〉\t통과 (0.01ms, 10.1MB)"
   ]
  },
  {
   "cell_type": "code",
   "execution_count": null,
   "metadata": {},
   "outputs": [],
   "source": []
  }
 ],
 "metadata": {
  "kernelspec": {
   "display_name": "Python 3",
   "language": "python",
   "name": "python3"
  },
  "language_info": {
   "codemirror_mode": {
    "name": "ipython",
    "version": 3
   },
   "file_extension": ".py",
   "mimetype": "text/x-python",
   "name": "python",
   "nbconvert_exporter": "python",
   "pygments_lexer": "ipython3",
   "version": "3.7.4"
  }
 },
 "nbformat": 4,
 "nbformat_minor": 2
}
