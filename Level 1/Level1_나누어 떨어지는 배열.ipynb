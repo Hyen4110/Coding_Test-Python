{
 "cells": [
  {
   "cell_type": "markdown",
   "metadata": {},
   "source": [
    "#### 문제 설명\n",
    "- array의 각 element 중 divisor로 나누어 떨어지는 값을 오름차순으로 정렬한 배열을 반환하는 함수, solution을 작성해주세요.\n",
    "- divisor로 나누어 떨어지는 element가 하나도 없다면 배열에 -1을 담아 반환하세요.\n",
    "\n",
    "#### 제한사항\n",
    "- arr은 자연수를 담은 배열입니다.\n",
    "- 정수 i, j에 대해 i ≠ j 이면 arr[i] ≠ arr[j] 입니다.\n",
    "- divisor는 자연수입니다.\n",
    "- array는 길이 1 이상인 배열입니다."
   ]
  },
  {
   "cell_type": "code",
   "execution_count": 6,
   "metadata": {},
   "outputs": [
    {
     "data": {
      "text/plain": [
       "[-1]"
      ]
     },
     "execution_count": 6,
     "metadata": {},
     "output_type": "execute_result"
    }
   ],
   "source": [
    "def solution(arr, divisor):\n",
    "    arr_filtered = sorted([i for i in arr if i%divisor==0])\n",
    "    if not arr_filtered:\n",
    "        return [-1]\n",
    "    return arr_filtered\n",
    "\n",
    "# solution([5, 9, 7, 10],5) #[5, 10]\n",
    "# solution([2, 36, 1, 3],1) #[1, 2, 3, 36]\n",
    "solution([3,2,6],10) #[-1]"
   ]
  }
 ],
 "metadata": {
  "kernelspec": {
   "display_name": "Python 3",
   "language": "python",
   "name": "python3"
  },
  "language_info": {
   "codemirror_mode": {
    "name": "ipython",
    "version": 3
   },
   "file_extension": ".py",
   "mimetype": "text/x-python",
   "name": "python",
   "nbconvert_exporter": "python",
   "pygments_lexer": "ipython3",
   "version": "3.7.4"
  }
 },
 "nbformat": 4,
 "nbformat_minor": 2
}
