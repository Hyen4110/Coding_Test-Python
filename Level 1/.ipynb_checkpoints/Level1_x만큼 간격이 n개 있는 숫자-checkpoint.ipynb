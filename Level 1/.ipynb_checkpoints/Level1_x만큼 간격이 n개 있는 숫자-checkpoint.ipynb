{
 "cells": [
  {
   "cell_type": "markdown",
   "metadata": {},
   "source": [
    "#### 문제 설명\n",
    "- 함수 solution은 정수 x와 자연수 n을 입력 받아, x부터 시작해 x씩 증가하는 숫자를 n개 지니는 리스트를 리턴해야 합니다. 다음 제한 조건을 보고, 조건을 만족하는 함수, solution을 완성해주세요.\n",
    "\n",
    "#### 제한 조건\n",
    "- x는 -10000000 이상, 10000000 이하인 정수입니다.\n",
    "- n은 1000 이하인 자연수입니다."
   ]
  },
  {
   "cell_type": "code",
   "execution_count": null,
   "metadata": {},
   "outputs": [],
   "source": [
    "# 정확성  테스트\n",
    "# 테스트 1 〉\t통과 (0.01ms, 10.1MB)\n",
    "# 테스트 2 〉\t통과 (0.03ms, 10.2MB)\n",
    "# 테스트 3 〉\t통과 (0.05ms, 10.2MB)\n",
    "# 테스트 4 〉\t통과 (0.06ms, 10.2MB)\n",
    "# 테스트 5 〉\t통과 (0.06ms, 10.4MB)\n",
    "# 테스트 6 〉\t통과 (0.01ms, 10.2MB)\n",
    "# 테스트 7 〉\t통과 (0.10ms, 10.3MB)\n",
    "# 테스트 8 〉\t통과 (0.03ms, 10.3MB)\n",
    "# 테스트 9 〉\t통과 (0.13ms, 10.2MB)\n",
    "# 테스트 10 〉\t통과 (0.00ms, 10.2MB)\n",
    "# 테스트 11 〉\t통과 (0.07ms, 10.2MB)\n",
    "# 테스트 12 〉\t통과 (0.08ms, 10.3MB)\n",
    "# 테스트 13 〉\t통과 (0.16ms, 10.3MB)\n",
    "# 테스트 14 〉\t통과 (0.16ms, 10.3MB)"
   ]
  },
  {
   "cell_type": "code",
   "execution_count": 5,
   "metadata": {},
   "outputs": [
    {
     "data": {
      "text/plain": [
       "[2, 4, 6, 8, 10]"
      ]
     },
     "execution_count": 5,
     "metadata": {},
     "output_type": "execute_result"
    }
   ],
   "source": [
    "def solution(x, n):\n",
    "    return [x+x*i for i in range(n)]\n",
    "\n",
    "solution(2,5) #[2,4,6,8,10]\n",
    "# solution(4,3) #[4,8,12]\n",
    "# solution(-4,2) #[-4, -8]"
   ]
  }
 ],
 "metadata": {
  "kernelspec": {
   "display_name": "Python 3",
   "language": "python",
   "name": "python3"
  },
  "language_info": {
   "codemirror_mode": {
    "name": "ipython",
    "version": 3
   },
   "file_extension": ".py",
   "mimetype": "text/x-python",
   "name": "python",
   "nbconvert_exporter": "python",
   "pygments_lexer": "ipython3",
   "version": "3.7.4"
  }
 },
 "nbformat": 4,
 "nbformat_minor": 2
}
