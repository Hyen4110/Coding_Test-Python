{
 "cells": [
  {
   "cell_type": "markdown",
   "metadata": {},
   "source": [
    "#### 문제 설명\n",
    "- 문자열 s에 나타나는 문자를 큰것부터 작은 순으로 정렬해 새로운 문자열을 리턴하는 함수, solution을 완성해주세요.\n",
    "s는 영문 대소문자로만 구성되어 있으며, 대문자는 소문자보다 작은 것으로 간주합니다.\n",
    "\n",
    "#### 제한 사항\n",
    "- str은 길이 1 이상인 문자열입니다."
   ]
  },
  {
   "cell_type": "code",
   "execution_count": 5,
   "metadata": {},
   "outputs": [],
   "source": [
    "# 정확성  테스트\n",
    "# 테스트 1 〉\t통과 (0.03ms, 10.1MB)\n",
    "# 테스트 2 〉\t통과 (0.02ms, 10.2MB)\n",
    "# 테스트 3 〉\t통과 (0.02ms, 10.2MB)\n",
    "# 테스트 4 〉\t통과 (0.02ms, 10.2MB)\n",
    "# 테스트 5 〉\t통과 (0.16ms, 10.1MB)\n",
    "# 테스트 6 〉\t통과 (0.09ms, 10.1MB)\n",
    "# 테스트 7 〉\t통과 (0.03ms, 10.2MB)\n",
    "# 테스트 8 〉\t통과 (0.04ms, 10.1MB)\n",
    "# 테스트 9 〉\t통과 (0.04ms, 10.2MB)\n",
    "# 테스트 10 〉\t통과 (0.04ms, 10.3MB)\n",
    "# 테스트 11 〉\t통과 (0.02ms, 10.1MB)\n",
    "# 테스트 12 〉\t통과 (0.03ms, 10.1MB)\n",
    "# 테스트 13 〉\t통과 (0.03ms, 10.1MB)\n",
    "# 테스트 14 〉\t통과 (0.01ms, 10.1MB)\n",
    "# 테스트 15 〉\t통과 (0.01ms, 10.1MB)\n",
    "# 테스트 16 〉\t통과 (0.01ms, 10.1MB)"
   ]
  },
  {
   "cell_type": "code",
   "execution_count": 4,
   "metadata": {},
   "outputs": [
    {
     "data": {
      "text/plain": [
       "'gfedcbZ'"
      ]
     },
     "execution_count": 4,
     "metadata": {},
     "output_type": "execute_result"
    }
   ],
   "source": [
    "def solution(s):\n",
    "    return \"\".join(sorted([str for str in s if str.islower()==True],reverse=True)+\\\n",
    "    sorted([str for str in s if str.isupper()==True],reverse=True))\n",
    "\n",
    "solution(\"Zbcdefg\") #\"gfedcbZ\""
   ]
  }
 ],
 "metadata": {
  "kernelspec": {
   "display_name": "Python 3",
   "language": "python",
   "name": "python3"
  },
  "language_info": {
   "codemirror_mode": {
    "name": "ipython",
    "version": 3
   },
   "file_extension": ".py",
   "mimetype": "text/x-python",
   "name": "python",
   "nbconvert_exporter": "python",
   "pygments_lexer": "ipython3",
   "version": "3.7.4"
  }
 },
 "nbformat": 4,
 "nbformat_minor": 2
}
