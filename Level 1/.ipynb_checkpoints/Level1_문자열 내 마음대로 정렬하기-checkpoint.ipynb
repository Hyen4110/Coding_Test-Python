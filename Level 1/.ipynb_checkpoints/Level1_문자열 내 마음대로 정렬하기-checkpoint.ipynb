{
 "cells": [
  {
   "cell_type": "markdown",
   "metadata": {},
   "source": [
    "#### 문제 설명\n",
    "- 문자열로 구성된 리스트 strings와, 정수 n이 주어졌을 때, 각 문자열의 인덱스 n번째 글자를 기준으로 오름차순 정렬하려 합니다. \n",
    "- 예를 들어 strings가 [\"sun\", \"bed\", \"car\"]이고 n이 1이면 각 단어의 인덱스 1의 문자 \"u\", \"e\", \"a\"로 strings를 정렬합니다.\n",
    "\n",
    "#### 제한 조건\n",
    "- strings는 길이 1 이상, 50이하인 배열입니다.\n",
    "- strings의 원소는 소문자 알파벳으로 이루어져 있습니다.\n",
    "- strings의 원소는 길이 1 이상, 100이하인 문자열입니다.\n",
    "- 모든 strings의 원소의 길이는 n보다 큽니다.\n",
    "- 인덱스 1의 문자가 같은 문자열이 여럿 일 경우, 사전순으로 앞선 문자열이 앞쪽에 위치합니다."
   ]
  },
  {
   "cell_type": "code",
   "execution_count": null,
   "metadata": {},
   "outputs": [],
   "source": [
    "# 정확성  테스트\n",
    "# 테스트 1 〉\t통과 (0.01ms, 10.1MB)\n",
    "# 테스트 2 〉\t통과 (0.01ms, 10.3MB)\n",
    "# 테스트 3 〉\t통과 (0.03ms, 10.1MB)\n",
    "# 테스트 4 〉\t통과 (0.03ms, 10.2MB)\n",
    "# 테스트 5 〉\t통과 (0.01ms, 10.2MB)\n",
    "# 테스트 6 〉\t통과 (0.03ms, 10.1MB)\n",
    "# 테스트 7 〉\t통과 (0.01ms, 10.1MB)\n",
    "# 테스트 8 〉\t통과 (0.05ms, 10.2MB)\n",
    "# 테스트 9 〉\t통과 (0.01ms, 10.1MB)\n",
    "# 테스트 10 〉\t통과 (0.05ms, 10.1MB)\n",
    "# 테스트 11 〉\t통과 (0.01ms, 10.1MB)\n",
    "# 테스트 12 〉\t통과 (0.05ms, 10.1MB)"
   ]
  },
  {
   "cell_type": "code",
   "execution_count": 3,
   "metadata": {},
   "outputs": [
    {
     "data": {
      "text/plain": [
       "['abcd', 'abce', 'cdx']"
      ]
     },
     "execution_count": 3,
     "metadata": {},
     "output_type": "execute_result"
    }
   ],
   "source": [
    "def solution(strings, n):\n",
    "    return sorted(strings,key= lambda x:[x[n],x[:n]+x[n+1:]])\n",
    "\n",
    "solution([\"sun\", \"bed\", \"car\"],1) #\t[\"car\", \"bed\", \"sun\"]\n",
    "solution([\"abce\", \"abcd\", \"cdx\"],2) #[\"abcd\", \"abce\", \"cdx\"]"
   ]
  }
 ],
 "metadata": {
  "kernelspec": {
   "display_name": "Python 3",
   "language": "python",
   "name": "python3"
  },
  "language_info": {
   "codemirror_mode": {
    "name": "ipython",
    "version": 3
   },
   "file_extension": ".py",
   "mimetype": "text/x-python",
   "name": "python",
   "nbconvert_exporter": "python",
   "pygments_lexer": "ipython3",
   "version": "3.7.4"
  }
 },
 "nbformat": 4,
 "nbformat_minor": 2
}
