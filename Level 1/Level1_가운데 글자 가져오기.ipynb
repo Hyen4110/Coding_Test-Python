{
 "cells": [
  {
   "cell_type": "code",
   "execution_count": 3,
   "metadata": {},
   "outputs": [
    {
     "name": "stdout",
     "output_type": "stream",
     "text": [
      "4 0\n",
      "8\n"
     ]
    }
   ],
   "source": [
    "s='avddddff'\n",
    "num, remain = divmod(len(s),2)\n",
    "print(num, remain)\n",
    "print(len(s))"
   ]
  },
  {
   "cell_type": "code",
   "execution_count": 9,
   "metadata": {},
   "outputs": [
    {
     "data": {
      "text/plain": [
       "'c'"
      ]
     },
     "execution_count": 9,
     "metadata": {},
     "output_type": "execute_result"
    }
   ],
   "source": [
    "def solution(s):\n",
    "    if len(s)==1: \n",
    "        return s\n",
    "    else:\n",
    "        num, remain = divmod(len(s),2)\n",
    "        if remain==1:\n",
    "            answer = s[num]\n",
    "        else:        \n",
    "            answer = s[num-1:num+1]\n",
    "    return answer\n",
    "\n",
    "solution(\"abcde\")"
   ]
  }
 ],
 "metadata": {
  "kernelspec": {
   "display_name": "Python 3",
   "language": "python",
   "name": "python3"
  },
  "language_info": {
   "codemirror_mode": {
    "name": "ipython",
    "version": 3
   },
   "file_extension": ".py",
   "mimetype": "text/x-python",
   "name": "python",
   "nbconvert_exporter": "python",
   "pygments_lexer": "ipython3",
   "version": "3.7.4"
  }
 },
 "nbformat": 4,
 "nbformat_minor": 2
}
