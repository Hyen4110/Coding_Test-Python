{
 "cells": [
  {
   "cell_type": "markdown",
   "metadata": {},
   "source": [
    "#### 문제 설명\n",
    "- 문자열 s는 한 개 이상의 단어로 구성되어 있습니다. 각 단어는 하나 이상의 공백문자로 구분되어 있습니다. 각 단어의 짝수번째 알파벳은 대문자로, 홀수번째 알파벳은 소문자로 바꾼 문자열을 리턴하는 함수, solution을 완성하세요.\n",
    "\n",
    "#### 제한 사항\n",
    "- 문자열 전체의 짝/홀수 인덱스가 아니라, 단어(공백을 기준)별로 짝/홀수 인덱스를 판단해야합니다.\n",
    "- 첫 번째 글자는 0번째 인덱스로 보아 짝수번째 알파벳으로 처리해야 합니다."
   ]
  },
  {
   "cell_type": "code",
   "execution_count": 5,
   "metadata": {},
   "outputs": [
    {
     "data": {
      "text/plain": [
       "['t', 'r', 'y', ' ', 'h', 'e', 'l', 'l', 'o', ' ', 'w', 'o', 'r', 'l', 'd']"
      ]
     },
     "execution_count": 5,
     "metadata": {},
     "output_type": "execute_result"
    }
   ],
   "source": [
    "list(\"try hello world\")"
   ]
  },
  {
   "cell_type": "code",
   "execution_count": null,
   "metadata": {},
   "outputs": [],
   "source": [
    "# 정확성  테스트\n",
    "# 테스트 1 〉\t통과 (0.01ms, 10.2MB)\n",
    "# 테스트 2 〉\t통과 (0.01ms, 10.2MB)\n",
    "# 테스트 3 〉\t통과 (0.01ms, 10.2MB)\n",
    "# 테스트 4 〉\t통과 (0.04ms, 10.1MB)\n",
    "# 테스트 5 〉\t통과 (0.02ms, 10.2MB)\n",
    "# 테스트 6 〉\t통과 (0.01ms, 10.2MB)\n",
    "# 테스트 7 〉\t통과 (0.01ms, 10.2MB)\n",
    "# 테스트 8 〉\t통과 (0.04ms, 10.2MB)\n",
    "# 테스트 9 〉\t통과 (0.02ms, 10.3MB)\n",
    "# 테스트 10 〉\t통과 (0.04ms, 10.3MB)\n",
    "# 테스트 11 〉\t통과 (0.04ms, 10.2MB)\n",
    "# 테스트 12 〉\t통과 (0.04ms, 10.2MB)\n",
    "# 테스트 13 〉\t통과 (0.02ms, 10.1MB)\n",
    "# 테스트 14 〉\t통과 (0.01ms, 10.1MB)\n",
    "# 테스트 15 〉\t통과 (0.02ms, 10.2MB)\n",
    "# 테스트 16 〉\t통과 (0.03ms, 10.2MB)"
   ]
  },
  {
   "cell_type": "code",
   "execution_count": 15,
   "metadata": {},
   "outputs": [
    {
     "data": {
      "text/plain": [
       "'TrY HeLlO WoRlD'"
      ]
     },
     "execution_count": 15,
     "metadata": {},
     "output_type": "execute_result"
    }
   ],
   "source": [
    "def solution(s):\n",
    "    idx_in_word=0\n",
    "    answer =\"\"\n",
    "    for str in list(s):\n",
    "        if str==\" \":\n",
    "            idx_in_word=0\n",
    "        else: \n",
    "            idx_in_word+=1\n",
    "            if idx_in_word%2==0:\n",
    "                str = str.lower()\n",
    "            else:\n",
    "                str = str.upㅔper()\n",
    "        answer+=str\n",
    "    return answer  \n",
    "solution(\"try hello world\") #\t\"TrY HeLlO WoRlD\"\n",
    "# solution(\"sa\")"
   ]
  },
  {
   "cell_type": "markdown",
   "metadata": {},
   "source": [
    "### 문제를 잘못이해\n",
    "- 공백으로 단어를 나눈후, 한 단어 안에서 인덱스 홀/짝에 따라 대/소가 결정되는것이었음!"
   ]
  },
  {
   "cell_type": "code",
   "execution_count": 10,
   "metadata": {},
   "outputs": [
    {
     "data": {
      "text/plain": [
       "'Sa'"
      ]
     },
     "execution_count": 10,
     "metadata": {},
     "output_type": "execute_result"
    }
   ],
   "source": [
    "def solution(s):\n",
    "    return \"\".join([val.upper() if idx%2==0 else val.lower() for idx, val in enumerate(list(s))])\n",
    "\n",
    "solution(\"try hello world\") #\t\"TrY HeLlO WoRlD\"\n",
    "solution(\"sa\")"
   ]
  }
 ],
 "metadata": {
  "kernelspec": {
   "display_name": "Python 3",
   "language": "python",
   "name": "python3"
  },
  "language_info": {
   "codemirror_mode": {
    "name": "ipython",
    "version": 3
   },
   "file_extension": ".py",
   "mimetype": "text/x-python",
   "name": "python",
   "nbconvert_exporter": "python",
   "pygments_lexer": "ipython3",
   "version": "3.7.4"
  }
 },
 "nbformat": 4,
 "nbformat_minor": 2
}
