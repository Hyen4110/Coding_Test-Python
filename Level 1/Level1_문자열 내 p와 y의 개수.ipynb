{
 "cells": [
  {
   "cell_type": "markdown",
   "metadata": {},
   "source": [
    "#### 문제 설명\n",
    "- 대문자와 소문자가 섞여있는 문자열 s가 주어집니다. s에 'p'의 개수와 'y'의 개수를 비교해 같으면 True, 다르면 False를 return 하는 solution를 완성하세요. 'p', 'y' 모두 하나도 없는 경우는 항상 True를 리턴합니다. 단, 개수를 비교할 때 대문자와 소문자는 구별하지 않습니다.\n",
    "\n",
    "- 예를 들어 s가 pPoooyY면 true를 return하고 Pyy라면 false를 return합니다.\n",
    "\n",
    "#### 제한사항\n",
    "- 문자열 s의 길이 : 50 이하의 자연수\n",
    "- 문자열 s는 알파벳으로만 이루어져 있습니다."
   ]
  },
  {
   "cell_type": "code",
   "execution_count": null,
   "metadata": {},
   "outputs": [],
   "source": [
    "#정답!\n",
    "def solution(s):\n",
    "    return s.lower().count(\"p\") == s.lower().count(\"y\")"
   ]
  },
  {
   "cell_type": "markdown",
   "metadata": {},
   "source": [
    "#### a==b 자체를 return값으로 정하면, 맞으면 True, 틀리면 False를 낸다는게 새로운 점!"
   ]
  },
  {
   "cell_type": "code",
   "execution_count": 2,
   "metadata": {},
   "outputs": [
    {
     "ename": "SyntaxError",
     "evalue": "'return' outside function (<ipython-input-2-de070ca9a8d1>, line 4)",
     "output_type": "error",
     "traceback": [
      "\u001b[1;36m  File \u001b[1;32m\"<ipython-input-2-de070ca9a8d1>\"\u001b[1;36m, line \u001b[1;32m4\u001b[0m\n\u001b[1;33m    return True\u001b[0m\n\u001b[1;37m    ^\u001b[0m\n\u001b[1;31mSyntaxError\u001b[0m\u001b[1;31m:\u001b[0m 'return' outside function\n"
     ]
    }
   ],
   "source": [
    "#처음 낸 코드\n",
    "def solution(s):\n",
    "    s_lower = s.lower()\n",
    "    if s_lower.count(\"p\") == s_lower.count(\"y\"):\n",
    "        return True\n",
    "    else: return False\n",
    "    \n",
    "# solution(\"pPoooyY\")\n",
    "solution(\"Pyy\")"
   ]
  },
  {
   "cell_type": "code",
   "execution_count": 8,
   "metadata": {},
   "outputs": [
    {
     "data": {
      "text/plain": [
       "False"
      ]
     },
     "execution_count": 8,
     "metadata": {},
     "output_type": "execute_result"
    }
   ],
   "source": [
    "def solution(s):\n",
    "    s_lower = s.lower()\n",
    "    if s_lower.count(\"p\") == s_lower.count(\"y\"):\n",
    "        return True\n",
    "    else: return False\n",
    "    \n",
    "# solution(\"pPoooyY\")\n",
    "solution(\"Pyy\")"
   ]
  }
 ],
 "metadata": {
  "kernelspec": {
   "display_name": "Python 3",
   "language": "python",
   "name": "python3"
  },
  "language_info": {
   "codemirror_mode": {
    "name": "ipython",
    "version": 3
   },
   "file_extension": ".py",
   "mimetype": "text/x-python",
   "name": "python",
   "nbconvert_exporter": "python",
   "pygments_lexer": "ipython3",
   "version": "3.7.4"
  }
 },
 "nbformat": 4,
 "nbformat_minor": 2
}
