{
 "cells": [
  {
   "cell_type": "markdown",
   "metadata": {},
   "source": [
    "#### 문제 설명\n",
    "- 수포자는 수학을 포기한 사람의 준말입니다. 수포자 삼인방은 모의고사에 수학 문제를 전부 찍으려 합니다. 수포자는 1번 문제부터 마지막 문제까지 다음과 같이 찍습니다.\n",
    "\n",
    "    - 1번 수포자가 찍는 방식: 1, 2, 3, 4, 5, 1, 2, 3, 4, 5, ...\n",
    "    - 2번 수포자가 찍는 방식: 2, 1, 2, 3, 2, 4, 2, 5, 2, 1, 2, 3, 2, 4, 2, 5, ...\n",
    "    - 3번 수포자가 찍는 방식: 3, 3, 1, 1, 2, 2, 4, 4, 5, 5, 3, 3, 1, 1, 2, 2, 4, 4, 5, 5, ...\n",
    "\n",
    "- 1번 문제부터 마지막 문제까지의 정답이 순서대로 들은 배열 answers가 주어졌을 때, 가장 많은 문제를 맞힌 사람이 누구인지 배열에 담아 return 하도록 solution 함수를 작성해주세요.\n",
    "\n",
    "#### 제한 조건\n",
    "- 시험은 최대 10,000 문제로 구성되어있습니다.\n",
    "- 문제의 정답은 1, 2, 3, 4, 5중 하나입니다.\n",
    "- 가장 높은 점수를 받은 사람이 여럿일 경우, return하는 값을 오름차순 정렬해주세요."
   ]
  },
  {
   "cell_type": "code",
   "execution_count": 160,
   "metadata": {},
   "outputs": [
    {
     "data": {
      "text/plain": [
       "[1]"
      ]
     },
     "execution_count": 160,
     "metadata": {},
     "output_type": "execute_result"
    }
   ],
   "source": [
    "import numpy as np\n",
    "\n",
    "def solution(answers):\n",
    "    answers = np.array(answers)\n",
    "\n",
    "    stud1_answer = np.array([1,2,3,4,5]*len(answers))[:len(answers)]\n",
    "    stud2_answer = np.array([2,1,2,3,2,4,2,5]*len(answers))[:len(answers)]\n",
    "    stud3_answer = np.array([3,3,1,1,2,2,4,4,5,5]*len(answers))[:len(answers)]\n",
    "\n",
    "    students_score = np.array([int((stud1_answer==answers).sum()),\n",
    "                              int((stud2_answer==answers).sum()),\n",
    "                              int((stud3_answer==answers).sum())])\n",
    "\n",
    "    answer_list = np.where(students_score==int(students_score.max()))\n",
    "    answer = (answer_list+ np.ones(len(answer_list[0]))).astype('int')[0]\n",
    "    \n",
    "    return answer.tolist()\n",
    "                           \n",
    "solution([1,2,3,4,5])"
   ]
  },
  {
   "cell_type": "code",
   "execution_count": 121,
   "metadata": {},
   "outputs": [
    {
     "data": {
      "text/plain": [
       "[array([1., 2., 3.])]"
      ]
     },
     "execution_count": 121,
     "metadata": {},
     "output_type": "execute_result"
    }
   ],
   "source": [
    "import numpy as np\n",
    "\n",
    "\n",
    "answers = np.array(answers)\n",
    "\n",
    "stud1_answer = np.array([1,2,3,4,5]*len(answers))[:len(answers)]\n",
    "stud2_answer = np.array([2,1,2,3,2,4,2,5]*len(answers))[:len(answers)]\n",
    "stud3_answer = np.array([3,3,1,1,2,2,4,4,5,5]*len(answers))[:len(answers)]\n",
    "\n",
    "students_score = np.array([(stud1_answer==answers).sum(),\n",
    "                          (stud2_answer==answers).sum(),\n",
    "                          (stud3_answer==answers).sum()])\n",
    "\n",
    "answer_list = np.where(students_score==students_score.max())\n",
    "answer = list(answer_list+ np.ones(len(answer_list[0])))\n",
    "\n",
    "answer"
   ]
  }
 ],
 "metadata": {
  "kernelspec": {
   "display_name": "Python 3",
   "language": "python",
   "name": "python3"
  },
  "language_info": {
   "codemirror_mode": {
    "name": "ipython",
    "version": 3
   },
   "file_extension": ".py",
   "mimetype": "text/x-python",
   "name": "python",
   "nbconvert_exporter": "python",
   "pygments_lexer": "ipython3",
   "version": "3.7.4"
  }
 },
 "nbformat": 4,
 "nbformat_minor": 2
}
