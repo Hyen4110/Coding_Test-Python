{
 "cells": [
  {
   "cell_type": "markdown",
   "metadata": {},
   "source": [
    "#### 문제 설명\n",
    "- 양의 정수 x가 하샤드 수이려면 x의 자릿수의 합으로 x가 나누어져야 합니다. \n",
    "- 예를 들어 18의 자릿수 합은 1+8=9이고, 18은 9로 나누어 떨어지므로 18은 하샤드 수입니다. \n",
    "- 자연수 x를 입력받아 x가 하샤드 수인지 아닌지 검사하는 함수, solution을 완성해주세요.\n",
    "\n",
    "#### 제한 조건\n",
    "- x는 1 이상, 10000 이하인 정수입니다."
   ]
  },
  {
   "cell_type": "code",
   "execution_count": null,
   "metadata": {},
   "outputs": [],
   "source": [
    "# 정확성  테스트\n",
    "# 테스트 1 〉\t통과 (0.02ms, 10.3MB)\n",
    "# 테스트 2 〉\t통과 (0.02ms, 10.3MB)\n",
    "# 테스트 3 〉\t통과 (0.03ms, 10.3MB)\n",
    "# 테스트 4 〉\t통과 (0.02ms, 10.3MB)\n",
    "# 테스트 5 〉\t통과 (0.02ms, 10.3MB)\n",
    "# 테스트 6 〉\t통과 (0.02ms, 10.2MB)\n",
    "# 테스트 7 〉\t통과 (0.03ms, 10.4MB)\n",
    "# 테스트 8 〉\t통과 (0.02ms, 10.3MB)\n",
    "# 테스트 9 〉\t통과 (0.02ms, 10.3MB)\n",
    "# 테스트 10 〉\t통과 (0.03ms, 10.3MB)\n",
    "# 테스트 11 〉\t통과 (0.03ms, 10.4MB)\n",
    "# 테스트 12 〉\t통과 (0.02ms, 10.3MB)\n",
    "# 테스트 13 〉\t통과 (0.03ms, 10.4MB)\n",
    "# 테스트 14 〉\t통과 (0.03ms, 10.3MB)\n",
    "# 테스트 15 〉\t통과 (0.03ms, 10.2MB)\n",
    "# 테스트 16 〉\t통과 (0.02ms, 10.2MB)\n",
    "# 테스트 17 〉\t통과 (0.03ms, 10.3MB)"
   ]
  },
  {
   "cell_type": "code",
   "execution_count": 12,
   "metadata": {},
   "outputs": [
    {
     "data": {
      "text/plain": [
       "True"
      ]
     },
     "execution_count": 12,
     "metadata": {},
     "output_type": "execute_result"
    }
   ],
   "source": [
    "def solution(x):\n",
    "    return x%sum([int(num) for num in list(str(x))])==0\n",
    "\n",
    "solution(10) #true\n",
    "# solution(12) #\ttrue\n",
    "# solution(11) #\tfalse\n",
    "# solution(13) #\tfalse"
   ]
  }
 ],
 "metadata": {
  "kernelspec": {
   "display_name": "Python 3",
   "language": "python",
   "name": "python3"
  },
  "language_info": {
   "codemirror_mode": {
    "name": "ipython",
    "version": 3
   },
   "file_extension": ".py",
   "mimetype": "text/x-python",
   "name": "python",
   "nbconvert_exporter": "python",
   "pygments_lexer": "ipython3",
   "version": "3.7.4"
  }
 },
 "nbformat": 4,
 "nbformat_minor": 2
}
