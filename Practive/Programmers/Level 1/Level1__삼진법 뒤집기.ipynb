{
 "cells": [
  {
   "cell_type": "markdown",
   "metadata": {},
   "source": [
    "#### 문제 설명\n",
    "- 자연수 n이 매개변수로 주어집니다. n을 3진법 상에서 앞뒤로 뒤집은 후, 이를 다시 10진법으로 표현한 수를 return 하도록 solution 함수를 완성해주세요.\n",
    "\n",
    "#### 제한사항\n",
    "- n은 1 이상 100,000,000 이하인 자연수입니다."
   ]
  },
  {
   "cell_type": "markdown",
   "metadata": {},
   "source": [
    "#### 입출력 예\n",
    "- n\tresult\n",
    "- 45\t7\n",
    "- 125\t229\n",
    "\n",
    "#### 답을 도출하는 과정은 다음과 같습니다.\n",
    "- n (10진법)\tn (3진법)\t앞뒤 반전(3진법)\t10진법으로 표현\n",
    "- 45\t1200\t0021\t7\n",
    "- 따라서 7을 return 해야 합니다.\n",
    "\n",
    "#### 답을 도출하는 과정은 다음과 같습니다.\n",
    "- n (10진법)\tn (3진법)\t앞뒤 반전(3진법)\t10진법으로 표현\n",
    "- 125\t11122\t22111\t229\n",
    "- 따라서 229를 return 해야 합니다."
   ]
  },
  {
   "cell_type": "code",
   "execution_count": 116,
   "metadata": {},
   "outputs": [
    {
     "data": {
      "text/plain": [
       "229"
      ]
     },
     "execution_count": 116,
     "metadata": {},
     "output_type": "execute_result"
    }
   ],
   "source": [
    "# 통과!\n",
    "\n",
    "def convert_to_base_3(n, base=3):\n",
    "    T = \"0123456789ABCDEF\"\n",
    "    q, r = divmod(n, 3) # n을 base로 나눈 몫과 나머지를 튜플형태로 반환\n",
    "    if q == 0:\n",
    "        return T[r]\n",
    "    else:\n",
    "        return convert_to_base_3(q, 3) + T[r]\n",
    "\n",
    "def solution(n):\n",
    "    num_base_3 = convert_to_base_3(n)\n",
    "    reverse_base_3 = num_base_3[::-1]\n",
    "\n",
    "    answer = 0\n",
    "    for idx, i in enumerate(reverse_base_3[::-1]):\n",
    "        answer += int(i) * ( 3 ** idx )\n",
    "    \n",
    "    return answer\n",
    "\n",
    "solution(125)"
   ]
  },
  {
   "cell_type": "code",
   "execution_count": 110,
   "metadata": {},
   "outputs": [
    {
     "name": "stdout",
     "output_type": "stream",
     "text": [
      "41\n",
      "13\n",
      "4\n",
      "1\n",
      "3진법으로 변환 11122\n",
      "41\n",
      "13\n",
      "4\n",
      "1\n",
      "3진법 거꾸로 바꾸기 22111\n"
     ]
    },
    {
     "data": {
      "text/plain": [
       "229"
      ]
     },
     "execution_count": 110,
     "metadata": {},
     "output_type": "execute_result"
    }
   ],
   "source": [
    "n=125\n",
    "def convert(n, base):\n",
    "    T = \"0123456789ABCDEF\"\n",
    "    q, r = divmod(n, base) # n을 base로 나눈 몫과 나머지를 튜플형태로 반환\n",
    "    if q == 0:\n",
    "        return T[r]\n",
    "    else:\n",
    "        print(q)\n",
    "        return convert(q, base) + T[r]\n",
    "    \n",
    "print(\"3진법으로 변환\",convert(n,3))\n",
    "reverse_base_3 = convert(n,3)[::-1]\n",
    "print(\"3진법 거꾸로 바꾸기\",reverse_base_3)\n",
    "\n",
    "answer1 = 0\n",
    "for idx, i in enumerate(reverse_base_3[::-1]):\n",
    "    answer1 += int(i) * ( 3 ** idx )\n",
    "\n",
    "answer1"
   ]
  },
  {
   "cell_type": "markdown",
   "metadata": {},
   "source": [
    "### n진법을 10진법으로 변환하기"
   ]
  },
  {
   "cell_type": "code",
   "execution_count": 105,
   "metadata": {},
   "outputs": [
    {
     "data": {
      "text/plain": [
       "73"
      ]
     },
     "execution_count": 105,
     "metadata": {},
     "output_type": "execute_result"
    }
   ],
   "source": [
    "num = '1001001'\n",
    "base = 2\n",
    "\n",
    "answer = 0\n",
    "for idx, i in enumerate(num[::-1]):\n",
    "    answer += int(i) * ( base ** idx )\n",
    "\n",
    "answer"
   ]
  },
  {
   "cell_type": "markdown",
   "metadata": {},
   "source": [
    "### 10진법을 n진법으로 변환하기 "
   ]
  },
  {
   "cell_type": "code",
   "execution_count": 100,
   "metadata": {},
   "outputs": [
    {
     "name": "stdout",
     "output_type": "stream",
     "text": [
      "15\n",
      "5\n",
      "1\n",
      "3진법으로 변환 1200\n",
      "15\n",
      "5\n",
      "1\n",
      "3진법 바꾸기 21\n",
      "2\n"
     ]
    },
    {
     "data": {
      "text/plain": [
       "'21'"
      ]
     },
     "execution_count": 100,
     "metadata": {},
     "output_type": "execute_result"
    }
   ],
   "source": [
    "n=45\n",
    "def convert(n, base):\n",
    "    T = \"0123456789ABCDEF\"\n",
    "    q, r = divmod(n, base) # n을 base로 나눈 몫과 나머지를 튜플형태로 반환\n",
    "    if q == 0:\n",
    "        return T[r]\n",
    "    else:\n",
    "        print(q)\n",
    "        return convert(q, base) + T[r]\n",
    "print(\"3진법으로 변환\",convert(n,3))\n",
    "reverse_base_3 = int(convert(n,3)[::-1])\n",
    "print(\"3진법 거꾸로 바꾸기\",reverse_base_3)\n",
    "\n"
   ]
  },
  {
   "cell_type": "code",
   "execution_count": 86,
   "metadata": {},
   "outputs": [
    {
     "name": "stdout",
     "output_type": "stream",
     "text": [
      "5\n",
      "k번째수: 0\n",
      "k번째수: 1\n",
      "k번째수: 1\n",
      "k번째수: 1\n",
      "k번째수: 2\n",
      "3진법 표현수: 011122\n",
      "3진법 뒤집은 수: 221110\n",
      "0 번째 수: 0\n",
      "1 번째 수: 3\n",
      "2 번째 수: 9\n",
      "3 번째 수: 27\n",
      "4 번째 수: 162\n",
      "5 번째 수: 486\n",
      "10진법 표현수: 687\n"
     ]
    }
   ],
   "source": [
    "###하다가 망함!\n",
    "\n",
    "n=125\n",
    "# 81+27\n",
    "digits = int((n**(1/3))//1)\n",
    "print(digits)\n",
    "num_base_3 = \"\"\n",
    "\n",
    "for k in range(digits,0,-1):\n",
    "    num_k = n//(3**k)\n",
    "    print(\"k번째수:\", num_k)\n",
    "    num_base_3+=str(num_k)\n",
    "    n= n-(3**k)*num_k\n",
    "    if n>3: continue\n",
    "    else:\n",
    "        num_base_3+=\"0\"*(k-1)+str(n)\n",
    "        break\n",
    "\n",
    "print(\"3진법 표현수:\",num_base_3)\n",
    "rev_num_base_3 = num_base_3[::-1]\n",
    "print(\"3진법 뒤집은 수:\",rev_num_base_3)\n",
    "\n",
    "num_base_10= 0\n",
    "for i in range(len(num_base_3)):\n",
    "    num_i= (3**(i))*int(num_base_3[i])\n",
    "    print(i,\"번째 수:\",num_i)\n",
    "    num_base_10+=num_i\n",
    "    \n",
    "print(\"10진법 표현수:\",num_base_10)"
   ]
  },
  {
   "cell_type": "code",
   "execution_count": null,
   "metadata": {},
   "outputs": [],
   "source": [
    "def solution(n):\n",
    "    digits = int(n**(1/3))\n",
    "    num_list = []\n",
    "    \n",
    "    for i in range(1, digits+1):\n",
    "        3_number_i = n%(3**i)\n",
    "        num_list.append(3_number_i)\n",
    "        \n",
    "    answer = \"\".join()\n",
    "    return answer\n",
    "\n"
   ]
  }
 ],
 "metadata": {
  "kernelspec": {
   "display_name": "Python 3",
   "language": "python",
   "name": "python3"
  },
  "language_info": {
   "codemirror_mode": {
    "name": "ipython",
    "version": 3
   },
   "file_extension": ".py",
   "mimetype": "text/x-python",
   "name": "python",
   "nbconvert_exporter": "python",
   "pygments_lexer": "ipython3",
   "version": "3.7.4"
  }
 },
 "nbformat": 4,
 "nbformat_minor": 2
}
