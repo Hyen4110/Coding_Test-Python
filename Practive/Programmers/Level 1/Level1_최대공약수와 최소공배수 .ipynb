{
 "cells": [
  {
   "cell_type": "markdown",
   "metadata": {},
   "source": [
    "#### 문제 설명\n",
    "- 두 수를 입력받아 두 수의 최대공약수와 최소공배수를 반환하는 함수, solution을 완성해 보세요. \n",
    "- 배열의 맨 앞에 최대공약수, 그다음 최소공배수를 넣어 반환하면 됩니다. \n",
    "- 예를 들어 두 수 3, 12의 최대공약수는 3, 최소공배수는 12이므로 solution(3, 12)는 [3, 12]를 반환해야 합니다.\n",
    "\n",
    "#### 제한 사항\n",
    "- 두 수는 1이상 1000000이하의 자연수입니다."
   ]
  },
  {
   "cell_type": "markdown",
   "metadata": {},
   "source": [
    "### 새롭게 안 것:  최소공배수 = n*m/(최대공약수)"
   ]
  },
  {
   "cell_type": "code",
   "execution_count": 10,
   "metadata": {},
   "outputs": [
    {
     "data": {
      "text/plain": [
       "1"
      ]
     },
     "execution_count": 10,
     "metadata": {},
     "output_type": "execute_result"
    }
   ],
   "source": [
    "# 정확성  테스트\n",
    "# 테스트 1 〉\t통과 (0.02ms, 10.1MB)\n",
    "# 테스트 2 〉\t통과 (0.02ms, 10.2MB)\n",
    "# 테스트 3 〉\t통과 (0.02ms, 10.3MB)\n",
    "# 테스트 4 〉\t통과 (0.02ms, 10.3MB)\n",
    "# 테스트 5 〉\t통과 (0.00ms, 10.2MB)\n",
    "# 테스트 6 〉\t통과 (0.01ms, 10.3MB)\n",
    "# 테스트 7 〉\t통과 (0.02ms, 10.2MB)\n",
    "# 테스트 8 〉\t통과 (0.01ms, 10.1MB)\n",
    "# 테스트 9 〉\t통과 (0.01ms, 10.2MB)\n",
    "# 테스트 10 〉\t통과 (0.02ms, 10.1MB)\n",
    "# 테스트 11 〉\t통과 (0.39ms, 10.2MB)\n",
    "# 테스트 12 〉\t통과 (0.47ms, 10.1MB)\n",
    "# 테스트 13 〉\t통과 (0.41ms, 10.2MB)\n",
    "# 테스트 14 〉\t통과 (0.43ms, 10.2MB)\n",
    "# 테스트 15 〉\t통과 (0.21ms, 10.2MB)\n",
    "# 테스트 16 〉\t통과 (0.54ms, 10.3MB)"
   ]
  },
  {
   "cell_type": "code",
   "execution_count": 2,
   "metadata": {},
   "outputs": [
    {
     "ename": "ValueError",
     "evalue": "max() arg is an empty sequence",
     "output_type": "error",
     "traceback": [
      "\u001b[1;31m---------------------------------------------------------------------------\u001b[0m",
      "\u001b[1;31mValueError\u001b[0m                                Traceback (most recent call last)",
      "\u001b[1;32m<ipython-input-2-2dd03f53c795>\u001b[0m in \u001b[0;36m<module>\u001b[1;34m\u001b[0m\n\u001b[0;32m     13\u001b[0m \u001b[1;33m\u001b[0m\u001b[0m\n\u001b[0;32m     14\u001b[0m \u001b[1;31m# solution(3,12) #[3, 12]\u001b[0m\u001b[1;33m\u001b[0m\u001b[1;33m\u001b[0m\u001b[1;33m\u001b[0m\u001b[0m\n\u001b[1;32m---> 15\u001b[1;33m \u001b[0msolution\u001b[0m\u001b[1;33m(\u001b[0m\u001b[1;36m2\u001b[0m\u001b[1;33m,\u001b[0m\u001b[1;36m5\u001b[0m\u001b[1;33m)\u001b[0m \u001b[1;31m#[1, 10]\u001b[0m\u001b[1;33m\u001b[0m\u001b[1;33m\u001b[0m\u001b[0m\n\u001b[0m\u001b[0;32m     16\u001b[0m \u001b[1;31m# solution(11,13) #[3, 12]\u001b[0m\u001b[1;33m\u001b[0m\u001b[1;33m\u001b[0m\u001b[1;33m\u001b[0m\u001b[0m\n",
      "\u001b[1;32m<ipython-input-2-2dd03f53c795>\u001b[0m in \u001b[0;36msolution\u001b[1;34m(n, m)\u001b[0m\n\u001b[0;32m      8\u001b[0m     \u001b[1;32mif\u001b[0m \u001b[1;32mnot\u001b[0m \u001b[0mn_devidy\u001b[0m\u001b[1;33m:\u001b[0m\u001b[1;33m\u001b[0m\u001b[1;33m\u001b[0m\u001b[0m\n\u001b[0;32m      9\u001b[0m         \u001b[1;32mreturn\u001b[0m \u001b[1;33m[\u001b[0m\u001b[1;36m1\u001b[0m\u001b[1;33m,\u001b[0m \u001b[0mn\u001b[0m\u001b[1;33m*\u001b[0m\u001b[0mm\u001b[0m\u001b[1;33m]\u001b[0m\u001b[1;33m\u001b[0m\u001b[1;33m\u001b[0m\u001b[0m\n\u001b[1;32m---> 10\u001b[1;33m     \u001b[0mmul_max_devidy\u001b[0m \u001b[1;33m=\u001b[0m \u001b[0mmax\u001b[0m\u001b[1;33m(\u001b[0m\u001b[0mn_devidy\u001b[0m\u001b[1;33m.\u001b[0m\u001b[0mintersection\u001b[0m\u001b[1;33m(\u001b[0m\u001b[0mm_devidy\u001b[0m\u001b[1;33m)\u001b[0m\u001b[1;33m)\u001b[0m\u001b[1;33m\u001b[0m\u001b[1;33m\u001b[0m\u001b[0m\n\u001b[0m\u001b[0;32m     11\u001b[0m     \u001b[0mmul_min_multiply\u001b[0m\u001b[1;33m=\u001b[0m\u001b[0mint\u001b[0m\u001b[1;33m(\u001b[0m\u001b[0mn\u001b[0m\u001b[1;33m*\u001b[0m\u001b[0mm\u001b[0m\u001b[1;33m/\u001b[0m\u001b[0mmul_max_devidy\u001b[0m\u001b[1;33m)\u001b[0m\u001b[1;33m\u001b[0m\u001b[1;33m\u001b[0m\u001b[0m\n\u001b[0;32m     12\u001b[0m     \u001b[1;32mreturn\u001b[0m \u001b[0mmul_max_devidy\u001b[0m\u001b[1;33m,\u001b[0m\u001b[0mmul_min_multiply\u001b[0m\u001b[1;33m\u001b[0m\u001b[1;33m\u001b[0m\u001b[0m\n",
      "\u001b[1;31mValueError\u001b[0m: max() arg is an empty sequence"
     ]
    }
   ],
   "source": [
    "def solution(n, m):\n",
    "    if n==m:\n",
    "        return [n,n]\n",
    "    elif n%m==0 or m%n==0:\n",
    "        return[min(n,m), max(n,m)]\n",
    "    n_devidy = {x for x in range(2,n+1) if n%x==0} #n의 약수\n",
    "    m_devidy = {x for x in range(2,m+1) if m%x==0}\n",
    "    \n",
    "    if not n_devidy:\n",
    "        return [1, n*m]\n",
    "    try:\n",
    "        mul_max_devidy = max(n_devidy.intersection(m_devidy))\n",
    "    except:\n",
    "        mul_max_devidy =1\n",
    "    mul_min_multiply=int(n*m/mul_max_devidy)\n",
    "    return mul_max_devidy,mul_min_multiply\n",
    "\n",
    "# solution(3,12) #[3, 12]\n",
    "solution(2,5) #[1, 10]\n",
    "# solution(11,13) #[3, 12]\n"
   ]
  },
  {
   "cell_type": "code",
   "execution_count": 4,
   "metadata": {},
   "outputs": [
    {
     "name": "stdout",
     "output_type": "stream",
     "text": [
      "n_devidy {2}\n",
      "m_devidy {5}\n",
      "mul_max_devidy 1\n",
      "mul_min_multiply 10\n"
     ]
    },
    {
     "data": {
      "text/plain": [
       "(1, 10)"
      ]
     },
     "execution_count": 4,
     "metadata": {},
     "output_type": "execute_result"
    }
   ],
   "source": [
    "def solution(n, m):\n",
    "    if n==m:\n",
    "        return [n,n]\n",
    "    elif n%m==0 or m%n==0:\n",
    "        return[min(n,m), max(n,m)]\n",
    "    n_devidy = {x for x in range(2,n+1) if n%x==0} #n의 약수\n",
    "    m_devidy = {x for x in range(2,m+1) if m%x==0}\n",
    "    print(\"n_devidy\",n_devidy)\n",
    "    print(\"m_devidy\",m_devidy)\n",
    "    if not n_devidy:\n",
    "        print(\"잉?\")\n",
    "        return [1, n*m]\n",
    "\n",
    "    \n",
    "    try:\n",
    "        mul_max_devidy = max(n_devidy.intersection(m_devidy))\n",
    "    except:\n",
    "        mul_max_devidy =1\n",
    "    mul_min_multiply=int(n*m/mul_max_devidy)\n",
    "    print(\"mul_max_devidy\",mul_max_devidy)\n",
    "    print(\"mul_min_multiply\",mul_min_multiply)\n",
    "    return mul_max_devidy,mul_min_multiply\n",
    "\n",
    "# solution(3,12) #[3, 12]\n",
    "solution(2,5) #[1, 10]\n",
    "# solution(11,13) #[3, 12]\n"
   ]
  },
  {
   "cell_type": "code",
   "execution_count": null,
   "metadata": {},
   "outputs": [],
   "source": [
    "# 정확성  테스트\n",
    "# 테스트 1 〉\t통과 (0.01ms, 10.2MB)\n",
    "# 테스트 2 〉\t통과 (0.02ms, 10.2MB)\n",
    "# 테스트 3 〉\t실패 (0.02ms, 10.2MB)\n",
    "# 테스트 4 〉\t실패 (0.02ms, 10.3MB)\n",
    "# 테스트 5 〉\t통과 (0.00ms, 10.3MB)\n",
    "# 테스트 6 〉\t실패 (0.02ms, 10.3MB)\n",
    "# 테스트 7 〉\t통과 (0.01ms, 10.1MB)\n",
    "# 테스트 8 〉\t통과 (0.01ms, 10.3MB)\n",
    "# 테스트 9 〉\t실패 (0.02ms, 10.3MB)\n",
    "# 테스트 10 〉\t실패 (0.02ms, 10.1MB)\n",
    "# 테스트 11 〉\t실패 (0.38ms, 10.2MB)\n",
    "# 테스트 12 〉\t실패 (0.50ms, 10.2MB)\n",
    "# 테스트 13 〉\t실패 (0.43ms, 10.3MB)\n",
    "# 테스트 14 〉\t실패 (0.44ms, 10.2MB)\n",
    "# 테스트 15 〉\t실패 (0.21ms, 10.2MB)\n",
    "# 테스트 16 〉\t실패 (0.50ms, 10.3MB)"
   ]
  },
  {
   "cell_type": "code",
   "execution_count": 28,
   "metadata": {},
   "outputs": [
    {
     "data": {
      "text/plain": [
       "[10, 10]"
      ]
     },
     "execution_count": 28,
     "metadata": {},
     "output_type": "execute_result"
    }
   ],
   "source": [
    "def solution(n, m):\n",
    "    if n==m:\n",
    "        return [n,n]\n",
    "    elif n%m==0 or m%n==0:\n",
    "        return[min(n,m), max(n,m)]\n",
    "    n_devidy = {x for x in range(2,n+1) if n%x==0} #n의 약수\n",
    "    m_devidy = {x for x in range(2,m+1) if m%x==0} #m의 약수\n",
    "    \n",
    "    max_devidy = n_devidy.intersection(m_devidy)\n",
    "    min_multiply = n_devidy.union(m_devidy)-{n,m}\n",
    "    \n",
    "    \n",
    "    mul_max_devidy =1\n",
    "    for devidy1 in max_devidy:\n",
    "        mul_max_devidy*=devidy1\n",
    "    if max_devidy ==m_devidy or max_devidy==n_devidy:\n",
    "        mul_min_multiply =max(n,m)\n",
    "    elif not max_devidy:\n",
    "        mul_max_devidy=1\n",
    "        mul_min_multiply = n*m\n",
    "    else:\n",
    "        mul_min_multiply =1\n",
    "        for devidy2 in min_multiply:\n",
    "            mul_min_multiply*=devidy2  \n",
    "    return mul_max_devidy,mul_min_multiply\n",
    "\n",
    "# solution(3,12) #[3, 12]\n",
    "# solution(2,5) #[1, 10]\n",
    "solution(10,10) #[3, 12]\n"
   ]
  },
  {
   "cell_type": "code",
   "execution_count": null,
   "metadata": {},
   "outputs": [],
   "source": [
    "# 정확성  테스트\n",
    "# 테스트 1 〉\t통과 (0.02ms, 10.1MB)\n",
    "# 테스트 2 〉\t통과 (0.02ms, 10.2MB)\n",
    "# 테스트 3 〉\t실패 (0.02ms, 10.2MB)\n",
    "# 테스트 4 〉\t실패 (0.02ms, 10.3MB)\n",
    "# 테스트 5 〉\t실패 (0.01ms, 10.2MB)\n",
    "# 테스트 6 〉\t실패 (0.02ms, 10.3MB)\n",
    "# 테스트 7 〉\t통과 (0.01ms, 10.1MB)\n",
    "# 테스트 8 〉\t통과 (0.01ms, 10.3MB)\n",
    "# 테스트 9 〉\t실패 (0.02ms, 10.2MB)\n",
    "# 테스트 10 〉\t실패 (0.02ms, 10.2MB)\n",
    "# 테스트 11 〉\t실패 (0.37ms, 10.2MB)\n",
    "# 테스트 12 〉\t실패 (0.46ms, 10.2MB)\n",
    "# 테스트 13 〉\t실패 (0.40ms, 10.2MB)\n",
    "# 테스트 14 〉\t실패 (0.43ms, 10.2MB)\n",
    "# 테스트 15 〉\t실패 (0.20ms, 10.2MB)\n",
    "# 테스트 16 〉\t실패 (0.50ms, 10.2MB)"
   ]
  },
  {
   "cell_type": "code",
   "execution_count": 23,
   "metadata": {},
   "outputs": [
    {
     "data": {
      "text/plain": [
       "[1, 10]"
      ]
     },
     "execution_count": 23,
     "metadata": {},
     "output_type": "execute_result"
    }
   ],
   "source": [
    "def solution(n, m):\n",
    "    n_devidy = {x for x in range(2,n+1) if n%x==0} #n의 약수\n",
    "    m_devidy = {x for x in range(2,m+1) if m%x==0} #m의 약수\n",
    "    \n",
    "    max_devidy = n_devidy.intersection(m_devidy)\n",
    "    min_multiply = n_devidy.union(m_devidy)-{n,m}\n",
    "    \n",
    "    mul_max_devidy =1\n",
    "    for devidy1 in max_devidy:\n",
    "        mul_max_devidy*=devidy1\n",
    "    if max_devidy ==m_devidy or max_devidy==n_devidy:\n",
    "        mul_min_multiply =max(n,m)\n",
    "    elif not max_devidy:\n",
    "        mul_min_multiply = n*m\n",
    "    else:\n",
    "        mul_min_multiply =1\n",
    "        for devidy2 in min_multiply:\n",
    "            mul_min_multiply*=devidy2  \n",
    "    return [mul_max_devidy,mul_min_multiply]\n",
    "\n",
    "solution(3,12) #[3, 12]\n",
    "solution(2,5) #[1, 10]\n",
    "# solution(6,8) #[3, 12]\n"
   ]
  },
  {
   "cell_type": "code",
   "execution_count": 22,
   "metadata": {},
   "outputs": [
    {
     "name": "stdout",
     "output_type": "stream",
     "text": [
      "max_devidy {3}\n",
      "n_devidy {3}\n",
      "m_devidy {2, 3, 4, 6, 12}\n",
      "{3}\n",
      "{2, 4, 6}\n"
     ]
    },
    {
     "data": {
      "text/plain": [
       "(3, 12)"
      ]
     },
     "execution_count": 22,
     "metadata": {},
     "output_type": "execute_result"
    }
   ],
   "source": [
    "def solution(n, m):\n",
    "    n_devidy = {x for x in range(2,n+1) if n%x==0} #n의 약수\n",
    "    m_devidy = {x for x in range(2,m+1) if m%x==0} #m의 약수\n",
    "    \n",
    "    max_devidy = n_devidy.intersection(m_devidy)\n",
    "    min_multiply = n_devidy.union(m_devidy)-{n,m}\n",
    "    \n",
    "    \n",
    "    mul_max_devidy =1\n",
    "    for devidy1 in max_devidy:\n",
    "        mul_max_devidy*=devidy1\n",
    "    print(\"max_devidy\",max_devidy\n",
    "         )\n",
    "    if max_devidy ==m_devidy or max_devidy==n_devidy:\n",
    "        mul_min_multiply =max(n,m)\n",
    "    elif not max_devidy:\n",
    "        mul_min_multiply = n*m\n",
    "    else:\n",
    "        mul_min_multiply =1\n",
    "        for devidy2 in min_multiply:\n",
    "            mul_min_multiply*=devidy2  \n",
    "\n",
    "    print(\"n_devidy\",n_devidy)\n",
    "    print(\"m_devidy\",m_devidy)\n",
    "\n",
    "    print(max_devidy)\n",
    "    print(min_multiply)\n",
    "    \n",
    "    return mul_max_devidy,mul_min_multiply\n",
    "\n",
    "solution(3,12) #[3, 12]\n",
    "solution(2,5) #[1, 10]\n",
    "# solution(6,8) #[3, 12]\n"
   ]
  }
 ],
 "metadata": {
  "kernelspec": {
   "display_name": "Python 3",
   "language": "python",
   "name": "python3"
  },
  "language_info": {
   "codemirror_mode": {
    "name": "ipython",
    "version": 3
   },
   "file_extension": ".py",
   "mimetype": "text/x-python",
   "name": "python",
   "nbconvert_exporter": "python",
   "pygments_lexer": "ipython3",
   "version": "3.7.4"
  }
 },
 "nbformat": 4,
 "nbformat_minor": 2
}
