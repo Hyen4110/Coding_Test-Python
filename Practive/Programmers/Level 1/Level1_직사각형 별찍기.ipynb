{
 "cells": [
  {
   "cell_type": "markdown",
   "metadata": {},
   "source": [
    "#### 문제 설명\n",
    "- 이 문제에는 표준 입력으로 두 개의 정수 n과 m이 주어집니다.\n",
    "- 별(*) 문자를 이용해 가로의 길이가 n, 세로의 길이가 m인 직사각형 형태를 출력해보세요.\n",
    "\n",
    "#### 제한 조건\n",
    "- n과 m은 각각 1000 이하인 자연수입니다."
   ]
  },
  {
   "cell_type": "code",
   "execution_count": null,
   "metadata": {},
   "outputs": [],
   "source": [
    "# 정확성  테스트\n",
    "# 테스트 1 〉\t통과 (15.91ms, 7.46MB)\n",
    "# 테스트 2 〉\t통과 (14.40ms, 7.62MB)\n",
    "# 테스트 3 〉\t통과 (14.96ms, 7.54MB)\n",
    "# 테스트 4 〉\t통과 (14.24ms, 7.49MB)\n",
    "# 테스트 5 〉\t통과 (13.80ms, 7.54MB)\n",
    "# 테스트 6 〉\t통과 (17.21ms, 7.53MB)\n",
    "# 테스트 7 〉\t통과 (14.52ms, 7.54MB)\n",
    "# 테스트 8 〉\t통과 (16.63ms, 7.58MB)\n",
    "# 테스트 9 〉\t통과 (16.03ms, 7.52MB)\n",
    "# 테스트 10 〉\t통과 (16.89ms, 7.53MB)\n",
    "# 테스트 11 〉\t통과 (13.80ms, 7.56MB)"
   ]
  },
  {
   "cell_type": "code",
   "execution_count": 4,
   "metadata": {},
   "outputs": [
    {
     "name": "stdout",
     "output_type": "stream",
     "text": [
      "***\n",
      "***\n",
      "***\n",
      "***\n",
      "***\n"
     ]
    }
   ],
   "source": [
    "m, n = map(int, input().strip().split(' '))\n",
    "\n",
    "for i in range(n):\n",
    "    print(\"*\"*m)"
   ]
  }
 ],
 "metadata": {
  "kernelspec": {
   "display_name": "Python 3",
   "language": "python",
   "name": "python3"
  },
  "language_info": {
   "codemirror_mode": {
    "name": "ipython",
    "version": 3
   },
   "file_extension": ".py",
   "mimetype": "text/x-python",
   "name": "python",
   "nbconvert_exporter": "python",
   "pygments_lexer": "ipython3",
   "version": "3.7.4"
  }
 },
 "nbformat": 4,
 "nbformat_minor": 2
}
