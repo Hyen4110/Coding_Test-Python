{
 "cells": [
  {
   "cell_type": "markdown",
   "metadata": {},
   "source": [
    "\n",
    "#### 제한사항\n",
    "- 전체 학생의 수는 2명 이상 30명 이하입니다.\n",
    "- 체육복을 도난당한 학생의 수는 1명 이상 n명 이하이고 중복되는 번호는 없습니다.\n",
    "- 여벌의 체육복을 가져온 학생의 수는 1명 이상 n명 이하이고 중복되는 번호는 없습니다.\n",
    "- 여벌 체육복이 있는 학생만 다른 학생에게 체육복을 빌려줄 수 있습니다.\n",
    "- 여벌 체육복을 가져온 학생이 체육복을 도난당했을 수 있습니다. 이때 이 학생은 체육복을 하나만 도난당했다고 가정하며, 남은 체육복이 하나이기에 다른 학생에게는 체육복을 빌려줄 수 없습니다."
   ]
  },
  {
   "cell_type": "markdown",
   "metadata": {},
   "source": [
    "\n",
    "<h5>입출력 예</h5>\n",
    "<table class=\"table\">\n",
    "        <thead><tr>\n",
    "<th>n</th>\n",
    "<th>lost</th>\n",
    "<th>reserve</th>\n",
    "<th>return</th>\n",
    "</tr>\n",
    "</thead>\n",
    "        <tbody><tr>\n",
    "<td>5</td>\n",
    "<td>[2, 4]</td>\n",
    "<td>[1, 3, 5]</td>\n",
    "<td>5</td>\n",
    "</tr>\n",
    "<tr>\n",
    "<td>5</td>\n",
    "<td>[2, 4]</td>\n",
    "<td>[3]</td>\n",
    "<td>4</td>\n",
    "</tr>\n",
    "<tr>\n",
    "<td>3</td>\n",
    "<td>[3]</td>\n",
    "<td>[1]</td>\n",
    "<td>2</td>\n",
    "</tr>\n",
    "</tbody>\n",
    "      </table>"
   ]
  },
  {
   "cell_type": "code",
   "execution_count": 63,
   "metadata": {},
   "outputs": [
    {
     "name": "stdout",
     "output_type": "stream",
     "text": [
      "[1, 1, 1, 1, 1, 1, 1, 1]\n"
     ]
    },
    {
     "data": {
      "text/plain": [
       "8"
      ]
     },
     "execution_count": 63,
     "metadata": {},
     "output_type": "execute_result"
    }
   ],
   "source": [
    "### 맞는 풀이!!!\n",
    "import numpy as np\n",
    "\n",
    "def solution(n, lost, reserve):\n",
    "    students_list = [1 for i in range(n)]\n",
    "    \n",
    "    if reserve:\n",
    "        for i in reserve:\n",
    "            students_list[i-1]+=1\n",
    "    if lost:        \n",
    "        for j in lost:\n",
    "            students_list[j-1]-=1\n",
    "    print(students_list)\n",
    "    \n",
    "    for i in range(n):\n",
    "        if students_list[i]==0:\n",
    "            if i==0:\n",
    "                if students_list[i+1]==2:\n",
    "                    students_list[i]=1\n",
    "                    students_list[i+1]=1\n",
    "                else: pass\n",
    "            elif i!=n-1:\n",
    "                if students_list[i-1]==2:\n",
    "                    students_list[i]=1\n",
    "                    students_list[i-1]=1\n",
    "                elif students_list[i+1]==2:\n",
    "                    students_list[i]=1\n",
    "                    students_list[i+1]=1\n",
    "            else: \n",
    "                if students_list[i-1]==2:\n",
    "                    students_list[i]=1\n",
    "                    students_list[i-1]=1 \n",
    "                    \n",
    "    answer =[1 for i in students_list if i>0]\n",
    "    return sum(answer)\n",
    "\n",
    "# solution(5,[2, 4],[3])\n",
    "# solution(3,[3],[1])\n",
    "# solution(5, [2,4],[1,3,5])\n",
    "solution(8, [1, 2, 4, 6], [1, 2, 4, 6])"
   ]
  },
  {
   "cell_type": "code",
   "execution_count": 7,
   "metadata": {},
   "outputs": [
    {
     "data": {
      "text/plain": [
       "[1, 1, 1, 1, 1]"
      ]
     },
     "execution_count": 7,
     "metadata": {},
     "output_type": "execute_result"
    }
   ],
   "source": [
    "a = [1]*5\n",
    "a"
   ]
  },
  {
   "cell_type": "code",
   "execution_count": 26,
   "metadata": {},
   "outputs": [
    {
     "name": "stdout",
     "output_type": "stream",
     "text": [
      "처음 상태:  [2, 0, 2, 0, 2]\n"
     ]
    },
    {
     "data": {
      "text/plain": [
       "5"
      ]
     },
     "execution_count": 26,
     "metadata": {},
     "output_type": "execute_result"
    }
   ],
   "source": [
    "n=5\n",
    "lost = [2,4]\n",
    "reserve = [1,3,5]\n",
    "\n",
    "# n=4\n",
    "# lost = [2,4]\n",
    "# reserve = [3]      #case2\n",
    "\n",
    "# n=3\n",
    "# lost = 3\n",
    "# reserve = [1]          #case3\n",
    "\n",
    "import numpy as np\n",
    "\n",
    "students_list = [1]*5\n",
    "for i in reserve:\n",
    "    students_list[i-1]=2\n",
    "for j in lost:\n",
    "    students_list[j-1]=0\n",
    "    \n",
    "print(\"처음 상태: \", students_list)\n",
    "\n",
    "for i in range(len(students_list)):\n",
    "    if students_list[i]==0:\n",
    "        if i==0:\n",
    "            if students_list[i+1]==2:\n",
    "                students_list[i]=1\n",
    "                students_list[i+1]=1\n",
    "            else: pass\n",
    "        elif i!=len(students_list)-1:\n",
    "            if students_list[i-1]==2:\n",
    "                students_list[i]=1\n",
    "                students_list[i-1]=1\n",
    "            elif students_list[i+1]==2:\n",
    "                students_list[i]=1\n",
    "                students_list[i+1]=1\n",
    "        else: \n",
    "            if students_list[i-1]==2:\n",
    "                students_list[i]=1\n",
    "                students_list[i-1]=1 \n",
    "\n",
    "(np.array(students_list)>0).sum()"
   ]
  },
  {
   "cell_type": "code",
   "execution_count": null,
   "metadata": {},
   "outputs": [],
   "source": []
  },
  {
   "cell_type": "code",
   "execution_count": 57,
   "metadata": {},
   "outputs": [
    {
     "data": {
      "text/plain": [
       "5"
      ]
     },
     "execution_count": 57,
     "metadata": {},
     "output_type": "execute_result"
    }
   ],
   "source": [
    "import numpy as np\n",
    "\n",
    "def solution(n, lost, reserve):\n",
    "    students_list = [1]*n\n",
    "    for i in reserve:\n",
    "        students_list[i-1]=2\n",
    "    for j in lost:\n",
    "        students_list[j-1]=0\n",
    "\n",
    "    for i in range(len(students_list)):\n",
    "        if students_list[i]==0:\n",
    "            if i==0:\n",
    "                if students_list[i+1]==2:\n",
    "                    students_list[i]=1\n",
    "                    students_list[i+1]=1\n",
    "                else: pass\n",
    "            elif i!=len(students_list)-1:\n",
    "                if students_list[i-1]==2:\n",
    "                    students_list[i]=1\n",
    "                    students_list[i-1]=1\n",
    "                elif students_list[i+1]==2:\n",
    "                    students_list[i]=1\n",
    "                    students_list[i+1]=1\n",
    "            else: \n",
    "                if students_list[i-1]==2:\n",
    "                    students_list[i]=1\n",
    "                    students_list[i-1]=1 \n",
    "\n",
    "    return (np.array(students_list)>0).sum()\n",
    "    \n",
    "\n",
    "# solution(5,[2, 4],[3])\n",
    "# solution(3,[3],[1])\n",
    "solution(5, [2,4],[1,3,5])"
   ]
  },
  {
   "cell_type": "code",
   "execution_count": 52,
   "metadata": {},
   "outputs": [
    {
     "name": "stdout",
     "output_type": "stream",
     "text": [
      "없어요\n"
     ]
    }
   ],
   "source": [
    "a =[]\n",
    "if a:\n",
    "    print(\"있어요\")\n",
    "else: print(\"없어요\")"
   ]
  },
  {
   "cell_type": "code",
   "execution_count": 45,
   "metadata": {},
   "outputs": [
    {
     "data": {
      "text/plain": [
       "[1, 1, 1, 1, 1]"
      ]
     },
     "execution_count": 45,
     "metadata": {},
     "output_type": "execute_result"
    }
   ],
   "source": [
    "students_list = [1 for i in range(n)]\n",
    "students_list"
   ]
  },
  {
   "cell_type": "code",
   "execution_count": 49,
   "metadata": {},
   "outputs": [
    {
     "name": "stdout",
     "output_type": "stream",
     "text": [
      "[1, 1, 1, 1, 1]\n",
      "5\n"
     ]
    }
   ],
   "source": [
    "(np.array(students_list)>0).astype(int).sum()\n",
    "a = [1 for i in students_list if i>0]\n",
    "\n",
    "print(a)\n",
    "print(sum(a))"
   ]
  }
 ],
 "metadata": {
  "kernelspec": {
   "display_name": "Python 3",
   "language": "python",
   "name": "python3"
  },
  "language_info": {
   "codemirror_mode": {
    "name": "ipython",
    "version": 3
   },
   "file_extension": ".py",
   "mimetype": "text/x-python",
   "name": "python",
   "nbconvert_exporter": "python",
   "pygments_lexer": "ipython3",
   "version": "3.7.4"
  }
 },
 "nbformat": 4,
 "nbformat_minor": 2
}
