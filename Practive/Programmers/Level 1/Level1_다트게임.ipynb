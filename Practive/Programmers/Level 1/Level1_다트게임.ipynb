{
 "cells": [
  {
   "cell_type": "markdown",
   "metadata": {},
   "source": [
    "#### 문제 설명\n",
    "\n",
    "- 카카오톡 게임별의 하반기 신규 서비스로 다트 게임을 출시하기로 했다. 다트 게임은 다트판에 다트를 세 차례 던져 그 점수의 합계로 실력을 겨루는 게임으로, 모두가 간단히 즐길 수 있다.\n",
    "- 갓 입사한 무지는 코딩 실력을 인정받아 게임의 핵심 부분인 점수 계산 로직을 맡게 되었다. 다트 게임의 점수 계산 로직은 아래와 같다.\n",
    "\n",
    "    1. 다트 게임은 총 3번의 기회로 구성된다.\n",
    "    2. 각 기회마다 얻을 수 있는 점수는 0점에서 10점까지이다.\n",
    "    3. 점수와 함께 Single(S), Double(D), Triple(T) 영역이 존재하고 각 영역 당첨 시 점수에서 1제곱, 2제곱, 3제곱 (점수1 , 점수2 , 점수3 )으로 계산된다.\n",
    "    4. 옵션으로 스타상(*) , 아차상(#)이 존재하며 스타상(*) 당첨 시 해당 점수와 바로 전에 얻은 점수를 각 2배로 만든다. 아차상(#) 당첨 시 해당 점수는 마이너스된다.\n",
    "    5. 스타상(*)은 첫 번째 기회에서도 나올 수 있다. 이 경우 첫 번째 스타상(*)의 점수만 2배가 된다. (예제 4번 참고)\n",
    "    6. 스타상(*)의 효과는 다른 스타상(*)의 효과와 중첩될 수 있다. 이 경우 중첩된 스타상(*) 점수는 4배가 된다. (예제 4번 참고)\n",
    "    7. 스타상(*)의 효과는 아차상(#)의 효과와 중첩될 수 있다. 이 경우 중첩된 아차상(#)의 점수는 -2배가 된다. (예제 5번 참고)\n",
    "    8. Single(S), Double(D), Triple(T)은 점수마다 하나씩 존재한다.\n",
    "    9. 스타상(*), 아차상(#)은 점수마다 둘 중 하나만 존재할 수 있으며, 존재하지 않을 수도 있다.\n",
    "    10. 0~10의 정수와 문자 S, D, T, *, #로 구성된 문자열이 입력될 시 총점수를 반환하는 함수를 작성하라.\n",
    "\n",
    "#### 입력 형식\n",
    "- \"점수|보너스|[옵션]\"으로 이루어진 문자열 3세트. 예) 1S2D*3T\n",
    "\n",
    "    - 점수는 0에서 10 사이의 정수이다.\n",
    "    - 보너스는 S, D, T 중 하나이다.\n",
    "    - 옵선은 *이나 # 중 하나이며, 없을 수도 있다.\n",
    "\n",
    "#### 출력 형식\n",
    "- 3번의 기회에서 얻은 점수 합계에 해당하는 정수값을 출력한다. 예) 37"
   ]
  },
  {
   "cell_type": "code",
   "execution_count": 28,
   "metadata": {},
   "outputs": [],
   "source": [
    "# 정확성  테스트\n",
    "# 테스트 1 〉\t통과 (0.03ms, 10.5MB)\n",
    "# 테스트 2 〉\t통과 (0.03ms, 10.4MB)\n",
    "# 테스트 3 〉\t통과 (0.03ms, 10.4MB)\n",
    "# 테스트 4 〉\t통과 (0.03ms, 10.5MB)\n",
    "# 테스트 5 〉\t통과 (0.04ms, 10.5MB)\n",
    "# 테스트 6 〉\t통과 (0.04ms, 10.5MB)\n",
    "# 테스트 7 〉\t통과 (0.04ms, 10.5MB)\n",
    "# 테스트 8 〉\t통과 (0.03ms, 10.3MB)\n",
    "# 테스트 9 〉\t통과 (0.03ms, 10.3MB)\n",
    "# 테스트 10 〉\t통과 (0.03ms, 10.4MB)\n",
    "# 테스트 11 〉\t통과 (0.03ms, 10.4MB)\n",
    "# 테스트 12 〉\t통과 (0.03ms, 10.5MB)\n",
    "# 테스트 13 〉\t통과 (0.04ms, 10.4MB)\n",
    "# 테스트 14 〉\t통과 (0.03ms, 10.4MB)\n",
    "# 테스트 15 〉\t통과 (0.04ms, 10.4MB)\n",
    "# 테스트 16 〉\t통과 (0.03ms, 10.4MB)\n",
    "# 테스트 17 〉\t통과 (0.03ms, 10.4MB)\n",
    "# 테스트 18 〉\t통과 (0.03ms, 10.3MB)\n",
    "# 테스트 19 〉\t통과 (0.04ms, 10.3MB)\n",
    "# 테스트 20 〉\t통과 (0.03ms, 10.4MB)\n",
    "# 테스트 21 〉\t통과 (0.04ms, 10.5MB)\n",
    "# 테스트 22 〉\t통과 (0.03ms, 10.4MB)\n",
    "# 테스트 23 〉\t통과 (0.03ms, 10.4MB)\n",
    "# 테스트 24 〉\t통과 (0.03ms, 10.4MB)\n",
    "# 테스트 25 〉\t통과 (0.04ms, 10.5MB)\n",
    "# 테스트 26 〉\t통과 (0.03ms, 10.4MB)\n",
    "# 테스트 27 〉\t통과 (0.04ms, 10.6MB)\n",
    "# 테스트 28 〉\t통과 (0.03ms, 10.4MB)\n",
    "# 테스트 29 〉\t통과 (0.03ms, 10.4MB)\n",
    "# 테스트 30 〉\t통과 (0.03ms, 10.4MB)\n",
    "# 테스트 31 〉\t통과 (0.03ms, 10.3MB)\n",
    "# 테스트 32 〉\t통과 (0.03ms, 10.4MB)"
   ]
  },
  {
   "cell_type": "code",
   "execution_count": 27,
   "metadata": {},
   "outputs": [
    {
     "name": "stdout",
     "output_type": "stream",
     "text": [
      "['1', 'D', '2', 'S', '0', 'T']\n"
     ]
    },
    {
     "data": {
      "text/plain": [
       "3"
      ]
     },
     "execution_count": 27,
     "metadata": {},
     "output_type": "execute_result"
    }
   ],
   "source": [
    "def solution(dartResult):\n",
    "    result_list = list(dartResult)\n",
    "    \n",
    "    for i in range(1,len(result_list)-1):\n",
    "        if result_list[i-1].isdigit()==True and result_list[i].isdigit()==True:\n",
    "            result_list[i]=result_list[i-1]+result_list[i]\n",
    "            result_list[i-1] =\"\"\n",
    "    result_list = [x for x in result_list if x !=\"\"]        \n",
    "    print(result_list)\n",
    "\n",
    "    num = []\n",
    "    for i in result_list:\n",
    "        if i.isdigit()==True:\n",
    "            num.append(int(i))\n",
    "        elif i.isalpha()==True:\n",
    "            if i == \"D\":\n",
    "                num[-1]= num[-1]**2\n",
    "            if i == \"T\":\n",
    "                num[-1]= num[-1]**3        \n",
    "        elif i in [\"*\"]:\n",
    "            if len(num)>=2:\n",
    "                num[-1]*=2\n",
    "                num[-2]*=2\n",
    "            else:\n",
    "                num[-1]*=2\n",
    "        elif i in [\"#\"]:\n",
    "            num[-1]*= -1\n",
    "\n",
    "    return sum(num)\n",
    "\n",
    "# solution(\"1S2D*3T\") #37\n",
    "# solution(\"1D2S#10S\") #9\n",
    "solution(\"1D2S0T\") #3\n",
    "# solution(\"1D2S3T*\") #59"
   ]
  },
  {
   "cell_type": "code",
   "execution_count": 22,
   "metadata": {},
   "outputs": [
    {
     "data": {
      "text/plain": [
       "59"
      ]
     },
     "execution_count": 22,
     "metadata": {},
     "output_type": "execute_result"
    }
   ],
   "source": [
    "eval(\"1**2 + (2**1)*2 + (3**3)*2\")"
   ]
  }
 ],
 "metadata": {
  "kernelspec": {
   "display_name": "Python 3",
   "language": "python",
   "name": "python3"
  },
  "language_info": {
   "codemirror_mode": {
    "name": "ipython",
    "version": 3
   },
   "file_extension": ".py",
   "mimetype": "text/x-python",
   "name": "python",
   "nbconvert_exporter": "python",
   "pygments_lexer": "ipython3",
   "version": "3.7.4"
  }
 },
 "nbformat": 4,
 "nbformat_minor": 2
}
