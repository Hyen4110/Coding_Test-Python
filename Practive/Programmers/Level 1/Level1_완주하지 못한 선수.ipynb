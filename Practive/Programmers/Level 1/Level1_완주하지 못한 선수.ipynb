{
 "cells": [
  {
   "cell_type": "markdown",
   "metadata": {},
   "source": [
    "#### 문제 설명\n",
    "- 수많은 마라톤 선수들이 마라톤에 참여하였습니다. 단 한 명의 선수를 제외하고는 모든 선수가 마라톤을 완주하였습니다.\n",
    "\n",
    "- 마라톤에 참여한 선수들의 이름이 담긴 배열 participant와 완주한 선수들의 이름이 담긴 배열 completion이 주어질 때, 완주하지 못한 - 선수의 이름을 return 하도록 solution 함수를 작성해주세요.\n",
    "\n",
    "#### 제한사항\n",
    "- 마라톤 경기에 참여한 선수의 수는 1명 이상 100,000명 이하입니다.\n",
    "- completion의 길이는 participant의 길이보다 1 작습니다.\n",
    "- 참가자의 이름은 1개 이상 20개 이하의 알파벳 소문자로 이루어져 있습니다.\n",
    "- 참가자 중에는 동명이인이 있을 수 있습니다."
   ]
  },
  {
   "cell_type": "markdown",
   "metadata": {},
   "source": [
    "#### 테스트 케이스\n",
    "\n",
    "- [leo, kiki, eden]  - [eden, kiki] = \"leo\"\n",
    "- [marina, josipa, nikola, vinko, filipa] - [josipa, filipa, marina, nikola] = \"vinko\"\n",
    "- [mislav, stanko, mislav, ana] - [stanko, ana, mislav] = \"mislav\"\n",
    "\n"
   ]
  },
  {
   "cell_type": "code",
   "execution_count": 12,
   "metadata": {},
   "outputs": [
    {
     "data": {
      "text/plain": [
       "'mislav'"
      ]
     },
     "metadata": {},
     "output_type": "display_data"
    },
    {
     "data": {
      "text/plain": [
       "Counter({'mislav': 1})"
      ]
     },
     "metadata": {},
     "output_type": "display_data"
    }
   ],
   "source": [
    "import collections\n",
    "\n",
    "participant = ['mislav', 'stanko', 'mislav', 'ana']\n",
    "completion = ['stanko', 'ana', 'mislav']\n",
    "\n",
    "\n",
    "answer = collections.Counter(participant) - collections.Counter(completion)\n",
    "display(list(answer.keys())[0])\n",
    "display(answer)"
   ]
  },
  {
   "cell_type": "markdown",
   "metadata": {},
   "source": [
    "#### count로 세는것보다, cnt dict를 만들어서 val로 하는게 더 빠르구나..!\n",
    "#### 그리고 괜히 sort하지말자..!! "
   ]
  },
  {
   "cell_type": "code",
   "execution_count": 10,
   "metadata": {},
   "outputs": [
    {
     "name": "stdout",
     "output_type": "stream",
     "text": [
      "stanko\n"
     ]
    }
   ],
   "source": [
    "#4 정답!!\n",
    "# count로 세는것보다, cnt dict를 만들어서 val로 하는게 더 빠르구나..!\n",
    "# 그리고 괜히 sort하지말자..!! \n",
    "\n",
    "from collections import Counter\n",
    "\n",
    "def solution(participant, completion):\n",
    "    answer = list(set(participant)-set(completion))\n",
    "    if answer==[]:\n",
    "        sum = participant+completion\n",
    "        sum_dict = Counter(sum)\n",
    "        for key, val in sum_dict.items(): \n",
    "            if val%2==1:\n",
    "                return key\n",
    "    else:\n",
    "        return answer[0]\n",
    "    \n",
    "# 채점을 시작합니다.\n",
    "# 정확성  테스트\n",
    "# 테스트 1 〉\t통과 (0.01ms, 10.2MB)\n",
    "# 테스트 2 〉\t통과 (0.03ms, 10.2MB)\n",
    "# 테스트 3 〉\t통과 (0.16ms, 10.4MB)\n",
    "# 테스트 4 〉\t통과 (0.25ms, 10.3MB)\n",
    "# 테스트 5 〉\t통과 (0.33ms, 10.5MB)\n",
    "# 효율성  테스트\n",
    "# 테스트 1 〉\t통과 (13.29ms, 21.6MB)\n",
    "# 테스트 2 〉\t통과 (17.26ms, 25.2MB)\n",
    "# 테스트 3 〉\t통과 (30.12ms, 33.4MB)\n",
    "# 테스트 4 〉\t통과 (36.14ms, 34.7MB)\n",
    "# 테스트 5 〉\t통과 (71.90ms, 35.3MB)"
   ]
  },
  {
   "cell_type": "code",
   "execution_count": 6,
   "metadata": {},
   "outputs": [
    {
     "name": "stdout",
     "output_type": "stream",
     "text": [
      "stanko\n"
     ]
    }
   ],
   "source": [
    "#4 답은 맞췄지만, 시간 초과로 효율성 테스트  1개 실패! \n",
    "def solution(participant, completion):\n",
    "    participant.sort()\n",
    "    completion.sort()\n",
    "\n",
    "    answer = list(set(participant)-set(completion))\n",
    "    if answer==[]:\n",
    "        for i in list(set(completion)): \n",
    "            if participant.count(i)!=completion.count(i):\n",
    "                return i\n",
    "    else:\n",
    "        return answer[0]\n",
    "                        \n",
    "# 정확성  테스트\n",
    "# 테스트 1 〉\t통과 (0.01ms, 10.2MB)\n",
    "# 테스트 2 〉\t통과 (0.01ms, 10.3MB)\n",
    "# 테스트 3 〉\t통과 (0.41ms, 10.3MB)\n",
    "# 테스트 4 〉\t통과 (0.81ms, 10.3MB)\n",
    "# 테스트 5 〉\t통과 (18.16ms, 10.4MB)\n",
    "# 효율성  테스트\n",
    "# 테스트 1 〉\t통과 (47.93ms, 21.8MB)\n",
    "# 테스트 2 〉\t통과 (79.82ms, 25.2MB)\n",
    "# 테스트 3 〉\t통과 (104.90ms, 33.5MB)\n",
    "# 테스트 4 〉\t통과 (110.13ms, 34.7MB)\n",
    "# 테스트 5 〉\t실패 (시간 초과)"
   ]
  },
  {
   "cell_type": "code",
   "execution_count": null,
   "metadata": {},
   "outputs": [],
   "source": [
    "#4 답은 맞췄지만, 시간 초과로 효율성 테스트  1개 실패! \n",
    "def solution(participant, completion):\n",
    "    answer = list(set(participant)-set(completion))\n",
    "    if answer==[]:\n",
    "        sum = participant+completion\n",
    "        sum.sort()\n",
    "        for i in list(set(completion)): \n",
    "            if sum.count(i)%2==1:\n",
    "                return i\n",
    "    else:\n",
    "        return answer[0]\n",
    "                        \n",
    "# 정확성  테스트\n",
    "# 테스트 1 〉\t통과 (0.01ms, 10.2MB)\n",
    "# 테스트 2 〉\t통과 (0.02ms, 10.3MB)\n",
    "# 테스트 3 〉\t통과 (0.17ms, 10.3MB)\n",
    "# 테스트 4 〉\t통과 (0.25ms, 10.3MB)\n",
    "# 테스트 5 〉\t통과 (16.26ms, 10.3MB)\n",
    "# 효율성  테스트\n",
    "# 테스트 1 〉\t통과 (12.40ms, 21.9MB)\n",
    "# 테스트 2 〉\t통과 (16.90ms, 25.3MB)\n",
    "# 테스트 3 〉\t통과 (27.98ms, 33.4MB)\n",
    "# 테스트 4 〉\t통과 (32.14ms, 34.6MB)\n",
    "# 테스트 5 〉\t실패 (시간 초과)"
   ]
  },
  {
   "cell_type": "code",
   "execution_count": 15,
   "metadata": {},
   "outputs": [
    {
     "name": "stdout",
     "output_type": "stream",
     "text": [
      "stanko\n"
     ]
    }
   ],
   "source": [
    "#4 답은 맞췄지만, 시간 초과로 효율성 테스트  1개 실패! \n",
    "def solution(participant, completion):\n",
    "    answer = list(set(participant)-set(completion))\n",
    "    if answer==[]:\n",
    "        sum = participant+completion\n",
    "        for i in list(set(completion)): \n",
    "            if sum.count(i)%2==1:\n",
    "                return i\n",
    "    else:\n",
    "        return answer[0]\n",
    "                        \n",
    "# 정확성  테스트\n",
    "# 테스트 1 〉\t통과 (0.01ms, 10.3MB)\n",
    "# 테스트 2 〉\t통과 (0.01ms, 10.2MB)\n",
    "# 테스트 3 〉\t통과 (0.16ms, 10.2MB)\n",
    "# 테스트 4 〉\t통과 (0.24ms, 10.3MB)\n",
    "# 테스트 5 〉\t통과 (9.60ms, 10.4MB)\n",
    "# 효율성  테스트\n",
    "# 테스트 1 〉\t통과 (12.95ms, 21.9MB)\n",
    "# 테스트 2 〉\t통과 (19.18ms, 25.2MB)\n",
    "# 테스트 3 〉\t통과 (33.04ms, 33.5MB)\n",
    "# 테스트 4 〉\t통과 (30.79ms, 34.6MB)\n",
    "# 테스트 5 〉\t실패 (시간 초과)"
   ]
  },
  {
   "cell_type": "code",
   "execution_count": 2,
   "metadata": {},
   "outputs": [
    {
     "name": "stdout",
     "output_type": "stream",
     "text": [
      "stanko\n"
     ]
    }
   ],
   "source": [
    "#3 답은 맞췄지만, 시간 초과로 효율성 테스트  1개 실패! \n",
    "participant = ['mislav', 'stanko', 'mislav', 'ana']\n",
    "completion = ['stanko', 'ana', 'mislav']\n",
    "\n",
    "# participant = ['leo', 'kiki', 'eden']\n",
    "# completion = ['eden', 'kiki']\n",
    "\n",
    "def solution(participant, completion):\n",
    "    answer = list(set(participant)-set(completion))\n",
    "    if answer==[]:\n",
    "        answer = [i for i in list(set(participant)) if participant.count(i)!=completion.count(i)]\n",
    "    else:\n",
    "        pass\n",
    "    return answer[0]\n",
    "                                 \n",
    "# 테스트 1 〉\t통과 (0.01ms, 10.3MB)\n",
    "# 테스트 2 〉\t통과 (0.03ms, 10.2MB)\n",
    "# 테스트 3 〉\t통과 (0.16ms, 10.3MB)\n",
    "# 테스트 4 〉\t통과 (0.25ms, 10.4MB)\n",
    "# 테스트 5 〉\t통과 (22.58ms, 10.4MB)\n",
    "\n",
    "# 테스트 1 〉\t통과 (14.69ms, 21.9MB)\n",
    "# 테스트 2 〉\t통과 (19.61ms, 25.2MB)\n",
    "# 테스트 3 〉\t통과 (27.51ms, 33.5MB)\n",
    "# 테스트 4 〉\t통과 (34.53ms, 34.8MB)\n",
    "# 테스트 5 〉\t실패 (시간 초과)\n",
    "\n",
    "#solution(['leo', 'kiki', 'eden'],['eden', 'kiki'])\n",
    "#solution(['marina', 'josipa', 'nikola', 'vinko', 'filipa'], ['josipa', 'filipa', 'marina', 'nikola'])\n",
    "# display(solution(['mislav', 'stanko', 'mislav', 'ana'], ['stanko', 'ana', 'mislav']))\n",
    "# solution(['mislav','stanko'], ['stanko'])\n",
    "# solution(['mislav'], [])\n",
    "\n",
    "# solution(['stanko','josipa','stanko'], ['stanko','josipa'])\n",
    "print(solution(['stanko','stanko','stanko','josipa','josipa'], ['stanko','stanko','josipa','josipa']))"
   ]
  },
  {
   "cell_type": "code",
   "execution_count": 114,
   "metadata": {},
   "outputs": [
    {
     "ename": "SyntaxError",
     "evalue": "invalid syntax (<ipython-input-114-3925ede0e456>, line 17)",
     "output_type": "error",
     "traceback": [
      "\u001b[1;36m  File \u001b[1;32m\"<ipython-input-114-3925ede0e456>\"\u001b[1;36m, line \u001b[1;32m17\u001b[0m\n\u001b[1;33m    테스트 1 〉\t통과 (0.01ms, 10.2MB)\u001b[0m\n\u001b[1;37m        ^\u001b[0m\n\u001b[1;31mSyntaxError\u001b[0m\u001b[1;31m:\u001b[0m invalid syntax\n"
     ]
    }
   ],
   "source": [
    "#3 답은 맞췄지만, 시간 초과로 효율성 테스트 실패! \n",
    "participant = ['mislav', 'stanko', 'mislav', 'ana']\n",
    "completion = ['stanko', 'ana', 'mislav']\n",
    "\n",
    "# participant = ['leo', 'kiki', 'eden']\n",
    "# completion = ['eden', 'kiki']\n",
    "\n",
    "def solution(participant, completion):\n",
    "    participant_remain = participant[:]\n",
    "    for i in participant:\n",
    "        if i in completion:\n",
    "            participant_remain.remove(i)\n",
    "            completion.remove(i)\n",
    "\n",
    "    return participant_remain[0]\n",
    "                                 \n",
    "# 테스트 1 〉\t통과 (0.01ms, 10.2MB)\n",
    "# 테스트 2 〉\t통과 (0.01ms, 10.2MB)\n",
    "# 테스트 3 〉\t통과 (1.93ms, 10.2MB)\n",
    "# 테스트 4 〉\t통과 (7.87ms, 10.4MB)\n",
    "# 테스트 5 〉\t통과 (5.90ms, 10.3MB)\n",
    "\n",
    "# 테스트 1 〉\t실패 (시간 초과)\n",
    "# 테스트 2 〉\t실패 (시간 초과)\n",
    "# 테스트 3 〉\t실패 (시간 초과)\n",
    "# 테스트 4 〉\t실패 (시간 초과)\n",
    "# 테스트 5 〉\t실패 (시간 초과)"
   ]
  },
  {
   "cell_type": "code",
   "execution_count": 106,
   "metadata": {},
   "outputs": [
    {
     "name": "stdout",
     "output_type": "stream",
     "text": [
      "participant ['mislav', 'stanko', 'mislav', 'ana']\n",
      "remove한 후: ['mislav', 'stanko', 'mislav', 'ana']\n",
      "participant ['mislav', 'stanko', 'mislav', 'ana']\n",
      "remove한 후: ['mislav', 'stanko', 'mislav', 'ana']\n",
      "participant ['mislav', 'stanko', 'mislav', 'ana']\n",
      "participant ['mislav', 'stanko', 'mislav', 'ana']\n",
      "remove한 후: ['mislav', 'stanko', 'mislav', 'ana']\n",
      "['mislav']\n"
     ]
    }
   ],
   "source": [
    "participant = ['mislav', 'stanko', 'mislav', 'ana']\n",
    "completion = ['stanko', 'ana', 'mislav']\n",
    "\n",
    "# participant = ['leo', 'kiki', 'eden']\n",
    "# completion = ['eden', 'kiki']\n",
    "\n",
    "participant_remain = participant[:]\n",
    "for i in participant:\n",
    "    print(\"participant\",participant)\n",
    "    if i in completion:\n",
    "        participant_remain.remove(i)\n",
    "        completion.remove(i)\n",
    "        print(\"remove한 후:\",participant)\n",
    "        \n",
    "print(participant_remain)"
   ]
  },
  {
   "cell_type": "code",
   "execution_count": 80,
   "metadata": {
    "scrolled": true
   },
   "outputs": [
    {
     "data": {
      "text/plain": [
       "'stanko'"
      ]
     },
     "execution_count": 80,
     "metadata": {},
     "output_type": "execute_result"
    }
   ],
   "source": [
    "#2 런타임에러, 실패.....\n",
    "from collections import Counter\n",
    "\n",
    "def solution(participant, completion):\n",
    "    counter_in = Counter(participant)\n",
    "    counter_out = Counter(completion)\n",
    "    \n",
    "    if len(participant)==1:\n",
    "        return participant[0]\n",
    "    else: \n",
    "        dict_substract ={key1: (val1-val2) if key1 in counter_out.keys() else val1\\\n",
    "                                            for key1, val1 in counter_in.items() \\\n",
    "                                             for key2,val2 in counter_out.items()\\\n",
    "                         }\n",
    "        dict_remain = {key:val for key, val in dict_substract.items() if val==1}\n",
    "\n",
    "        return list(dict_remain.keys())[0]\n",
    "    \n",
    "                                 \n",
    "#solution(['leo', 'kiki', 'eden'],['eden', 'kiki'])\n",
    "#solution(['marina', 'josipa', 'nikola', 'vinko', 'filipa'], ['josipa', 'filipa', 'marina', 'nikola'])\n",
    "# display(solution(['mislav', 'stanko', 'mislav', 'ana'], ['stanko', 'ana', 'mislav']))\n",
    "# solution(['mislav','stanko'], ['stanko'])\n",
    "solution(['stanko','josipa','stanko'], ['stanko','josipa'])"
   ]
  },
  {
   "cell_type": "code",
   "execution_count": 60,
   "metadata": {},
   "outputs": [
    {
     "data": {
      "text/plain": [
       "True"
      ]
     },
     "execution_count": 60,
     "metadata": {},
     "output_type": "execute_result"
    }
   ],
   "source": [
    "# 테스트 1 〉\t통과 (0.07ms, 10.2MB)\n",
    "# 테스트 2 〉\t실패 (런타임 에러)\n",
    "# 테스트 3 〉\t실패 (30.78ms, 10.3MB)\n",
    "# 테스트 4 〉\t실패 (115.59ms, 10.2MB)\n",
    "# 테스트 5 〉\t실패 (116.67ms, 10.4MB)\n",
    "\n",
    "# 테스트 1 〉\t실패 (시간 초과)\n",
    "# 테스트 2 〉\t실패 (시간 초과)\n",
    "# 테스트 3 〉\t실패 (시간 초과)\n",
    "# 테스트 4 〉\t실패 (시간 초과)\n",
    "# 테스트 5 〉\t실패 (시간 초과)\n"
   ]
  },
  {
   "cell_type": "code",
   "execution_count": 84,
   "metadata": {},
   "outputs": [
    {
     "name": "stdout",
     "output_type": "stream",
     "text": [
      "{'leo': 1}\n",
      "{'leo': 1}\n"
     ]
    },
    {
     "data": {
      "text/plain": [
       "['leo']"
      ]
     },
     "execution_count": 84,
     "metadata": {},
     "output_type": "execute_result"
    }
   ],
   "source": [
    "# participant = ['mislav', 'stanko', 'mislav', 'ana']\n",
    "# completion = ['stanko', 'ana', 'mislav']\n",
    "\n",
    "# participant = ['leo', 'kiki', 'eden']\n",
    "# completion = ['eden', 'kiki']\n",
    "\n",
    "participant = ['leo','leo']\n",
    "completion = ['leo']\n",
    "\n",
    "counter_in = Counter(participant)\n",
    "counter_out = Counter(completion)\n",
    "\n",
    "dict_substract ={key1: (val1-val2) if key1 in counter_out.keys() else val1\\\n",
    "                                    for key1, val1 in counter_in.items() \\\n",
    "                                     for key2,val2 in counter_out.items()}\n",
    "print(dict_substract)\n",
    "\n",
    "dict_remain = {key:val for key, val in dict_substract.items() if val==1}\n",
    "print(dict_remain)\n",
    "\n",
    "list(dict_remain.keys())"
   ]
  },
  {
   "cell_type": "code",
   "execution_count": 34,
   "metadata": {},
   "outputs": [
    {
     "data": {
      "text/plain": [
       "'mislav'"
      ]
     },
     "execution_count": 34,
     "metadata": {},
     "output_type": "execute_result"
    }
   ],
   "source": [
    "import collections\n",
    "\n",
    "def solution(participant, completion):\n",
    "    \n",
    "    if len(participant)==len(set(participant)):\n",
    "        return (set(participant)-set(completion)).pop()\n",
    "    else: \n",
    "        return [x for x in participant if participant.count(x)==2][0]\n",
    "                               \n",
    "#solution(['leo', 'kiki', 'eden'],['eden', 'kiki'])\n",
    "#solution(['marina', 'josipa', 'nikola', 'vinko', 'filipa'], ['josipa', 'filipa', 'marina', 'nikola'])\n",
    "solution(['mislav', 'stanko', 'mislav', 'ana'], ['stanko', 'ana', 'mislav'])"
   ]
  },
  {
   "cell_type": "code",
   "execution_count": 20,
   "metadata": {},
   "outputs": [
    {
     "data": {
      "text/plain": [
       "'mislav'"
      ]
     },
     "execution_count": 20,
     "metadata": {},
     "output_type": "execute_result"
    }
   ],
   "source": [
    "#1런타임에러, 실패.....\n",
    "def solution(participant, completion):\n",
    "    \n",
    "    if len(participant)==len(set(participant)):\n",
    "        return (set(participant)-set(completion)).pop()\n",
    "    else: \n",
    "        return [x for x in participant if participant.count(x)==2][0]\n",
    "                               \n",
    "#solution(['leo', 'kiki', 'eden'],['eden', 'kiki'])\n",
    "#solution(['marina', 'josipa', 'nikola', 'vinko', 'filipa'], ['josipa', 'filipa', 'marina', 'nikola'])\n",
    "solution(['mislav', 'stanko', 'mislav', 'ana'], ['stanko', 'ana', 'mislav'])"
   ]
  },
  {
   "cell_type": "code",
   "execution_count": null,
   "metadata": {},
   "outputs": [],
   "source": [
    "# 테스트 1 〉\t통과 (0.01ms, 10.2MB)\n",
    "# 테스트 2 〉\t실패 (런타임 에러)\n",
    "# 테스트 3 〉\t실패 (3.44ms, 10.3MB)\n",
    "# 테스트 4 〉\t실패 (11.10ms, 10.3MB)\n",
    "# 테스트 5 〉\t실패 (11.84ms, 10.4MB)\n",
    "\n",
    "\n",
    "# 테스트 1 〉\t실패 (시간 초과)\n",
    "# 테스트 2 〉\t실패 (시간 초과)\n",
    "# 테스트 3 〉\t실패 (시간 초과)\n",
    "# 테스트 4 〉\t실패 (시간 초과)\n",
    "# 테스트 5 〉\t실패 (시간 초과)"
   ]
  },
  {
   "cell_type": "code",
   "execution_count": null,
   "metadata": {},
   "outputs": [],
   "source": []
  },
  {
   "cell_type": "code",
   "execution_count": 4,
   "metadata": {},
   "outputs": [
    {
     "ename": "TypeError",
     "evalue": "unsupported operand type(s) for -: 'list' and 'list'",
     "output_type": "error",
     "traceback": [
      "\u001b[1;31m---------------------------------------------------------------------------\u001b[0m",
      "\u001b[1;31mTypeError\u001b[0m                                 Traceback (most recent call last)",
      "\u001b[1;32m<ipython-input-4-e7f3372b4ddb>\u001b[0m in \u001b[0;36m<module>\u001b[1;34m\u001b[0m\n\u001b[1;32m----> 1\u001b[1;33m \u001b[1;33m[\u001b[0m\u001b[1;34m'leo'\u001b[0m\u001b[1;33m,\u001b[0m \u001b[1;34m'kiki'\u001b[0m\u001b[1;33m,\u001b[0m \u001b[1;34m'eden'\u001b[0m\u001b[1;33m]\u001b[0m\u001b[1;33m-\u001b[0m\u001b[1;33m[\u001b[0m\u001b[1;34m'leo'\u001b[0m\u001b[1;33m,\u001b[0m \u001b[1;34m'kiki'\u001b[0m\u001b[1;33m,\u001b[0m \u001b[1;34m'eden'\u001b[0m\u001b[1;33m]\u001b[0m\u001b[1;33m\u001b[0m\u001b[1;33m\u001b[0m\u001b[0m\n\u001b[0m",
      "\u001b[1;31mTypeError\u001b[0m: unsupported operand type(s) for -: 'list' and 'list'"
     ]
    }
   ],
   "source": [
    "['leo', 'kiki', 'eden']-['leo', 'kiki', 'eden']"
   ]
  }
 ],
 "metadata": {
  "kernelspec": {
   "display_name": "Python 3",
   "language": "python",
   "name": "python3"
  },
  "language_info": {
   "codemirror_mode": {
    "name": "ipython",
    "version": 3
   },
   "file_extension": ".py",
   "mimetype": "text/x-python",
   "name": "python",
   "nbconvert_exporter": "python",
   "pygments_lexer": "ipython3",
   "version": "3.7.4"
  }
 },
 "nbformat": 4,
 "nbformat_minor": 2
}
