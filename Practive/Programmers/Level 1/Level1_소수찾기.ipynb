{
 "cells": [
  {
   "cell_type": "markdown",
   "metadata": {},
   "source": [
    "#### 문제 설명\n",
    "- 1부터 입력받은 숫자 n 사이에 있는 소수의 개수를 반환하는 함수, solution을 만들어 보세요.\n",
    "\n",
    "- 소수는 1과 자기 자신으로만 나누어지는 수를 의미합니다. (1은 소수가 아닙니다.)\n",
    "\n",
    "#### 제한 조건\n",
    "- n은 2이상 1000000이하의 자연수입니다."
   ]
  },
  {
   "cell_type": "code",
   "execution_count": 14,
   "metadata": {},
   "outputs": [
    {
     "data": {
      "text/plain": [
       "3"
      ]
     },
     "execution_count": 14,
     "metadata": {},
     "output_type": "execute_result"
    }
   ],
   "source": [
    "13%10"
   ]
  },
  {
   "cell_type": "code",
   "execution_count": null,
   "metadata": {},
   "outputs": [],
   "source": [
    "10 -> 4\n",
    "5 -> 3\n"
   ]
  },
  {
   "cell_type": "code",
   "execution_count": 19,
   "metadata": {},
   "outputs": [
    {
     "data": {
      "text/plain": [
       "3"
      ]
     },
     "execution_count": 19,
     "metadata": {},
     "output_type": "execute_result"
    }
   ],
   "source": [
    "#정답! 에라스토체?? 보고 구현\n",
    "def solution(n):\n",
    "    num_set= set(range(2,n+1))\n",
    "    \n",
    "    for i in range(2,n+1):\n",
    "        num_set-= set(range(2*i,n+1,i))\n",
    "        \n",
    "    return len(num_set)\n",
    "\n",
    "solution(5)"
   ]
  },
  {
   "cell_type": "code",
   "execution_count": null,
   "metadata": {},
   "outputs": [],
   "source": [
    "#시간초과로 실패..!!!!!!\n",
    "\n",
    "def isSosu(number):\n",
    "    if number==2: return True\n",
    "    elif (number%10)%2==0:\n",
    "        return False\n",
    "    else:\n",
    "        for i in range(2,number):\n",
    "            if number%i==0:\n",
    "                return False\n",
    "    return True\n",
    "\n",
    "def solution(n):\n",
    "    answer=0\n",
    "    for number in range(2,n+1):\n",
    "        answer+=isSosu(number)\n",
    "        \n",
    "    return answer\n",
    "\n",
    "solution(5)\n",
    "\n",
    "# 정확성  테스트\n",
    "# 테스트 1 〉\t통과 (0.00ms, 10.1MB)\n",
    "# 테스트 2 〉\t통과 (0.28ms, 10.2MB)\n",
    "# 테스트 3 〉\t통과 (1.30ms, 10.2MB)\n",
    "# 테스트 4 〉\t통과 (3.95ms, 10.2MB)\n",
    "# 테스트 5 〉\t통과 (2.04ms, 10.1MB)\n",
    "# 테스트 6 〉\t통과 (208.03ms, 10.1MB)\n",
    "# 테스트 7 〉\t통과 (20.34ms, 10.2MB)\n",
    "# 테스트 8 〉\t통과 (111.85ms, 10.2MB)\n",
    "# 테스트 9 〉\t통과 (283.98ms, 10.2MB)\n",
    "# 테스트 10 〉\t실패 (시간 초과)\n",
    "# 테스트 11 〉\t실패 (시간 초과)\n",
    "# 테스트 12 〉\t실패 (시간 초과)\n",
    "# 효율성  테스트\n",
    "# 테스트 1 〉\t실패 (시간 초과)\n",
    "# 테스트 2 〉\t실패 (시간 초과)\n",
    "# 테스트 3 〉\t실패 (시간 초과)\n",
    "# 테스트 4 〉\t"
   ]
  },
  {
   "cell_type": "code",
   "execution_count": 17,
   "metadata": {},
   "outputs": [
    {
     "data": {
      "text/plain": [
       "3"
      ]
     },
     "execution_count": 17,
     "metadata": {},
     "output_type": "execute_result"
    }
   ],
   "source": [
    "#1. 시간초과로 실패\n",
    "\n",
    "def isSosu(number):\n",
    "    for i in range(2,number):\n",
    "        if number%i==0:\n",
    "            return False\n",
    "    return True\n",
    "\n",
    "def solution(n):\n",
    "    answer=0\n",
    "    for number in range(2,n+1):\n",
    "        answer+=isSosu(number)\n",
    "        \n",
    "    return answer\n",
    "\n",
    "solution(5)\n",
    "\n",
    "# 정확성  테스트\n",
    "# 테스트 1 〉\t통과 (0.00ms, 10.1MB)\n",
    "# 테스트 2 〉\t통과 (0.28ms, 10.2MB)\n",
    "# 테스트 3 〉\t통과 (1.30ms, 10.2MB)\n",
    "# 테스트 4 〉\t통과 (3.95ms, 10.2MB)\n",
    "# 테스트 5 〉\t통과 (2.04ms, 10.1MB)\n",
    "# 테스트 6 〉\t통과 (208.03ms, 10.1MB)\n",
    "# 테스트 7 〉\t통과 (20.34ms, 10.2MB)\n",
    "# 테스트 8 〉\t통과 (111.85ms, 10.2MB)\n",
    "# 테스트 9 〉\t통과 (283.98ms, 10.2MB)\n",
    "# 테스트 10 〉\t실패 (시간 초과)\n",
    "# 테스트 11 〉\t실패 (시간 초과)\n",
    "# 테스트 12 〉\t실패 (시간 초과)\n",
    "# 효율성  테스트\n",
    "# 테스트 1 〉\t실패 (시간 초과)\n",
    "# 테스트 2 〉\t실패 (시간 초과)\n",
    "# 테스트 3 〉\t실패 (시간 초과)\n",
    "# 테스트 4 〉\t"
   ]
  },
  {
   "cell_type": "code",
   "execution_count": null,
   "metadata": {},
   "outputs": [],
   "source": [
    "def solution(n):\n",
    "    answer = 0\n",
    "    return answer"
   ]
  }
 ],
 "metadata": {
  "kernelspec": {
   "display_name": "Python 3",
   "language": "python",
   "name": "python3"
  },
  "language_info": {
   "codemirror_mode": {
    "name": "ipython",
    "version": 3
   },
   "file_extension": ".py",
   "mimetype": "text/x-python",
   "name": "python",
   "nbconvert_exporter": "python",
   "pygments_lexer": "ipython3",
   "version": "3.7.4"
  }
 },
 "nbformat": 4,
 "nbformat_minor": 2
}
