{
 "cells": [
  {
   "cell_type": "markdown",
   "metadata": {},
   "source": [
    "#### 문제 설명\n",
    "- 스파이들은 매일 다른 옷을 조합하여 입어 자신을 위장합니다.\n",
    "\n",
    "- 예를 들어 스파이가 가진 옷이 아래와 같고 오늘 스파이가 동그란 안경, 긴 코트, 파란색 티셔츠를 입었다면 다음날은 청바지를 추가로 입거나 동그란 안경 대신 검정 선글라스를 착용하거나 해야 합니다.\n",
    "\n",
    "- 스파이가 가진 의상들이 담긴 2차원 배열 clothes가 주어질 때 서로 다른 옷의 조합의 수를 return 하도록 solution 함수를 작성해주세요.\n",
    "\n",
    "#### 제한사항\n",
    "- clothes의 각 행은 [의상의 이름, 의상의 종류]로 이루어져 있습니다.\n",
    "- 스파이가 가진 의상의 수는 1개 이상 30개 이하입니다.\n",
    "- 같은 이름을 가진 의상은 존재하지 않습니다.\n",
    "- clothes의 모든 원소는 문자열로 이루어져 있습니다.\n",
    "- 모든 문자열의 길이는 1 이상 20 이하인 자연수이고 알파벳 소문자 또는 '_' 로만 이루어져 있습니다.\n",
    "- 스파이는 하루에 최소 한 개의 의상은 입습니다."
   ]
  },
  {
   "cell_type": "markdown",
   "metadata": {},
   "source": [
    "### 새롭게 알게된 것\n",
    "\n",
    "1) : eval\n",
    "    - eval('1+2+3') --> 6\n",
    " \n",
    "2) defaultdict\n",
    "    - Key가 없어도 append 또는 +해서 value를 추가하는것이 가능하다!"
   ]
  },
  {
   "cell_type": "code",
   "execution_count": 7,
   "metadata": {},
   "outputs": [
    {
     "ename": "KeyError",
     "evalue": "'key'",
     "output_type": "error",
     "traceback": [
      "\u001b[1;31m---------------------------------------------------------------------------\u001b[0m",
      "\u001b[1;31mKeyError\u001b[0m                                  Traceback (most recent call last)",
      "\u001b[1;32m<ipython-input-7-29f9d19add44>\u001b[0m in \u001b[0;36m<module>\u001b[1;34m\u001b[0m\n\u001b[0;32m      1\u001b[0m \u001b[0ma\u001b[0m \u001b[1;33m=\u001b[0m \u001b[0mdict\u001b[0m\u001b[1;33m(\u001b[0m\u001b[1;33m)\u001b[0m\u001b[1;33m\u001b[0m\u001b[1;33m\u001b[0m\u001b[0m\n\u001b[1;32m----> 2\u001b[1;33m \u001b[0ma\u001b[0m\u001b[1;33m[\u001b[0m\u001b[1;34m'key'\u001b[0m\u001b[1;33m]\u001b[0m\u001b[1;33m+=\u001b[0m\u001b[1;36m1\u001b[0m\u001b[1;33m\u001b[0m\u001b[1;33m\u001b[0m\u001b[0m\n\u001b[0m\u001b[0;32m      3\u001b[0m \u001b[0ma\u001b[0m\u001b[1;33m\u001b[0m\u001b[1;33m\u001b[0m\u001b[0m\n",
      "\u001b[1;31mKeyError\u001b[0m: 'key'"
     ]
    }
   ],
   "source": [
    "a = dict()\n",
    "\n",
    "a['key']+=1\n",
    "a"
   ]
  },
  {
   "cell_type": "code",
   "execution_count": 6,
   "metadata": {},
   "outputs": [
    {
     "data": {
      "text/plain": [
       "defaultdict(int, {1: 1})"
      ]
     },
     "execution_count": 6,
     "metadata": {},
     "output_type": "execute_result"
    }
   ],
   "source": [
    "import collections \n",
    "b = collections.defaultdict(int)\n",
    "\n",
    "b[1]+=1\n",
    "b"
   ]
  },
  {
   "cell_type": "code",
   "execution_count": 10,
   "metadata": {},
   "outputs": [
    {
     "data": {
      "text/plain": [
       "{'key': 1}"
      ]
     },
     "execution_count": 10,
     "metadata": {},
     "output_type": "execute_result"
    }
   ],
   "source": [
    "a = dict()\n",
    "if 'key' in a.keys():\n",
    "    a['key']+=1\n",
    "else:\n",
    "    a['key']=1\n",
    "a"
   ]
  },
  {
   "cell_type": "code",
   "execution_count": 8,
   "metadata": {},
   "outputs": [
    {
     "data": {
      "text/plain": [
       "defaultdict(str, {1: '1'})"
      ]
     },
     "execution_count": 8,
     "metadata": {},
     "output_type": "execute_result"
    }
   ],
   "source": [
    "import collections \n",
    "b = collections.defaultdict(str)\n",
    "b[1]+=\"1\"\n",
    "b"
   ]
  },
  {
   "cell_type": "code",
   "execution_count": null,
   "metadata": {},
   "outputs": [],
   "source": [
    "# 정확성  테스트\n",
    "# 테스트 1 〉\t통과 (0.08ms, 10.3MB)\n",
    "# 테스트 2 〉\t통과 (0.04ms, 10.2MB)\n",
    "# 테스트 3 〉\t통과 (0.05ms, 10.1MB)\n",
    "# 테스트 4 〉\t통과 (0.06ms, 10.2MB)\n",
    "# 테스트 5 〉\t통과 (0.04ms, 10.2MB)\n",
    "# 테스트 6 〉\t통과 (0.04ms, 10.2MB)\n",
    "# 테스트 7 〉\t통과 (0.07ms, 10.1MB)\n",
    "# 테스트 8 〉\t통과 (0.05ms, 10.2MB)\n",
    "# 테스트 9 〉\t통과 (0.04ms, 10.2MB)\n",
    "# 테스트 10 〉\t통과 (0.04ms, 10.2MB)\n",
    "# 테스트 11 〉\t통과 (0.04ms, 10.2MB)\n",
    "# 테스트 12 〉\t통과 (0.05ms, 10.2MB)\n",
    "# 테스트 13 〉\t통과 (0.06ms, 10.2MB)\n",
    "# 테스트 14 〉\t통과 (0.04ms, 10.1MB)\n",
    "# 테스트 15 〉\t통과 (0.04ms, 10.2MB)\n",
    "# 테스트 16 〉\t통과 (0.03ms, 10.2MB)\n",
    "# 테스트 17 〉\t통과 (0.04ms, 10.2MB)\n",
    "# 테스트 18 〉\t통과 (0.05ms, 10.2MB)\n",
    "# 테스트 19 〉\t통과 (0.05ms, 10.2MB)\n",
    "# 테스트 20 〉\t통과 (0.04ms, 10.2MB)\n",
    "# 테스트 21 〉\t통과 (0.04ms, 10.3MB)\n",
    "# 테스트 22 〉\t통과 (0.03ms, 10.2MB)\n",
    "# 테스트 23 〉\t통과 (0.04ms, 10.2MB)\n",
    "# 테스트 24 〉\t통과 (0.04ms, 10.1MB)\n",
    "# 테스트 25 〉\t통과 (0.05ms, 10.2MB)\n",
    "# 테스트 26 〉\t통과 (0.06ms, 10.1MB)\n",
    "# 테스트 27 〉\t통과 (0.04ms, 10.2MB)\n",
    "# 테스트 28 〉\t통과 (0.05ms, 10.3MB)"
   ]
  },
  {
   "cell_type": "code",
   "execution_count": 19,
   "metadata": {},
   "outputs": [
    {
     "data": {
      "text/plain": [
       "3"
      ]
     },
     "execution_count": 19,
     "metadata": {},
     "output_type": "execute_result"
    }
   ],
   "source": [
    "import collections \n",
    "\n",
    "def solution(clothes):\n",
    "    item_dict = collections.defaultdict(list)\n",
    "    for item_nm, item_type in clothes:\n",
    "        item_dict[item_type].append(item_nm)\n",
    "    item_values_list = list(item_dict.values())\n",
    "    item_values_len = [str(len(x)+1) for x in list(item_dict.values())]\n",
    "\n",
    "    return eval('*'.join(item_values_len))-1\n",
    "    \n",
    "# solution([[\"yellowhat\", \"headgear\"], [\"bluesunglasses\", \"eyewear\"], [\"green_turban\", \"headgear\"]]) #5\n",
    "solution([[\"crowmask\", \"face\"], [\"bluesunglasses\", \"face\"], [\"smoky_makeup\", \"face\"]]) #3"
   ]
  },
  {
   "cell_type": "code",
   "execution_count": 14,
   "metadata": {},
   "outputs": [
    {
     "name": "stdout",
     "output_type": "stream",
     "text": [
      "[['yellowhat', 'green_turban'], ['bluesunglasses']]\n",
      "['3', '2']\n"
     ]
    },
    {
     "data": {
      "text/plain": [
       "6"
      ]
     },
     "execution_count": 14,
     "metadata": {},
     "output_type": "execute_result"
    }
   ],
   "source": [
    "import collections \n",
    "clothes = [[\"yellowhat\", \"headgear\"], [\"bluesunglasses\", \"eyewear\"], [\"green_turban\", \"headgear\"]]\n",
    "item_dict = collections.defaultdict(list)\n",
    "\n",
    "for item_nm, item_type in clothes:\n",
    "    item_dict[item_type].append(item_nm)\n",
    "\n",
    "item_values_list = list(item_dict.values())\n",
    "item_values_len = [str(len(x)+1) for x in list(item_dict.values())]\n",
    "\n",
    "\n",
    "return eval('*'.join(item_values_len))-1"
   ]
  },
  {
   "cell_type": "code",
   "execution_count": null,
   "metadata": {},
   "outputs": [],
   "source": [
    "solution([[\"yellowhat\", \"headgear\"], [\"bluesunglasses\", \"eyewear\"], [\"green_turban\", \"headgear\"]]) #5\n",
    "# solution([[\"crowmask\", \"face\"], [\"bluesunglasses\", \"face\"], [\"smoky_makeup\", \"face\"]]) #3"
   ]
  }
 ],
 "metadata": {
  "kernelspec": {
   "display_name": "Python 3",
   "language": "python",
   "name": "python3"
  },
  "language_info": {
   "codemirror_mode": {
    "name": "ipython",
    "version": 3
   },
   "file_extension": ".py",
   "mimetype": "text/x-python",
   "name": "python",
   "nbconvert_exporter": "python",
   "pygments_lexer": "ipython3",
   "version": "3.7.4"
  }
 },
 "nbformat": 4,
 "nbformat_minor": 2
}
