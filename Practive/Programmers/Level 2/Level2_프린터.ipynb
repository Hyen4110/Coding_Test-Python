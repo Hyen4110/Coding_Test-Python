{
 "cells": [
  {
   "cell_type": "markdown",
   "metadata": {},
   "source": [
    "#### 문제 설명\n",
    "일반적인 프린터는 인쇄 요청이 들어온 순서대로 인쇄합니다. 그렇기 때문에 중요한 문서가 나중에 인쇄될 수 있습니다. 이런 문제를 보완하기 위해 중요도가 높은 문서를 먼저 인쇄하는 프린터를 개발했습니다. 이 새롭게 개발한 프린터는 아래와 같은 방식으로 인쇄 작업을 수행합니다.\n",
    "\n",
    "1. 인쇄 대기목록의 가장 앞에 있는 문서(J)를 대기목록에서 꺼냅니다.\n",
    "2. 나머지 인쇄 대기목록에서 J보다 중요도가 높은 문서가 한 개라도 존재하면 J를 대기목록의 가장 마지막에 넣습니다.\n",
    "3. 그렇지 않으면 J를 인쇄합니다.\n",
    "\n",
    "#### 제한사항\n",
    "- 현재 대기목록에는 1개 이상 100개 이하의 문서가 있습니다.\n",
    "- 인쇄 작업의 중요도는 1~9로 표현하며 숫자가 클수록 중요하다는 뜻입니다.\n",
    "- location은 0 이상 (현재 대기목록에 있는 작업 수 - 1) 이하의 값을 가지며 대기목록의 가장 앞에 있으면 0, 두 번째에 있으면 1로 표현합니다."
   ]
  },
  {
   "cell_type": "code",
   "execution_count": 51,
   "metadata": {},
   "outputs": [
    {
     "data": {
      "text/plain": [
       "1"
      ]
     },
     "execution_count": 51,
     "metadata": {},
     "output_type": "execute_result"
    }
   ],
   "source": [
    "def solution(priorities, location):\n",
    "    idx_location = [i for i in range(len(priorities))]\n",
    "    answer = 0\n",
    "\n",
    "    while True:\n",
    "        max_idx = priorities.index(max(priorities))\n",
    "        priorities = priorities[max_idx:]+priorities[:max_idx]\n",
    "        idx_location = idx_location[max_idx:]+idx_location[:max_idx]\n",
    "\n",
    "        if idx_location.index(location)==0: #원하는 숫자가 맨앞일때\n",
    "            answer+=1\n",
    "            return answer\n",
    "        \n",
    "        else:\n",
    "            priorities.pop(0) #앞 숫자 꺼내기\n",
    "            idx_location.pop(0)\n",
    "            answer+=1\n",
    "\n",
    "    return answer\n",
    "\n",
    "solution([2, 1, 3, 2], 2) #1\n",
    "# solution([1, 1, 9, 1, 1, 1],0) #5"
   ]
  },
  {
   "cell_type": "markdown",
   "metadata": {},
   "source": [
    "### Deque로 하면 slice 불가.."
   ]
  },
  {
   "cell_type": "code",
   "execution_count": 47,
   "metadata": {},
   "outputs": [
    {
     "ename": "TypeError",
     "evalue": "sequence index must be integer, not 'slice'",
     "output_type": "error",
     "traceback": [
      "\u001b[1;31m---------------------------------------------------------------------------\u001b[0m",
      "\u001b[1;31mTypeError\u001b[0m                                 Traceback (most recent call last)",
      "\u001b[1;32m<ipython-input-47-36ca057298a0>\u001b[0m in \u001b[0;36m<module>\u001b[1;34m\u001b[0m\n\u001b[0;32m     31\u001b[0m \u001b[1;33m\u001b[0m\u001b[0m\n\u001b[0;32m     32\u001b[0m \u001b[1;31m# solution([2, 1, 3, 2], 2) #1\u001b[0m\u001b[1;33m\u001b[0m\u001b[1;33m\u001b[0m\u001b[1;33m\u001b[0m\u001b[0m\n\u001b[1;32m---> 33\u001b[1;33m \u001b[0msolution\u001b[0m\u001b[1;33m(\u001b[0m\u001b[1;33m[\u001b[0m\u001b[1;36m1\u001b[0m\u001b[1;33m,\u001b[0m \u001b[1;36m1\u001b[0m\u001b[1;33m,\u001b[0m \u001b[1;36m9\u001b[0m\u001b[1;33m,\u001b[0m \u001b[1;36m1\u001b[0m\u001b[1;33m,\u001b[0m \u001b[1;36m1\u001b[0m\u001b[1;33m,\u001b[0m \u001b[1;36m1\u001b[0m\u001b[1;33m]\u001b[0m\u001b[1;33m,\u001b[0m\u001b[1;36m0\u001b[0m\u001b[1;33m)\u001b[0m \u001b[1;31m#5\u001b[0m\u001b[1;33m\u001b[0m\u001b[1;33m\u001b[0m\u001b[0m\n\u001b[0m",
      "\u001b[1;32m<ipython-input-47-36ca057298a0>\u001b[0m in \u001b[0;36msolution\u001b[1;34m(priorities, location)\u001b[0m\n\u001b[0;32m     10\u001b[0m \u001b[1;33m\u001b[0m\u001b[0m\n\u001b[0;32m     11\u001b[0m     \u001b[1;32mwhile\u001b[0m \u001b[1;32mTrue\u001b[0m\u001b[1;33m:\u001b[0m\u001b[1;33m\u001b[0m\u001b[1;33m\u001b[0m\u001b[0m\n\u001b[1;32m---> 12\u001b[1;33m         \u001b[0mpriorities\u001b[0m \u001b[1;33m=\u001b[0m \u001b[0mpriorities\u001b[0m\u001b[1;33m[\u001b[0m\u001b[0mmax_idx\u001b[0m\u001b[1;33m:\u001b[0m\u001b[1;33m]\u001b[0m\u001b[1;33m+\u001b[0m\u001b[0mpriorities\u001b[0m\u001b[1;33m[\u001b[0m\u001b[1;33m:\u001b[0m\u001b[0mmax_idx\u001b[0m\u001b[1;33m]\u001b[0m\u001b[1;33m\u001b[0m\u001b[1;33m\u001b[0m\u001b[0m\n\u001b[0m\u001b[0;32m     13\u001b[0m         \u001b[0midx_location\u001b[0m \u001b[1;33m=\u001b[0m \u001b[0midx_location\u001b[0m\u001b[1;33m[\u001b[0m\u001b[0mmax_idx\u001b[0m\u001b[1;33m:\u001b[0m\u001b[1;33m]\u001b[0m\u001b[1;33m+\u001b[0m\u001b[0midx_location\u001b[0m\u001b[1;33m[\u001b[0m\u001b[1;33m:\u001b[0m\u001b[0mmax_idx\u001b[0m\u001b[1;33m]\u001b[0m\u001b[1;33m\u001b[0m\u001b[1;33m\u001b[0m\u001b[0m\n\u001b[0;32m     14\u001b[0m \u001b[1;33m\u001b[0m\u001b[0m\n",
      "\u001b[1;31mTypeError\u001b[0m: sequence index must be integer, not 'slice'"
     ]
    }
   ],
   "source": [
    "from collections import deque\n",
    "\n",
    "def solution(priorities, location):\n",
    "    \n",
    "    priorities = deque(priorities)\n",
    "    idx_location = deque([i for i in range(len(priorities))])\n",
    "    \n",
    "    max_idx = priorities.index(max(priorities))\n",
    "    answer = 0\n",
    "\n",
    "    while True:\n",
    "        priorities = priorities[max_idx:]+priorities[:max_idx]\n",
    "        idx_location = idx_location[max_idx:]+idx_location[:max_idx]\n",
    "\n",
    "        if idx_location.index(location)==0: #원하는 숫자가 맨앞일때\n",
    "            answer+=1\n",
    "            return answer\n",
    "        \n",
    "        else:\n",
    "            priorities.popleft() #앞 숫자 꺼내기\n",
    "            idx_location.popleft()\n",
    "            answer+=1\n",
    "        \n",
    "        max_idx = priorities.index(max(priorities)) #최대값 index 불러오기\n",
    "\n",
    "        \n",
    "    answer = idx_location.index(location)+1+pop_cnt\n",
    "\n",
    "    return answer\n",
    "\n",
    "\n",
    "# solution([2, 1, 3, 2], 2) #1\n",
    "solution([1, 1, 9, 1, 1, 1],0) #5"
   ]
  },
  {
   "cell_type": "code",
   "execution_count": 37,
   "metadata": {},
   "outputs": [
    {
     "name": "stdout",
     "output_type": "stream",
     "text": [
      "location에 해당하는 숫자:  [1, 2, 3, 4, 3, 2, 1] 의  2\n",
      "priorities [1, 2, 3, 4, 3, 2, 1]\n",
      "idx_location [0, 1, 2, 3, 4, 5, 6]\n",
      "============================== 새로운 while\n",
      "max_idx:  3\n",
      "priorities [4, 3, 2, 1, 1, 2, 3]\n",
      "idx_location [3, 4, 5, 6, 0, 1, 2]\n",
      "max_idx와 location(주인공) 위치 다름\n",
      "========== pop 이후\n",
      "priorities [3, 2, 1, 1, 2, 3]\n",
      "idx_location [4, 5, 6, 0, 1, 2]\n",
      "최종 답 7\n"
     ]
    }
   ],
   "source": [
    "\n",
    "priorities = [1,2,3,4,3,2,1] # [4,3,2,1,1,2,3] -> [3,2,1,1,2,3] -> [2,1,1,2,3] -> [3,2,1,1,2]\n",
    "location = 2\n",
    "\n",
    "idx_location = [i for i in range(len(priorities))]\n",
    "pop_cnt = 0\n",
    "    \n",
    "print(\"location에 해당하는 숫자: \",priorities,\"의 \",location)\n",
    "print(\"priorities\",priorities)\n",
    "print(\"idx_location\",idx_location)\n",
    "    \n",
    "while True:\n",
    "    print(\"=\"*30,\"새로운 while\")\n",
    "    max_idx = priorities.index(max(priorities))\n",
    "    print(\"max_idx: \",max_idx)\n",
    "    \n",
    "    if max_idx !=0:\n",
    "        priorities = priorities[max_idx:]+priorities[:max_idx]\n",
    "        idx_location = idx_location[max_idx:]+idx_location[:max_idx]\n",
    "    else: pass\n",
    "    print(\"priorities\",priorities)\n",
    "    print(\"idx_location\",idx_location)\n",
    "    \n",
    "    if idx_location.index(location)==0:\n",
    "        print(\"max_idx와 location(주인공) 위치 같음:\",max_idx)\n",
    "        answer = idx_location.index(location)+1\n",
    "        print(answer)\n",
    "    else:\n",
    "        print(\"max_idx와 location(주인공) 위치 다름\")\n",
    "        priorities.pop(0)\n",
    "        idx_location.pop(0)\n",
    "        \n",
    "        print(\"=\"*10,\"pop 이후\")    \n",
    "        print(\"priorities\",priorities)\n",
    "        print(\"idx_location\",idx_location)\n",
    "        pop_cnt+=1\n",
    "    \n",
    "    if priorities.index(max(priorities))==0:\n",
    "        break\n",
    "answer = idx_location.index(location)+1+pop_cnt\n",
    "\n",
    "print(\"최종 답\",answer)\n",
    "# print(priorities)\n",
    "# print(idx_location)"
   ]
  },
  {
   "cell_type": "code",
   "execution_count": 10,
   "metadata": {},
   "outputs": [],
   "source": [
    "priorities = [2, 1, 3, 2]\n",
    "location = 2\n",
    "idx_location = [i for i in range(len(priorities))]\n",
    "max_idx = priorities.index(max(priorities))\n",
    "\n",
    "while priorities.index(max(priorities))==0:\n",
    "    priorities = priorities[max_idx:]+priorities[:max_idx]\n",
    "    idx_location = idx_location[max_idx:]+idx_location[:max_idx]\n",
    "    if max_idx == location:\n",
    "        answer = idx_location.index(location)\n",
    "        print(answer)\n",
    "\n",
    "# print(priorities)\n",
    "# print(idx_location)"
   ]
  },
  {
   "cell_type": "code",
   "execution_count": null,
   "metadata": {},
   "outputs": [],
   "source": []
  }
 ],
 "metadata": {
  "kernelspec": {
   "display_name": "Python 3",
   "language": "python",
   "name": "python3"
  },
  "language_info": {
   "codemirror_mode": {
    "name": "ipython",
    "version": 3
   },
   "file_extension": ".py",
   "mimetype": "text/x-python",
   "name": "python",
   "nbconvert_exporter": "python",
   "pygments_lexer": "ipython3",
   "version": "3.7.4"
  }
 },
 "nbformat": 4,
 "nbformat_minor": 2
}
