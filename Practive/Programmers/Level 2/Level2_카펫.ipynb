{
 "cells": [
  {
   "cell_type": "markdown",
   "metadata": {},
   "source": [
    "#### 문제 설명\n",
    "- Leo는 카펫을 사러 갔다가 아래 그림과 같이 중앙에는 노란색으로 칠해져 있고 테두리 1줄은 갈색으로 칠해져 있는 격자 모양 카펫을 봤습니다.\n",
    "\n",
    "- Leo는 집으로 돌아와서 아까 본 카펫의 노란색과 갈색으로 색칠된 격자의 개수는 기억했지만, 전체 카펫의 크기는 기억하지 못했습니다.\n",
    "\n",
    "- Leo가 본 카펫에서 갈색 격자의 수 brown, 노란색 격자의 수 yellow가 매개변수로 주어질 때 카펫의 가로, 세로 크기를 순서대로 배열에 담아 return 하도록 solution 함수를 작성해주세요.\n",
    "\n",
    "#### 제한사항\n",
    "- 갈색 격자의 수 brown은 8 이상 5,000 이하인 자연수입니다.\n",
    "- 노란색 격자의 수 yellow는 1 이상 2,000,000 이하인 자연수입니다.\n",
    "- 카펫의 가로 길이는 세로 길이와 같거나, 세로 길이보다 깁니다.\n"
   ]
  },
  {
   "cell_type": "code",
   "execution_count": 3,
   "metadata": {},
   "outputs": [
    {
     "data": {
      "text/plain": [
       "[1, 2, 3, 4, 6, 12]"
      ]
     },
     "execution_count": 3,
     "metadata": {},
     "output_type": "execute_result"
    }
   ],
   "source": [
    "a =12\n",
    "b = [i for i in range(1,a+1) if a%i==0]\n",
    "b\n"
   ]
  },
  {
   "cell_type": "markdown",
   "metadata": {},
   "source": [
    "### yellow와 brown에 대한 각 공식 세워서 품\n",
    "- x= 가로, y=세로\n",
    "- (x-2)*(y-2) = yellow\n",
    "- 2(x+y)-4 = brown\n",
    "\n",
    "-> yellow의 약수를 구한 후, 주어진 brown값을 만족할 수 있는 x,y 찾기"
   ]
  },
  {
   "cell_type": "code",
   "execution_count": 28,
   "metadata": {},
   "outputs": [
    {
     "name": "stdout",
     "output_type": "stream",
     "text": [
      "divisor_list [1, 2]\n",
      "candidate_set [(1, 2), (2, 1)]\n",
      "ab (1, 2)\n"
     ]
    },
    {
     "data": {
      "text/plain": [
       "[4, 3]"
      ]
     },
     "execution_count": 28,
     "metadata": {},
     "output_type": "execute_result"
    }
   ],
   "source": [
    "brown = 10\n",
    "yellow = 2\n",
    "\n",
    "\n",
    "divisor_list = [i for i in range(1,yellow+1) if yellow%i==0]\n",
    "print(\"divisor_list\",divisor_list)\n",
    "\n",
    "candidate_set = [(k, int(yellow/k)) for k in divisor_list]\n",
    "print(\"candidate_set\",candidate_set)\n",
    "\n",
    "ab = [(j[0],j[1]) for j in candidate_set if j[0]+j[1]+4==(brown+4)/2][0] #[(2, 12), (12, 2)]\n",
    "print(\"ab\", ab)\n",
    "answer = sorted([x+2 for x in list(ab)], reverse=True)\n",
    "answer\n"
   ]
  },
  {
   "cell_type": "code",
   "execution_count": null,
   "metadata": {},
   "outputs": [],
   "source": [
    "yellow = 1\n",
    "brown = 8\n",
    "\n",
    "divisor_list = [i for i in range(1,yellow+1) if yellow%i==0]\n",
    "candidate_set = [(k, int(yellow/k)) for k in divisor_list]\n",
    "ab = [(j[0],j[1]) for j in candidate_set if j[0]+j[1]+4==(brown+4)/2][0] #[(2, 12), (12, 2)]\n",
    "return sorted([x+2 for x in list(ab)], reverse=True)\n"
   ]
  },
  {
   "cell_type": "code",
   "execution_count": 25,
   "metadata": {},
   "outputs": [
    {
     "data": {
      "text/plain": [
       "[8, 6]"
      ]
     },
     "execution_count": 25,
     "metadata": {},
     "output_type": "execute_result"
    }
   ],
   "source": [
    "def solution(brown, yellow):\n",
    "    divisor_list = [i for i in range(1,yellow+1) if yellow%i==0]\n",
    "    candidate_set = [(k, int(yellow/k)) for k in divisor_list]\n",
    "    ab = [(j[0],j[1]) for j in candidate_set if j[0]+j[1]+4==(brown+4)/2][0] #[(2, 12), (12, 2)]\n",
    "    return sorted([x+2 for x in list(ab)], reverse=True)\n",
    "\n",
    "# solution(10,2) #[4,.3]\n",
    "# solution(8,1) # [3,3]\n",
    "solution(24,24) #[8,6]\n",
    "\n",
    "\n",
    "# 정확성  테스트\n",
    "# 테스트 1 〉\t통과 (0.01ms, 10.2MB)\n",
    "# 테스트 2 〉\t통과 (0.02ms, 10.2MB)\n",
    "# 테스트 3 〉\t통과 (54.87ms, 10.2MB)\n",
    "# 테스트 4 〉\t통과 (0.28ms, 10.1MB)\n",
    "# 테스트 5 〉\t통과 (1.05ms, 10.2MB)\n",
    "# 테스트 6 〉\t통과 (19.37ms, 10.3MB)\n",
    "# 테스트 7 〉\t통과 (70.85ms, 10.2MB)\n",
    "# 테스트 8 〉\t통과 (55.46ms, 10.2MB)\n",
    "# 테스트 9 〉\t통과 (69.44ms, 10.1MB)\n",
    "# 테스트 10 〉\t통과 (81.60ms, 10.1MB)\n",
    "# 테스트 11 〉\t통과 (0.01ms, 10.3MB)\n",
    "# 테스트 12 〉\t통과 (0.01ms, 10.2MB)\n",
    "# 테스트 13 〉\t통과 (0.02ms, 10.2MB)"
   ]
  },
  {
   "cell_type": "code",
   "execution_count": null,
   "metadata": {},
   "outputs": [],
   "source": []
  }
 ],
 "metadata": {
  "kernelspec": {
   "display_name": "Python 3",
   "language": "python",
   "name": "python3"
  },
  "language_info": {
   "codemirror_mode": {
    "name": "ipython",
    "version": 3
   },
   "file_extension": ".py",
   "mimetype": "text/x-python",
   "name": "python",
   "nbconvert_exporter": "python",
   "pygments_lexer": "ipython3",
   "version": "3.7.4"
  }
 },
 "nbformat": 4,
 "nbformat_minor": 2
}
