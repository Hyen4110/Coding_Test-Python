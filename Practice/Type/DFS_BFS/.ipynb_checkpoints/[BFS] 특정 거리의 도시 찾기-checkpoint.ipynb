{
 "cells": [
  {
   "cell_type": "markdown",
   "metadata": {},
   "source": [
    "#### [문제 설명] \n",
    "어떤 나라에는 1~N 번 까지의 도시와 M개의 단방향 도로가 존재합니다. 모든 도로의 거리는 1입니다. 이때 특정한 도시 X로부터 출발하여 도달할 수 있는 모든 도시 중에서, 최단 거리가 정확히 K인 모든 도시의 번호를 출력하는 프로그램을 작성하세요. 또한 출발도시X에서 출발도시X로 가는 최단거리는 항상 0이라고 가정합니다.\n",
    "\n",
    "#### [입력 조건]\n",
    "- 첫째 줄에 도시의 개수 N, 도로의 개수 M, 거리 정보 K,출발 도시의 번호 X가 주어집니다.  \n",
    "    (2≤N≤300,000, 1≤M≤1,000,000, 1≤K≤300,000, 1≤X≤N)\n",
    "- 둘째 줄부터 M개의 줄에 걸쳐서 2개의 자연수 A,B가 주어지며 각 자연수는 공백으로 구분합니다. 이는 A번 도시에서 B번 도시로 이동하는 단방향 도로가 존재한다는 의미입니다. (1≤A, B≤N) 단, A와 B는 서로다른 자연수입니다. \n",
    "\n",
    "#### [출력 조건] \n",
    "- X로부터 출발하여 도달할 수 있는 도시 중에서 최단 거리가 K인 모든 도시의 번호를 한 줄에 하나씩 오름차순으로 출력합니다. \n",
    "- 이때 도달할 수 있는 도시 중에서 최단 거리가 K인 도시가 하나도 존재하지 않으면 -1을 출력합니다. "
   ]
  },
  {
   "cell_type": "markdown",
   "metadata": {},
   "source": [
    "#### 그래프에서 모든 간선의 비용이 동일할 때에는 BFS를 이용하여 최단거리를 찾을 수있다"
   ]
  },
  {
   "cell_type": "code",
   "execution_count": 19,
   "metadata": {},
   "outputs": [
    {
     "name": "stdout",
     "output_type": "stream",
     "text": [
      "4 4 2 1\n",
      "1 2\n",
      "1 3\n",
      "2 3\n",
      "2 4\n",
      "[[], [2, 3], [3, 4], [], []]\n",
      "4\n"
     ]
    }
   ],
   "source": [
    "from collections import deque\n",
    "\n",
    "# 도시의 개수, 도로의 개수, 거리 정보, 출발 도시 번호\n",
    "n, m, k, x = map(int, input().split())\n",
    "graph = [[] for _ in range(n+1)]\n",
    "\n",
    "# 모든 도로 정보 입력 받기\n",
    "for _ in range(m):\n",
    "    a, b = map(int, input().split())\n",
    "    graph[a].append(b)\n",
    "\n",
    "print(graph)\n",
    "# 모든 도시에 대한 최단 거리 초기화\n",
    "distance = [-1]*(n+1)\n",
    "distance[x] =0\n",
    "\n",
    "# 너비 우선 탐색(BFS) 수행\n",
    "q = deque([x])\n",
    "while q:\n",
    "    now = q.popleft()\n",
    "    \n",
    "    #현재 도시에서 이동할 수 있는 모든 도시를 확인\n",
    "    for next_node in graph[now]:\n",
    "        #아직 방문하지 않은 도시라면\n",
    "        if distance[next_node]==-1:\n",
    "            #최단 거리 갱신\n",
    "            distance[next_node] = distance[now]+1\n",
    "            q.append(next_node)\n",
    "            \n",
    "#최단 거리가 K인 모든 도시의 번호를 오름차순으로 출력\n",
    "check = False\n",
    "for i in range(1, n+1):\n",
    "    if distance[i]==k:\n",
    "        print(i)\n",
    "        check = True\n",
    "\n",
    "#만약 최단 거리가 K인 도시가 없다면, -1 출력\n",
    "if check == False:\n",
    "    print(-1)\n"
   ]
  },
  {
   "cell_type": "code",
   "execution_count": null,
   "metadata": {},
   "outputs": [],
   "source": []
  }
 ],
 "metadata": {
  "kernelspec": {
   "display_name": "Python 3",
   "language": "python",
   "name": "python3"
  },
  "language_info": {
   "codemirror_mode": {
    "name": "ipython",
    "version": 3
   },
   "file_extension": ".py",
   "mimetype": "text/x-python",
   "name": "python",
   "nbconvert_exporter": "python",
   "pygments_lexer": "ipython3",
   "version": "3.7.4"
  }
 },
 "nbformat": 4,
 "nbformat_minor": 2
}
