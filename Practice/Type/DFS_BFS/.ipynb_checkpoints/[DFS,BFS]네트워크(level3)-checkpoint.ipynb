{
 "cells": [
  {
   "cell_type": "markdown",
   "metadata": {},
   "source": [
    "## [문제] 네트워크"
   ]
  },
  {
   "cell_type": "markdown",
   "metadata": {},
   "source": [
    "#### [문제 설명]\n",
    "네트워크란 컴퓨터 상호 간에 정보를 교환할 수 있도록 연결된 형태를 의미합니다. 예를 들어, 컴퓨터 A와 컴퓨터 B가 직접적으로 연결되어있고, 컴퓨터 B와 컴퓨터 C가 직접적으로 연결되어 있을 때 컴퓨터 A와 컴퓨터 C도 간접적으로 연결되어 정보를 교환할 수 있습니다. 따라서 컴퓨터 A, B, C는 모두 같은 네트워크 상에 있다고 할 수 있습니다.\n",
    "\n",
    "컴퓨터의 개수 n, 연결에 대한 정보가 담긴 2차원 배열 computers가 매개변수로 주어질 때, 네트워크의 개수를 return 하도록 solution 함수를 작성하시오.\n",
    "\n",
    "#### [제한사항]\n",
    "- 컴퓨터의 개수 n은 1 이상 200 이하인 자연수입니다.\n",
    "- 각 컴퓨터는 0부터 n-1인 정수로 표현합니다.\n",
    "- i번 컴퓨터와 j번 컴퓨터가 연결되어 있으면 computers[i][j]를 1로 표현합니다.\n",
    "- computer[i][i]는 항상 1입니다."
   ]
  },
  {
   "cell_type": "code",
   "execution_count": null,
   "metadata": {},
   "outputs": [],
   "source": [
    "# 정확성  테스트\n",
    "# 테스트 1 〉\t통과 (0.02ms, 10.3MB)\n",
    "# 테스트 2 〉\t통과 (0.02ms, 10.2MB)\n",
    "# 테스트 3 〉\t통과 (0.07ms, 10.2MB)\n",
    "# 테스트 4 〉\t통과 (0.08ms, 10.3MB)\n",
    "# 테스트 5 〉\t통과 (0.01ms, 10.2MB)\n",
    "# 테스트 6 〉\t통과 (0.31ms, 10.2MB)\n",
    "# 테스트 7 〉\t통과 (0.03ms, 10.3MB)\n",
    "# 테스트 8 〉\t통과 (0.24ms, 10.3MB)\n",
    "# 테스트 9 〉\t통과 (0.15ms, 10.3MB)\n",
    "# 테스트 10 〉\t통과 (0.14ms, 10.1MB)\n",
    "# 테스트 11 〉\t통과 (1.08ms, 10.3MB)\n",
    "# 테스트 12 〉\t통과 (0.89ms, 10.3MB)\n",
    "# 테스트 13 〉\t통과 (0.41ms, 10.2MB)"
   ]
  },
  {
   "cell_type": "code",
   "execution_count": 26,
   "metadata": {},
   "outputs": [
    {
     "name": "stdout",
     "output_type": "stream",
     "text": [
      "graph 처음 [[1, 2], [0], [0], []]\n",
      "visited 처음 [0, 0, 0, 0]\n",
      "now:  0\n",
      "next_node:  1\n",
      "now:  0\n",
      "next_node:  2\n",
      "now:  1\n",
      "next_node:  0\n",
      "now:  2\n",
      "next_node:  0\n",
      "visited [1, 1, 1, 0]\n",
      "visited [1, 1, 1, 0]\n",
      "visited [1, 1, 1, 0]\n",
      "visited [1, 1, 1, 2]\n"
     ]
    },
    {
     "data": {
      "text/plain": [
       "2"
      ]
     },
     "execution_count": 26,
     "metadata": {},
     "output_type": "execute_result"
    }
   ],
   "source": [
    "from collections import deque\n",
    "\n",
    "def solution(n, computers):\n",
    "    #computers를 graph로 변환하기\n",
    "    graph = [[] for i in range(n)]\n",
    "    for i in range(len(computers)):\n",
    "        for j in range(len(computers)):\n",
    "            if i!=j and computers[i][j]==1:\n",
    "                graph[i].append(j)\n",
    "    \n",
    "    visited = [0]*n\n",
    "    print(\"graph 처음\",graph)\n",
    "    print(\"visited 처음\",visited)\n",
    "    def bfs(graph, start, visited):\n",
    "        visited[start] = max(visited)+1\n",
    "        q = deque([start])\n",
    "        while q:\n",
    "            now = q.popleft()\n",
    "            #현재 도시에서 이동할 수 있는 모든 도시를 확인\n",
    "            for next_node in graph[now]:\n",
    "                print(\"now: \", now)\n",
    "                print(\"next_node: \", next_node)\n",
    "                #아직 방문하지 않은 도시라면\n",
    "                if not visited[next_node]:\n",
    "                    #최단 거리 갱신\n",
    "                    visited[next_node] = visited[now]\n",
    "                    q.append(next_node)\n",
    "        return graph, visited\n",
    "    \n",
    "    for i in range(n):\n",
    "        if visited[i]==0:\n",
    "            graph, visited = bfs(graph, i, visited)\n",
    "        print(\"visited\",visited)\n",
    "    return max(visited)\n",
    "\n",
    "# solution(3, [[1, 1, 0], [1, 1, 0], [0, 0, 1]]) # 2\n",
    "# solution(3, [[1, 1, 0], [1, 1, 1], [0, 1, 1]]) # 1\n",
    "solution(4, [[1, 1, 1, 0], [1, 1, 0, 0], [1, 0, 1, 0], [0, 0, 0, 1]])          "
   ]
  },
  {
   "cell_type": "code",
   "execution_count": 16,
   "metadata": {},
   "outputs": [
    {
     "data": {
      "text/plain": [
       "[[], [], []]"
      ]
     },
     "execution_count": 16,
     "metadata": {},
     "output_type": "execute_result"
    }
   ],
   "source": [
    "from collections import deque\n",
    "\n",
    "# 도시의 개수, 도로의 개수, 거리 정보, 출발 도시 번호\n",
    "n, m, k, x = map(int, input().split())\n",
    "graph = [[] for _ in range(n+1)]\n",
    "\n",
    "# 모든 도로 정보 입력 받기\n",
    "for _ in range(m):\n",
    "    a, b = map(int, input().split())\n",
    "    graph[a].append(b)\n",
    "\n",
    "print(graph)\n",
    "# 모든 도시에 대한 최단 거리 초기화\n",
    "distance = [-1]*(n+1)\n",
    "distance[x] =0\n",
    "\n",
    "# 너비 우선 탐색(BFS) 수행\n",
    "q = deque([x])\n",
    "while q:\n",
    "    now = q.popleft()\n",
    "    \n",
    "    #현재 도시에서 이동할 수 있는 모든 도시를 확인\n",
    "    for next_node in graph[now]:\n",
    "        #아직 방문하지 않은 도시라면\n",
    "        if distance[next_node]==-1:\n",
    "            #최단 거리 갱신\n",
    "            distance[next_node] = distance[now]+1\n",
    "            q.append(next_node)\n",
    "            \n",
    "#최단 거리가 K인 모든 도시의 번호를 오름차순으로 출력\n",
    "check = False\n",
    "for i in range(1, n+1):\n",
    "    if distance[i]==k:\n",
    "        print(i)\n",
    "        check = True\n",
    "\n",
    "#만약 최단 거리가 K인 도시가 없다면, -1 출력\n",
    "if check == False:\n",
    "    print(-1)\n"
   ]
  },
  {
   "cell_type": "code",
   "execution_count": 20,
   "metadata": {},
   "outputs": [
    {
     "data": {
      "text/plain": [
       "[[1], [0, 2], [1]]"
      ]
     },
     "execution_count": 20,
     "metadata": {},
     "output_type": "execute_result"
    }
   ],
   "source": [
    "computers = [[1, 1, 0], [1, 1, 1], [0, 1, 1]]\n",
    "n =3\n",
    "graph = [[] for i in range(n)]\n",
    "for i in range(len(computers)):\n",
    "    for j in range(len(computers)):\n",
    "        if i!=j and computers[i][j]==1:\n",
    "            graph[i].append(j)\n",
    "graph"
   ]
  },
  {
   "cell_type": "code",
   "execution_count": 23,
   "metadata": {},
   "outputs": [
    {
     "data": {
      "text/plain": [
       "[0, 0, 0, 0, 0, 0, 0, 0, 0]"
      ]
     },
     "execution_count": 23,
     "metadata": {},
     "output_type": "execute_result"
    }
   ],
   "source": [
    "visited = [0]*9\n",
    "visited"
   ]
  },
  {
   "cell_type": "code",
   "execution_count": null,
   "metadata": {},
   "outputs": [],
   "source": []
  },
  {
   "cell_type": "code",
   "execution_count": 40,
   "metadata": {},
   "outputs": [
    {
     "name": "stdout",
     "output_type": "stream",
     "text": [
      "0 1 1 2 "
     ]
    },
    {
     "data": {
      "text/plain": [
       "1"
      ]
     },
     "execution_count": 40,
     "metadata": {},
     "output_type": "execute_result"
    }
   ],
   "source": [
    "def solution(n, computears):\n",
    "    #computers를 graph로 변환하기\n",
    "    graph = [[] for i in range(n)]\n",
    "    for i in range(len(computers)):\n",
    "        for j in range(len(computers)):\n",
    "            if i!=j and computers[i][j]==1:\n",
    "                graph[i].append(j)\n",
    "\n",
    "    def dfs(graph, v, visited):\n",
    "        visited[v] = True\n",
    "        \n",
    "        for i in graph[v]:\n",
    "            if not visited[i]:\n",
    "                dfs(graph, i, visited)\n",
    "                return True\n",
    "            return False\n",
    "\n",
    "    visited = [False]*n\n",
    "    result=0\n",
    "    for i in range(n):\n",
    "        dfs(graph, i, visited)\n",
    "            result+=1\n",
    "            \n",
    "    return result \n",
    "\n",
    "solution(3, [[1, 1, 0], [1, 1, 0], [0, 0, 1]]) # 2\n",
    "# solution(3, [[1, 1, 0], [1, 1, 1], [0, 1, 1]]) # 1\n",
    "# solution(4, [[1, 1, 1, 0], [1, 1, 0, 0], [1, 0, 1, 0], [0, 0, 0, 1]])          "
   ]
  },
  {
   "cell_type": "markdown",
   "metadata": {},
   "source": [
    "## 덩어리 찾기 문제인줄 알았는데 아니어서 버림!"
   ]
  },
  {
   "cell_type": "code",
   "execution_count": 10,
   "metadata": {},
   "outputs": [
    {
     "data": {
      "text/plain": [
       "3"
      ]
     },
     "execution_count": 10,
     "metadata": {},
     "output_type": "execute_result"
    }
   ],
   "source": [
    "def solution(n, computears):\n",
    "    graph = [[] for i in range(n)]\n",
    "    for i in range(len(computers)):\n",
    "        for j in range(len(computers)):\n",
    "            if i!=j and computers[i][j]==1:\n",
    "                graph[i].append(j)\n",
    "    \n",
    "    def dfs(x,y):\n",
    "        if x<=-1 or x>=n or y<=-1 or y>=n:\n",
    "            return False\n",
    "        if graph[x][y]==1:\n",
    "            graph[x][y]=0\n",
    "\n",
    "            dfs(x-1,y)\n",
    "            dfs(x,y-1)\n",
    "            dfs(x+1,y)\n",
    "            dfs(x,y+1)\n",
    "\n",
    "            return True\n",
    "        return False\n",
    "\n",
    "    result = 0\n",
    "    for i in range(n):\n",
    "        for j in range(n):\n",
    "            if dfs(i, j) ==True:\n",
    "                result+=1\n",
    "    \n",
    "    return result\n",
    "\n",
    "solution(3, [[1, 1, 0], [1, 1, 0], [0, 0, 1]]) # 2\n",
    "# solution(3, [[1, 1, 0], [1, 1, 1], [0, 1, 1]]) # 1\n",
    "solution(4, [[1, 1, 1, 0], [1, 1, 0, 0], [1, 0, 1, 0], [0, 0, 0, 1]])"
   ]
  }
 ],
 "metadata": {
  "kernelspec": {
   "display_name": "Python 3",
   "language": "python",
   "name": "python3"
  },
  "language_info": {
   "codemirror_mode": {
    "name": "ipython",
    "version": 3
   },
   "file_extension": ".py",
   "mimetype": "text/x-python",
   "name": "python",
   "nbconvert_exporter": "python",
   "pygments_lexer": "ipython3",
   "version": "3.7.4"
  }
 },
 "nbformat": 4,
 "nbformat_minor": 2
}
