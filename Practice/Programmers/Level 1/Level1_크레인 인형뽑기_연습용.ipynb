{
 "cells": [
  {
   "cell_type": "code",
   "execution_count": 2,
   "metadata": {},
   "outputs": [],
   "source": [
    "import numpy as np\n",
    "import pandas as pd"
   ]
  },
  {
   "cell_type": "code",
   "execution_count": 22,
   "metadata": {},
   "outputs": [
    {
     "data": {
      "text/plain": [
       "2"
      ]
     },
     "execution_count": 22,
     "metadata": {},
     "output_type": "execute_result"
    }
   ],
   "source": [
    "### 데이터프레임의 색인은 배열과 다르다!  --> 배열[행][열], 데이터프레임[열][행]\n",
    "board_df = pd.DataFrame([[0,0,0,0,0],\n",
    "                         [0,0,1,0,3],\n",
    "                         [0,2,5,0,1],\n",
    "                         [4,2,4,4,2],\n",
    "                         [3,5,1,3,1]])\n",
    "#board.shape\n",
    "board_df[4][3]"
   ]
  },
  {
   "cell_type": "code",
   "execution_count": 36,
   "metadata": {},
   "outputs": [
    {
     "data": {
      "text/plain": [
       "3"
      ]
     },
     "execution_count": 36,
     "metadata": {},
     "output_type": "execute_result"
    }
   ],
   "source": [
    "board = np.array([[0,0,0,0,0],\n",
    "                 [0,0,1,0,3],\n",
    "                 [0,2,5,0,1],\n",
    "                 [4,2,4,4,2],\n",
    "                 [3,5,1,3,1]])\n",
    "board\n",
    "board[4][3]"
   ]
  },
  {
   "cell_type": "code",
   "execution_count": 24,
   "metadata": {},
   "outputs": [],
   "source": [
    "moves = np.array([1,5,3,5,1,2,1,4])"
   ]
  },
  {
   "cell_type": "code",
   "execution_count": 27,
   "metadata": {
    "scrolled": false
   },
   "outputs": [
    {
     "data": {
      "text/plain": [
       "array([0, 0, 1, 0, 3])"
      ]
     },
     "execution_count": 27,
     "metadata": {},
     "output_type": "execute_result"
    }
   ],
   "source": [
    "board[:][1]"
   ]
  },
  {
   "cell_type": "code",
   "execution_count": 40,
   "metadata": {},
   "outputs": [
    {
     "name": "stdout",
     "output_type": "stream",
     "text": [
      "4\n",
      "4\n"
     ]
    }
   ],
   "source": [
    "a = 3\n",
    "b = 3\n",
    "print(board[a,b])   # [열, 행]/ [열][행]\n",
    "print(board[a][b]) #둘은 결과가 같음을 확인!\n"
   ]
  },
  {
   "cell_type": "code",
   "execution_count": 52,
   "metadata": {},
   "outputs": [
    {
     "data": {
      "text/plain": [
       "1"
      ]
     },
     "execution_count": 52,
     "metadata": {},
     "output_type": "execute_result"
    }
   ],
   "source": [
    "colum_num = 4\n",
    "np.argmax(board[:,colum_num]>0)"
   ]
  },
  {
   "cell_type": "code",
   "execution_count": 11,
   "metadata": {},
   "outputs": [
    {
     "data": {
      "text/plain": [
       "array([[0, 0, 0, 0, 0],\n",
       "       [0, 0, 0, 0, 0],\n",
       "       [0, 0, 5, 0, 0],\n",
       "       [0, 2, 4, 0, 2],\n",
       "       [0, 5, 1, 3, 1]])"
      ]
     },
     "metadata": {},
     "output_type": "display_data"
    },
    {
     "data": {
      "text/plain": [
       "array([4., 3., 1., 1., 3., 2., 4.])"
      ]
     },
     "metadata": {},
     "output_type": "display_data"
    }
   ],
   "source": [
    "board = np.array([[0,0,0,0,0],\n",
    "                 [0,0,1,0,3],\n",
    "                 [0,2,5,0,1],\n",
    "                 [4,2,4,4,2],\n",
    "                 [3,5,1,3,1]])\n",
    "\n",
    "moves = np.array([1,5,3,5,1,2,1,4])\n",
    "\n",
    "temp_bucket = np.empty(0)\n",
    "\n",
    "for colum_num in moves:\n",
    "    col_index = colum_num-1\n",
    "    row_index = np.argmax(board[:,col_index]>0)\n",
    "    \n",
    "    get = board[row_index][col_index]\n",
    "    if get !=0:\n",
    "        temp_bucket = np.append(temp_bucket, get)\n",
    "        board[row_index][col_index] =0\n",
    "    else: pass\n",
    "    \n",
    "display(board)\n",
    "display(temp_bucket)"
   ]
  },
  {
   "cell_type": "code",
   "execution_count": 12,
   "metadata": {},
   "outputs": [],
   "source": [
    "\n",
    "answer=0\n",
    "\n",
    "def final_calculator(temp_bucket,first):\n",
    "    global answer\n",
    "    answer = first\n",
    "    temp_bucket = temp_bucket*2\n",
    "    cumdiv = np.divide.accumulate(temp_bucket)\n",
    "    \n",
    "    if ~(cumdiv==1).any():\n",
    "        duple_index = np.argmax(cumdiv==1)\n",
    "        temp_bucket = np.delete(temp_bucket, [duple_index-1,duple_index])\n",
    "        answer+= 2\n",
    "        temp_bucket = (temp_bucket/2).astype(int)\n",
    "        final_calculator(temp_bucket,answer)\n",
    "        \n",
    "    else: temp_bucket = (temp_bucket/2).astype(int)\n",
    "    \n",
    "    return temp_bucket,answer\n",
    "\n",
    "temp_bucket,answer =final_calculator(temp_bucket,0)\n"
   ]
  },
  {
   "cell_type": "code",
   "execution_count": 13,
   "metadata": {
    "scrolled": true
   },
   "outputs": [
    {
     "name": "stdout",
     "output_type": "stream",
     "text": [
      "4\n"
     ]
    }
   ],
   "source": [
    "print(answer)"
   ]
  },
  {
   "cell_type": "code",
   "execution_count": 29,
   "metadata": {},
   "outputs": [
    {
     "data": {
      "text/plain": [
       "array([1., 2., 1.])"
      ]
     },
     "execution_count": 29,
     "metadata": {},
     "output_type": "execute_result"
    }
   ],
   "source": [
    "temp_bucket = np.array([1,2,2]).astype(float)\n",
    "temtem_bucket = np.empty_like(temp_bucket)\n",
    "\n",
    "for i in range(len(temp_bucket)):\n",
    "    if i!=0: \n",
    "        temtem_bucket[i]=(temp_bucket[i]/temp_bucket[i-1])\n",
    "    else: pass \n",
    "temtem_bucket"
   ]
  },
  {
   "cell_type": "code",
   "execution_count": null,
   "metadata": {},
   "outputs": [],
   "source": []
  }
 ],
 "metadata": {
  "kernelspec": {
   "display_name": "Python 3",
   "language": "python",
   "name": "python3"
  },
  "language_info": {
   "codemirror_mode": {
    "name": "ipython",
    "version": 3
   },
   "file_extension": ".py",
   "mimetype": "text/x-python",
   "name": "python",
   "nbconvert_exporter": "python",
   "pygments_lexer": "ipython3",
   "version": "3.7.4"
  }
 },
 "nbformat": 4,
 "nbformat_minor": 2
}
