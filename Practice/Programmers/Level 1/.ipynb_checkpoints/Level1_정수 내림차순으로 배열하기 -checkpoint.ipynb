{
 "cells": [
  {
   "cell_type": "markdown",
   "metadata": {},
   "source": [
    "#### 문제 설명\n",
    "- 함수 solution은 정수 n을 매개변수로 입력받습니다. n의 각 자릿수를 큰것부터 작은 순으로 정렬한 새로운 정수를 리턴해주세요. 예를들어 n이 118372면 873211을 리턴하면 됩니다.\n",
    "\n",
    "#### 제한 조건\n",
    "- n은 1이상 8000000000 이하인 자연수입니다."
   ]
  },
  {
   "cell_type": "code",
   "execution_count": 12,
   "metadata": {},
   "outputs": [],
   "source": [
    "# 정확성  테스트\n",
    "# 테스트 1 〉\t통과 (0.02ms, 10.3MB)\n",
    "# 테스트 2 〉\t통과 (0.03ms, 10.4MB)\n",
    "# 테스트 3 〉\t통과 (0.02ms, 10.2MB)\n",
    "# 테스트 4 〉\t통과 (0.03ms, 10.2MB)\n",
    "# 테스트 5 〉\t통과 (0.02ms, 10.2MB)\n",
    "# 테스트 6 〉\t통과 (0.02ms, 10.3MB)\n",
    "# 테스트 7 〉\t통과 (0.02ms, 10.3MB)\n",
    "# 테스트 8 〉\t통과 (0.02ms, 10.2MB)\n",
    "# 테스트 9 〉\t통과 (0.03ms, 10.4MB)\n",
    "# 테스트 10 〉\t통과 (0.02ms, 10.2MB)\n",
    "# 테스트 11 〉\t통과 (0.02ms, 10.4MB)\n",
    "# 테스트 12 〉\t통과 (0.03ms, 10.3MB)\n",
    "# 테스트 13 〉\t통과 (0.03ms, 10.3MB)\n",
    "# 테스트 14 〉\t통과 (0.03ms, 10.2MB)\n",
    "# 테스트 15 〉\t통과 (0.02ms, 10.2MB)\n",
    "# 테스트 16 〉\t통과 (0.02ms, 10.2MB)"
   ]
  },
  {
   "cell_type": "code",
   "execution_count": 11,
   "metadata": {},
   "outputs": [
    {
     "data": {
      "text/plain": [
       "873211"
      ]
     },
     "execution_count": 11,
     "metadata": {},
     "output_type": "execute_result"
    }
   ],
   "source": [
    "def solution(n):\n",
    "    return int(\"\".join(sorted(list(str(n)), reverse=True)))\n",
    "\n",
    "solution(118372) #873211"
   ]
  }
 ],
 "metadata": {
  "kernelspec": {
   "display_name": "Python 3",
   "language": "python",
   "name": "python3"
  },
  "language_info": {
   "codemirror_mode": {
    "name": "ipython",
    "version": 3
   },
   "file_extension": ".py",
   "mimetype": "text/x-python",
   "name": "python",
   "nbconvert_exporter": "python",
   "pygments_lexer": "ipython3",
   "version": "3.7.4"
  }
 },
 "nbformat": 4,
 "nbformat_minor": 2
}
