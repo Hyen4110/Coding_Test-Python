{
 "cells": [
  {
   "cell_type": "markdown",
   "metadata": {},
   "source": [
    "#### 문제 설명\n",
    "- S사에서는 각 부서에 필요한 물품을 지원해 주기 위해 부서별로 물품을 구매하는데 필요한 금액을 조사했습니다. 그러나, 전체 예산이 정해져 있기 때문에 모든 부서의 물품을 구매해 줄 수는 없습니다. 그래서 최대한 많은 부서의 물품을 구매해 줄 수 있도록 하려고 합니다.\n",
    "\n",
    "- 물품을 구매해 줄 때는 각 부서가 신청한 금액만큼을 모두 지원해 줘야 합니다. 예를 들어 1,000원을 신청한 부서에는 정확히 1,000원을 지원해야 하며, 1,000원보다 적은 금액을 지원해 줄 수는 없습니다.\n",
    "\n",
    "- 부서별로 신청한 금액이 들어있는 배열 d와 예산 budget이 매개변수로 주어질 때, 최대 몇 개의 부서에 물품을 지원할 수 있는지 return 하도록 solution 함수를 완성해주세요.\n",
    "\n",
    "#### 제한사항\n",
    "- d는 부서별로 신청한 금액이 들어있는 배열이며, 길이(전체 부서의 개수)는 1 이상 100 이하입니다.\n",
    "- d의 각 원소는 부서별로 신청한 금액을 나타내며, 부서별 신청 금액은 1 이상 100,000 이하의 자연수입니다.\n",
    "- budget은 예산을 나타내며, 1 이상 10,000,000 이하의 자연수입니다.\n"
   ]
  },
  {
   "cell_type": "markdown",
   "metadata": {},
   "source": [
    "### 예외처리를 하지않아서 0이 나왔었음!"
   ]
  },
  {
   "cell_type": "code",
   "execution_count": null,
   "metadata": {},
   "outputs": [],
   "source": [
    "# 정확성  테스트\n",
    "# 테스트 1 〉\t통과 (0.05ms, 27.9MB)\n",
    "# 테스트 2 〉\t통과 (0.57ms, 27.8MB)\n",
    "# 테스트 3 〉\t통과 (0.87ms, 27.5MB)\n",
    "# 테스트 4 〉\t통과 (0.99ms, 27.8MB)\n",
    "# 테스트 5 〉\t통과 (1.40ms, 27.8MB)\n",
    "# 테스트 6 〉\t통과 (0.05ms, 27.8MB)\n",
    "# 테스트 7 〉\t통과 (0.07ms, 27.9MB)\n",
    "# 테스트 8 〉\t통과 (0.07ms, 27.8MB)\n",
    "# 테스트 9 〉\t통과 (0.07ms, 27.8MB)\n",
    "# 테스트 10 〉\t통과 (0.07ms, 27.9MB)\n",
    "# 테스트 11 〉\t통과 (0.06ms, 28MB)\n",
    "# 테스트 12 〉\t통과 (0.07ms, 27.6MB)\n",
    "# 테스트 13 〉\t통과 (0.07ms, 28.1MB)\n",
    "# 테스트 14 〉\t통과 (1.14ms, 27.7MB)\n",
    "# 테스트 15 〉\t통과 (0.98ms, 27.7MB)\n",
    "# 테스트 16 〉\t통과 (0.08ms, 27.7MB)\n",
    "# 테스트 17 〉\t통과 (0.07ms, 27.9MB)\n",
    "# 테스트 18 〉\t통과 (0.07ms, 27.7MB)\n",
    "# 테스트 19 〉\t통과 (0.06ms, 27.6MB)\n",
    "# 테스트 20 〉\t통과 (0.06ms, 27.7MB)\n",
    "# 테스트 21 〉\t통과 (0.06ms, 28MB)\n",
    "# 테스트 22 〉\t통과 (0.06ms, 27.7MB)\n",
    "# 테스트 23 〉\t통과 (0.06ms, 27.8MB)"
   ]
  },
  {
   "cell_type": "markdown",
   "metadata": {},
   "source": [
    "### 런타임 에러가 왜 떴을까?"
   ]
  },
  {
   "cell_type": "code",
   "execution_count": 19,
   "metadata": {},
   "outputs": [
    {
     "data": {
      "text/plain": [
       "0"
      ]
     },
     "execution_count": 19,
     "metadata": {},
     "output_type": "execute_result"
    }
   ],
   "source": [
    "import numpy as np\n",
    "def solution(d, budget):\n",
    "    d = np.cumsum(sorted(d))\n",
    "    try:\n",
    "        answer = int((np.where(d<=budget)[0]).argmax())+1\n",
    "    except:\n",
    "        answer= 0\n",
    "    return answer\n",
    "\n",
    "solution([1,3,2,5,4], 9) #3\n",
    "# solution([2,2,3,3], 10) #4\n",
    "solution([10],8)"
   ]
  },
  {
   "cell_type": "code",
   "execution_count": null,
   "metadata": {},
   "outputs": [],
   "source": [
    "# 정확성  테스트\n",
    "# 테스트 1 〉\t통과 (0.04ms, 27.9MB)\n",
    "# 테스트 2 〉\t통과 (0.04ms, 27.6MB)\n",
    "# 테스트 3 〉\t실패 (런타임 에러)\n",
    "# 테스트 4 〉\t통과 (0.05ms, 27.7MB)\n",
    "# 테스트 5 〉\t통과 (1.58ms, 28MB)\n",
    "# 테스트 6 〉\t통과 (0.05ms, 27.7MB)\n",
    "# 테스트 7 〉\t통과 (2.21ms, 27.8MB)\n",
    "# 테스트 8 〉\t통과 (0.07ms, 27.7MB)\n",
    "# 테스트 9 〉\t통과 (0.59ms, 28MB)\n",
    "# 테스트 10 〉\t통과 (1.31ms, 27.6MB)\n",
    "# 테스트 11 〉\t통과 (1.49ms, 27.7MB)\n",
    "# 테스트 12 〉\t통과 (0.07ms, 27.9MB)\n",
    "# 테스트 13 〉\t통과 (0.07ms, 27.9MB)\n",
    "# 테스트 14 〉\t통과 (0.06ms, 28MB)\n",
    "# 테스트 15 〉\t통과 (0.07ms, 27.9MB)\n",
    "# 테스트 16 〉\t통과 (1.25ms, 27.8MB)\n",
    "# 테스트 17 〉\t통과 (1.60ms, 28.1MB)\n",
    "# 테스트 18 〉\t통과 (0.07ms, 28.1MB)\n",
    "# 테스트 19 〉\t통과 (0.05ms, 27.9MB)\n",
    "# 테스트 20 〉\t통과 (0.06ms, 27.6MB)\n",
    "# 테스트 21 〉\t통과 (0.05ms, 27.9MB)\n",
    "# 테스트 22 〉\t통과 (0.06ms, 27.8MB)\n",
    "# 테스트 23 〉\t통과 (0.06ms, 27.9MB)"
   ]
  },
  {
   "cell_type": "code",
   "execution_count": 17,
   "metadata": {},
   "outputs": [
    {
     "data": {
      "text/plain": [
       "3"
      ]
     },
     "execution_count": 17,
     "metadata": {},
     "output_type": "execute_result"
    }
   ],
   "source": [
    "import numpy as np\n",
    "def solution(d, budget):\n",
    "    d = np.cumsum(sorted(d))\n",
    "    return int((np.where(d<=budget)[0]).argmax())+1\n",
    "\n",
    "solution([1,3,2,5,4], 9) #3\n",
    "# solution([2,2,3,3], 10) #4"
   ]
  },
  {
   "cell_type": "code",
   "execution_count": null,
   "metadata": {},
   "outputs": [],
   "source": []
  }
 ],
 "metadata": {
  "kernelspec": {
   "display_name": "Python 3",
   "language": "python",
   "name": "python3"
  },
  "language_info": {
   "codemirror_mode": {
    "name": "ipython",
    "version": 3
   },
   "file_extension": ".py",
   "mimetype": "text/x-python",
   "name": "python",
   "nbconvert_exporter": "python",
   "pygments_lexer": "ipython3",
   "version": "3.7.4"
  }
 },
 "nbformat": 4,
 "nbformat_minor": 2
}
