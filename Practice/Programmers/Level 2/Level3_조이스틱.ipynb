{
 "cells": [
  {
   "cell_type": "markdown",
   "metadata": {},
   "source": [
    "#### 문제 설명\n",
    "- 조이스틱으로 알파벳 이름을 완성하세요. 맨 처음엔 A로만 이루어져 있습니다.\n",
    "- ex) 완성해야 하는 이름이 세 글자면 AAA, 네 글자면 AAAA\n",
    "\n",
    "- 조이스틱을 각 방향으로 움직이면 아래와 같습니다.\n",
    "\n",
    "    ▲ - 다음 알파벳  \n",
    "    ▼ - 이전 알파벳 (A에서 아래쪽으로 이동하면 Z로)  \n",
    "    ◀ - 커서를 왼쪽으로 이동 (첫 번째 위치에서 왼쪽으로 이동하면 마지막 문자에 커서)  \n",
    "    ▶ - 커서를 오른쪽으로 이동  \n",
    "    \n",
    "\n",
    "- 예를 들어 아래의 방법으로 \"JAZ\"를 만들 수 있습니다.\n",
    "\n",
    "    - 첫 번째 위치에서 조이스틱을 위로 9번 조작하여 J를 완성합니다.\n",
    "    - 조이스틱을 왼쪽으로 1번 조작하여 커서를 마지막 문자 위치로 이동시킵니다.\n",
    "    - 마지막 위치에서 조이스틱을 아래로 1번 조작하여 Z를 완성합니다.\n",
    "    - 따라서 11번 이동시켜 \"JAZ\"를 만들 수 있고, 이때가 최소 이동입니다.\n",
    "\n",
    "- 만들고자 하는 이름 name이 매개변수로 주어질 때, 이름에 대해 조이스틱 조작 횟수의 최솟값을 return 하도록 solution 함수를 만드세요.\n",
    "\n",
    "#### 제한 사항\n",
    "- name은 알파벳 대문자로만 이루어져 있습니다.\n",
    "- name의 길이는 1 이상 20 이하입니다."
   ]
  },
  {
   "cell_type": "code",
   "execution_count": 13,
   "metadata": {},
   "outputs": [
    {
     "data": {
      "text/plain": [
       "9"
      ]
     },
     "execution_count": 13,
     "metadata": {},
     "output_type": "execute_result"
    }
   ],
   "source": [
    "def get_mkchar_count(char):\n",
    "    for_alpha = \"ABCDEFGHIJKLMNOPQRSTUVWXYZ\"\n",
    "    rev_alpha = for_alpha[::-1]\n",
    "    return min(for_alpha.find(char),rev_alpha.find(char)+1)\n",
    "\n",
    "get_mkchar_count(\"J\")"
   ]
  },
  {
   "cell_type": "code",
   "execution_count": 4,
   "metadata": {},
   "outputs": [
    {
     "data": {
      "text/plain": [
       "'ZYXWVUTSRQPONMLKJIHGFEDCBA'"
      ]
     },
     "execution_count": 4,
     "metadata": {},
     "output_type": "execute_result"
    }
   ],
   "source": [
    "\"\".join(list(\"ABCDEFGHIJKLMNOPQRSTUVWXYZ\")[::-1])"
   ]
  },
  {
   "cell_type": "code",
   "execution_count": 10,
   "metadata": {},
   "outputs": [
    {
     "name": "stdout",
     "output_type": "stream",
     "text": [
      "for_nota_idx <re.Match object; span=(0, 1), match='d'>\n",
      "rev_nota_idx <re.Match object; span=(1, 2), match='d'>\n"
     ]
    }
   ],
   "source": [
    "import re\n",
    "for_name = \"dddfcvadda\"\n",
    "rev_name = for_name[::-1]\n",
    "\n",
    "not_a_p = re.compile('[^a]')\n",
    "for_nota_idx = not_a_p.search(for_name)\n",
    "rev_nota_idx = not_a_p.search(rev_name)\n",
    "\n",
    "print(\"for_nota_idx\",for_nota_idx)\n",
    "print(\"rev_nota_idx\",rev_nota_idx)"
   ]
  },
  {
   "cell_type": "code",
   "execution_count": 56,
   "metadata": {},
   "outputs": [
    {
     "name": "stdout",
     "output_type": "stream",
     "text": [
      "앞으로 간다\n",
      "for_move 0\n",
      "for_name AAAJAAJAAAAAAAAAJAJAA\n",
      "rev_name AAJAJAAAAAAAAAJAAJAAA\n",
      "앞으로 간다\n",
      "for_move 3\n",
      "for_name AAAAAAJAAAAAAAAAJAJAA\n",
      "rev_name AAJAJAAAAAAAAAJAAAAAA\n",
      "앞으로 간다\n",
      "for_move 3\n",
      "for_name AAAAAAAAAAAAAAAAJAJAA\n",
      "rev_name AAJAJAAAAAAAAAAAAAAAA\n",
      "뒤로 간다\n",
      "back_move 9\n",
      "for_name AAAAAAAAAAAAAAAAJAAAA\n",
      "rev_name AAAAJAAAAAAAAAAAAAAAA\n",
      "앞으로 간다\n",
      "for_move 2\n",
      "for_name AAAAAAAAAAAAAAAAAAAAA\n",
      "rev_name AAAAAAAAAAAAAAAAAAAAA\n"
     ]
    },
    {
     "data": {
      "text/plain": [
       "62"
      ]
     },
     "execution_count": 56,
     "metadata": {},
     "output_type": "execute_result"
    }
   ],
   "source": [
    "import re\n",
    "def solution(name):\n",
    "    for_name, rev_name = name[:],name[::-1]\n",
    "    \n",
    "    def get_mkchar_count(char):\n",
    "        for_alpha = \"ABCDEFGHIJKLMNOPQRSTUVWXYZ\"\n",
    "        rev_alpha = for_alpha[::-1]\n",
    "        return min(for_alpha.find(char),rev_alpha.find(char)+1)\n",
    "    \n",
    "    answer = 0\n",
    "    now_index = 0\n",
    "    while True:\n",
    "        not_a_p = re.compile('[^A]')\n",
    "        for_nota_idx = not_a_p.search(for_name)\n",
    "        rev_nota_idx = not_a_p.search(rev_name)\n",
    "        if not for_nota_idx:\n",
    "            return answer\n",
    "        else:\n",
    "            for_nota_idx, rev_nota_idx = int(for_nota_idx.span()[0]), int(rev_nota_idx.span()[0])\n",
    "            if abs(now_index+rev_nota_idx+1)>len(name):\n",
    "                back_move = for_nota_idx+len(name)-now_index-1\n",
    "            else: back_move = abs(now_index+rev_nota_idx+1)\n",
    "            \n",
    "            if abs(now_index-for_nota_idx)>len(name):\n",
    "                for_move = rev_nota_idx+now_index\n",
    "            else: for_move = abs(now_index-for_nota_idx)\n",
    "                \n",
    "            if for_move <= back_move: # 같은 경우는 따로 생각지 않겠다\n",
    "                print(\"앞으로 간다\")\n",
    "                print(\"for_move\",for_move)\n",
    "                answer+=for_move+ get_mkchar_count(name[for_nota_idx])\n",
    "                now_index = for_nota_idx\n",
    "                \n",
    "                try:\n",
    "                    for_name = for_name[:for_nota_idx]+\"A\"+for_name[for_nota_idx+1:] \n",
    "                except:\n",
    "                    for_name = for_name[:for_nota_idx]+\"A\"\n",
    "                rev_name = for_name[::-1]\n",
    "            else:\n",
    "                print(\"뒤로 간다\")\n",
    "                print(\"back_move\",back_move)\n",
    "                answer+=back_move + get_mkchar_count(rev_name[rev_nota_idx])\n",
    "                now_index = len(name)-1-rev_nota_idx\n",
    "                try:\n",
    "                    rev_name = rev_name[:rev_nota_idx]+\"A\"+rev_name[rev_nota_idx+1:]\n",
    "                except:\n",
    "                    rev_name = rev_name[:rev_nota_idx]+\"A\"\n",
    "                for_name = rev_name[::-1]\n",
    "            print(\"for_name\",for_name)\n",
    "            print(\"rev_name\",rev_name)\n",
    "    return answer\n",
    "\n",
    "# solution(\"JEROEN\") #56\n",
    "# solution(\"JAN\") #23\n",
    "# solution(\"JAAAAMAM\")\n",
    "solution(\"JAAJAAJAAAAAAAAAJAJAA\")"
   ]
  },
  {
   "cell_type": "code",
   "execution_count": 51,
   "metadata": {},
   "outputs": [
    {
     "name": "stdout",
     "output_type": "stream",
     "text": [
      "now_index 0 뒤에서 20\n",
      "for_nota_idx <re.Match object; span=(0, 1), match='J'>\n",
      "rev_nota_idx <re.Match object; span=(2, 3), match='J'>\n",
      "앞으로 갈꺼냐 0\n",
      "뒤로 갈꺼냐 3\n",
      "for_name AAAJAAJAAAAAAAAAJAJAA rev_name AAJAJAAAAAAAAAJAAJAAA\n",
      "now_index 0 뒤에서 20\n",
      "for_nota_idx <re.Match object; span=(3, 4), match='J'>\n",
      "rev_nota_idx <re.Match object; span=(2, 3), match='J'>\n",
      "앞으로 갈꺼냐 3\n",
      "뒤로 갈꺼냐 3\n",
      "for_name AAAAAAJAAAAAAAAAJAJAA rev_name AAJAJAAAAAAAAAJAAAAAA\n",
      "now_index 3 뒤에서 17\n",
      "for_nota_idx <re.Match object; span=(6, 7), match='J'>\n",
      "rev_nota_idx <re.Match object; span=(2, 3), match='J'>\n",
      "앞으로 갈꺼냐 3\n",
      "뒤로 갈꺼냐 6\n",
      "for_name AAAAAAAAAAAAAAAAJAJAA rev_name AAJAJAAAAAAAAAAAAAAAA\n",
      "now_index 6 뒤에서 14\n",
      "for_nota_idx <re.Match object; span=(16, 17), match='J'>\n",
      "rev_nota_idx <re.Match object; span=(2, 3), match='J'>\n",
      "앞으로 갈꺼냐 10\n",
      "뒤로 갈꺼냐 9\n",
      "뒤로간다\n",
      "for_name AAAAAAAAAAAAAAAAJAAAA rev_name AAAAJAAAAAAAAAAAAAAAA\n",
      "now_index 18 뒤에서 2\n",
      "for_nota_idx <re.Match object; span=(16, 17), match='J'>\n",
      "rev_nota_idx <re.Match object; span=(4, 5), match='J'>\n",
      "앞으로 갈꺼냐 2\n",
      "뒤로 갈꺼냐 18\n",
      "for_name AAAAAAAAAAAAAAAAAAAAA rev_name AAAAAAAAAAAAAAAAAAAAA\n",
      "now_index 16 뒤에서 4\n",
      "for_nota_idx None\n",
      "rev_nota_idx None\n"
     ]
    },
    {
     "data": {
      "text/plain": [
       "62"
      ]
     },
     "execution_count": 51,
     "metadata": {},
     "output_type": "execute_result"
    }
   ],
   "source": [
    "import re\n",
    "def solution(name):\n",
    "    for_name, rev_name = name[:],name[::-1]\n",
    "    \n",
    "    def get_mkchar_count(char):\n",
    "        for_alpha = \"ABCDEFGHIJKLMNOPQRSTUVWXYZ\"\n",
    "        rev_alpha = for_alpha[::-1]\n",
    "        return min(for_alpha.find(char),rev_alpha.find(char)+1)\n",
    "    \n",
    "    answer = 0\n",
    "    now_index = 0\n",
    "    while True:\n",
    "        not_a_p = re.compile('[^A]')\n",
    "        for_nota_idx = not_a_p.search(for_name)\n",
    "        rev_nota_idx = not_a_p.search(rev_name)\n",
    "        print(\"now_index\",now_index,\"뒤에서\",len(name)-now_index-1)\n",
    "        print(\"for_nota_idx\",for_nota_idx)\n",
    "        print(\"rev_nota_idx\",rev_nota_idx)\n",
    "        if not for_nota_idx:\n",
    "            return answer\n",
    "        else:\n",
    "            for_nota_idx, rev_nota_idx = int(for_nota_idx.span()[0]), int(rev_nota_idx.span()[0])\n",
    "            print(\"앞으로 갈꺼냐\",abs(now_index-for_nota_idx))\n",
    "            \n",
    "            if abs(now_index+rev_nota_idx+1)>len(name):\n",
    "                back_move = for_nota_idx+len(name)-now_index-1\n",
    "            else:\n",
    "                back_move = abs(now_index+rev_nota_idx+1)\n",
    "            print(\"뒤로 갈꺼냐\",back_move)\n",
    "            if abs(now_index-for_nota_idx) <= back_move: # 같은 경우는 따로 생각지 않겠다\n",
    "                answer+=abs(now_index-for_nota_idx) + get_mkchar_count(name[for_nota_idx])\n",
    "                now_index = for_nota_idx\n",
    "                \n",
    "                try:\n",
    "                    for_name = for_name[:for_nota_idx]+\"A\"+for_name[for_nota_idx+1:] \n",
    "                except:\n",
    "                    for_name = for_name[:for_nota_idx]+\"A\"\n",
    "                rev_name = for_name[::-1]\n",
    "            else:\n",
    "                print(\"뒤로간다\")\n",
    "                answer+=back_move + get_mkchar_count(rev_name[rev_nota_idx])\n",
    "                now_index = len(name)-1-rev_nota_idx\n",
    "                try:\n",
    "                    rev_name = rev_name[:rev_nota_idx]+\"A\"+rev_name[rev_nota_idx+1:]\n",
    "                except:\n",
    "                    rev_name = rev_name[:rev_nota_idx]+\"A\"\n",
    "                for_name = rev_name[::-1]\n",
    "        print(\"for_name\",for_name, \"rev_name\",rev_name)\n",
    "    return answer\n",
    "\n",
    "# solution(\"JEROEN\") #56\n",
    "# solution(\"JAN\") #23\n",
    "# solution(\"JAAAAMAM\")\n",
    "# solution(\"JAAAAJAAAAAAAAAJAAA\")\n",
    "solution(\"JAAJAAJAAAAAAAAAJAJAA\")"
   ]
  },
  {
   "cell_type": "code",
   "execution_count": 52,
   "metadata": {},
   "outputs": [
    {
     "data": {
      "text/plain": [
       "21"
      ]
     },
     "execution_count": 52,
     "metadata": {},
     "output_type": "execute_result"
    }
   ],
   "source": [
    "len(\"JAAJAAJAAAAAAAAAJAJAA\")"
   ]
  },
  {
   "cell_type": "markdown",
   "metadata": {},
   "source": [
    "#### 11번 문제는 now_index를 거꾸로 찾은 index로 바꿔서 틀린거였다 "
   ]
  },
  {
   "cell_type": "code",
   "execution_count": null,
   "metadata": {},
   "outputs": [],
   "source": [
    "# 정확성  테스트\n",
    "# 테스트 1 〉\t통과 (0.69ms, 10.4MB)\n",
    "# 테스트 2 〉\t통과 (1.26ms, 10.4MB)\n",
    "# 테스트 3 〉\t통과 (0.09ms, 10.4MB)\n",
    "# 테스트 4 〉\t실패 (1.74ms, 10.4MB)\n",
    "# 테스트 5 〉\t통과 (0.13ms, 10.3MB)\n",
    "# 테스트 6 〉\t통과 (0.11ms, 10.4MB)\n",
    "# 테스트 7 〉\t실패 (0.13ms, 10.2MB)\n",
    "# 테스트 8 〉\t통과 (0.94ms, 10.4MB)\n",
    "# 테스트 9 〉\t통과 (0.70ms, 10.4MB)\n",
    "# 테스트 10 〉\t통과 (0.07ms, 10.4MB)\n",
    "# 테스트 11 〉\t통과 (0.10ms, 10.3MB)"
   ]
  },
  {
   "cell_type": "code",
   "execution_count": 19,
   "metadata": {
    "scrolled": true
   },
   "outputs": [
    {
     "data": {
      "text/plain": [
       "'ZYXWVUTSRQPONMLKJIHGFEDCBA'"
      ]
     },
     "execution_count": 19,
     "metadata": {},
     "output_type": "execute_result"
    }
   ],
   "source": [
    "import re\n",
    "def solution(name):\n",
    "    for_name, rev_name = name[:],name[::-1]\n",
    "    \n",
    "    def get_mkchar_count(char):\n",
    "        for_alpha = \"ABCDEFGHIJKLMNOPQRSTUVWXYZ\"\n",
    "        rev_alpha = for_alpha[::-1]\n",
    "        return min(for_alpha.find(char),rev_alpha.find(char)+1)\n",
    "    \n",
    "    answer = 0\n",
    "    now_index = 0\n",
    "    while True:\n",
    "        not_a_p = re.compile('[^A]')\n",
    "        for_nota_idx = not_a_p.search(for_name)\n",
    "        rev_nota_idx = not_a_p.search(rev_name)\n",
    "        \n",
    "        if not for_nota_idx:\n",
    "            return answer\n",
    "        else:\n",
    "            for_nota_idx, rev_nota_idx = int(for_nota_idx.span()[0]), int(rev_nota_idx.span()[0])\n",
    "            if abs(now_index-for_nota_idx) <= abs(now_index+rev_nota_idx+1): # 같은 경우는 따로 생각지 않겠다\n",
    "                answer+=abs(now_index-for_nota_idx) + get_mkchar_count(name[for_nota_idx])\n",
    "                now_index = for_nota_idx\n",
    "                \n",
    "                try:\n",
    "                    for_name = for_name[:for_nota_idx]+\"A\"+for_name[for_nota_idx+1:] \n",
    "                except:\n",
    "                    for_name = for_name[:for_nota_idx]+\"A\"\n",
    "                try:\n",
    "                    rev_name = rev_name[:len(name)-1-for_nota_idx]+\"A\"+rev_name[len(name)-for_nota_idx+1:]\n",
    "                except:\n",
    "                    rev_name = rev_name[:len(name)-1-for_nota_idx]+\"A\"\n",
    "            else:\n",
    "                answer+=abs(now_index+rev_nota_idx+1) + get_mkchar_count(rev_name[rev_nota_idx])\n",
    "                now_index = len(name)-1-rev_nota_idx\n",
    "                \n",
    "                try:\n",
    "                    for_name = for_name[:len(name)-1-rev_nota_idx]+\"A\"+for_name[len(name)-rev_nota_idx+1:] \n",
    "                except:\n",
    "                    for_name = for_name[:len(name)-1-rev_nota_idx]+\"A\"\n",
    "                try:\n",
    "                    rev_name = rev_name[:rev_nota_idx]+\"A\"+rev_name[rev_nota_idx+1:]\n",
    "                except:\n",
    "                    rev_name = rev_name[:rev_nota_idx]+\"A\"\n",
    "\n",
    "    return answer\n",
    "\n",
    "solution(\"JEROEN\") #56\n",
    "# solution(\"JAN\") #23\n"
   ]
  },
  {
   "cell_type": "code",
   "execution_count": 36,
   "metadata": {},
   "outputs": [
    {
     "data": {
      "text/plain": [
       "'bbb'"
      ]
     },
     "execution_count": 36,
     "metadata": {},
     "output_type": "execute_result"
    }
   ],
   "source": [
    "# 정확성  테스트\n",
    "# 테스트 1 〉\t통과 (0.10ms, 10.3MB)\n",
    "# 테스트 2 〉\t통과 (1.47ms, 10.2MB)\n",
    "# 테스트 3 〉\t통과 (1.12ms, 10.3MB)\n",
    "# 테스트 4 〉\t실패 (0.12ms, 10.3MB)\n",
    "# 테스트 5 〉\t통과 (1.13ms, 10.3MB)\n",
    "# 테스트 6 〉\t통과 (1.04ms, 10.4MB)\n",
    "# 테스트 7 〉\t실패 (1.05ms, 10.2MB)\n",
    "# 테스트 8 〉\t실패 (0.97ms, 10.3MB)\n",
    "# 테스트 9 〉\t통과 (1.54ms, 10.4MB)\n",
    "# 테스트 10 〉\t통과 (1.38ms, 10.3MB)\n",
    "# 테스트 11 〉\t실패 (0.09ms, 10.3MB)"
   ]
  },
  {
   "cell_type": "code",
   "execution_count": 3,
   "metadata": {},
   "outputs": [
    {
     "data": {
      "text/plain": [
       "56"
      ]
     },
     "execution_count": 3,
     "metadata": {},
     "output_type": "execute_result"
    }
   ],
   "source": [
    "import re\n",
    "def solution(name):\n",
    "    for_name, rev_name = name[:],name[::-1]\n",
    "    \n",
    "    def get_mkchar_count(char):\n",
    "        for_alpha = \"ABCDEFGHIJKLMNOPQRSTUVWXYZ\"\n",
    "        rev_alpha = for_alpha[::-1]\n",
    "        return min(for_alpha.find(char),rev_alpha.find(char)+1)\n",
    "    \n",
    "    answer = 0\n",
    "    now_index = 0\n",
    "    while True:\n",
    "        not_a_p = re.compile('[^A]')\n",
    "        for_nota_idx = not_a_p.search(for_name)\n",
    "        rev_nota_idx = not_a_p.search(rev_name)\n",
    "        \n",
    "        if not for_nota_idx:\n",
    "            return answer\n",
    "        else:\n",
    "            for_nota_idx, rev_nota_idx = int(for_nota_idx.span()[0]), int(rev_nota_idx.span()[0])\n",
    "            if abs(now_index-for_nota_idx) <= abs(now_index+rev_nota_idx+1): # 같은 경우는 따로 생각지 않겠다\n",
    "                answer+=abs(now_index-for_nota_idx) + get_mkchar_count(name[for_nota_idx])\n",
    "                now_index = for_nota_idx\n",
    "                \n",
    "                try:\n",
    "                    for_name = for_name[:for_nota_idx]+\"A\"+for_name[for_nota_idx+1:] \n",
    "                except:\n",
    "                    for_name = for_name[:for_nota_idx]+\"A\"\n",
    "                try:\n",
    "                    rev_name = rev_name[:len(name)-1-for_nota_idx]+\"A\"+rev_name[len(name)-for_nota_idx+1:]\n",
    "                except:\n",
    "                    rev_name = rev_name[:len(name)-1-for_nota_idx]+\"A\"\n",
    "            else:\n",
    "                answer+=abs(now_index+rev_nota_idx+1) + get_mkchar_count(rev_name[rev_nota_idx])\n",
    "                now_index = len(name)-1-rev_nota_idx\n",
    "                \n",
    "                try:\n",
    "                    for_name = for_name[:len(name)-1-rev_nota_idx]+\"A\"+for_name[len(name)-rev_nota_idx+1:] \n",
    "                except:\n",
    "                    for_name = for_name[:len(name)-1-rev_nota_idx]+\"A\"\n",
    "                try:\n",
    "                    rev_name = rev_name[:rev_nota_idx]+\"A\"+rev_name[rev_nota_idx+1:]\n",
    "                except:\n",
    "                    rev_name = rev_name[:rev_nota_idx]+\"A\"\n",
    "\n",
    "    return answer\n",
    "\n",
    "solution(\"JEROEN\") #56\n",
    "# solution(\"JAN\") #23\n"
   ]
  },
  {
   "cell_type": "code",
   "execution_count": 119,
   "metadata": {},
   "outputs": [
    {
     "name": "stdout",
     "output_type": "stream",
     "text": [
      "while문 시작 ==============================\n",
      "for_name JEROEN\n",
      "rev_name NEOREJ\n",
      "--------------------\n",
      "now_index 0\n",
      "now_char: J\n",
      "for_nota_idx 0\n",
      "rev_nota_idx 0\n",
      "앞에서 거리---->>> abs(now_index-for_nota_idx) 0\n",
      "뒤에서 거리---->>> abs(now_index+rev_nota_idx+1) 1\n",
      "앞에서 구한거리로 더한다\n",
      "abs(now_index-for_nota_idx) 0\n",
      "name[for_nota_idx] J\n",
      "get_mkchar_count(name[for_nota_idx] 9\n",
      "for_name AEROEN\n",
      "rev_name NEOREA\n",
      "while문 시작 ==============================\n",
      "for_name AEROEN\n",
      "rev_name NEOREA\n",
      "--------------------\n",
      "now_index 0\n",
      "now_char: J\n",
      "for_nota_idx 1\n",
      "rev_nota_idx 0\n",
      "앞에서 거리---->>> abs(now_index-for_nota_idx) 1\n",
      "뒤에서 거리---->>> abs(now_index+rev_nota_idx+1) 1\n",
      "앞에서 구한거리로 더한다\n",
      "abs(now_index-for_nota_idx) 0\n",
      "name[for_nota_idx] E\n",
      "get_mkchar_count(name[for_nota_idx] 4\n",
      "for_name AAROEN\n",
      "rev_name NEORA\n",
      "while문 시작 ==============================\n",
      "for_name AAROEN\n",
      "rev_name NEORA\n",
      "--------------------\n",
      "now_index 1\n",
      "now_char: E\n",
      "for_nota_idx 2\n",
      "rev_nota_idx 0\n",
      "앞에서 거리---->>> abs(now_index-for_nota_idx) 1\n",
      "뒤에서 거리---->>> abs(now_index+rev_nota_idx+1) 2\n",
      "앞에서 구한거리로 더한다\n",
      "abs(now_index-for_nota_idx) 0\n",
      "name[for_nota_idx] R\n",
      "get_mkchar_count(name[for_nota_idx] 9\n",
      "for_name AAAOEN\n",
      "rev_name NEOA\n",
      "while문 시작 ==============================\n",
      "for_name AAAOEN\n",
      "rev_name NEOA\n",
      "--------------------\n",
      "now_index 2\n",
      "now_char: R\n",
      "for_nota_idx 3\n",
      "rev_nota_idx 0\n",
      "앞에서 거리---->>> abs(now_index-for_nota_idx) 1\n",
      "뒤에서 거리---->>> abs(now_index+rev_nota_idx+1) 3\n",
      "앞에서 구한거리로 더한다\n",
      "abs(now_index-for_nota_idx) 0\n",
      "name[for_nota_idx] O\n",
      "get_mkchar_count(name[for_nota_idx] 12\n",
      "for_name AAAAEN\n",
      "rev_name NEA\n",
      "while문 시작 ==============================\n",
      "for_name AAAAEN\n",
      "rev_name NEA\n",
      "--------------------\n",
      "now_index 3\n",
      "now_char: O\n",
      "for_nota_idx 4\n",
      "rev_nota_idx 0\n",
      "앞에서 거리---->>> abs(now_index-for_nota_idx) 1\n",
      "뒤에서 거리---->>> abs(now_index+rev_nota_idx+1) 4\n",
      "앞에서 구한거리로 더한다\n",
      "abs(now_index-for_nota_idx) 0\n",
      "name[for_nota_idx] E\n",
      "get_mkchar_count(name[for_nota_idx] 4\n",
      "for_name AAAAAN\n",
      "rev_name NA\n",
      "while문 시작 ==============================\n",
      "for_name AAAAAN\n",
      "rev_name NA\n",
      "--------------------\n",
      "now_index 4\n",
      "now_char: E\n",
      "for_nota_idx 5\n",
      "rev_nota_idx 0\n",
      "앞에서 거리---->>> abs(now_index-for_nota_idx) 1\n",
      "뒤에서 거리---->>> abs(now_index+rev_nota_idx+1) 5\n",
      "앞에서 구한거리로 더한다\n",
      "abs(now_index-for_nota_idx) 0\n",
      "name[for_nota_idx] N\n",
      "get_mkchar_count(name[for_nota_idx] 13\n",
      "for_name AAAAAA\n",
      "rev_name A\n",
      "while문 시작 ==============================\n",
      "for_name AAAAAA\n",
      "rev_name A\n",
      "return한다!!!!!!!\n"
     ]
    },
    {
     "data": {
      "text/plain": [
       "56"
      ]
     },
     "execution_count": 119,
     "metadata": {},
     "output_type": "execute_result"
    }
   ],
   "source": [
    "import re\n",
    "def solution(name):\n",
    "    for_name, rev_name = name[:],name[::-1]\n",
    "    \n",
    "    def get_mkchar_count(char):\n",
    "        for_alpha = \"ABCDEFGHIJKLMNOPQRSTUVWXYZ\"\n",
    "        rev_alpha = alpha[::-1]\n",
    "        return min(for_alpha.find(char),rev_alpha.find(char)+1)\n",
    "    \n",
    "    answer = 0\n",
    "    now_index = 0\n",
    "    while True:\n",
    "        not_a_p = re.compile('[^A]')\n",
    "        print(\"while문 시작\",\"=\"*30)\n",
    "        print(\"for_name\",for_name)\n",
    "        print(\"rev_name\",rev_name)\n",
    "        \n",
    "        for_nota_idx = not_a_p.search(for_name)\n",
    "        rev_nota_idx = not_a_p.search(rev_name)\n",
    "#         print(\"다음 단어: \",for_name[int(for_nota_idx.span()[0])])\n",
    "        if not for_nota_idx:\n",
    "            print(\"return한다!!!!!!!\")\n",
    "            return answer\n",
    "        else:\n",
    "            for_nota_idx, rev_nota_idx = int(for_nota_idx.span()[0]), int(rev_nota_idx.span()[0])\n",
    "            print(\"-\"*20)\n",
    "            print(\"now_index\",now_index)\n",
    "            print(\"now_char:\",name[now_index])\n",
    "            print(\"for_nota_idx\" , for_nota_idx)\n",
    "            print(\"rev_nota_idx\" , rev_nota_idx)\n",
    "            \n",
    "            print(\"앞에서 거리---->>> abs(now_index-for_nota_idx)\",abs(now_index-for_nota_idx))\n",
    "            print(\"뒤에서 거리---->>> abs(now_index+rev_nota_idx+1)\",now_index+rev_nota_idx+1)\n",
    "            if abs(now_index-for_nota_idx) <= abs(now_index+rev_nota_idx+1): # 같은 경우는 따로 생각지 않겠다\n",
    "                print(\"앞에서 구한거리로 더한다\")\n",
    "                answer+=abs(now_index-for_nota_idx) + get_mkchar_count(name[for_nota_idx])\n",
    "                now_index = for_nota_idx\n",
    "                print(\"abs(now_index-for_nota_idx)\",abs(now_index-for_nota_idx))\n",
    "                print(\"name[for_nota_idx]\",name[for_nota_idx])\n",
    "                print(\"get_mkchar_count(name[for_nota_idx]\",get_mkchar_count(name[for_nota_idx]))\n",
    "                \n",
    "                try:\n",
    "                    for_name = for_name[:for_nota_idx]+\"A\"+for_name[for_nota_idx+1:] \n",
    "                except:\n",
    "                    for_name = for_name[:for_nota_idx]+\"A\"\n",
    "                try:\n",
    "                    rev_name = rev_name[:len(name)-1-for_nota_idx]+\"A\"+rev_name[len(name)-for_nota_idx+1:]\n",
    "                except:\n",
    "                    rev_name = rev_name[:len(name)-1-for_nota_idx]+\"A\"\n",
    "                print(\"for_name\",for_name)  \n",
    "                print(\"rev_name\",rev_name)\n",
    "            else:\n",
    "                print(\"뒤로왔다!_====\")\n",
    "                print(\"abs(now_index+rev_nota_idx+1)\",abs(now_index+rev_nota_idx+1))\n",
    "                print(\"get_mkchar_count(name[rev_nota_idx]\",get_mkchar_count(rev_name[rev_nota_idx]))\n",
    "                print(\"뒤에서 구한거리로 더한다\")\n",
    "                answer+=abs(now_index+rev_nota_idx+1) + get_mkchar_count(rev_name[rev_nota_idx])\n",
    "                now_index = rev_nota_idx\n",
    "                \n",
    "                try:\n",
    "                    for_name = for_name[:len(name)-1-rev_nota_idx]+\"A\"+for_name[len(name)-rev_nota_idx+1:] \n",
    "                except:\n",
    "                    for_name = for_name[:len(name)-1-rev_nota_idx]+\"A\"\n",
    "                try:\n",
    "                    rev_name = rev_name[:rev_nota_idx]+\"A\"+rev_name[rev_nota_idx+1:]\n",
    "                except:\n",
    "                    rev_name = rev_name[:rev_nota_idx]+\"A\"\n",
    "    \n",
    "\n",
    "    return answer\n",
    "\n",
    "solution(\"JEROEN\") #56\n",
    "# solution(\"JAN\") #23\n"
   ]
  },
  {
   "cell_type": "code",
   "execution_count": null,
   "metadata": {},
   "outputs": [],
   "source": []
  }
 ],
 "metadata": {
  "kernelspec": {
   "display_name": "Python 3",
   "language": "python",
   "name": "python3"
  },
  "language_info": {
   "codemirror_mode": {
    "name": "ipython",
    "version": 3
   },
   "file_extension": ".py",
   "mimetype": "text/x-python",
   "name": "python",
   "nbconvert_exporter": "python",
   "pygments_lexer": "ipython3",
   "version": "3.7.4"
  }
 },
 "nbformat": 4,
 "nbformat_minor": 2
}
