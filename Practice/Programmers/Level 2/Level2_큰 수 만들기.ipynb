{
 "cells": [
  {
   "cell_type": "markdown",
   "metadata": {},
   "source": [
    "### 제한 조건\n",
    "- number는 1자리 이상, 1,000,000자리 이하인 숫자입니다.\n",
    "- k는 1 이상 number의 자릿수 미만인 자연수입니다."
   ]
  },
  {
   "cell_type": "code",
   "execution_count": 6,
   "metadata": {},
   "outputs": [
    {
     "data": {
      "text/plain": [
       "10"
      ]
     },
     "execution_count": 6,
     "metadata": {},
     "output_type": "execute_result"
    }
   ],
   "source": [
    "number = '4177252841'\n",
    "len(number)"
   ]
  },
  {
   "cell_type": "code",
   "execution_count": 41,
   "metadata": {},
   "outputs": [
    {
     "name": "stdout",
     "output_type": "stream",
     "text": [
      "여기서 최대값찾자! [4 1 7 7 2]\n",
      "max_index 2\n",
      "max_value 7\n",
      "여기서 최대값찾자! [7 2 5]\n",
      "max_index 0\n",
      "max_value 7\n",
      "여기서 최대값찾자! [2 5 2]\n",
      "max_index 1\n",
      "max_value 5\n",
      "여기서 최대값찾자! [2 8]\n",
      "max_index 1\n",
      "max_value 8\n"
     ]
    },
    {
     "data": {
      "text/plain": [
       "'775841'"
      ]
     },
     "execution_count": 41,
     "metadata": {},
     "output_type": "execute_result"
    }
   ],
   "source": [
    "number = '4177252841'\n",
    "k=4\n",
    "\n",
    "import numpy as np\n",
    "\n",
    "def solution(number,k):\n",
    "    number_array = np.array([int(i) for i in str(number)])\n",
    "    remain_num = len(number_array)-k\n",
    "    answer = \"\"\n",
    "    \n",
    "    while (len(number_array)>remain_num) and (remain_num>0) : \n",
    "        if remain_num!=1:\n",
    "            print(\"여기서 최대값찾자!\",number_array[:-remain_num+1])\n",
    "            max_index = number_array[:-remain_num+1].argmax()\n",
    "            print(\"max_index\",max_index)\n",
    "            max_value = number_array[max_index]\n",
    "            print(\"max_value\",max_value)\n",
    "            answer+= str(max_value)\n",
    "\n",
    "            number_array = number_array[max_index+1:]\n",
    "            remain_num+=-1\n",
    "        else:\n",
    "            answer+= str(max(number_array))\n",
    "            return answer\n",
    "        \n",
    "\n",
    "            \n",
    "    remain = \"\".join(list(number_array.astype('str')))\n",
    "    answer+= remain    \n",
    "    return answer\n",
    "    \n",
    "solution(number,k)"
   ]
  },
  {
   "cell_type": "code",
   "execution_count": null,
   "metadata": {},
   "outputs": [],
   "source": [
    "number = '4177252841'\n",
    "k=4\n",
    "\n",
    "import numpy as np\n",
    "\n",
    "def solution(number,k):\n",
    "    number_array = np.array([int(i) for i in number])\n",
    "    remain_num = len(number_array)-k\n",
    "    answer = \"\"\n",
    "    \n",
    "    while (len(number_array)!=remain_num) and (remain_num>0) : \n",
    "        if remain_num!=1:\n",
    "            max_index = number_array[:-remain_num+1].argmax()\n",
    "            max_value = number_array[max_index]\n",
    "            answer+= str(max_value)\n",
    "\n",
    "            number_array = number_array[max_index+1:]\n",
    "            remain_num+=-1\n",
    "        else:\n",
    "            answer+= str(max(number_array))\n",
    "            return answer\n",
    "        \n",
    "    remain = \"\".join(list(number_array.astype('str')))\n",
    "    answer+= remain    \n",
    "    return answer\n",
    "    \n",
    "solution(number,k)"
   ]
  },
  {
   "cell_type": "markdown",
   "metadata": {},
   "source": [
    "### 우수답안"
   ]
  },
  {
   "cell_type": "code",
   "execution_count": 67,
   "metadata": {},
   "outputs": [
    {
     "name": "stdout",
     "output_type": "stream",
     "text": [
      "--------while문 종료(바꿀 숫자 아님)\n",
      "appended stack ['4']\n",
      "for문 종료------------------\n",
      "--------while문 종료(바꿀 숫자 아님)\n",
      "appended stack ['4', '1']\n",
      "for문 종료------------------\n",
      "--------while문 진입(바꿀 숫자발견)\n",
      "stack의 마지막 숫자 1 < 새롭게 비교할숫자 7\n",
      "남은 k:  4\n",
      "버린 후 stack ['4']\n",
      "--------while문 진입(바꿀 숫자발견)\n",
      "stack의 마지막 숫자 4 < 새롭게 비교할숫자 7\n",
      "남은 k:  3\n",
      "버린 후 stack []\n",
      "--------while문 종료(바꿀 숫자 아님)\n",
      "appended stack ['7']\n",
      "for문 종료------------------\n",
      "--------while문 종료(바꿀 숫자 아님)\n",
      "appended stack ['7', '7']\n",
      "for문 종료------------------\n",
      "--------while문 종료(바꿀 숫자 아님)\n",
      "appended stack ['7', '7', '2']\n",
      "for문 종료------------------\n",
      "--------while문 진입(바꿀 숫자발견)\n",
      "stack의 마지막 숫자 2 < 새롭게 비교할숫자 5\n",
      "남은 k:  2\n",
      "버린 후 stack ['7', '7']\n",
      "--------while문 종료(바꿀 숫자 아님)\n",
      "appended stack ['7', '7', '5']\n",
      "for문 종료------------------\n",
      "--------while문 종료(바꿀 숫자 아님)\n",
      "appended stack ['7', '7', '5', '2']\n",
      "for문 종료------------------\n",
      "--------while문 진입(바꿀 숫자발견)\n",
      "stack의 마지막 숫자 2 < 새롭게 비교할숫자 8\n",
      "남은 k:  1\n",
      "버린 후 stack ['7', '7', '5']\n",
      "--------while문 종료(바꿀 숫자 아님)\n",
      "appended stack ['7', '7', '5', '8']\n",
      "for문 종료------------------\n",
      "--------while문 종료(바꿀 숫자 아님)\n",
      "appended stack ['7', '7', '5', '8', '4']\n",
      "for문 종료------------------\n",
      "--------while문 종료(바꿀 숫자 아님)\n",
      "appended stack ['7', '7', '5', '8', '4', '1']\n",
      "for문 종료------------------\n"
     ]
    },
    {
     "data": {
      "text/plain": [
       "'775841'"
      ]
     },
     "execution_count": 67,
     "metadata": {},
     "output_type": "execute_result"
    }
   ],
   "source": [
    "number = '4177252841'\n",
    "k=4\n",
    "\n",
    "def solution(number, k):\n",
    "    stack = []\n",
    "    for num in number:\n",
    "        #모은 stack에서 아웃시킬 조건!\n",
    "        while len(stack) > 0 and stack[-1] < num and k > 0:\n",
    "            print(\"--------while문 진입(바꿀 숫자발견)\")\n",
    "            print(\"stack의 마지막 숫자\",stack[-1],\"< 새롭게 비교할숫자\",num)\n",
    "            print(\"남은 k: \",k)\n",
    "            k -= 1\n",
    "            stack.pop()\n",
    "            print(\"버린 후 stack\",stack)\n",
    "            \n",
    "            \n",
    "        print(\"--------while문 종료(바꿀 숫자 아님)\")\n",
    "        stack.append(num)\n",
    "        \n",
    "        print(\"appended stack\",stack)\n",
    "        print(\"for문 종료------------------\")\n",
    "    if k != 0:\n",
    "        stack = stack[:-k]\n",
    "    return ''.join(stack)\n",
    "\n",
    "solution(number, k)"
   ]
  },
  {
   "cell_type": "code",
   "execution_count": 45,
   "metadata": {},
   "outputs": [
    {
     "data": {
      "text/plain": [
       "'775841'"
      ]
     },
     "execution_count": 45,
     "metadata": {},
     "output_type": "execute_result"
    }
   ],
   "source": [
    "number = '4177252841'\n",
    "k=4\n",
    "\n",
    "def solution(number, k):\n",
    "    stack = [number[0]]\n",
    "    for num in number[1:]:\n",
    "        while len(stack) > 0 and stack[-1] < num and k > 0:\n",
    "            k -= 1\n",
    "            stack.pop()\n",
    "        stack.append(num)\n",
    "    if k != 0:\n",
    "        stack = stack[:-k]\n",
    "    return ''.join(stack)\n",
    "\n",
    "solution(number, k)"
   ]
  },
  {
   "cell_type": "code",
   "execution_count": 11,
   "metadata": {
    "scrolled": true
   },
   "outputs": [
    {
     "ename": "ValueError",
     "evalue": "attempt to get argmax of an empty sequence",
     "output_type": "error",
     "traceback": [
      "\u001b[1;31m---------------------------------------------------------------------------\u001b[0m",
      "\u001b[1;31mValueError\u001b[0m                                Traceback (most recent call last)",
      "\u001b[1;32m<ipython-input-11-bfeab95af574>\u001b[0m in \u001b[0;36m<module>\u001b[1;34m\u001b[0m\n\u001b[0;32m     22\u001b[0m     \u001b[1;32mreturn\u001b[0m \u001b[0manswer\u001b[0m\u001b[1;33m\u001b[0m\u001b[1;33m\u001b[0m\u001b[0m\n\u001b[0;32m     23\u001b[0m \u001b[1;33m\u001b[0m\u001b[0m\n\u001b[1;32m---> 24\u001b[1;33m \u001b[0msolution\u001b[0m\u001b[1;33m(\u001b[0m\u001b[0mnumber\u001b[0m\u001b[1;33m,\u001b[0m\u001b[0mk\u001b[0m\u001b[1;33m)\u001b[0m\u001b[1;33m\u001b[0m\u001b[1;33m\u001b[0m\u001b[0m\n\u001b[0m",
      "\u001b[1;32m<ipython-input-11-bfeab95af574>\u001b[0m in \u001b[0;36msolution\u001b[1;34m(number, k)\u001b[0m\n\u001b[0;32m     10\u001b[0m \u001b[1;33m\u001b[0m\u001b[0m\n\u001b[0;32m     11\u001b[0m     \u001b[1;32mwhile\u001b[0m \u001b[0mlen\u001b[0m\u001b[1;33m(\u001b[0m\u001b[0mnumber_array\u001b[0m\u001b[1;33m)\u001b[0m\u001b[1;33m>\u001b[0m\u001b[0mdigit_num\u001b[0m\u001b[1;33m:\u001b[0m\u001b[1;33m\u001b[0m\u001b[1;33m\u001b[0m\u001b[0m\n\u001b[1;32m---> 12\u001b[1;33m         \u001b[0mmax_index\u001b[0m \u001b[1;33m=\u001b[0m \u001b[0mnumber_array\u001b[0m\u001b[1;33m[\u001b[0m\u001b[1;33m:\u001b[0m\u001b[1;33m-\u001b[0m\u001b[0mdigit_num\u001b[0m\u001b[1;33m+\u001b[0m\u001b[1;36m1\u001b[0m\u001b[1;33m]\u001b[0m\u001b[1;33m.\u001b[0m\u001b[0margmax\u001b[0m\u001b[1;33m(\u001b[0m\u001b[1;33m)\u001b[0m\u001b[1;33m\u001b[0m\u001b[1;33m\u001b[0m\u001b[0m\n\u001b[0m\u001b[0;32m     13\u001b[0m         \u001b[0mmax_value\u001b[0m \u001b[1;33m=\u001b[0m \u001b[0mnumber_array\u001b[0m\u001b[1;33m[\u001b[0m\u001b[0mmax_index\u001b[0m\u001b[1;33m]\u001b[0m\u001b[1;33m\u001b[0m\u001b[1;33m\u001b[0m\u001b[0m\n\u001b[0;32m     14\u001b[0m         \u001b[0manswer\u001b[0m\u001b[1;33m+=\u001b[0m \u001b[0mstr\u001b[0m\u001b[1;33m(\u001b[0m\u001b[0mmax_value\u001b[0m\u001b[1;33m)\u001b[0m\u001b[1;33m\u001b[0m\u001b[1;33m\u001b[0m\u001b[0m\n",
      "\u001b[1;31mValueError\u001b[0m: attempt to get argmax of an empty sequence"
     ]
    }
   ],
   "source": [
    "number = '1924'\n",
    "k=2\n",
    "\n",
    "import numpy as np\n",
    "\n",
    "def solution(number,k):\n",
    "    number_array = np.array([i for i in str(number)])\n",
    "    digit_num = len(number_array)-k\n",
    "    answer = \"\"\n",
    "    \n",
    "    while len(number_array)>digit_num: \n",
    "        max_index = number_array[:-digit_num+1].argmax()\n",
    "        max_value = number_array[max_index]\n",
    "        answer+= str(max_value)\n",
    "        \n",
    "        number_array = number_array[max_index+1:]\n",
    "        digit_num+=-1\n",
    "    \n",
    "    remain = \"\".join(list(number_array))\n",
    "    answer+= remain\n",
    "    \n",
    "    return answer\n",
    "    \n",
    "solution(number,k)"
   ]
  },
  {
   "cell_type": "code",
   "execution_count": 85,
   "metadata": {},
   "outputs": [
    {
     "name": "stdout",
     "output_type": "stream",
     "text": [
      "[1 2 3 4 5 5 4 4 3]\n",
      "4\n",
      "5\n",
      "[5 5 4 4 3]\n"
     ]
    }
   ],
   "source": [
    "number = '123455443'\n",
    "k=4\n",
    "number_array = np.array([int(i) for i in str(number)])\n",
    "print(number_array)\n",
    "\n",
    "max_index = number_array[:-k].argmax()\n",
    "max_value = number_array[max_idx]\n",
    "final_num_str+= str(max_value)\n",
    "\n",
    "number_array = number_array[max_index:]\n",
    "\n",
    "print(max_index)\n",
    "print(max_value)\n",
    "print(number_array)"
   ]
  },
  {
   "cell_type": "code",
   "execution_count": 42,
   "metadata": {},
   "outputs": [
    {
     "data": {
      "text/plain": [
       "array('123455443', dtype='<U9')"
      ]
     },
     "execution_count": 42,
     "metadata": {},
     "output_type": "execute_result"
    }
   ],
   "source": [
    "\n",
    "num_digit = len(str(number))-k\n",
    "array_str = np.array([int(i) for i in str(number)])\n",
    "top_k = []"
   ]
  },
  {
   "cell_type": "code",
   "execution_count": null,
   "metadata": {},
   "outputs": [],
   "source": [
    "import numpy as np\n",
    "\n",
    "def solution(number,k ):\n",
    "   \n",
    "    return answer"
   ]
  },
  {
   "cell_type": "code",
   "execution_count": 30,
   "metadata": {},
   "outputs": [
    {
     "data": {
      "text/plain": [
       "'877544'"
      ]
     },
     "execution_count": 30,
     "metadata": {},
     "output_type": "execute_result"
    }
   ],
   "source": [
    "## 문제를 잘못이해함! \n",
    "## -> 최대값 2개를 뽑아서 만들면된다고 생각했는데, 순서를 유지해야함!\n",
    "\n",
    "import numpy as np\n",
    "\n",
    "def solution(number,k):\n",
    "    \n",
    "    num_digit = len(str(number))-k\n",
    "    array_str = np.array([int(i) for i in str(number)])\n",
    "    top_k = []\n",
    "    \n",
    "    for i in range(num_digit):\n",
    "        max_idx = np.argmax(array_str)\n",
    "        max = array_str[max_idx]\n",
    "        top_k.append(str(max))\n",
    "        array_str = np.delete(array_str,max_idx)\n",
    "    \n",
    "    answer= \"\".join(top_k)\n",
    "    return answer\n",
    "\n",
    "solution(4177252841, 4)"
   ]
  },
  {
   "cell_type": "code",
   "execution_count": null,
   "metadata": {},
   "outputs": [],
   "source": [
    "import numpy as np\n",
    "\n",
    "def solution(number,k):\n",
    "    number_array = np.array([int(i) for i in number])\n",
    "    remain_num = len(number_array)-k\n",
    "    answer = \"\"\n",
    "    \n",
    "    while (len(number_array)!=remain_num) and (remain_num>0) : \n",
    "        if remain_num!=1:\n",
    "            max_index = number_array[:-remain_num+1].argmax()\n",
    "            max_value = number_array[max_index]\n",
    "            answer+= str(max_value)\n",
    "\n",
    "            number_array = number_array[max_index+1:]\n",
    "            remain_num+=-1\n",
    "        else:\n",
    "            answer+= str(max(number_array))\n",
    "            return answer\n",
    "        \n",
    "    remain = \"\".join(list(number_array.astype('str')))\n",
    "    answer+= remain    \n",
    "    return answer"
   ]
  },
  {
   "cell_type": "code",
   "execution_count": null,
   "metadata": {},
   "outputs": [],
   "source": [
    "def solution(number, k):\n",
    "    answer = ''\n",
    "    return answer"
   ]
  }
 ],
 "metadata": {
  "kernelspec": {
   "display_name": "Python 3",
   "language": "python",
   "name": "python3"
  },
  "language_info": {
   "codemirror_mode": {
    "name": "ipython",
    "version": 3
   },
   "file_extension": ".py",
   "mimetype": "text/x-python",
   "name": "python",
   "nbconvert_exporter": "python",
   "pygments_lexer": "ipython3",
   "version": "3.7.4"
  }
 },
 "nbformat": 4,
 "nbformat_minor": 2
}
