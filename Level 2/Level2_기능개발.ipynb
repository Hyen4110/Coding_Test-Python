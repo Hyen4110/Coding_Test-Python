{
 "cells": [
  {
   "cell_type": "markdown",
   "metadata": {},
   "source": [
    "#### 문제 설명\n",
    "- 프로그래머스 팀에서는 기능 개선 작업을 수행 중입니다. 각 기능은 진도가 100%일 때 서비스에 반영할 수 있습니다.\n",
    "\n",
    "- 또, 각 기능의 개발속도는 모두 다르기 때문에 뒤에 있는 기능이 앞에 있는 기능보다 먼저 개발될 수 있고, 이때 뒤에 있는 기능은 앞에 있는 기능이 배포될 때 함께 배포됩니다.\n",
    "\n",
    "- 먼저 배포되어야 하는 순서대로 작업의 진도가 적힌 정수 배열 progresses와 각 작업의 개발 속도가 적힌 정수 배열 speeds가 주어질 때 각 배포마다 몇 개의 기능이 배포되는지를 return 하도록 solution 함수를 완성하세요.\n",
    "\n",
    "#### 제한 사항\n",
    "- 작업의 개수(progresses, speeds배열의 길이)는 100개 이하입니다.\n",
    "- 작업 진도는 100 미만의 자연수입니다.\n",
    "- 작업 속도는 100 이하의 자연수입니다.\n",
    "- 배포는 하루에 한 번만 할 수 있으며, 하루의 끝에 이루어진다고 가정합니다. 예를 들어 진도율이 95%인 작업의 개발 속도가 하루에 4%라면 배포는 2일 뒤에 이루어집니다."
   ]
  },
  {
   "cell_type": "code",
   "execution_count": 4,
   "metadata": {},
   "outputs": [
    {
     "name": "stdout",
     "output_type": "stream",
     "text": [
      "progresses [93 30 55]\n",
      "remain_progress [ 7 70 45]\n"
     ]
    }
   ],
   "source": [
    "# 정확성  테스트\n",
    "# 테스트 1 〉\t통과 (1.19ms, 27.6MB)\n",
    "# 테스트 2 〉\t통과 (1.83ms, 27.7MB)\n",
    "# 테스트 3 〉\t통과 (1.80ms, 27.8MB)\n",
    "# 테스트 4 〉\t통과 (1.72ms, 27.5MB)\n",
    "# 테스트 5 〉\t통과 (0.30ms, 27.8MB)\n",
    "# 테스트 6 〉\t통과 (2.32ms, 27.4MB)\n",
    "# 테스트 7 〉\t통과 (1.96ms, 27.8MB)\n",
    "# 테스트 8 〉\t통과 (5.00ms, 27.2MB)\n",
    "# 테스트 9 〉\t통과 (1.35ms, 27.8MB)\n",
    "# 테스트 10 〉\t통과 (1.58ms, 27.4MB)\n",
    "# 테스트 11 〉\t통과 (1.54ms, 27.3MB)"
   ]
  },
  {
   "cell_type": "code",
   "execution_count": 20,
   "metadata": {},
   "outputs": [
    {
     "data": {
      "text/plain": [
       "[1, 3, 2]"
      ]
     },
     "execution_count": 20,
     "metadata": {},
     "output_type": "execute_result"
    }
   ],
   "source": [
    "import numpy as np\n",
    "def solution(progresses, speeds):\n",
    "    progresses, speeds = np.array(progresses), np.array(speeds)\n",
    "\n",
    "    def get_next(progresses, speeds):\n",
    "        remain_progress = list(100 - progresses) #남은 작업량\n",
    "        work_days = list(np.ceil(remain_progress/speeds)) #남은 일수\n",
    "        pass_line = work_days[0]\n",
    "\n",
    "        pass_cnt=0\n",
    "        while work_days and work_days[0]<=pass_line:\n",
    "            work_days.pop(0)\n",
    "            remain_progress.pop(0)\n",
    "            pass_cnt+=1\n",
    "            \n",
    "        return pass_cnt\n",
    "    \n",
    "    answer =[]\n",
    "    while len(progresses)>0:\n",
    "        pass_cnt = get_next(progresses, speeds)\n",
    "        progresses = progresses[pass_cnt:]\n",
    "        speeds = speeds[pass_cnt:]\n",
    "        answer.append(pass_cnt)\n",
    "\n",
    "    return answer\n",
    "\n",
    "# solution([93, 30, 55], [1, 30, 5]) #[2, 1]\n",
    "solution([95, 90, 99, 99, 80, 99], [1, 1, 1, 1, 1, 1]) #[1, 3, 2]"
   ]
  }
 ],
 "metadata": {
  "kernelspec": {
   "display_name": "Python 3",
   "language": "python",
   "name": "python3"
  },
  "language_info": {
   "codemirror_mode": {
    "name": "ipython",
    "version": 3
   },
   "file_extension": ".py",
   "mimetype": "text/x-python",
   "name": "python",
   "nbconvert_exporter": "python",
   "pygments_lexer": "ipython3",
   "version": "3.7.4"
  }
 },
 "nbformat": 4,
 "nbformat_minor": 2
}
