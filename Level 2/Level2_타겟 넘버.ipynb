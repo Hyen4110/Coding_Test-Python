{
 "cells": [
  {
   "cell_type": "markdown",
   "metadata": {},
   "source": [
    "#### 문제 설명\n",
    "= n개의 음이 아닌 정수가 있습니다. 이 수를 적절히 더하거나 빼서 타겟 넘버를 만들려고 합니다. 예를 들어 [1, 1, 1, 1, 1]로 숫자 3을 만들려면 다음 다섯 방법을 쓸 수 있습니다.\n",
    "\n",
    "    -1+1+1+1+1 = 3\n",
    "    +1-1+1+1+1 = 3\n",
    "    +1+1-1+1+1 = 3\n",
    "    +1+1+1-1+1 = 3\n",
    "    +1+1+1+1-1 = 3\n",
    "- 사용할 수 있는 숫자가 담긴 배열 numbers, 타겟 넘버 target이 매개변수로 주어질 때 숫자를 적절히 더하고 빼서 타겟 넘버를 만드는 방법의 수를 return 하도록 solution 함수를 작성해주세요.\n",
    "\n",
    "#### 제한사항\n",
    "- 주어지는 숫자의 개수는 2개 이상 20개 이하입니다.\n",
    "- 각 숫자는 1 이상 50 이하인 자연수입니다.\n",
    "- 타겟 넘버는 1 이상 1000 이하인 자연수입니다."
   ]
  },
  {
   "cell_type": "markdown",
   "metadata": {},
   "source": [
    "## DFS로 풀어보자"
   ]
  },
  {
   "cell_type": "code",
   "execution_count": 4,
   "metadata": {},
   "outputs": [
    {
     "name": "stdout",
     "output_type": "stream",
     "text": [
      "{0: [], 2: [3, -3], -2: [3, -3], 3: [5, -5], -3: [5, -5]}\n"
     ]
    }
   ],
   "source": [
    "graph= {0: []}\n",
    "numbers= [2,3,5]\n",
    "\n",
    "for i in range(len(numbers)-1):\n",
    "    graph[numbers[i]] = [numbers[i+1], -numbers[i+1]]\n",
    "    graph[-numbers[i]] = [numbers[i+1], -numbers[i+1]]\n",
    "\n",
    "print(graph)"
   ]
  },
  {
   "cell_type": "code",
   "execution_count": 17,
   "metadata": {},
   "outputs": [
    {
     "name": "stdout",
     "output_type": "stream",
     "text": [
      "{0: [1, -1], 1: [1, -1], 2: [1, -1], 3: [1, -1], 4: [1, -1]}\n"
     ]
    },
    {
     "name": "stderr",
     "output_type": "stream",
     "text": [
      "ERROR:root:Internal Python error in the inspect module.\n",
      "Below is the traceback from this internal error.\n",
      "\n"
     ]
    },
    {
     "name": "stdout",
     "output_type": "stream",
     "text": [
      "Traceback (most recent call last):\n",
      "  File \"C:\\Users\\heian\\Anaconda3\\lib\\site-packages\\IPython\\core\\interactiveshell.py\", line 3326, in run_code\n",
      "    exec(code_obj, self.user_global_ns, self.user_ns)\n",
      "  File \"<ipython-input-17-52218ba972ce>\", line 22, in <module>\n",
      "    solution([1, 1, 1, 1, 1],3) #5\n",
      "  File \"<ipython-input-17-52218ba972ce>\", line 18, in solution\n",
      "    recursive_dfs(0)\n",
      "  File \"<ipython-input-17-52218ba972ce>\", line 13, in recursive_dfs\n",
      "    discovered = recursive_dfs(v,discovered)\n",
      "  File \"<ipython-input-17-52218ba972ce>\", line 13, in recursive_dfs\n",
      "    discovered = recursive_dfs(v,discovered)\n",
      "  File \"<ipython-input-17-52218ba972ce>\", line 13, in recursive_dfs\n",
      "    discovered = recursive_dfs(v,discovered)\n",
      "  [Previous line repeated 2956 more times]\n",
      "  File \"<ipython-input-17-52218ba972ce>\", line 9, in recursive_dfs\n",
      "    discovered.append(v)\n",
      "RecursionError: maximum recursion depth exceeded while calling a Python object\n",
      "\n",
      "During handling of the above exception, another exception occurred:\n",
      "\n",
      "Traceback (most recent call last):\n",
      "  File \"C:\\Users\\heian\\Anaconda3\\lib\\site-packages\\IPython\\core\\interactiveshell.py\", line 2040, in showtraceback\n",
      "    stb = value._render_traceback_()\n",
      "AttributeError: 'RecursionError' object has no attribute '_render_traceback_'\n",
      "\n",
      "During handling of the above exception, another exception occurred:\n",
      "\n",
      "Traceback (most recent call last):\n",
      "  File \"C:\\Users\\heian\\Anaconda3\\lib\\genericpath.py\", line 19, in exists\n",
      "    os.stat(path)\n",
      "OSError: [WinError 123] 파일 이름, 디렉터리 이름 또는 볼륨 레이블 구문이 잘못되었습니다: '<ipython-input-17-52218ba972ce>'\n",
      "\n",
      "During handling of the above exception, another exception occurred:\n",
      "\n",
      "Traceback (most recent call last):\n",
      "  File \"C:\\Users\\heian\\Anaconda3\\lib\\site-packages\\IPython\\core\\ultratb.py\", line 1101, in get_records\n",
      "    return _fixed_getinnerframes(etb, number_of_lines_of_context, tb_offset)\n",
      "  File \"C:\\Users\\heian\\Anaconda3\\lib\\site-packages\\IPython\\core\\ultratb.py\", line 319, in wrapped\n",
      "    return f(*args, **kwargs)\n",
      "  File \"C:\\Users\\heian\\Anaconda3\\lib\\site-packages\\IPython\\core\\ultratb.py\", line 353, in _fixed_getinnerframes\n",
      "    records = fix_frame_records_filenames(inspect.getinnerframes(etb, context))\n",
      "  File \"C:\\Users\\heian\\Anaconda3\\lib\\inspect.py\", line 1502, in getinnerframes\n",
      "    frameinfo = (tb.tb_frame,) + getframeinfo(tb, context)\n",
      "  File \"C:\\Users\\heian\\Anaconda3\\lib\\inspect.py\", line 1460, in getframeinfo\n",
      "    filename = getsourcefile(frame) or getfile(frame)\n",
      "  File \"C:\\Users\\heian\\Anaconda3\\lib\\inspect.py\", line 693, in getsourcefile\n",
      "    if os.path.exists(filename):\n",
      "  File \"C:\\Users\\heian\\Anaconda3\\lib\\genericpath.py\", line 19, in exists\n",
      "    os.stat(path)\n",
      "KeyboardInterrupt\n"
     ]
    },
    {
     "ename": "RecursionError",
     "evalue": "maximum recursion depth exceeded while calling a Python object",
     "output_type": "error",
     "traceback": [
      "\u001b[1;31m---------------------------------------------------------------------------\u001b[0m"
     ]
    }
   ],
   "source": [
    "def solution(numbers, target):\n",
    "    count=0\n",
    "    graph= {0: []}\n",
    "    for i in range(len(numbers)):\n",
    "        graph[i] = [numbers[i], -numbers[i]]\n",
    "    print(graph)    \n",
    "    \n",
    "    def recursive_dfs(v, discovered=[]):\n",
    "        global count\n",
    "        if len(discovered)==len(numbers):\n",
    "            count+=1\n",
    "            return\n",
    "                \n",
    "        for i in range(len(numbers)):\n",
    "            for k in graph[i]:\n",
    "            \n",
    "            \n",
    "            return discovered\n",
    "    \n",
    "    recursive_dfs(0)\n",
    "    \n",
    "    return count\n",
    "\n",
    "solution([1, 1, 1, 1, 1],3) #5"
   ]
  },
  {
   "cell_type": "code",
   "execution_count": null,
   "metadata": {},
   "outputs": [],
   "source": []
  },
  {
   "cell_type": "markdown",
   "metadata": {},
   "source": [
    "### DFS 문제라고 하지만 DFS개념을 보지않았다"
   ]
  },
  {
   "cell_type": "markdown",
   "metadata": {},
   "source": [
    "### 데카르트 곱이라고 하는 product 처음 공부함!\n",
    "- https://velog.io/@davkim1030/Python-%EC%88%9C%EC%97%B4-%EC%A1%B0%ED%95%A9-product-itertools"
   ]
  },
  {
   "cell_type": "code",
   "execution_count": 44,
   "metadata": {},
   "outputs": [
    {
     "data": {
      "text/plain": [
       "[('0', 'a', '!'),\n",
       " ('0', 'a', '@'),\n",
       " ('0', 'a', '#'),\n",
       " ('0', 'b', '!'),\n",
       " ('0', 'b', '@'),\n",
       " ('0', 'b', '#'),\n",
       " ('0', 'c', '!'),\n",
       " ('0', 'c', '@'),\n",
       " ('0', 'c', '#'),\n",
       " ('1', 'a', '!'),\n",
       " ('1', 'a', '@'),\n",
       " ('1', 'a', '#'),\n",
       " ('1', 'b', '!'),\n",
       " ('1', 'b', '@'),\n",
       " ('1', 'b', '#'),\n",
       " ('1', 'c', '!'),\n",
       " ('1', 'c', '@'),\n",
       " ('1', 'c', '#'),\n",
       " ('2', 'a', '!'),\n",
       " ('2', 'a', '@'),\n",
       " ('2', 'a', '#'),\n",
       " ('2', 'b', '!'),\n",
       " ('2', 'b', '@'),\n",
       " ('2', 'b', '#'),\n",
       " ('2', 'c', '!'),\n",
       " ('2', 'c', '@'),\n",
       " ('2', 'c', '#')]"
      ]
     },
     "execution_count": 44,
     "metadata": {},
     "output_type": "execute_result"
    }
   ],
   "source": [
    "from itertools import product\n",
    "\n",
    "_list = [\"012\", \"abc\", \"!@#\"]\n",
    "pd = list(product(*_list))\n",
    "# [('0', 'a', '!'), ('0', 'a', '@'), ('0', 'b', '!'), ('0', 'b', '@'), ('1', 'a', '!'), ('1', 'a', '@'), ('1', 'b', '!'), ('1', 'b', '@')]\n",
    "pd"
   ]
  },
  {
   "cell_type": "code",
   "execution_count": 1,
   "metadata": {},
   "outputs": [
    {
     "data": {
      "text/plain": [
       "array([[ 1,  1,  1],\n",
       "       [ 1,  1, -1],\n",
       "       [ 1, -1,  1],\n",
       "       [ 1, -1, -1],\n",
       "       [-1,  1,  1],\n",
       "       [-1,  1, -1],\n",
       "       [-1, -1,  1],\n",
       "       [-1, -1, -1]])"
      ]
     },
     "metadata": {},
     "output_type": "display_data"
    },
    {
     "data": {
      "text/plain": [
       "array([[ 1,  1,  1,  1, -1, -1, -1, -1],\n",
       "       [ 1,  1, -1, -1,  1,  1, -1, -1],\n",
       "       [ 1, -1,  1, -1,  1, -1,  1, -1]])"
      ]
     },
     "metadata": {},
     "output_type": "display_data"
    }
   ],
   "source": [
    "import numpy as np\n",
    "from itertools import product\n",
    "\n",
    "_list = [[1,-1]]*3\n",
    "pd = list(product(*_list))\n",
    "pd1 = np.array(pd)\n",
    "display(pd1)\n",
    "display(pd1.T)"
   ]
  },
  {
   "cell_type": "code",
   "execution_count": 42,
   "metadata": {},
   "outputs": [
    {
     "data": {
      "text/plain": [
       "5"
      ]
     },
     "execution_count": 42,
     "metadata": {},
     "output_type": "execute_result"
    }
   ],
   "source": [
    "# 정확성  테스트\n",
    "# 테스트 1 〉\t통과 (2548.04ms, 411MB)\n",
    "# 테스트 2 〉\t통과 (2539.99ms, 411MB)\n",
    "# 테스트 3 〉\t통과 (1.75ms, 27.8MB)\n",
    "# 테스트 4 〉\t통과 (7.49ms, 28.5MB)\n",
    "# 테스트 5 〉\t통과 (66.02ms, 36.2MB)\n",
    "# 테스트 6 〉\t통과 (3.53ms, 28.1MB)\n",
    "# 테스트 7 〉\t통과 (1.72ms, 28MB)\n",
    "# 테스트 8 〉\t통과 (14.92ms, 29.3MB)"
   ]
  },
  {
   "cell_type": "code",
   "execution_count": null,
   "metadata": {},
   "outputs": [],
   "source": [
    "import numpy as np\n",
    "from itertools import product\n",
    "\n",
    "def solution(numbers, target):\n",
    "    ones = ([[1,-1]]*len(numbers))\n",
    "    ones_for_multifly = np.array(list(product(*ones))).T\n",
    "    results = np.dot(np.array(numbers),ones_for_multifly)\n",
    "    return list(results).count(target)\n",
    "\n",
    "solution([1, 1, 1, 1, 1],3) #5"
   ]
  },
  {
   "cell_type": "code",
   "execution_count": 41,
   "metadata": {},
   "outputs": [
    {
     "name": "stdout",
     "output_type": "stream",
     "text": [
      "ones_for_multifly\n",
      " [[ 1  1  1  1  1  1  1  1  1  1  1  1  1  1  1  1 -1 -1 -1 -1 -1 -1 -1 -1\n",
      "  -1 -1 -1 -1 -1 -1 -1 -1]\n",
      " [ 1  1  1  1  1  1  1  1 -1 -1 -1 -1 -1 -1 -1 -1  1  1  1  1  1  1  1  1\n",
      "  -1 -1 -1 -1 -1 -1 -1 -1]\n",
      " [ 1  1  1  1 -1 -1 -1 -1  1  1  1  1 -1 -1 -1 -1  1  1  1  1 -1 -1 -1 -1\n",
      "   1  1  1  1 -1 -1 -1 -1]\n",
      " [ 1  1 -1 -1  1  1 -1 -1  1  1 -1 -1  1  1 -1 -1  1  1 -1 -1  1  1 -1 -1\n",
      "   1  1 -1 -1  1  1 -1 -1]\n",
      " [ 1 -1  1 -1  1 -1  1 -1  1 -1  1 -1  1 -1  1 -1  1 -1  1 -1  1 -1  1 -1\n",
      "   1 -1  1 -1  1 -1  1 -1]]\n",
      "[ 5  3  3  1  3  1  1 -1  3  1  1 -1  1 -1 -1 -3  3  1  1 -1  1 -1 -1 -3\n",
      "  1 -1 -1 -3 -1 -3 -3 -5]\n"
     ]
    },
    {
     "data": {
      "text/plain": [
       "5"
      ]
     },
     "execution_count": 41,
     "metadata": {},
     "output_type": "execute_result"
    }
   ],
   "source": [
    "import numpy as np\n",
    "from itertools import product\n",
    "\n",
    "\n",
    "def solution(numbers, target):\n",
    "    ones = ([[1,-1]]*len(numbers))\n",
    "    ones_for_multifly = np.array(list(product(*ones))).T\n",
    "    print(\"ones_for_multifly\\n\",ones_for_multifly)\n",
    "    results = np.dot(np.array(numbers),ones_for_multifly)\n",
    "    print(results)\n",
    "    return list(results).count(target)\n",
    "\n",
    "solution([1, 1, 1, 1, 1],3) #5"
   ]
  }
 ],
 "metadata": {
  "kernelspec": {
   "display_name": "Python 3",
   "language": "python",
   "name": "python3"
  },
  "language_info": {
   "codemirror_mode": {
    "name": "ipython",
    "version": 3
   },
   "file_extension": ".py",
   "mimetype": "text/x-python",
   "name": "python",
   "nbconvert_exporter": "python",
   "pygments_lexer": "ipython3",
   "version": "3.7.4"
  }
 },
 "nbformat": 4,
 "nbformat_minor": 2
}
